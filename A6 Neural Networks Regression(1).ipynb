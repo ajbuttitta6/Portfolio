{
 "cells": [
  {
   "cell_type": "markdown",
   "id": "c70b590b-6152-4522-9ba3-24b112a230db",
   "metadata": {},
   "source": [
    "## A6: Neural Networks"
   ]
  },
  {
   "cell_type": "markdown",
   "id": "7bcc23db-5e96-446d-9b4f-eceaa189eeb9",
   "metadata": {},
   "source": [
    "## <font color=blue>Import needed modules</font>"
   ]
  },
  {
   "cell_type": "code",
   "execution_count": 1,
   "id": "8f16d697-ae98-4e5d-99f5-24b7bc37816d",
   "metadata": {},
   "outputs": [],
   "source": [
    "#see that Tensorflow is installed\n",
    "!pip install tensorflow -q"
   ]
  },
  {
   "cell_type": "code",
   "execution_count": 2,
   "id": "a33b3137-2c9a-40da-9ff3-e02d17fed0ea",
   "metadata": {},
   "outputs": [],
   "source": [
    "#general libraries needed\n",
    "import pandas as pd\n",
    "import matplotlib.pyplot as plt\n",
    "import numpy as np\n",
    "\n",
    "#TensorFlow requirements\n",
    "import tensorflow as tf\n",
    "from tensorflow import keras\n",
    "\n",
    "#scikit learn imports\n",
    "from sklearn.linear_model import SGDRegressor, LinearRegression\n",
    "from sklearn.ensemble import RandomForestRegressor\n",
    "from sklearn.impute import SimpleImputer\n",
    "from sklearn.preprocessing import OneHotEncoder, StandardScaler, MinMaxScaler,PowerTransformer\n",
    "from sklearn.compose import ColumnTransformer\n",
    "from sklearn.pipeline import Pipeline\n",
    "from sklearn.metrics import mean_squared_error, mean_absolute_error\n",
    "from sklearn.model_selection import train_test_split\n",
    "from sklearn.model_selection import cross_val_score, GridSearchCV, train_test_split\n",
    "from sklearn.decomposition import PCA\n",
    "from sklearn.manifold import TSNE"
   ]
  },
  {
   "cell_type": "markdown",
   "id": "6bb29c07-06a0-4558-82b5-ff8cc4adb3ff",
   "metadata": {},
   "source": [
    "## <font color=blue>Function Definitions"
   ]
  },
  {
   "cell_type": "code",
   "execution_count": 3,
   "id": "6a3a5712-cc7f-4cee-abe8-1e9b3085f6e5",
   "metadata": {},
   "outputs": [],
   "source": [
    "#function that shows a learning curve for any model that has predict or fit methods\n",
    "from sklearn.model_selection import learning_curve\n",
    "\n",
    "def plot_learning_curve(estimator,X,y,ylim=None,cv=None,n_jobs=None,train_sizes=np.linspace(0.1, 1.0, 20),scoring = 'neg_root_mean_squared_error'):\n",
    "    \n",
    "    _, axes = plt.subplots(1, 1, figsize=(10, 5))    \n",
    "    axes.set_title('Learning Curve')\n",
    "    if ylim is not None:\n",
    "        axes.set_ylim(*ylim)\n",
    "    axes.set_xlabel(\"Training examples\")\n",
    "    axes.set_ylabel(scoring)\n",
    "\n",
    "    train_sizes, train_scores, test_scores= learning_curve(estimator,X,y,cv=cv,n_jobs=n_jobs,train_sizes=train_sizes,scoring = scoring)\n",
    "    train_scores_mean = np.mean(train_scores, axis=1)\n",
    "    train_scores_std = np.std(train_scores, axis=1)\n",
    "    test_scores_mean = np.mean(test_scores, axis=1)\n",
    "    test_scores_std = np.std(test_scores, axis=1)\n",
    "\n",
    "    # Plot learning curve\n",
    "    axes.grid()\n",
    "    axes.fill_between(train_sizes,train_scores_mean - train_scores_std,train_scores_mean + train_scores_std,alpha=0.1,color=\"r\")\n",
    "    axes.fill_between(train_sizes,test_scores_mean - test_scores_std,test_scores_mean + test_scores_std,alpha=0.1,color=\"g\")\n",
    "    axes.plot(train_sizes, train_scores_mean, \"o-\", color=\"r\", label=\"Training score\")\n",
    "    axes.plot(train_sizes, test_scores_mean, \"o-\", color=\"g\", label=\"Cross-validation score\")\n",
    "    axes.legend(loc=\"best\")\n",
    "    plt.show()\n",
    "    \n",
    "    return\n",
    "\n",
    "#code to prevent warnings that can occur as a result of this function\n",
    "from warnings import simplefilter\n",
    "from sklearn.exceptions import ConvergenceWarning\n",
    "simplefilter(\"ignore\", category=ConvergenceWarning)"
   ]
  },
  {
   "cell_type": "code",
   "execution_count": 4,
   "id": "71bcd58c-62e0-44a6-b005-5832f4d3dd44",
   "metadata": {},
   "outputs": [],
   "source": [
    "#function to verify the existence of a file in the current working directory and download it if not\n",
    "import os,urllib, urllib.request, sys, tarfile\n",
    "def downloadDataResource(file, sourcePath, compressed=None):\n",
    "    if not os.path.isfile(file):\n",
    "        try:\n",
    "            urllib.request.urlretrieve(sourcePath+(compressed if compressed else file),(compressed if compressed else file))\n",
    "            print(\"Downloaded\", (compressed if compressed else file) )\n",
    "            if compressed:\n",
    "                ucomp = tarfile.open(compressed)\n",
    "                ucomp.extractall()\n",
    "                ucomp.close()\n",
    "                print(\"File uncompressed.\")\n",
    "        except:\n",
    "            print(\"ERROR: File\", (compressed if compressed else file), \"not found. Data source missing.\")\n",
    "    else:\n",
    "        print(\"Data resource\", file, \"already downloaded.\")"
   ]
  },
  {
   "cell_type": "code",
   "execution_count": 5,
   "id": "cc3fbdf2-c704-4fe3-a70b-d0f070776355",
   "metadata": {},
   "outputs": [],
   "source": [
    "#function provided that plots the learning curve for neural networks\n",
    "def nn_plot_learning_curve( history ):\n",
    "    pd.DataFrame(history.history).plot(figsize=(8, 5))\n",
    "    plt.grid(True)\n",
    "    ymin, ymax = [], []\n",
    "    for x in history.history.keys():\n",
    "        ymax.append( max(history.history[x]))\n",
    "        ymin.append( min(history.history[x]))\n",
    "    plt.gca().set_ylim(min(ymin)*.95, max(ymax)*1.05)\n",
    "    plt.xlabel(\"EPOCHS\")\n",
    "    plt.show()"
   ]
  },
  {
   "cell_type": "markdown",
   "id": "2bd270d5-23d0-4f20-af1e-01a2d61c5997",
   "metadata": {},
   "source": [
    "## <font color=blue>Source Data"
   ]
  },
  {
   "cell_type": "code",
   "execution_count": 6,
   "id": "922f64ba-c704-48c1-ba54-e659e4e25f1e",
   "metadata": {},
   "outputs": [
    {
     "name": "stdout",
     "output_type": "stream",
     "text": [
      "Data resource CarData.csv already downloaded.\n"
     ]
    }
   ],
   "source": [
    "#create a dataframe with the data from the CSV file\n",
    "path = \"https://raw.githubusercontent.com/SueMcMetzger/MachineLearning/main/chpt10/\"\n",
    "filename = \"CarData.csv\"\n",
    "downloadDataResource(filename, path)\n",
    "\n",
    "car = pd.read_csv(filename)"
   ]
  },
  {
   "cell_type": "code",
   "execution_count": 7,
   "id": "1479db78-91b1-438d-845c-48a8576ea04d",
   "metadata": {},
   "outputs": [
    {
     "name": "stdout",
     "output_type": "stream",
     "text": [
      "Data resource CarPredictions.csv already downloaded.\n"
     ]
    }
   ],
   "source": [
    "#create a dataframe with the data from the CSV file\n",
    "path = \"https://raw.githubusercontent.com/SueMcMetzger/MachineLearning/main/chpt10/\"\n",
    "\n",
    "filename = \"CarPredictions.csv\"\n",
    "downloadDataResource(filename, path)\n",
    "carpred = pd.read_csv(filename)"
   ]
  },
  {
   "cell_type": "markdown",
   "id": "09a9d5b3-3a23-4889-8550-372b87da459a",
   "metadata": {},
   "source": [
    "## <font color=blue>Explore the data set"
   ]
  },
  {
   "cell_type": "code",
   "execution_count": 8,
   "id": "a638b276-10af-45e8-87b6-54540dbc1c3a",
   "metadata": {},
   "outputs": [
    {
     "name": "stdout",
     "output_type": "stream",
     "text": [
      "<class 'pandas.core.frame.DataFrame'>\n",
      "RangeIndex: 11891 entries, 0 to 11890\n",
      "Data columns (total 16 columns):\n",
      " #   Column             Non-Null Count  Dtype  \n",
      "---  ------             --------------  -----  \n",
      " 0   Make               11891 non-null  object \n",
      " 1   Model              11891 non-null  object \n",
      " 2   Year               11891 non-null  int64  \n",
      " 3   Engine Fuel Type   11891 non-null  object \n",
      " 4   Engine HP          11822 non-null  float64\n",
      " 5   Engine Cylinders   11861 non-null  float64\n",
      " 6   Transmission Type  11891 non-null  object \n",
      " 7   Driven_Wheels      11891 non-null  object \n",
      " 8   Number of Doors    11885 non-null  float64\n",
      " 9   Market Category    8151 non-null   object \n",
      " 10  Vehicle Size       11891 non-null  object \n",
      " 11  Vehicle Style      11891 non-null  object \n",
      " 12  highway MPG        11891 non-null  int64  \n",
      " 13  city mpg           11891 non-null  int64  \n",
      " 14  Popularity         11891 non-null  int64  \n",
      " 15  MSRP               11891 non-null  int64  \n",
      "dtypes: float64(3), int64(5), object(8)\n",
      "memory usage: 1.5+ MB\n"
     ]
    }
   ],
   "source": [
    "car.info()"
   ]
  },
  {
   "cell_type": "code",
   "execution_count": 9,
   "id": "4b1e8cb7-a44e-4f61-bdb6-28116400f95f",
   "metadata": {},
   "outputs": [
    {
     "data": {
      "text/html": [
       "<div>\n",
       "<style scoped>\n",
       "    .dataframe tbody tr th:only-of-type {\n",
       "        vertical-align: middle;\n",
       "    }\n",
       "\n",
       "    .dataframe tbody tr th {\n",
       "        vertical-align: top;\n",
       "    }\n",
       "\n",
       "    .dataframe thead th {\n",
       "        text-align: right;\n",
       "    }\n",
       "</style>\n",
       "<table border=\"1\" class=\"dataframe\">\n",
       "  <thead>\n",
       "    <tr style=\"text-align: right;\">\n",
       "      <th></th>\n",
       "      <th>Year</th>\n",
       "      <th>Engine HP</th>\n",
       "      <th>Engine Cylinders</th>\n",
       "      <th>Number of Doors</th>\n",
       "      <th>highway MPG</th>\n",
       "      <th>city mpg</th>\n",
       "      <th>Popularity</th>\n",
       "      <th>MSRP</th>\n",
       "    </tr>\n",
       "  </thead>\n",
       "  <tbody>\n",
       "    <tr>\n",
       "      <th>count</th>\n",
       "      <td>11891.000000</td>\n",
       "      <td>11822.000000</td>\n",
       "      <td>11861.000000</td>\n",
       "      <td>11885.000000</td>\n",
       "      <td>11891.000000</td>\n",
       "      <td>11891.000000</td>\n",
       "      <td>11891.000000</td>\n",
       "      <td>1.189100e+04</td>\n",
       "    </tr>\n",
       "    <tr>\n",
       "      <th>mean</th>\n",
       "      <td>2010.398537</td>\n",
       "      <td>249.176789</td>\n",
       "      <td>5.626254</td>\n",
       "      <td>3.437526</td>\n",
       "      <td>26.645278</td>\n",
       "      <td>19.740140</td>\n",
       "      <td>1555.697250</td>\n",
       "      <td>4.035226e+04</td>\n",
       "    </tr>\n",
       "    <tr>\n",
       "      <th>std</th>\n",
       "      <td>7.566717</td>\n",
       "      <td>108.804875</td>\n",
       "      <td>1.778317</td>\n",
       "      <td>0.880568</td>\n",
       "      <td>8.866688</td>\n",
       "      <td>8.993349</td>\n",
       "      <td>1442.206294</td>\n",
       "      <td>5.836122e+04</td>\n",
       "    </tr>\n",
       "    <tr>\n",
       "      <th>min</th>\n",
       "      <td>1990.000000</td>\n",
       "      <td>55.000000</td>\n",
       "      <td>0.000000</td>\n",
       "      <td>2.000000</td>\n",
       "      <td>12.000000</td>\n",
       "      <td>7.000000</td>\n",
       "      <td>2.000000</td>\n",
       "      <td>2.000000e+03</td>\n",
       "    </tr>\n",
       "    <tr>\n",
       "      <th>25%</th>\n",
       "      <td>2007.000000</td>\n",
       "      <td>170.000000</td>\n",
       "      <td>4.000000</td>\n",
       "      <td>2.000000</td>\n",
       "      <td>22.000000</td>\n",
       "      <td>16.000000</td>\n",
       "      <td>549.000000</td>\n",
       "      <td>2.102750e+04</td>\n",
       "    </tr>\n",
       "    <tr>\n",
       "      <th>50%</th>\n",
       "      <td>2015.000000</td>\n",
       "      <td>227.000000</td>\n",
       "      <td>6.000000</td>\n",
       "      <td>4.000000</td>\n",
       "      <td>26.000000</td>\n",
       "      <td>18.000000</td>\n",
       "      <td>1385.000000</td>\n",
       "      <td>2.999500e+04</td>\n",
       "    </tr>\n",
       "    <tr>\n",
       "      <th>75%</th>\n",
       "      <td>2016.000000</td>\n",
       "      <td>300.000000</td>\n",
       "      <td>6.000000</td>\n",
       "      <td>4.000000</td>\n",
       "      <td>30.000000</td>\n",
       "      <td>22.000000</td>\n",
       "      <td>2009.000000</td>\n",
       "      <td>4.219500e+04</td>\n",
       "    </tr>\n",
       "    <tr>\n",
       "      <th>max</th>\n",
       "      <td>2017.000000</td>\n",
       "      <td>1001.000000</td>\n",
       "      <td>16.000000</td>\n",
       "      <td>4.000000</td>\n",
       "      <td>354.000000</td>\n",
       "      <td>137.000000</td>\n",
       "      <td>5657.000000</td>\n",
       "      <td>2.065902e+06</td>\n",
       "    </tr>\n",
       "  </tbody>\n",
       "</table>\n",
       "</div>"
      ],
      "text/plain": [
       "               Year     Engine HP  Engine Cylinders  Number of Doors  \\\n",
       "count  11891.000000  11822.000000      11861.000000     11885.000000   \n",
       "mean    2010.398537    249.176789          5.626254         3.437526   \n",
       "std        7.566717    108.804875          1.778317         0.880568   \n",
       "min     1990.000000     55.000000          0.000000         2.000000   \n",
       "25%     2007.000000    170.000000          4.000000         2.000000   \n",
       "50%     2015.000000    227.000000          6.000000         4.000000   \n",
       "75%     2016.000000    300.000000          6.000000         4.000000   \n",
       "max     2017.000000   1001.000000         16.000000         4.000000   \n",
       "\n",
       "        highway MPG      city mpg    Popularity          MSRP  \n",
       "count  11891.000000  11891.000000  11891.000000  1.189100e+04  \n",
       "mean      26.645278     19.740140   1555.697250  4.035226e+04  \n",
       "std        8.866688      8.993349   1442.206294  5.836122e+04  \n",
       "min       12.000000      7.000000      2.000000  2.000000e+03  \n",
       "25%       22.000000     16.000000    549.000000  2.102750e+04  \n",
       "50%       26.000000     18.000000   1385.000000  2.999500e+04  \n",
       "75%       30.000000     22.000000   2009.000000  4.219500e+04  \n",
       "max      354.000000    137.000000   5657.000000  2.065902e+06  "
      ]
     },
     "execution_count": 9,
     "metadata": {},
     "output_type": "execute_result"
    }
   ],
   "source": [
    "car.describe()"
   ]
  },
  {
   "cell_type": "code",
   "execution_count": 10,
   "id": "d3e39bd7-0b58-41e7-8e29-34721c7475f0",
   "metadata": {},
   "outputs": [
    {
     "data": {
      "image/png": "[encoded data removed]",
      "text/plain": [
       "<Figure size 432x288 with 1 Axes>"
      ]
     },
     "metadata": {
      "needs_background": "light"
     },
     "output_type": "display_data"
    }
   ],
   "source": [
    "plt.hist(car.Year)\n",
    "plt.show() "
   ]
  },
  {
   "cell_type": "code",
   "execution_count": 11,
   "id": "ca7e7baa-eb54-46a9-8b31-e70062beae7c",
   "metadata": {},
   "outputs": [
    {
     "data": {
      "image/png": "[encoded data removed]",
      "text/plain": [
       "<Figure size 432x288 with 1 Axes>"
      ]
     },
     "metadata": {
      "needs_background": "light"
     },
     "output_type": "display_data"
    }
   ],
   "source": [
    "plt.hist(car.Popularity)\n",
    "plt.show() "
   ]
  },
  {
   "cell_type": "code",
   "execution_count": 13,
   "id": "029f8037-58cd-48d4-a852-969b1138d01f",
   "metadata": {},
   "outputs": [
    {
     "data": {
      "text/plain": [
       "Crossover                                          1110\n",
       "Flex Fuel                                           872\n",
       "Luxury                                              851\n",
       "Luxury,Performance                                  673\n",
       "Hatchback                                           638\n",
       "                                                   ... \n",
       "Crossover,Exotic,Luxury,Performance                   1\n",
       "Flex Fuel,Factory Tuner,Luxury,High-Performance       1\n",
       "Performance,Hybrid                                    1\n",
       "Exotic,Luxury,High-Performance,Hybrid                 1\n",
       "Crossover,Exotic,Luxury,High-Performance              1\n",
       "Name: Market Category, Length: 71, dtype: int64"
      ]
     },
     "execution_count": 13,
     "metadata": {},
     "output_type": "execute_result"
    }
   ],
   "source": [
    "car[\"Market Category\"].value_counts()"
   ]
  },
  {
   "cell_type": "code",
   "execution_count": 14,
   "id": "b7bbb1c2-072a-47d7-884c-e31dc8022bc2",
   "metadata": {},
   "outputs": [
    {
     "data": {
      "text/html": [
       "<div>\n",
       "<style scoped>\n",
       "    .dataframe tbody tr th:only-of-type {\n",
       "        vertical-align: middle;\n",
       "    }\n",
       "\n",
       "    .dataframe tbody tr th {\n",
       "        vertical-align: top;\n",
       "    }\n",
       "\n",
       "    .dataframe thead th {\n",
       "        text-align: right;\n",
       "    }\n",
       "</style>\n",
       "<table border=\"1\" class=\"dataframe\">\n",
       "  <thead>\n",
       "    <tr style=\"text-align: right;\">\n",
       "      <th></th>\n",
       "      <th>Year</th>\n",
       "      <th>Engine HP</th>\n",
       "      <th>Engine Cylinders</th>\n",
       "      <th>Number of Doors</th>\n",
       "      <th>highway MPG</th>\n",
       "      <th>city mpg</th>\n",
       "      <th>Popularity</th>\n",
       "      <th>MSRP</th>\n",
       "    </tr>\n",
       "  </thead>\n",
       "  <tbody>\n",
       "    <tr>\n",
       "      <th>Year</th>\n",
       "      <td>1.000000</td>\n",
       "      <td>0.351974</td>\n",
       "      <td>-0.042163</td>\n",
       "      <td>0.264617</td>\n",
       "      <td>0.258631</td>\n",
       "      <td>0.198494</td>\n",
       "      <td>0.072608</td>\n",
       "      <td>0.234246</td>\n",
       "    </tr>\n",
       "    <tr>\n",
       "      <th>Engine HP</th>\n",
       "      <td>0.351974</td>\n",
       "      <td>1.000000</td>\n",
       "      <td>0.779831</td>\n",
       "      <td>-0.099664</td>\n",
       "      <td>-0.406163</td>\n",
       "      <td>-0.439257</td>\n",
       "      <td>0.038581</td>\n",
       "      <td>0.669580</td>\n",
       "    </tr>\n",
       "    <tr>\n",
       "      <th>Engine Cylinders</th>\n",
       "      <td>-0.042163</td>\n",
       "      <td>0.779831</td>\n",
       "      <td>1.000000</td>\n",
       "      <td>-0.138612</td>\n",
       "      <td>-0.621387</td>\n",
       "      <td>-0.600684</td>\n",
       "      <td>0.041820</td>\n",
       "      <td>0.536575</td>\n",
       "    </tr>\n",
       "    <tr>\n",
       "      <th>Number of Doors</th>\n",
       "      <td>0.264617</td>\n",
       "      <td>-0.099664</td>\n",
       "      <td>-0.138612</td>\n",
       "      <td>1.000000</td>\n",
       "      <td>0.117797</td>\n",
       "      <td>0.120308</td>\n",
       "      <td>-0.048491</td>\n",
       "      <td>-0.123365</td>\n",
       "    </tr>\n",
       "    <tr>\n",
       "      <th>highway MPG</th>\n",
       "      <td>0.258631</td>\n",
       "      <td>-0.406163</td>\n",
       "      <td>-0.621387</td>\n",
       "      <td>0.117797</td>\n",
       "      <td>1.000000</td>\n",
       "      <td>0.886774</td>\n",
       "      <td>-0.021379</td>\n",
       "      <td>-0.160091</td>\n",
       "    </tr>\n",
       "    <tr>\n",
       "      <th>city mpg</th>\n",
       "      <td>0.198494</td>\n",
       "      <td>-0.439257</td>\n",
       "      <td>-0.600684</td>\n",
       "      <td>0.120308</td>\n",
       "      <td>0.886774</td>\n",
       "      <td>1.000000</td>\n",
       "      <td>-0.003470</td>\n",
       "      <td>-0.158429</td>\n",
       "    </tr>\n",
       "    <tr>\n",
       "      <th>Popularity</th>\n",
       "      <td>0.072608</td>\n",
       "      <td>0.038581</td>\n",
       "      <td>0.041820</td>\n",
       "      <td>-0.048491</td>\n",
       "      <td>-0.021379</td>\n",
       "      <td>-0.003470</td>\n",
       "      <td>1.000000</td>\n",
       "      <td>-0.048470</td>\n",
       "    </tr>\n",
       "    <tr>\n",
       "      <th>MSRP</th>\n",
       "      <td>0.234246</td>\n",
       "      <td>0.669580</td>\n",
       "      <td>0.536575</td>\n",
       "      <td>-0.123365</td>\n",
       "      <td>-0.160091</td>\n",
       "      <td>-0.158429</td>\n",
       "      <td>-0.048470</td>\n",
       "      <td>1.000000</td>\n",
       "    </tr>\n",
       "  </tbody>\n",
       "</table>\n",
       "</div>"
      ],
      "text/plain": [
       "                      Year  Engine HP  Engine Cylinders  Number of Doors  \\\n",
       "Year              1.000000   0.351974         -0.042163         0.264617   \n",
       "Engine HP         0.351974   1.000000          0.779831        -0.099664   \n",
       "Engine Cylinders -0.042163   0.779831          1.000000        -0.138612   \n",
       "Number of Doors   0.264617  -0.099664         -0.138612         1.000000   \n",
       "highway MPG       0.258631  -0.406163         -0.621387         0.117797   \n",
       "city mpg          0.198494  -0.439257         -0.600684         0.120308   \n",
       "Popularity        0.072608   0.038581          0.041820        -0.048491   \n",
       "MSRP              0.234246   0.669580          0.536575        -0.123365   \n",
       "\n",
       "                  highway MPG  city mpg  Popularity      MSRP  \n",
       "Year                 0.258631  0.198494    0.072608  0.234246  \n",
       "Engine HP           -0.406163 -0.439257    0.038581  0.669580  \n",
       "Engine Cylinders    -0.621387 -0.600684    0.041820  0.536575  \n",
       "Number of Doors      0.117797  0.120308   -0.048491 -0.123365  \n",
       "highway MPG          1.000000  0.886774   -0.021379 -0.160091  \n",
       "city mpg             0.886774  1.000000   -0.003470 -0.158429  \n",
       "Popularity          -0.021379 -0.003470    1.000000 -0.048470  \n",
       "MSRP                -0.160091 -0.158429   -0.048470  1.000000  "
      ]
     },
     "execution_count": 14,
     "metadata": {},
     "output_type": "execute_result"
    }
   ],
   "source": [
    "car.corr()"
   ]
  },
  {
   "cell_type": "code",
   "execution_count": 16,
   "id": "923a0245-049f-4b69-a1b2-2eae9333686e",
   "metadata": {},
   "outputs": [],
   "source": [
    "car[\"Engine HP\"] = car[\"Engine HP\"].fillna(car[\"Engine HP\"].median())"
   ]
  },
  {
   "cell_type": "code",
   "execution_count": 17,
   "id": "3a7cc102-34c0-43cf-9033-b6c44cebfc79",
   "metadata": {},
   "outputs": [
    {
     "name": "stdout",
     "output_type": "stream",
     "text": [
      "<class 'pandas.core.frame.DataFrame'>\n",
      "RangeIndex: 11891 entries, 0 to 11890\n",
      "Data columns (total 16 columns):\n",
      " #   Column             Non-Null Count  Dtype  \n",
      "---  ------             --------------  -----  \n",
      " 0   Make               11891 non-null  object \n",
      " 1   Model              11891 non-null  object \n",
      " 2   Year               11891 non-null  int64  \n",
      " 3   Engine Fuel Type   11891 non-null  object \n",
      " 4   Engine HP          11891 non-null  float64\n",
      " 5   Engine Cylinders   11861 non-null  float64\n",
      " 6   Transmission Type  11891 non-null  object \n",
      " 7   Driven_Wheels      11891 non-null  object \n",
      " 8   Number of Doors    11885 non-null  float64\n",
      " 9   Market Category    8151 non-null   object \n",
      " 10  Vehicle Size       11891 non-null  object \n",
      " 11  Vehicle Style      11891 non-null  object \n",
      " 12  highway MPG        11891 non-null  int64  \n",
      " 13  city mpg           11891 non-null  int64  \n",
      " 14  Popularity         11891 non-null  int64  \n",
      " 15  MSRP               11891 non-null  int64  \n",
      "dtypes: float64(3), int64(5), object(8)\n",
      "memory usage: 1.5+ MB\n"
     ]
    }
   ],
   "source": [
    "car.info()"
   ]
  },
  {
   "cell_type": "code",
   "execution_count": 18,
   "id": "1e2fd072-a6de-462f-98ee-449c35df2098",
   "metadata": {},
   "outputs": [],
   "source": [
    "car[\"Engine Cylinders\"] = car[\"Engine Cylinders\"].fillna(car[\"Engine Cylinders\"].median())"
   ]
  },
  {
   "cell_type": "code",
   "execution_count": 19,
   "id": "9fc8b62e-db2d-411f-beea-b532693555fb",
   "metadata": {},
   "outputs": [],
   "source": [
    "car[\"Number of Doors\"] = car[\"Number of Doors\"].fillna(car[\"Number of Doors\"].mean())"
   ]
  },
  {
   "cell_type": "code",
   "execution_count": 20,
   "id": "703dc30e-f555-4436-b02a-79e786e7b78e",
   "metadata": {},
   "outputs": [],
   "source": [
    "#car.drop(\"Model\",\"Market Category\", inplace=True)\n",
    "car.drop(\"Model\",  inplace=True, axis=1)\n",
    "car.drop(\"Market Category\",  inplace=True, axis=1)"
   ]
  },
  {
   "cell_type": "code",
   "execution_count": 21,
   "id": "23fadd72-b11f-476c-a6fc-e9985ece2cc5",
   "metadata": {},
   "outputs": [
    {
     "name": "stdout",
     "output_type": "stream",
     "text": [
      "<class 'pandas.core.frame.DataFrame'>\n",
      "RangeIndex: 11891 entries, 0 to 11890\n",
      "Data columns (total 14 columns):\n",
      " #   Column             Non-Null Count  Dtype  \n",
      "---  ------             --------------  -----  \n",
      " 0   Make               11891 non-null  object \n",
      " 1   Year               11891 non-null  int64  \n",
      " 2   Engine Fuel Type   11891 non-null  object \n",
      " 3   Engine HP          11891 non-null  float64\n",
      " 4   Engine Cylinders   11891 non-null  float64\n",
      " 5   Transmission Type  11891 non-null  object \n",
      " 6   Driven_Wheels      11891 non-null  object \n",
      " 7   Number of Doors    11891 non-null  float64\n",
      " 8   Vehicle Size       11891 non-null  object \n",
      " 9   Vehicle Style      11891 non-null  object \n",
      " 10  highway MPG        11891 non-null  int64  \n",
      " 11  city mpg           11891 non-null  int64  \n",
      " 12  Popularity         11891 non-null  int64  \n",
      " 13  MSRP               11891 non-null  int64  \n",
      "dtypes: float64(3), int64(5), object(6)\n",
      "memory usage: 1.3+ MB\n"
     ]
    }
   ],
   "source": [
    "car.info()"
   ]
  },
  {
   "cell_type": "code",
   "execution_count": 22,
   "id": "9ec7a657-69e7-4992-8109-0fe70a61af90",
   "metadata": {},
   "outputs": [
    {
     "data": {
      "text/plain": [
       "(11891, 14)"
      ]
     },
     "execution_count": 22,
     "metadata": {},
     "output_type": "execute_result"
    }
   ],
   "source": [
    "car.shape"
   ]
  },
  {
   "cell_type": "code",
   "execution_count": 23,
   "id": "901c965f-7fd7-41b4-822a-8b561bc5c1a4",
   "metadata": {},
   "outputs": [],
   "source": [
    "carpred.drop(\"Model\",  inplace=True, axis=1)\n",
    "carpred.drop(\"Market Category\",  inplace=True, axis=1)"
   ]
  },
  {
   "cell_type": "markdown",
   "id": "9aba8cd8-ad89-4341-9426-8f59bee4d6ea",
   "metadata": {},
   "source": [
    "## Create Train and Test Set"
   ]
  },
  {
   "cell_type": "code",
   "execution_count": 99,
   "id": "c8044560-6eae-4519-bd75-d8680d7031e8",
   "metadata": {},
   "outputs": [
    {
     "data": {
      "text/plain": [
       "((9512, 13), (9512,), (2379, 13), (2379,))"
      ]
     },
     "execution_count": 99,
     "metadata": {},
     "output_type": "execute_result"
    }
   ],
   "source": [
    "X_train, X_test, y_train, y_test = train_test_split(\n",
    "    car.drop(columns=[\"MSRP\"]), \n",
    "    car.MSRP, \n",
    "    test_size=.2, \n",
    "    random_state=32,\n",
    "    stratify = car[\"Year\"]\n",
    ")\n",
    "\n",
    "X_train.shape, y_train.shape, X_test.shape, y_test.shape"
   ]
  },
  {
   "cell_type": "code",
   "execution_count": 25,
   "id": "9d62523c-c857-4497-9b42-7ff07965c20b",
   "metadata": {},
   "outputs": [
    {
     "name": "stdout",
     "output_type": "stream",
     "text": [
      "<class 'pandas.core.frame.DataFrame'>\n",
      "Int64Index: 9512 entries, 4172 to 11817\n",
      "Data columns (total 13 columns):\n",
      " #   Column             Non-Null Count  Dtype  \n",
      "---  ------             --------------  -----  \n",
      " 0   Make               9512 non-null   object \n",
      " 1   Year               9512 non-null   int64  \n",
      " 2   Engine Fuel Type   9512 non-null   object \n",
      " 3   Engine HP          9512 non-null   float64\n",
      " 4   Engine Cylinders   9512 non-null   float64\n",
      " 5   Transmission Type  9512 non-null   object \n",
      " 6   Driven_Wheels      9512 non-null   object \n",
      " 7   Number of Doors    9512 non-null   float64\n",
      " 8   Vehicle Size       9512 non-null   object \n",
      " 9   Vehicle Style      9512 non-null   object \n",
      " 10  highway MPG        9512 non-null   int64  \n",
      " 11  city mpg           9512 non-null   int64  \n",
      " 12  Popularity         9512 non-null   int64  \n",
      "dtypes: float64(3), int64(4), object(6)\n",
      "memory usage: 1.0+ MB\n"
     ]
    }
   ],
   "source": [
    "X_train.info()"
   ]
  },
  {
   "cell_type": "code",
   "execution_count": 26,
   "id": "910048f5-588e-4b51-b7be-1813aba9bff6",
   "metadata": {},
   "outputs": [
    {
     "name": "stdout",
     "output_type": "stream",
     "text": [
      "        Make  Year             Engine Fuel Type  Engine HP  Engine Cylinders  \\\n",
      "6263     Kia  2017             regular unleaded      290.0               6.0   \n",
      "967      BMW  2010  premium unleaded (required)      480.0               8.0   \n",
      "9919  Suzuki  2011             regular unleaded      148.0               4.0   \n",
      "8402  Nissan  2017  premium unleaded (required)      211.0               4.0   \n",
      "3491   Dodge  2010     flex-fuel (unleaded/E85)      310.0               8.0   \n",
      "\n",
      "     Transmission Type      Driven_Wheels  Number of Doors Vehicle Size  \\\n",
      "6263         AUTOMATIC  front wheel drive              4.0      Midsize   \n",
      "967          AUTOMATIC    all wheel drive              4.0      Midsize   \n",
      "9919         AUTOMATIC  front wheel drive              4.0      Compact   \n",
      "8402         AUTOMATIC    all wheel drive              4.0      Compact   \n",
      "3491         AUTOMATIC   four wheel drive              2.0        Large   \n",
      "\n",
      "           Vehicle Style  highway MPG  city mpg  Popularity  \n",
      "6263               Sedan           28        20        1720  \n",
      "967              4dr SUV           19        17        3916  \n",
      "9919       4dr Hatchback           30        23         481  \n",
      "8402       4dr Hatchback           29        25        2009  \n",
      "3491  Regular Cab Pickup           18        13        1851  \n",
      "6263    38990\n",
      "967     88900\n",
      "9919    18299\n",
      "8402    30020\n",
      "3491    25065\n",
      "Name: MSRP, dtype: int64\n"
     ]
    }
   ],
   "source": [
    "#look at 5 games in the Test data set (will predict later on)\n",
    "print(X_test[0:5])\n",
    "print(y_test[0:5])"
   ]
  },
  {
   "cell_type": "code",
   "execution_count": 27,
   "id": "012e5489-f63f-44f0-ab7e-796f50aca98d",
   "metadata": {},
   "outputs": [
    {
     "name": "stdout",
     "output_type": "stream",
     "text": [
      "<class 'pandas.core.frame.DataFrame'>\n",
      "RangeIndex: 11891 entries, 0 to 11890\n",
      "Data columns (total 14 columns):\n",
      " #   Column             Non-Null Count  Dtype  \n",
      "---  ------             --------------  -----  \n",
      " 0   Make               11891 non-null  object \n",
      " 1   Year               11891 non-null  int64  \n",
      " 2   Engine Fuel Type   11891 non-null  object \n",
      " 3   Engine HP          11891 non-null  float64\n",
      " 4   Engine Cylinders   11891 non-null  float64\n",
      " 5   Transmission Type  11891 non-null  object \n",
      " 6   Driven_Wheels      11891 non-null  object \n",
      " 7   Number of Doors    11891 non-null  float64\n",
      " 8   Vehicle Size       11891 non-null  object \n",
      " 9   Vehicle Style      11891 non-null  object \n",
      " 10  highway MPG        11891 non-null  int64  \n",
      " 11  city mpg           11891 non-null  int64  \n",
      " 12  Popularity         11891 non-null  int64  \n",
      " 13  MSRP               11891 non-null  int64  \n",
      "dtypes: float64(3), int64(5), object(6)\n",
      "memory usage: 1.3+ MB\n"
     ]
    }
   ],
   "source": [
    "car.info()"
   ]
  },
  {
   "cell_type": "code",
   "execution_count": 28,
   "id": "153d59a7-5d8c-4c1e-8577-2c157eb0fb36",
   "metadata": {},
   "outputs": [
    {
     "data": {
      "text/plain": [
       "Chevrolet        1123\n",
       "Ford              881\n",
       "Volkswagen        809\n",
       "Toyota            746\n",
       "Dodge             625\n",
       "Nissan            557\n",
       "GMC               514\n",
       "Honda             449\n",
       "Mazda             423\n",
       "Cadillac          396\n",
       "Mercedes-Benz     352\n",
       "Suzuki            351\n",
       "BMW               331\n",
       "Infiniti          330\n",
       "Audi              328\n",
       "Hyundai           303\n",
       "Volvo             280\n",
       "Subaru            256\n",
       "Acura             252\n",
       "Kia               231\n",
       "Mitsubishi        211\n",
       "Lexus             200\n",
       "Buick             196\n",
       "Chrysler          187\n",
       "Pontiac           186\n",
       "Lincoln           163\n",
       "Oldsmobile        150\n",
       "Land Rover        143\n",
       "Porsche           136\n",
       "Saab              110\n",
       "Aston Martin       93\n",
       "Plymouth           81\n",
       "Bentley            74\n",
       "Ferrari            69\n",
       "FIAT               62\n",
       "Scion              60\n",
       "Maserati           58\n",
       "Lamborghini        50\n",
       "Rolls-Royce        31\n",
       "Lotus              29\n",
       "Tesla              18\n",
       "HUMMER             17\n",
       "Maybach            16\n",
       "Alfa Romeo          5\n",
       "Genesis             3\n",
       "Spyker              3\n",
       "Bugatti             3\n",
       "Name: Make, dtype: int64"
      ]
     },
     "execution_count": 28,
     "metadata": {},
     "output_type": "execute_result"
    }
   ],
   "source": [
    "car[\"Make\"].value_counts()"
   ]
  },
  {
   "cell_type": "markdown",
   "id": "1914a00c-b0df-4fce-9195-c97abc1f0f62",
   "metadata": {
    "tags": []
   },
   "source": [
    "### Prepare the data"
   ]
  },
  {
   "cell_type": "code",
   "execution_count": 100,
   "id": "09ea42f3-d85b-402d-a53a-e670a606dc14",
   "metadata": {},
   "outputs": [],
   "source": [
    "cat_attribs = [\"Make\", \"Year\", \"Engine Fuel Type\", \"Transmission Type\", \"Driven_Wheels\", \"Vehicle Size\", \"Vehicle Style\"]\n",
    "\n",
    "#set the numerical attributes\n",
    "num_attribs = list( X_train.drop(columns=cat_attribs))\n",
    "\n",
    "#define pipeline for numeric attributes (this code is just a definition)\n",
    "#each numeric attribute will be imputated using the Median strategy\n",
    "#each numeric attribute will be scaled using MinMaxScaler (preferred for neural networks)\n",
    "num_pipeline = Pipeline( [\n",
    " ('imputer', SimpleImputer(strategy=\"median\")), \n",
    " ('std_scaler', MinMaxScaler()),   \n",
    "])\n",
    "\n",
    "#define the pipeline process for the data set\n",
    "full_pipeline = ColumnTransformer( [\n",
    "    ('num', num_pipeline, num_attribs),\n",
    "    ('cat', OneHotEncoder(sparse=False), cat_attribs)    \n",
    "])"
   ]
  },
  {
   "cell_type": "code",
   "execution_count": 101,
   "id": "4f201587-196e-4ee2-92ad-38af32d15533",
   "metadata": {},
   "outputs": [],
   "source": [
    "from sklearn import set_config\n",
    "set_config(display='diagram')"
   ]
  },
  {
   "cell_type": "code",
   "execution_count": 102,
   "id": "90f9966f-c1d9-478f-b542-697fc178e044",
   "metadata": {},
   "outputs": [
    {
     "data": {
      "text/html": [
       "<style>#sk-f559623f-5fa6-4d56-98de-8f809f5ead4f {color: black;background-color: white;}#sk-f559623f-5fa6-4d56-98de-8f809f5ead4f pre{padding: 0;}#sk-f559623f-5fa6-4d56-98de-8f809f5ead4f div.sk-toggleable {background-color: white;}#sk-f559623f-5fa6-4d56-98de-8f809f5ead4f label.sk-toggleable__label {cursor: pointer;display: block;width: 100%;margin-bottom: 0;padding: 0.2em 0.3em;box-sizing: border-box;text-align: center;}#sk-f559623f-5fa6-4d56-98de-8f809f5ead4f div.sk-toggleable__content {max-height: 0;max-width: 0;overflow: hidden;text-align: left;background-color: #f0f8ff;}#sk-f559623f-5fa6-4d56-98de-8f809f5ead4f div.sk-toggleable__content pre {margin: 0.2em;color: black;border-radius: 0.25em;background-color: #f0f8ff;}#sk-f559623f-5fa6-4d56-98de-8f809f5ead4f input.sk-toggleable__control:checked~div.sk-toggleable__content {max-height: 200px;max-width: 100%;overflow: auto;}#sk-f559623f-5fa6-4d56-98de-8f809f5ead4f div.sk-estimator input.sk-toggleable__control:checked~label.sk-toggleable__label {background-color: #d4ebff;}#sk-f559623f-5fa6-4d56-98de-8f809f5ead4f div.sk-label input.sk-toggleable__control:checked~label.sk-toggleable__label {background-color: #d4ebff;}#sk-f559623f-5fa6-4d56-98de-8f809f5ead4f input.sk-hidden--visually {border: 0;clip: rect(1px 1px 1px 1px);clip: rect(1px, 1px, 1px, 1px);height: 1px;margin: -1px;overflow: hidden;padding: 0;position: absolute;width: 1px;}#sk-f559623f-5fa6-4d56-98de-8f809f5ead4f div.sk-estimator {font-family: monospace;background-color: #f0f8ff;margin: 0.25em 0.25em;border: 1px dotted black;border-radius: 0.25em;box-sizing: border-box;}#sk-f559623f-5fa6-4d56-98de-8f809f5ead4f div.sk-estimator:hover {background-color: #d4ebff;}#sk-f559623f-5fa6-4d56-98de-8f809f5ead4f div.sk-parallel-item::after {content: \"\";width: 100%;border-bottom: 1px solid gray;flex-grow: 1;}#sk-f559623f-5fa6-4d56-98de-8f809f5ead4f div.sk-label:hover label.sk-toggleable__label {background-color: #d4ebff;}#sk-f559623f-5fa6-4d56-98de-8f809f5ead4f div.sk-serial::before {content: \"\";position: absolute;border-left: 1px solid gray;box-sizing: border-box;top: 2em;bottom: 0;left: 50%;}#sk-f559623f-5fa6-4d56-98de-8f809f5ead4f div.sk-serial {display: flex;flex-direction: column;align-items: center;background-color: white;}#sk-f559623f-5fa6-4d56-98de-8f809f5ead4f div.sk-item {z-index: 1;}#sk-f559623f-5fa6-4d56-98de-8f809f5ead4f div.sk-parallel {display: flex;align-items: stretch;justify-content: center;background-color: white;}#sk-f559623f-5fa6-4d56-98de-8f809f5ead4f div.sk-parallel-item {display: flex;flex-direction: column;position: relative;background-color: white;}#sk-f559623f-5fa6-4d56-98de-8f809f5ead4f div.sk-parallel-item:first-child::after {align-self: flex-end;width: 50%;}#sk-f559623f-5fa6-4d56-98de-8f809f5ead4f div.sk-parallel-item:last-child::after {align-self: flex-start;width: 50%;}#sk-f559623f-5fa6-4d56-98de-8f809f5ead4f div.sk-parallel-item:only-child::after {width: 0;}#sk-f559623f-5fa6-4d56-98de-8f809f5ead4f div.sk-dashed-wrapped {border: 1px dashed gray;margin: 0.2em;box-sizing: border-box;padding-bottom: 0.1em;background-color: white;position: relative;}#sk-f559623f-5fa6-4d56-98de-8f809f5ead4f div.sk-label label {font-family: monospace;font-weight: bold;background-color: white;display: inline-block;line-height: 1.2em;}#sk-f559623f-5fa6-4d56-98de-8f809f5ead4f div.sk-label-container {position: relative;z-index: 2;text-align: center;}#sk-f559623f-5fa6-4d56-98de-8f809f5ead4f div.sk-container {display: inline-block;position: relative;}</style><div id=\"sk-f559623f-5fa6-4d56-98de-8f809f5ead4f\" class\"sk-top-container\"><div class=\"sk-container\"><div class=\"sk-item sk-dashed-wrapped\"><div class=\"sk-label-container\"><div class=\"sk-label sk-toggleable\"><input class=\"sk-toggleable__control sk-hidden--visually\" id=\"cc64f182-739f-4464-a5cd-3f2478242978\" type=\"checkbox\" ><label class=\"sk-toggleable__label\" for=\"cc64f182-739f-4464-a5cd-3f2478242978\">ColumnTransformer</label><div class=\"sk-toggleable__content\"><pre>ColumnTransformer(transformers=[('num',\n",
       "                                 Pipeline(steps=[('imputer',\n",
       "                                                  SimpleImputer(strategy='median')),\n",
       "                                                 ('std_scaler',\n",
       "                                                  MinMaxScaler())]),\n",
       "                                 ['Engine HP', 'Engine Cylinders',\n",
       "                                  'Number of Doors', 'highway MPG', 'city mpg',\n",
       "                                  'Popularity']),\n",
       "                                ('cat', OneHotEncoder(sparse=False),\n",
       "                                 ['Make', 'Year', 'Engine Fuel Type',\n",
       "                                  'Transmission Type', 'Driven_Wheels',\n",
       "                                  'Vehicle Size', 'Vehicle Style'])])</pre></div></div></div><div class=\"sk-parallel\"><div class=\"sk-parallel-item\"><div class=\"sk-item\"><div class=\"sk-label-container\"><div class=\"sk-label sk-toggleable\"><input class=\"sk-toggleable__control sk-hidden--visually\" id=\"537f27bc-cf9c-484e-be9d-605dd8111fc4\" type=\"checkbox\" ><label class=\"sk-toggleable__label\" for=\"537f27bc-cf9c-484e-be9d-605dd8111fc4\">num</label><div class=\"sk-toggleable__content\"><pre>['Engine HP', 'Engine Cylinders', 'Number of Doors', 'highway MPG', 'city mpg', 'Popularity']</pre></div></div></div><div class=\"sk-serial\"><div class=\"sk-item\"><div class=\"sk-serial\"><div class=\"sk-item\"><div class=\"sk-estimator sk-toggleable\"><input class=\"sk-toggleable__control sk-hidden--visually\" id=\"a0b57d83-17d1-4334-af97-348ab5c2072f\" type=\"checkbox\" ><label class=\"sk-toggleable__label\" for=\"a0b57d83-17d1-4334-af97-348ab5c2072f\">SimpleImputer</label><div class=\"sk-toggleable__content\"><pre>SimpleImputer(strategy='median')</pre></div></div></div><div class=\"sk-item\"><div class=\"sk-estimator sk-toggleable\"><input class=\"sk-toggleable__control sk-hidden--visually\" id=\"110c099f-339b-4a47-bdfd-2ce277a2fd18\" type=\"checkbox\" ><label class=\"sk-toggleable__label\" for=\"110c099f-339b-4a47-bdfd-2ce277a2fd18\">MinMaxScaler</label><div class=\"sk-toggleable__content\"><pre>MinMaxScaler()</pre></div></div></div></div></div></div></div></div><div class=\"sk-parallel-item\"><div class=\"sk-item\"><div class=\"sk-label-container\"><div class=\"sk-label sk-toggleable\"><input class=\"sk-toggleable__control sk-hidden--visually\" id=\"9bd1cd5c-8029-479b-a377-8697aa9a95d5\" type=\"checkbox\" ><label class=\"sk-toggleable__label\" for=\"9bd1cd5c-8029-479b-a377-8697aa9a95d5\">cat</label><div class=\"sk-toggleable__content\"><pre>['Make', 'Year', 'Engine Fuel Type', 'Transmission Type', 'Driven_Wheels', 'Vehicle Size', 'Vehicle Style']</pre></div></div></div><div class=\"sk-serial\"><div class=\"sk-item\"><div class=\"sk-estimator sk-toggleable\"><input class=\"sk-toggleable__control sk-hidden--visually\" id=\"8b802de9-2f3c-4307-8b1f-2cc509f52ee3\" type=\"checkbox\" ><label class=\"sk-toggleable__label\" for=\"8b802de9-2f3c-4307-8b1f-2cc509f52ee3\">OneHotEncoder</label><div class=\"sk-toggleable__content\"><pre>OneHotEncoder(sparse=False)</pre></div></div></div></div></div></div></div></div></div></div>"
      ],
      "text/plain": [
       "ColumnTransformer(transformers=[('num',\n",
       "                                 Pipeline(steps=[('imputer',\n",
       "                                                  SimpleImputer(strategy='median')),\n",
       "                                                 ('std_scaler',\n",
       "                                                  MinMaxScaler())]),\n",
       "                                 ['Engine HP', 'Engine Cylinders',\n",
       "                                  'Number of Doors', 'highway MPG', 'city mpg',\n",
       "                                  'Popularity']),\n",
       "                                ('cat', OneHotEncoder(sparse=False),\n",
       "                                 ['Make', 'Year', 'Engine Fuel Type',\n",
       "                                  'Transmission Type', 'Driven_Wheels',\n",
       "                                  'Vehicle Size', 'Vehicle Style'])])"
      ]
     },
     "execution_count": 102,
     "metadata": {},
     "output_type": "execute_result"
    }
   ],
   "source": [
    "full_pipeline"
   ]
  },
  {
   "cell_type": "code",
   "execution_count": 103,
   "id": "3b9dbdae-068e-4591-a196-a5221f0109b7",
   "metadata": {},
   "outputs": [],
   "source": [
    "#take the training data set and create an array of prepared data\n",
    "X_train = full_pipeline.fit_transform(X_train)"
   ]
  },
  {
   "cell_type": "code",
   "execution_count": 104,
   "id": "0a62be1d-6ef6-4151-9467-6e5e5b7c90c6",
   "metadata": {},
   "outputs": [],
   "source": [
    "X_test = full_pipeline.transform(X_test)"
   ]
  },
  {
   "cell_type": "code",
   "execution_count": 105,
   "id": "146f80fe-32d8-403a-a365-539baa3207e5",
   "metadata": {},
   "outputs": [
    {
     "data": {
      "text/plain": [
       "(9512, 118)"
      ]
     },
     "execution_count": 105,
     "metadata": {},
     "output_type": "execute_result"
    }
   ],
   "source": [
    "X_train.shape"
   ]
  },
  {
   "cell_type": "code",
   "execution_count": 106,
   "id": "18f49da3-edf2-4745-af8f-58ed7a5a66fe",
   "metadata": {},
   "outputs": [
    {
     "data": {
      "text/plain": [
       "['Engine HP',\n",
       " 'Engine Cylinders',\n",
       " 'Number of Doors',\n",
       " 'highway MPG',\n",
       " 'city mpg',\n",
       " 'Popularity',\n",
       " 'Acura',\n",
       " 'Alfa Romeo',\n",
       " 'Aston Martin',\n",
       " 'Audi',\n",
       " 'BMW',\n",
       " 'Bentley',\n",
       " 'Bugatti',\n",
       " 'Buick',\n",
       " 'Cadillac',\n",
       " 'Chevrolet',\n",
       " 'Chrysler',\n",
       " 'Dodge',\n",
       " 'FIAT',\n",
       " 'Ferrari',\n",
       " 'Ford',\n",
       " 'GMC',\n",
       " 'Genesis',\n",
       " 'HUMMER',\n",
       " 'Honda',\n",
       " 'Hyundai',\n",
       " 'Infiniti',\n",
       " 'Kia',\n",
       " 'Lamborghini',\n",
       " 'Land Rover',\n",
       " 'Lexus',\n",
       " 'Lincoln',\n",
       " 'Lotus',\n",
       " 'Maserati',\n",
       " 'Maybach',\n",
       " 'Mazda',\n",
       " 'Mercedes-Benz',\n",
       " 'Mitsubishi',\n",
       " 'Nissan',\n",
       " 'Oldsmobile',\n",
       " 'Plymouth',\n",
       " 'Pontiac',\n",
       " 'Porsche',\n",
       " 'Rolls-Royce',\n",
       " 'Saab',\n",
       " 'Scion',\n",
       " 'Spyker',\n",
       " 'Subaru',\n",
       " 'Suzuki',\n",
       " 'Tesla',\n",
       " 'Toyota',\n",
       " 'Volkswagen',\n",
       " 'Volvo',\n",
       " 1990,\n",
       " 1991,\n",
       " 1992,\n",
       " 1993,\n",
       " 1994,\n",
       " 1995,\n",
       " 1996,\n",
       " 1997,\n",
       " 1998,\n",
       " 1999,\n",
       " 2000,\n",
       " 2001,\n",
       " 2002,\n",
       " 2003,\n",
       " 2004,\n",
       " 2005,\n",
       " 2006,\n",
       " 2007,\n",
       " 2008,\n",
       " 2009,\n",
       " 2010,\n",
       " 2011,\n",
       " 2012,\n",
       " 2013,\n",
       " 2014,\n",
       " 2015,\n",
       " 2016,\n",
       " 2017,\n",
       " 'diesel',\n",
       " 'electric',\n",
       " 'flex-fuel (premium unleaded recommended/E85)',\n",
       " 'flex-fuel (premium unleaded required/E85)',\n",
       " 'flex-fuel (unleaded/E85)',\n",
       " 'flex-fuel (unleaded/natural gas)',\n",
       " 'premium unleaded (recommended)',\n",
       " 'premium unleaded (required)',\n",
       " 'regular unleaded',\n",
       " 'AUTOMATED_MANUAL',\n",
       " 'AUTOMATIC',\n",
       " 'DIRECT_DRIVE',\n",
       " 'MANUAL',\n",
       " 'UNKNOWN',\n",
       " 'all wheel drive',\n",
       " 'four wheel drive',\n",
       " 'front wheel drive',\n",
       " 'rear wheel drive',\n",
       " 'Compact',\n",
       " 'Large',\n",
       " 'Midsize',\n",
       " '2dr Hatchback',\n",
       " '2dr SUV',\n",
       " '4dr Hatchback',\n",
       " '4dr SUV',\n",
       " 'Cargo Minivan',\n",
       " 'Cargo Van',\n",
       " 'Convertible',\n",
       " 'Convertible SUV',\n",
       " 'Coupe',\n",
       " 'Crew Cab Pickup',\n",
       " 'Extended Cab Pickup',\n",
       " 'Passenger Minivan',\n",
       " 'Passenger Van',\n",
       " 'Regular Cab Pickup',\n",
       " 'Sedan',\n",
       " 'Wagon']"
      ]
     },
     "execution_count": 106,
     "metadata": {},
     "output_type": "execute_result"
    }
   ],
   "source": [
    "#capture a list of all the features used in the model\n",
    "\n",
    "#gets the order of encoded categories (if any)\n",
    "cat_encoder = full_pipeline.named_transformers_[\"cat\"]\n",
    "cat_one_hot_attribs = []\n",
    "if hasattr(cat_encoder, 'categories_'):\n",
    "    for i in cat_encoder.categories_:\n",
    "        cat_one_hot_attribs += list(i)\n",
    "        \n",
    "#combines the numeric and encoded features\n",
    "attributes = list(num_attribs) + list(cat_one_hot_attribs)\n",
    "\n",
    "attributes"
   ]
  },
  {
   "cell_type": "code",
   "execution_count": 107,
   "id": "62eb9408-4e38-44d2-aaf3-9cf58074c3b3",
   "metadata": {},
   "outputs": [
    {
     "name": "stdout",
     "output_type": "stream",
     "text": [
      "Baseline guess is: 40,093.06\n",
      "Baseline Performance (of this guess): RMSE 57,938.31\n"
     ]
    }
   ],
   "source": [
    "#calculate the average game sales\n",
    "baseline_prediction =np.mean(y_train)\n",
    "\n",
    "#populate an array with the baseline prediction value\n",
    "predictions = np.full(shape=X_train.shape[0], fill_value = baseline_prediction)\n",
    "\n",
    "#determine the Root Mean Squared Error based on the actual vs. the baseline prediction\n",
    "baseline_rmse = mean_squared_error(y_train, predictions, squared=False)\n",
    "print(\"Baseline guess is: {:,.2f}\".format(baseline_prediction))\n",
    "print(\"Baseline Performance (of this guess): RMSE {:,.2f}\".format(baseline_rmse))"
   ]
  },
  {
   "cell_type": "code",
   "execution_count": 109,
   "id": "36505c59-0527-4934-a1bb-b242426308c5",
   "metadata": {},
   "outputs": [
    {
     "name": "stdout",
     "output_type": "stream",
     "text": [
      "Baseline guess is: 41,388.62\n",
      "Baseline Performance (of this guess): RMSE 59,999.29\n"
     ]
    }
   ],
   "source": [
    "#calculate the average game sales\n",
    "baseline_prediction =np.mean(y_test)\n",
    "\n",
    "#populate an array with the baseline prediction value\n",
    "predictions = np.full(shape=X_test.shape[0], fill_value = baseline_prediction)\n",
    "\n",
    "#determine the Root Mean Squared Error based on the actual vs. the baseline prediction\n",
    "baseline_rmse = mean_squared_error(y_test, predictions, squared=False)\n",
    "print(\"Baseline guess is: {:,.2f}\".format(baseline_prediction))\n",
    "print(\"Baseline Performance (of this guess): RMSE {:,.2f}\".format(baseline_rmse))"
   ]
  },
  {
   "cell_type": "code",
   "execution_count": 110,
   "id": "5d2ba72e-0deb-4019-833b-6d0db8b2f623",
   "metadata": {},
   "outputs": [
    {
     "data": {
      "text/plain": [
       "array([41388.62000841, 41388.62000841, 41388.62000841])"
      ]
     },
     "execution_count": 110,
     "metadata": {},
     "output_type": "execute_result"
    }
   ],
   "source": [
    "#carpred.drop(columns=[ \"Vehicle Size\"], inplace = True)\n",
    "#X_prepared = full_pipeline.transform(carpred)\n",
    "predictions[0:3]"
   ]
  },
  {
   "cell_type": "code",
   "execution_count": 39,
   "id": "e429ab26-3b16-42db-8e49-ee75058c218a",
   "metadata": {},
   "outputs": [
    {
     "name": "stdout",
     "output_type": "stream",
     "text": [
      "Predition Error (RMSE): 21,199.56\n"
     ]
    }
   ],
   "source": [
    "#create a linear regression model\n",
    "lin_reg=LinearRegression()\n",
    "\n",
    "#fit the model to the training data set\n",
    "lin_reg.fit(X_train, y_train)\n",
    "\n",
    "#calculated the predicted values for the training data set\n",
    "predictions = lin_reg.predict(X_train)\n",
    "\n",
    "#compare the predicted to the actuals\n",
    "rmse = mean_squared_error(y_train,predictions, squared=False)\n",
    "print(\"Predition Error (RMSE): {:,.2f}\".format(rmse))"
   ]
  },
  {
   "cell_type": "code",
   "execution_count": 40,
   "id": "648edfb0-e75e-472b-881f-2a68e6b22b70",
   "metadata": {},
   "outputs": [
    {
     "name": "stdout",
     "output_type": "stream",
     "text": [
      "RMSE: $20,269.03\n"
     ]
    }
   ],
   "source": [
    "#run cross validation\n",
    "scores = cross_val_score(lin_reg, X_train, y_train,\n",
    "                         scoring=\"neg_root_mean_squared_error\",\n",
    "                         cv=10)\n",
    "#report the results\n",
    "print(\"RMSE: ${:,.2f}\".format( np.median(-scores) ))"
   ]
  },
  {
   "cell_type": "code",
   "execution_count": 41,
   "id": "c7b8caa7-eb5c-4154-bd79-c0dad365aaea",
   "metadata": {},
   "outputs": [
    {
     "name": "stdout",
     "output_type": "stream",
     "text": [
      "Predition Error (RMSE): $20,521.38\n"
     ]
    }
   ],
   "source": [
    "#use the linear regression model and evaluate the test data set\n",
    "predictions = lin_reg.predict(X_test)\n",
    "\n",
    "#compare the predicted to the actuals\n",
    "rmse = mean_squared_error(y_test,predictions, squared=False)\n",
    "print(\"Predition Error (RMSE): ${:,.2f}\".format(rmse))"
   ]
  },
  {
   "cell_type": "code",
   "execution_count": 42,
   "id": "389ab846-2331-48be-b9e1-387cd12fa348",
   "metadata": {},
   "outputs": [
    {
     "data": {
      "image/png": "[encoded data removed]",
      "text/plain": [
       "<Figure size 720x360 with 1 Axes>"
      ]
     },
     "metadata": {
      "needs_background": "light"
     },
     "output_type": "display_data"
    }
   ],
   "source": [
    "plot_learning_curve(lin_reg, X_train, y_train)"
   ]
  },
  {
   "cell_type": "code",
   "execution_count": 43,
   "id": "c421e41e-6ce5-42cf-8d6c-1b0050599998",
   "metadata": {},
   "outputs": [
    {
     "name": "stdout",
     "output_type": "stream",
     "text": [
      "Predition Error (RMSE): $26,454.33\n"
     ]
    }
   ],
   "source": [
    "#create a Stocahstic Gradiant Descent Regressor object\n",
    "sgd_reg = SGDRegressor()\n",
    "\n",
    "#fit the model to the training data\n",
    "sgd_reg.fit(X_train, y_train)\n",
    "\n",
    "#calcualte the predicted values\n",
    "predictions = sgd_reg.predict(X_train)\n",
    "\n",
    "#compare the predicted to the actuals to evaluate the model\n",
    "rmse = mean_squared_error(y_train,predictions,squared=False)\n",
    "print(\"Predition Error (RMSE): ${:,.2f}\".format(rmse))"
   ]
  },
  {
   "cell_type": "code",
   "execution_count": 44,
   "id": "55c06de2-4070-4db2-aef8-2cac4ba3a88e",
   "metadata": {},
   "outputs": [
    {
     "data": {
      "image/png": "[encoded data removed]",
      "text/plain": [
       "<Figure size 720x360 with 1 Axes>"
      ]
     },
     "metadata": {
      "needs_background": "light"
     },
     "output_type": "display_data"
    }
   ],
   "source": [
    "plot_learning_curve(sgd_reg, X_train, y_train)"
   ]
  },
  {
   "cell_type": "code",
   "execution_count": 45,
   "id": "6d6de96f-df1c-4bf0-861e-b20e47e20034",
   "metadata": {},
   "outputs": [
    {
     "name": "stdout",
     "output_type": "stream",
     "text": [
      "RMSE: $26,911.60\n"
     ]
    }
   ],
   "source": [
    "#run cross validation\n",
    "scores = cross_val_score(sgd_reg, X_train, y_train, scoring=\"neg_root_mean_squared_error\", cv=10)\n",
    "\n",
    "#report the results\n",
    "print(\"RMSE: ${:,.2f}\".format( -scores.mean() ) )"
   ]
  },
  {
   "cell_type": "code",
   "execution_count": 46,
   "id": "24ae84e5-2559-4ed6-b69d-18276368a244",
   "metadata": {},
   "outputs": [
    {
     "name": "stdout",
     "output_type": "stream",
     "text": [
      "Predition Error (RMSE): $22,957.68\n"
     ]
    }
   ],
   "source": [
    "#calcualte the predicted values\n",
    "predictions = sgd_reg.predict(X_test)\n",
    "\n",
    "#compare the predicted to the actuals to evaluate the model\n",
    "rmse = mean_squared_error(y_test,predictions,squared=False)\n",
    "print(\"Predition Error (RMSE): ${:,.2f}\".format(rmse))"
   ]
  },
  {
   "cell_type": "code",
   "execution_count": 47,
   "id": "a88dfe3f-6f9f-4a46-b0b7-4e340f30685a",
   "metadata": {},
   "outputs": [
    {
     "data": {
      "text/html": [
       "<style>#sk-e02844cc-10bb-4c9d-bfbc-83f6b11a4715 {color: black;background-color: white;}#sk-e02844cc-10bb-4c9d-bfbc-83f6b11a4715 pre{padding: 0;}#sk-e02844cc-10bb-4c9d-bfbc-83f6b11a4715 div.sk-toggleable {background-color: white;}#sk-e02844cc-10bb-4c9d-bfbc-83f6b11a4715 label.sk-toggleable__label {cursor: pointer;display: block;width: 100%;margin-bottom: 0;padding: 0.2em 0.3em;box-sizing: border-box;text-align: center;}#sk-e02844cc-10bb-4c9d-bfbc-83f6b11a4715 div.sk-toggleable__content {max-height: 0;max-width: 0;overflow: hidden;text-align: left;background-color: #f0f8ff;}#sk-e02844cc-10bb-4c9d-bfbc-83f6b11a4715 div.sk-toggleable__content pre {margin: 0.2em;color: black;border-radius: 0.25em;background-color: #f0f8ff;}#sk-e02844cc-10bb-4c9d-bfbc-83f6b11a4715 input.sk-toggleable__control:checked~div.sk-toggleable__content {max-height: 200px;max-width: 100%;overflow: auto;}#sk-e02844cc-10bb-4c9d-bfbc-83f6b11a4715 div.sk-estimator input.sk-toggleable__control:checked~label.sk-toggleable__label {background-color: #d4ebff;}#sk-e02844cc-10bb-4c9d-bfbc-83f6b11a4715 div.sk-label input.sk-toggleable__control:checked~label.sk-toggleable__label {background-color: #d4ebff;}#sk-e02844cc-10bb-4c9d-bfbc-83f6b11a4715 input.sk-hidden--visually {border: 0;clip: rect(1px 1px 1px 1px);clip: rect(1px, 1px, 1px, 1px);height: 1px;margin: -1px;overflow: hidden;padding: 0;position: absolute;width: 1px;}#sk-e02844cc-10bb-4c9d-bfbc-83f6b11a4715 div.sk-estimator {font-family: monospace;background-color: #f0f8ff;margin: 0.25em 0.25em;border: 1px dotted black;border-radius: 0.25em;box-sizing: border-box;}#sk-e02844cc-10bb-4c9d-bfbc-83f6b11a4715 div.sk-estimator:hover {background-color: #d4ebff;}#sk-e02844cc-10bb-4c9d-bfbc-83f6b11a4715 div.sk-parallel-item::after {content: \"\";width: 100%;border-bottom: 1px solid gray;flex-grow: 1;}#sk-e02844cc-10bb-4c9d-bfbc-83f6b11a4715 div.sk-label:hover label.sk-toggleable__label {background-color: #d4ebff;}#sk-e02844cc-10bb-4c9d-bfbc-83f6b11a4715 div.sk-serial::before {content: \"\";position: absolute;border-left: 1px solid gray;box-sizing: border-box;top: 2em;bottom: 0;left: 50%;}#sk-e02844cc-10bb-4c9d-bfbc-83f6b11a4715 div.sk-serial {display: flex;flex-direction: column;align-items: center;background-color: white;}#sk-e02844cc-10bb-4c9d-bfbc-83f6b11a4715 div.sk-item {z-index: 1;}#sk-e02844cc-10bb-4c9d-bfbc-83f6b11a4715 div.sk-parallel {display: flex;align-items: stretch;justify-content: center;background-color: white;}#sk-e02844cc-10bb-4c9d-bfbc-83f6b11a4715 div.sk-parallel-item {display: flex;flex-direction: column;position: relative;background-color: white;}#sk-e02844cc-10bb-4c9d-bfbc-83f6b11a4715 div.sk-parallel-item:first-child::after {align-self: flex-end;width: 50%;}#sk-e02844cc-10bb-4c9d-bfbc-83f6b11a4715 div.sk-parallel-item:last-child::after {align-self: flex-start;width: 50%;}#sk-e02844cc-10bb-4c9d-bfbc-83f6b11a4715 div.sk-parallel-item:only-child::after {width: 0;}#sk-e02844cc-10bb-4c9d-bfbc-83f6b11a4715 div.sk-dashed-wrapped {border: 1px dashed gray;margin: 0.2em;box-sizing: border-box;padding-bottom: 0.1em;background-color: white;position: relative;}#sk-e02844cc-10bb-4c9d-bfbc-83f6b11a4715 div.sk-label label {font-family: monospace;font-weight: bold;background-color: white;display: inline-block;line-height: 1.2em;}#sk-e02844cc-10bb-4c9d-bfbc-83f6b11a4715 div.sk-label-container {position: relative;z-index: 2;text-align: center;}#sk-e02844cc-10bb-4c9d-bfbc-83f6b11a4715 div.sk-container {display: inline-block;position: relative;}</style><div id=\"sk-e02844cc-10bb-4c9d-bfbc-83f6b11a4715\" class\"sk-top-container\"><div class=\"sk-container\"><div class=\"sk-item sk-dashed-wrapped\"><div class=\"sk-label-container\"><div class=\"sk-label sk-toggleable\"><input class=\"sk-toggleable__control sk-hidden--visually\" id=\"e702dee1-3814-4904-8bbb-f944e386412c\" type=\"checkbox\" ><label class=\"sk-toggleable__label\" for=\"e702dee1-3814-4904-8bbb-f944e386412c\">GridSearchCV</label><div class=\"sk-toggleable__content\"><pre>GridSearchCV(cv=10, estimator=SGDRegressor(),\n",
       "             param_grid=[{'eta0': [0.01, 0.001], 'max_iter': [1000, 2000],\n",
       "                          'tol': [0.0001, 0.001, 0.01]}],\n",
       "             return_train_score=True, scoring='neg_root_mean_squared_error')</pre></div></div></div><div class=\"sk-parallel\"><div class=\"sk-parallel-item\"><div class=\"sk-item\"><div class=\"sk-serial\"><div class=\"sk-item\"><div class=\"sk-estimator sk-toggleable\"><input class=\"sk-toggleable__control sk-hidden--visually\" id=\"df228575-dd42-4310-865e-e39a88804601\" type=\"checkbox\" ><label class=\"sk-toggleable__label\" for=\"df228575-dd42-4310-865e-e39a88804601\">SGDRegressor</label><div class=\"sk-toggleable__content\"><pre>SGDRegressor()</pre></div></div></div></div></div></div></div></div></div></div>"
      ],
      "text/plain": [
       "GridSearchCV(cv=10, estimator=SGDRegressor(),\n",
       "             param_grid=[{'eta0': [0.01, 0.001], 'max_iter': [1000, 2000],\n",
       "                          'tol': [0.0001, 0.001, 0.01]}],\n",
       "             return_train_score=True, scoring='neg_root_mean_squared_error')"
      ]
     },
     "execution_count": 47,
     "metadata": {},
     "output_type": "execute_result"
    }
   ],
   "source": [
    "#create a parameter grid that determines the variable hyperparameters\n",
    "param_grid = [\n",
    "    {'max_iter': [1000, 2000], 'eta0': [ .01, .001],\n",
    "     'tol': [.0001, .001, .01] },\n",
    "  ]\n",
    "\n",
    "# train across 10 folds, that's a total of (2*3*3*2)*10=360 rounds of training \n",
    "grid_search = GridSearchCV(SGDRegressor(), param_grid, cv=10,\n",
    "                           scoring='neg_root_mean_squared_error',\n",
    "                           return_train_score=True)\n",
    "\n",
    "#fit the data to the model\n",
    "grid_search.fit(X_train, y_train)"
   ]
  },
  {
   "cell_type": "code",
   "execution_count": 48,
   "id": "d4f6d89a-67ac-4f69-a2ce-0f4be43d41a0",
   "metadata": {},
   "outputs": [
    {
     "name": "stdout",
     "output_type": "stream",
     "text": [
      "RMSE: $27,031.89 - {'eta0': 0.01, 'max_iter': 1000, 'tol': 0.0001}\n",
      "RMSE: $26,919.82 - {'eta0': 0.01, 'max_iter': 1000, 'tol': 0.001}\n",
      "RMSE: $26,997.03 - {'eta0': 0.01, 'max_iter': 1000, 'tol': 0.01}\n",
      "RMSE: $26,826.75 - {'eta0': 0.01, 'max_iter': 2000, 'tol': 0.0001}\n",
      "RMSE: $26,617.73 - {'eta0': 0.01, 'max_iter': 2000, 'tol': 0.001}\n",
      "RMSE: $26,696.51 - {'eta0': 0.01, 'max_iter': 2000, 'tol': 0.01}\n",
      "RMSE: $32,396.43 - {'eta0': 0.001, 'max_iter': 1000, 'tol': 0.0001}\n",
      "RMSE: $32,396.97 - {'eta0': 0.001, 'max_iter': 1000, 'tol': 0.001}\n",
      "RMSE: $32,396.72 - {'eta0': 0.001, 'max_iter': 1000, 'tol': 0.01}\n",
      "RMSE: $30,957.60 - {'eta0': 0.001, 'max_iter': 2000, 'tol': 0.0001}\n",
      "RMSE: $30,957.98 - {'eta0': 0.001, 'max_iter': 2000, 'tol': 0.001}\n",
      "RMSE: $30,958.16 - {'eta0': 0.001, 'max_iter': 2000, 'tol': 0.01}\n"
     ]
    }
   ],
   "source": [
    "cvres = grid_search.cv_results_\n",
    "for mean_score, params in zip(cvres[\"mean_test_score\"], cvres[\"params\"]):\n",
    "    print(\"RMSE: ${:,.2f} - {}\".format( -mean_score, params) )"
   ]
  },
  {
   "cell_type": "code",
   "execution_count": 49,
   "id": "2c434863-c252-4ff0-a598-e9dde1bf9ccb",
   "metadata": {},
   "outputs": [
    {
     "data": {
      "text/plain": [
       "{'eta0': 0.01, 'max_iter': 2000, 'tol': 0.001}"
      ]
     },
     "execution_count": 49,
     "metadata": {},
     "output_type": "execute_result"
    }
   ],
   "source": [
    "grid_search.best_params_"
   ]
  },
  {
   "cell_type": "code",
   "execution_count": 50,
   "id": "008f308b-fc61-4276-b456-94a1a00aa70d",
   "metadata": {
    "tags": []
   },
   "outputs": [
    {
     "name": "stdout",
     "output_type": "stream",
     "text": [
      "Predition Error (RMSE): $25,099.63\n"
     ]
    }
   ],
   "source": [
    "sgd_model = SGDRegressor(**grid_search.best_params_)\n",
    "sgd_model.fit(X_train, y_train)\n",
    "\n",
    "#calcualte the predicted values\n",
    "predictions = sgd_model.predict(X_train)\n",
    "\n",
    "#compare the predicted (housing_predictions) to the actuals(housing_labels)\n",
    "rmse = mean_squared_error( y_train, predictions,squared=False)\n",
    "print(\"Predition Error (RMSE): ${:,.2f}\".format(rmse))"
   ]
  },
  {
   "cell_type": "code",
   "execution_count": 51,
   "id": "52b64ddc-4470-4cc9-a9a6-d8c7a7406e4d",
   "metadata": {
    "tags": []
   },
   "outputs": [
    {
     "name": "stdout",
     "output_type": "stream",
     "text": [
      "RMSE: $26,423.61\n"
     ]
    }
   ],
   "source": [
    "#run cross validation\n",
    "scores = cross_val_score(sgd_model, X_train, y_train, scoring=\"neg_root_mean_squared_error\", cv=10)\n",
    "\n",
    "#report the results\n",
    "print(\"RMSE: ${:,.2f}\".format( -scores.mean() ) )"
   ]
  },
  {
   "cell_type": "code",
   "execution_count": 52,
   "id": "c5124458-930d-42bc-9a96-63fc8abc6528",
   "metadata": {
    "tags": []
   },
   "outputs": [
    {
     "data": {
      "image/png": "[encoded data removed]",
      "text/plain": [
       "<Figure size 720x360 with 1 Axes>"
      ]
     },
     "metadata": {
      "needs_background": "light"
     },
     "output_type": "display_data"
    }
   ],
   "source": [
    "plot_learning_curve(sgd_model,X_train,y_train)"
   ]
  },
  {
   "cell_type": "code",
   "execution_count": 53,
   "id": "b8eae9a8-a675-4cc2-b832-965604855d0e",
   "metadata": {},
   "outputs": [
    {
     "name": "stdout",
     "output_type": "stream",
     "text": [
      "Predition Error (RMSE): $21,330.65\n"
     ]
    }
   ],
   "source": [
    "#calcualte the predicted values\n",
    "predictions = sgd_model.predict(X_test)\n",
    "\n",
    "#compare the predicted (housing_predictions) to the actuals(housing_labels)\n",
    "rmse = mean_squared_error( y_test, predictions,squared=False)\n",
    "print(\"Predition Error (RMSE): ${:,.2f}\".format(rmse))"
   ]
  },
  {
   "cell_type": "code",
   "execution_count": 123,
   "id": "410bcf30-ae32-4f18-b881-49aab9c7304a",
   "metadata": {},
   "outputs": [
    {
     "name": "stdout",
     "output_type": "stream",
     "text": [
      "Predition Error (RMSE): $5,276.42\n"
     ]
    }
   ],
   "source": [
    "#create a Stocahstic Gradiant Descent Regressor object\n",
    "rf_reg = RandomForestRegressor()\n",
    "\n",
    "#fit the model to the training data\n",
    "rf_reg.fit(X_train, y_train)\n",
    "\n",
    "#calcualte the predicted values\n",
    "predictions=rf_reg.predict(X_train)\n",
    "\n",
    "#compare the predicted to the actuals to evaluate the model\n",
    "rmse = mean_squared_error(y_train,predictions,squared=False)\n",
    "print(\"Predition Error (RMSE): ${:,.2f}\".format(rmse))"
   ]
  },
  {
   "cell_type": "code",
   "execution_count": 124,
   "id": "e7fceb4c-1657-4cf2-99be-ad68dfda7ad7",
   "metadata": {},
   "outputs": [
    {
     "name": "stdout",
     "output_type": "stream",
     "text": [
      "RMSE: $12,584.65\n"
     ]
    }
   ],
   "source": [
    "#run cross validation\n",
    "scores = cross_val_score(rf_reg, X_train, y_train, scoring=\"neg_root_mean_squared_error\", cv=10)\n",
    "\n",
    "#report the results\n",
    "print(\"RMSE: ${:,.2f}\".format( -scores.mean() ) )"
   ]
  },
  {
   "cell_type": "code",
   "execution_count": 125,
   "id": "fc85338e-ebf9-4d43-af40-f7ad673e9ff8",
   "metadata": {},
   "outputs": [
    {
     "data": {
      "image/png": "[encoded data removed]",
      "text/plain": [
       "<Figure size 720x360 with 1 Axes>"
      ]
     },
     "metadata": {
      "needs_background": "light"
     },
     "output_type": "display_data"
    }
   ],
   "source": [
    "plot_learning_curve(rf_reg, X_train, y_train)"
   ]
  },
  {
   "cell_type": "code",
   "execution_count": 126,
   "id": "971cf66b-6e25-40d7-9e97-87af4a24e1d1",
   "metadata": {},
   "outputs": [
    {
     "name": "stdout",
     "output_type": "stream",
     "text": [
      "Predition Error (RMSE): $9,769.52\n"
     ]
    }
   ],
   "source": [
    "#calcualte the predicted values\n",
    "predictions = rf_reg.predict(X_test)\n",
    "\n",
    "#compare the predicted to the actuals to evaluate the model\n",
    "rmse = mean_squared_error(y_test,predictions,squared=False)\n",
    "print(\"Predition Error (RMSE): ${:,.2f}\".format(rmse))"
   ]
  },
  {
   "cell_type": "code",
   "execution_count": 127,
   "id": "e122401c-62f2-4b3c-9032-5703ebe7c411",
   "metadata": {},
   "outputs": [
    {
     "data": {
      "text/plain": [
       "array([36820. ,  2000. ,  2019.3])"
      ]
     },
     "execution_count": 127,
     "metadata": {},
     "output_type": "execute_result"
    }
   ],
   "source": [
    "X_prepared = full_pipeline.transform(carpred)\n",
    "X_prepared = model.predict(X_prepared[0:3])\n",
    "X_prepared"
   ]
  },
  {
   "cell_type": "code",
   "execution_count": 58,
   "id": "6d030963-530f-46d6-b9f6-abd50a74545b",
   "metadata": {},
   "outputs": [
    {
     "data": {
      "text/plain": [
       "dict_keys(['bootstrap', 'ccp_alpha', 'criterion', 'max_depth', 'max_features', 'max_leaf_nodes', 'max_samples', 'min_impurity_decrease', 'min_impurity_split', 'min_samples_leaf', 'min_samples_split', 'min_weight_fraction_leaf', 'n_estimators', 'n_jobs', 'oob_score', 'random_state', 'verbose', 'warm_start'])"
      ]
     },
     "execution_count": 58,
     "metadata": {},
     "output_type": "execute_result"
    }
   ],
   "source": [
    "rf_reg.get_params().keys()"
   ]
  },
  {
   "cell_type": "code",
   "execution_count": 59,
   "id": "6642a6c8-39bf-4602-8fb1-96ddcd025399",
   "metadata": {},
   "outputs": [
    {
     "data": {
      "text/html": [
       "<style>#sk-607d2d0d-3b19-411e-872b-aa05721d8ce6 {color: black;background-color: white;}#sk-607d2d0d-3b19-411e-872b-aa05721d8ce6 pre{padding: 0;}#sk-607d2d0d-3b19-411e-872b-aa05721d8ce6 div.sk-toggleable {background-color: white;}#sk-607d2d0d-3b19-411e-872b-aa05721d8ce6 label.sk-toggleable__label {cursor: pointer;display: block;width: 100%;margin-bottom: 0;padding: 0.2em 0.3em;box-sizing: border-box;text-align: center;}#sk-607d2d0d-3b19-411e-872b-aa05721d8ce6 div.sk-toggleable__content {max-height: 0;max-width: 0;overflow: hidden;text-align: left;background-color: #f0f8ff;}#sk-607d2d0d-3b19-411e-872b-aa05721d8ce6 div.sk-toggleable__content pre {margin: 0.2em;color: black;border-radius: 0.25em;background-color: #f0f8ff;}#sk-607d2d0d-3b19-411e-872b-aa05721d8ce6 input.sk-toggleable__control:checked~div.sk-toggleable__content {max-height: 200px;max-width: 100%;overflow: auto;}#sk-607d2d0d-3b19-411e-872b-aa05721d8ce6 div.sk-estimator input.sk-toggleable__control:checked~label.sk-toggleable__label {background-color: #d4ebff;}#sk-607d2d0d-3b19-411e-872b-aa05721d8ce6 div.sk-label input.sk-toggleable__control:checked~label.sk-toggleable__label {background-color: #d4ebff;}#sk-607d2d0d-3b19-411e-872b-aa05721d8ce6 input.sk-hidden--visually {border: 0;clip: rect(1px 1px 1px 1px);clip: rect(1px, 1px, 1px, 1px);height: 1px;margin: -1px;overflow: hidden;padding: 0;position: absolute;width: 1px;}#sk-607d2d0d-3b19-411e-872b-aa05721d8ce6 div.sk-estimator {font-family: monospace;background-color: #f0f8ff;margin: 0.25em 0.25em;border: 1px dotted black;border-radius: 0.25em;box-sizing: border-box;}#sk-607d2d0d-3b19-411e-872b-aa05721d8ce6 div.sk-estimator:hover {background-color: #d4ebff;}#sk-607d2d0d-3b19-411e-872b-aa05721d8ce6 div.sk-parallel-item::after {content: \"\";width: 100%;border-bottom: 1px solid gray;flex-grow: 1;}#sk-607d2d0d-3b19-411e-872b-aa05721d8ce6 div.sk-label:hover label.sk-toggleable__label {background-color: #d4ebff;}#sk-607d2d0d-3b19-411e-872b-aa05721d8ce6 div.sk-serial::before {content: \"\";position: absolute;border-left: 1px solid gray;box-sizing: border-box;top: 2em;bottom: 0;left: 50%;}#sk-607d2d0d-3b19-411e-872b-aa05721d8ce6 div.sk-serial {display: flex;flex-direction: column;align-items: center;background-color: white;}#sk-607d2d0d-3b19-411e-872b-aa05721d8ce6 div.sk-item {z-index: 1;}#sk-607d2d0d-3b19-411e-872b-aa05721d8ce6 div.sk-parallel {display: flex;align-items: stretch;justify-content: center;background-color: white;}#sk-607d2d0d-3b19-411e-872b-aa05721d8ce6 div.sk-parallel-item {display: flex;flex-direction: column;position: relative;background-color: white;}#sk-607d2d0d-3b19-411e-872b-aa05721d8ce6 div.sk-parallel-item:first-child::after {align-self: flex-end;width: 50%;}#sk-607d2d0d-3b19-411e-872b-aa05721d8ce6 div.sk-parallel-item:last-child::after {align-self: flex-start;width: 50%;}#sk-607d2d0d-3b19-411e-872b-aa05721d8ce6 div.sk-parallel-item:only-child::after {width: 0;}#sk-607d2d0d-3b19-411e-872b-aa05721d8ce6 div.sk-dashed-wrapped {border: 1px dashed gray;margin: 0.2em;box-sizing: border-box;padding-bottom: 0.1em;background-color: white;position: relative;}#sk-607d2d0d-3b19-411e-872b-aa05721d8ce6 div.sk-label label {font-family: monospace;font-weight: bold;background-color: white;display: inline-block;line-height: 1.2em;}#sk-607d2d0d-3b19-411e-872b-aa05721d8ce6 div.sk-label-container {position: relative;z-index: 2;text-align: center;}#sk-607d2d0d-3b19-411e-872b-aa05721d8ce6 div.sk-container {display: inline-block;position: relative;}</style><div id=\"sk-607d2d0d-3b19-411e-872b-aa05721d8ce6\" class\"sk-top-container\"><div class=\"sk-container\"><div class=\"sk-item sk-dashed-wrapped\"><div class=\"sk-label-container\"><div class=\"sk-label sk-toggleable\"><input class=\"sk-toggleable__control sk-hidden--visually\" id=\"a410b092-5546-4822-b03e-7b9d3d67e329\" type=\"checkbox\" ><label class=\"sk-toggleable__label\" for=\"a410b092-5546-4822-b03e-7b9d3d67e329\">GridSearchCV</label><div class=\"sk-toggleable__content\"><pre>GridSearchCV(cv=10, estimator=RandomForestRegressor(),\n",
       "             param_grid=[{'max_depth': [10, 50, 100, 200],\n",
       "                          'n_estimators': [10, 100, 500]}],\n",
       "             return_train_score=True, scoring='neg_root_mean_squared_error')</pre></div></div></div><div class=\"sk-parallel\"><div class=\"sk-parallel-item\"><div class=\"sk-item\"><div class=\"sk-serial\"><div class=\"sk-item\"><div class=\"sk-estimator sk-toggleable\"><input class=\"sk-toggleable__control sk-hidden--visually\" id=\"2c0ba9d0-8a2d-4f06-bdd0-e77a71b44fb0\" type=\"checkbox\" ><label class=\"sk-toggleable__label\" for=\"2c0ba9d0-8a2d-4f06-bdd0-e77a71b44fb0\">RandomForestRegressor</label><div class=\"sk-toggleable__content\"><pre>RandomForestRegressor()</pre></div></div></div></div></div></div></div></div></div></div>"
      ],
      "text/plain": [
       "GridSearchCV(cv=10, estimator=RandomForestRegressor(),\n",
       "             param_grid=[{'max_depth': [10, 50, 100, 200],\n",
       "                          'n_estimators': [10, 100, 500]}],\n",
       "             return_train_score=True, scoring='neg_root_mean_squared_error')"
      ]
     },
     "execution_count": 59,
     "metadata": {},
     "output_type": "execute_result"
    }
   ],
   "source": [
    "#create a parameter grid that determines the variable hyperparameters\n",
    "param_grid = [\n",
    "    {'max_depth': [10, 50, 100, 200], \n",
    "     'n_estimators': [ 10, 100, 500] },\n",
    "  ]\n",
    "\n",
    "# train across 10 folds, that's a total of (2*3*3*2)*10=360 rounds of training \n",
    "grid_search = GridSearchCV(RandomForestRegressor(), param_grid, cv=10,\n",
    "                           scoring='neg_root_mean_squared_error',\n",
    "                           return_train_score=True)\n",
    "\n",
    "#fit the data to the model\n",
    "grid_search.fit(X_train, y_train)"
   ]
  },
  {
   "cell_type": "code",
   "execution_count": 111,
   "id": "28701e77-eda9-4612-a643-ba205276c0a3",
   "metadata": {},
   "outputs": [
    {
     "name": "stdout",
     "output_type": "stream",
     "text": [
      "RMSE: $12,960.83 - {'max_depth': 10, 'n_estimators': 10}\n",
      "RMSE: $13,738.62 - {'max_depth': 10, 'n_estimators': 100}\n",
      "RMSE: $13,670.27 - {'max_depth': 10, 'n_estimators': 500}\n",
      "RMSE: $11,491.72 - {'max_depth': 50, 'n_estimators': 10}\n",
      "RMSE: $12,583.38 - {'max_depth': 50, 'n_estimators': 100}\n",
      "RMSE: $12,526.32 - {'max_depth': 50, 'n_estimators': 500}\n",
      "RMSE: $13,768.19 - {'max_depth': 100, 'n_estimators': 10}\n",
      "RMSE: $12,456.26 - {'max_depth': 100, 'n_estimators': 100}\n",
      "RMSE: $12,602.10 - {'max_depth': 100, 'n_estimators': 500}\n",
      "RMSE: $14,571.27 - {'max_depth': 200, 'n_estimators': 10}\n",
      "RMSE: $12,780.24 - {'max_depth': 200, 'n_estimators': 100}\n",
      "RMSE: $12,601.44 - {'max_depth': 200, 'n_estimators': 500}\n"
     ]
    }
   ],
   "source": [
    "cvres = grid_search.cv_results_\n",
    "for mean_score, params in zip(cvres[\"mean_test_score\"], cvres[\"params\"]):\n",
    "    print(\"RMSE: ${:,.2f} - {}\".format( -mean_score, params) )"
   ]
  },
  {
   "cell_type": "code",
   "execution_count": 112,
   "id": "cd6bd7b0-62d8-40da-95fd-07b325832643",
   "metadata": {},
   "outputs": [
    {
     "data": {
      "text/plain": [
       "{'max_depth': 50, 'n_estimators': 10}"
      ]
     },
     "execution_count": 112,
     "metadata": {},
     "output_type": "execute_result"
    }
   ],
   "source": [
    "grid_search.best_params_"
   ]
  },
  {
   "cell_type": "code",
   "execution_count": 118,
   "id": "60255cc9-e32f-4acf-90af-7352cdca8b68",
   "metadata": {
    "tags": []
   },
   "outputs": [
    {
     "name": "stdout",
     "output_type": "stream",
     "text": [
      "Predition Error (RMSE): $5,468.87\n"
     ]
    }
   ],
   "source": [
    "model = RandomForestRegressor(**grid_search.best_params_)\n",
    "model.fit(X_train, y_train)\n",
    "\n",
    "#calcualte the predicted values\n",
    "predictions = model.predict(X_train)\n",
    "\n",
    "#compare the predicted (housing_predictions) to the actuals(housing_labels)\n",
    "rmse = mean_squared_error( y_train, predictions,squared=False)\n",
    "print(\"Predition Error (RMSE): ${:,.2f}\".format(rmse))"
   ]
  },
  {
   "cell_type": "code",
   "execution_count": 119,
   "id": "7900e877-09d1-410d-a4c9-662cfb43dbd2",
   "metadata": {
    "tags": []
   },
   "outputs": [
    {
     "name": "stdout",
     "output_type": "stream",
     "text": [
      "RMSE: $12,799.48\n"
     ]
    }
   ],
   "source": [
    "#run cross validation\n",
    "scores = cross_val_score(model, X_train, y_train, scoring=\"neg_root_mean_squared_error\", cv=10)\n",
    "\n",
    "#report the results\n",
    "print(\"RMSE: ${:,.2f}\".format( -scores.mean() ) )"
   ]
  },
  {
   "cell_type": "code",
   "execution_count": 120,
   "id": "2c6cb168-56e5-4b78-ae63-b60ec5001f1b",
   "metadata": {
    "tags": []
   },
   "outputs": [
    {
     "data": {
      "image/png": "[encoded data removed]",
      "text/plain": [
       "<Figure size 720x360 with 1 Axes>"
      ]
     },
     "metadata": {
      "needs_background": "light"
     },
     "output_type": "display_data"
    }
   ],
   "source": [
    "plot_learning_curve(model,X_train,y_train)"
   ]
  },
  {
   "cell_type": "code",
   "execution_count": 121,
   "id": "072218c8-b209-45d4-a102-182f7005398b",
   "metadata": {},
   "outputs": [
    {
     "name": "stdout",
     "output_type": "stream",
     "text": [
      "Predition Error (RMSE): $12,692.46\n"
     ]
    }
   ],
   "source": [
    "#calcualte the predicted values\n",
    "predictions = model.predict(X_test)\n",
    "\n",
    "#compare the predicted (housing_predictions) to the actuals(housing_labels)\n",
    "rmse = mean_squared_error( y_test, predictions,squared=False)\n",
    "print(\"Predition Error (RMSE): ${:,.2f}\".format(rmse))"
   ]
  },
  {
   "cell_type": "code",
   "execution_count": 122,
   "id": "c09ce913-27ad-449f-99c1-fbc985aeec14",
   "metadata": {},
   "outputs": [
    {
     "data": {
      "text/plain": [
       "array([36820. ,  2000. ,  2019.3])"
      ]
     },
     "execution_count": 122,
     "metadata": {},
     "output_type": "execute_result"
    }
   ],
   "source": [
    "X_prepared = full_pipeline.transform(carpred)\n",
    "X_prepared = model.predict(X_prepared[0:3])\n",
    "X_prepared"
   ]
  },
  {
   "cell_type": "code",
   "execution_count": 71,
   "id": "c71dc614-a6e0-4e7b-bd18-3f94ef1a2a2d",
   "metadata": {},
   "outputs": [],
   "source": [
    "#see the actual predicted values\n",
    "pred = model.predict(X_test[0:3])"
   ]
  },
  {
   "cell_type": "code",
   "execution_count": 72,
   "id": "164823ff-80eb-454b-94a7-4df19b1f5504",
   "metadata": {},
   "outputs": [],
   "source": [
    "actual = y_test[0:3]"
   ]
  },
  {
   "cell_type": "code",
   "execution_count": 73,
   "id": "6623a408-5424-4a78-b985-ad28be2ce70e",
   "metadata": {},
   "outputs": [
    {
     "name": "stdout",
     "output_type": "stream",
     "text": [
      "Prediction $    36,147  ---  Actual $    38,990\n",
      "Prediction $    84,030  ---  Actual $    88,900\n",
      "Prediction $    17,956  ---  Actual $    18,299\n"
     ]
    }
   ],
   "source": [
    "#print using format\n",
    "for x in range(0,3):\n",
    "    print( \"Prediction ${:10,.0f}  ---  Actual ${:10,.0f}\".format( float(pred[x:x+1]), float(actual[x:x+1]) ) )"
   ]
  },
  {
   "cell_type": "markdown",
   "id": "46525b86-394c-493d-b23e-0022226a3f6e",
   "metadata": {
    "tags": []
   },
   "source": [
    "## Neural Network"
   ]
  },
  {
   "cell_type": "code",
   "execution_count": 572,
   "id": "0e74fcd9-87e9-4b12-bc1e-3576b9c39c4a",
   "metadata": {},
   "outputs": [
    {
     "data": {
      "text/plain": [
       "((9512, 13), (9512,), (2379, 13), (2379,))"
      ]
     },
     "execution_count": 572,
     "metadata": {},
     "output_type": "execute_result"
    }
   ],
   "source": [
    "X_train, X_test, y_train, y_test = train_test_split(\n",
    "    car.drop(columns=['MSRP']), \n",
    "    car.MSRP, \n",
    "    test_size=.2,\n",
    "    random_state=32,\n",
    "    stratify = car.Year\n",
    ")\n",
    "\n",
    "X_train.shape, y_train.shape, X_test.shape, y_test.shape"
   ]
  },
  {
   "cell_type": "code",
   "execution_count": 573,
   "id": "f4ff36e2-b07d-411f-a955-0a2b27ec8b77",
   "metadata": {},
   "outputs": [
    {
     "name": "stdout",
     "output_type": "stream",
     "text": [
      "        Make  Year             Engine Fuel Type  Engine HP  Engine Cylinders  \\\n",
      "6263     Kia  2017             regular unleaded      290.0               6.0   \n",
      "967      BMW  2010  premium unleaded (required)      480.0               8.0   \n",
      "9919  Suzuki  2011             regular unleaded      148.0               4.0   \n",
      "8402  Nissan  2017  premium unleaded (required)      211.0               4.0   \n",
      "3491   Dodge  2010     flex-fuel (unleaded/E85)      310.0               8.0   \n",
      "\n",
      "     Transmission Type      Driven_Wheels  Number of Doors Vehicle Size  \\\n",
      "6263         AUTOMATIC  front wheel drive              4.0      Midsize   \n",
      "967          AUTOMATIC    all wheel drive              4.0      Midsize   \n",
      "9919         AUTOMATIC  front wheel drive              4.0      Compact   \n",
      "8402         AUTOMATIC    all wheel drive              4.0      Compact   \n",
      "3491         AUTOMATIC   four wheel drive              2.0        Large   \n",
      "\n",
      "           Vehicle Style  highway MPG  city mpg  Popularity  \n",
      "6263               Sedan           28        20        1720  \n",
      "967              4dr SUV           19        17        3916  \n",
      "9919       4dr Hatchback           30        23         481  \n",
      "8402       4dr Hatchback           29        25        2009  \n",
      "3491  Regular Cab Pickup           18        13        1851  \n",
      "6263    38990\n",
      "967     88900\n",
      "9919    18299\n",
      "8402    30020\n",
      "3491    25065\n",
      "Name: MSRP, dtype: int64\n"
     ]
    }
   ],
   "source": [
    "#look at the first 5 games in the Test data set (will predict later on)\n",
    "print(X_test[0:5])\n",
    "print(y_test[0:5])"
   ]
  },
  {
   "cell_type": "code",
   "execution_count": 574,
   "id": "c66b9c80-e5d3-4f55-badf-3cb2c6049288",
   "metadata": {},
   "outputs": [
    {
     "data": {
      "text/plain": [
       "((9512, 118), (2379, 118))"
      ]
     },
     "execution_count": 574,
     "metadata": {},
     "output_type": "execute_result"
    }
   ],
   "source": [
    "#create an array of prepared data based on the training data set and the Pipeline process defined above\n",
    "X_train = full_pipeline.fit_transform( X_train)\n",
    "X_test = full_pipeline.transform(X_test )\n",
    "\n",
    "X_train.shape, X_test.shape"
   ]
  },
  {
   "cell_type": "code",
   "execution_count": 575,
   "id": "e7dd7a95-7801-47f9-8695-180d358fdfb0",
   "metadata": {},
   "outputs": [],
   "source": [
    "#scale the Y data\n",
    "yscaler = MinMaxScaler()\n",
    "y_train = yscaler.fit_transform(np.array(y_train).reshape(-1,1))\n",
    "y_test = yscaler.transform(np.array(y_test).reshape(-1,1))"
   ]
  },
  {
   "cell_type": "code",
   "execution_count": 576,
   "id": "e195da2a-eac8-4c58-899e-d096f8ca1a35",
   "metadata": {},
   "outputs": [],
   "source": [
    "early_stopping = keras.callbacks.EarlyStopping(\n",
    "patience = 2,\n",
    "mode='min',\n",
    "monitor='val_loss'\n",
    ")"
   ]
  },
  {
   "cell_type": "code",
   "execution_count": 577,
   "id": "65926943-2671-40a9-b5b5-0abce6f8454a",
   "metadata": {},
   "outputs": [],
   "source": [
    "#starting by setting random seeds and restarting keras blackend session\n",
    "np.random.seed(42)\n",
    "tf.random.set_seed(42)\n",
    "\n",
    "#resets the Keras global state - helps avoid clutter from old models and layers, especially when memory is limited\n",
    "keras.backend.clear_session()"
   ]
  },
  {
   "cell_type": "markdown",
   "id": "a6cbccaa-e2f3-4545-aa0e-d030c6cc650d",
   "metadata": {},
   "source": [
    "### Build the Neural Netowrk, Compile and Train"
   ]
  },
  {
   "cell_type": "code",
   "execution_count": 578,
   "id": "39ab7957-21c5-4191-b497-2981d19c74c3",
   "metadata": {},
   "outputs": [],
   "source": [
    "#build a simple model keeping the last layer with activation softmax and 3 to predict games into 1 of 3 classes\n",
    "model = keras.models.Sequential([\n",
    "    keras.layers.Flatten(),   #NOTE: Ok to leave out input shape - it will determine when reading X\n",
    "    keras.layers.Dense(60, activation=\"softmax\"), #8\n",
    "   # keras.layers.Dense(10, activation=\"softmax\"), #2\n",
    "   # keras.layers.Dense(2, activation=\"softmax\"),\n",
    "    keras.layers.Dense(3, activation=\"softmax\"),\n",
    "    keras.layers.Dense(1)\n",
    "])"
   ]
  },
  {
   "cell_type": "code",
   "execution_count": 579,
   "id": "f4438a47-de49-4eec-81da-6d5ef1d372ff",
   "metadata": {},
   "outputs": [],
   "source": [
    "#After model is created, it needs to be compiled - this requires setting\n",
    "#the loss function to mean_squared_error\n",
    "model.compile(loss=\"mean_squared_error\",\n",
    "              optimizer=keras.optimizers.Adam(learning_rate=.001),\n",
    "             )"
   ]
  },
  {
   "cell_type": "code",
   "execution_count": 580,
   "id": "9eaed2c3-5158-4da1-9b44-ccb500d0cd2e",
   "metadata": {},
   "outputs": [
    {
     "name": "stdout",
     "output_type": "stream",
     "text": [
      "Epoch 1/100\n",
      "238/238 [==============================] - 1s 2ms/step - loss: 0.0011 - val_loss: 0.0011\n",
      "Epoch 2/100\n",
      "238/238 [==============================] - 0s 2ms/step - loss: 4.0606e-04 - val_loss: 9.2925e-04\n",
      "Epoch 3/100\n",
      "238/238 [==============================] - 0s 2ms/step - loss: 3.3347e-04 - val_loss: 8.5512e-04\n",
      "Epoch 4/100\n",
      "238/238 [==============================] - 0s 2ms/step - loss: 2.8561e-04 - val_loss: 7.8028e-04\n",
      "Epoch 5/100\n",
      "238/238 [==============================] - 1s 3ms/step - loss: 2.4427e-04 - val_loss: 7.2139e-04\n",
      "Epoch 6/100\n",
      "238/238 [==============================] - 0s 2ms/step - loss: 2.0872e-04 - val_loss: 6.6662e-04\n",
      "Epoch 7/100\n",
      "238/238 [==============================] - 0s 2ms/step - loss: 1.8366e-04 - val_loss: 6.3141e-04\n",
      "Epoch 8/100\n",
      "238/238 [==============================] - 0s 2ms/step - loss: 1.6672e-04 - val_loss: 6.0051e-04\n",
      "Epoch 9/100\n",
      "238/238 [==============================] - 0s 2ms/step - loss: 1.5432e-04 - val_loss: 5.8113e-04\n",
      "Epoch 10/100\n",
      "238/238 [==============================] - 0s 2ms/step - loss: 1.4537e-04 - val_loss: 5.5292e-04\n",
      "Epoch 11/100\n",
      "238/238 [==============================] - 0s 2ms/step - loss: 1.3662e-04 - val_loss: 5.4738e-04\n",
      "Epoch 12/100\n",
      "238/238 [==============================] - 0s 1ms/step - loss: 1.3139e-04 - val_loss: 5.2172e-04\n",
      "Epoch 13/100\n",
      "238/238 [==============================] - 0s 1ms/step - loss: 1.2491e-04 - val_loss: 5.1475e-04\n",
      "Epoch 14/100\n",
      "238/238 [==============================] - 0s 2ms/step - loss: 1.1993e-04 - val_loss: 4.9010e-04\n",
      "Epoch 15/100\n",
      "238/238 [==============================] - 0s 2ms/step - loss: 1.1407e-04 - val_loss: 4.8105e-04\n",
      "Epoch 16/100\n",
      "238/238 [==============================] - 0s 2ms/step - loss: 1.1084e-04 - val_loss: 4.6942e-04\n",
      "Epoch 17/100\n",
      "238/238 [==============================] - 0s 2ms/step - loss: 1.0594e-04 - val_loss: 4.5706e-04\n",
      "Epoch 18/100\n",
      "238/238 [==============================] - 0s 1ms/step - loss: 1.0306e-04 - val_loss: 4.4064e-04\n",
      "Epoch 19/100\n",
      "238/238 [==============================] - 0s 1ms/step - loss: 9.9019e-05 - val_loss: 4.2220e-04\n",
      "Epoch 20/100\n",
      "238/238 [==============================] - 0s 2ms/step - loss: 9.4517e-05 - val_loss: 4.1456e-04\n",
      "Epoch 21/100\n",
      "238/238 [==============================] - 0s 2ms/step - loss: 9.0413e-05 - val_loss: 4.0355e-04\n",
      "Epoch 22/100\n",
      "238/238 [==============================] - 0s 2ms/step - loss: 8.8283e-05 - val_loss: 3.8012e-04\n",
      "Epoch 23/100\n",
      "238/238 [==============================] - 0s 2ms/step - loss: 8.6557e-05 - val_loss: 3.7179e-04\n",
      "Epoch 24/100\n",
      "238/238 [==============================] - 0s 2ms/step - loss: 8.2494e-05 - val_loss: 3.6397e-04\n",
      "Epoch 25/100\n",
      "238/238 [==============================] - 0s 2ms/step - loss: 7.8876e-05 - val_loss: 3.5290e-04\n",
      "Epoch 26/100\n",
      "238/238 [==============================] - 0s 2ms/step - loss: 7.6305e-05 - val_loss: 3.4437e-04\n",
      "Epoch 27/100\n",
      "238/238 [==============================] - 0s 2ms/step - loss: 7.3630e-05 - val_loss: 3.3234e-04\n",
      "Epoch 28/100\n",
      "238/238 [==============================] - 0s 1ms/step - loss: 7.2314e-05 - val_loss: 3.1898e-04\n",
      "Epoch 29/100\n",
      "238/238 [==============================] - 0s 2ms/step - loss: 6.9071e-05 - val_loss: 3.0870e-04\n",
      "Epoch 30/100\n",
      "238/238 [==============================] - 1s 2ms/step - loss: 6.8132e-05 - val_loss: 2.9580e-04\n",
      "Epoch 31/100\n",
      "238/238 [==============================] - 0s 2ms/step - loss: 6.6084e-05 - val_loss: 2.8584e-04\n",
      "Epoch 32/100\n",
      "238/238 [==============================] - 0s 2ms/step - loss: 6.2681e-05 - val_loss: 2.7732e-04\n",
      "Epoch 33/100\n",
      "238/238 [==============================] - 0s 2ms/step - loss: 6.0416e-05 - val_loss: 2.6958e-04\n",
      "Epoch 34/100\n",
      "238/238 [==============================] - 0s 2ms/step - loss: 5.8566e-05 - val_loss: 2.5385e-04\n",
      "Epoch 35/100\n",
      "238/238 [==============================] - 0s 2ms/step - loss: 5.5556e-05 - val_loss: 2.5157e-04\n",
      "Epoch 36/100\n",
      "238/238 [==============================] - 0s 2ms/step - loss: 5.4805e-05 - val_loss: 2.4317e-04\n",
      "Epoch 37/100\n",
      "238/238 [==============================] - 0s 2ms/step - loss: 5.1955e-05 - val_loss: 2.3531e-04\n",
      "Epoch 38/100\n",
      "238/238 [==============================] - 0s 2ms/step - loss: 5.1986e-05 - val_loss: 2.2765e-04\n",
      "Epoch 39/100\n",
      "238/238 [==============================] - 1s 2ms/step - loss: 4.9229e-05 - val_loss: 2.1536e-04\n",
      "Epoch 40/100\n",
      "238/238 [==============================] - 1s 4ms/step - loss: 4.7216e-05 - val_loss: 2.1030e-04\n",
      "Epoch 41/100\n",
      "238/238 [==============================] - 1s 2ms/step - loss: 4.5496e-05 - val_loss: 2.0153e-04\n",
      "Epoch 42/100\n",
      "238/238 [==============================] - 0s 2ms/step - loss: 4.4343e-05 - val_loss: 1.9322e-04\n",
      "Epoch 43/100\n",
      "238/238 [==============================] - 0s 2ms/step - loss: 4.1904e-05 - val_loss: 1.8414e-04\n",
      "Epoch 44/100\n",
      "238/238 [==============================] - 0s 2ms/step - loss: 3.9979e-05 - val_loss: 1.7447e-04\n",
      "Epoch 45/100\n",
      "238/238 [==============================] - 0s 2ms/step - loss: 3.8232e-05 - val_loss: 1.7467e-04\n",
      "Epoch 46/100\n",
      "238/238 [==============================] - 0s 2ms/step - loss: 3.7756e-05 - val_loss: 1.6371e-04\n",
      "Epoch 47/100\n",
      "238/238 [==============================] - 0s 2ms/step - loss: 3.5916e-05 - val_loss: 1.5793e-04\n",
      "Epoch 48/100\n",
      "238/238 [==============================] - 0s 1ms/step - loss: 3.4689e-05 - val_loss: 1.5262e-04\n",
      "Epoch 49/100\n",
      "238/238 [==============================] - 0s 1ms/step - loss: 3.2361e-05 - val_loss: 1.5381e-04\n",
      "Epoch 50/100\n",
      "238/238 [==============================] - 0s 2ms/step - loss: 3.2528e-05 - val_loss: 1.3571e-04\n",
      "Epoch 51/100\n",
      "238/238 [==============================] - 0s 2ms/step - loss: 3.0925e-05 - val_loss: 1.4099e-04\n",
      "Epoch 52/100\n",
      "238/238 [==============================] - 1s 2ms/step - loss: 3.0031e-05 - val_loss: 1.2972e-04\n",
      "Epoch 53/100\n",
      "238/238 [==============================] - 1s 2ms/step - loss: 2.8899e-05 - val_loss: 1.2320e-04\n",
      "Epoch 54/100\n",
      "238/238 [==============================] - 1s 3ms/step - loss: 2.8023e-05 - val_loss: 1.2021e-04\n",
      "Epoch 55/100\n",
      "238/238 [==============================] - 1s 2ms/step - loss: 2.6319e-05 - val_loss: 1.1387e-04\n",
      "Epoch 56/100\n",
      "238/238 [==============================] - 1s 2ms/step - loss: 2.6203e-05 - val_loss: 1.1068e-04\n",
      "Epoch 57/100\n",
      "238/238 [==============================] - 1s 2ms/step - loss: 2.5732e-05 - val_loss: 1.0451e-04\n",
      "Epoch 58/100\n",
      "238/238 [==============================] - 1s 3ms/step - loss: 2.4449e-05 - val_loss: 9.9868e-05\n",
      "Epoch 59/100\n",
      "238/238 [==============================] - 1s 2ms/step - loss: 2.4439e-05 - val_loss: 9.5740e-05\n",
      "Epoch 60/100\n",
      "238/238 [==============================] - 1s 2ms/step - loss: 2.3254e-05 - val_loss: 9.2610e-05\n",
      "Epoch 61/100\n",
      "238/238 [==============================] - 1s 3ms/step - loss: 2.2603e-05 - val_loss: 9.3025e-05\n",
      "Epoch 62/100\n",
      "238/238 [==============================] - 1s 3ms/step - loss: 2.2236e-05 - val_loss: 8.8796e-05\n",
      "Epoch 63/100\n",
      "238/238 [==============================] - 1s 3ms/step - loss: 2.1571e-05 - val_loss: 8.3564e-05\n",
      "Epoch 64/100\n",
      "238/238 [==============================] - 1s 2ms/step - loss: 2.0973e-05 - val_loss: 8.2156e-05\n",
      "Epoch 65/100\n",
      "238/238 [==============================] - 1s 2ms/step - loss: 2.1539e-05 - val_loss: 8.4688e-05\n",
      "Epoch 66/100\n",
      "238/238 [==============================] - 0s 2ms/step - loss: 2.0246e-05 - val_loss: 7.7173e-05\n",
      "Epoch 67/100\n",
      "238/238 [==============================] - 1s 3ms/step - loss: 2.0313e-05 - val_loss: 7.3826e-05\n",
      "Epoch 68/100\n",
      "238/238 [==============================] - 1s 3ms/step - loss: 1.9636e-05 - val_loss: 7.1316e-05\n",
      "Epoch 69/100\n",
      "238/238 [==============================] - 0s 2ms/step - loss: 2.0318e-05 - val_loss: 7.0298e-05\n",
      "Epoch 70/100\n",
      "238/238 [==============================] - 1s 2ms/step - loss: 1.8891e-05 - val_loss: 7.1464e-05\n",
      "Epoch 71/100\n",
      "238/238 [==============================] - 1s 2ms/step - loss: 1.9264e-05 - val_loss: 6.8615e-05\n",
      "Epoch 72/100\n",
      "238/238 [==============================] - 1s 2ms/step - loss: 1.8947e-05 - val_loss: 7.6568e-05\n",
      "Epoch 73/100\n",
      "238/238 [==============================] - 1s 2ms/step - loss: 1.9080e-05 - val_loss: 6.5508e-05\n",
      "Epoch 74/100\n",
      "238/238 [==============================] - 1s 2ms/step - loss: 1.8372e-05 - val_loss: 6.7427e-05\n",
      "Epoch 75/100\n",
      "238/238 [==============================] - 1s 2ms/step - loss: 1.8309e-05 - val_loss: 6.6104e-05\n"
     ]
    }
   ],
   "source": [
    "#fit the model and capture the details of the fit to a variable called history\n",
    "#note that validation data is dynamically allocated at 20% of the training data\n",
    "history = model.fit(X_train, \n",
    "                    y_train, \n",
    "                    epochs=100, \n",
    "                    validation_split=.2,\n",
    "                    callbacks=[early_stopping]\n",
    "                   )"
   ]
  },
  {
   "cell_type": "code",
   "execution_count": 589,
   "id": "8a38346b-7999-4f82-980d-9dee428c53e3",
   "metadata": {},
   "outputs": [
    {
     "data": {
      "image/png": "[encoded data removed]",
      "text/plain": [
       "<Figure size 576x360 with 1 Axes>"
      ]
     },
     "metadata": {
      "needs_background": "light"
     },
     "output_type": "display_data"
    }
   ],
   "source": [
    "#plot the loss learning curve\n",
    "nn_plot_learning_curve(history)"
   ]
  },
  {
   "cell_type": "code",
   "execution_count": 582,
   "id": "401f5714-90d6-4a42-a55d-253d8734941c",
   "metadata": {},
   "outputs": [
    {
     "name": "stdout",
     "output_type": "stream",
     "text": [
      "298/298 [==============================] - 0s 1ms/step - loss: 2.6591e-05\n"
     ]
    },
    {
     "data": {
      "text/plain": [
       "2.6590549168759026e-05"
      ]
     },
     "execution_count": 582,
     "metadata": {},
     "output_type": "execute_result"
    }
   ],
   "source": [
    "#evaluate model loss metric on the training set\n",
    "model.evaluate(X_train, y_train)"
   ]
  },
  {
   "cell_type": "code",
   "execution_count": 583,
   "id": "52d8b4c2-91d2-4c9c-ada2-e250d4c5fcc0",
   "metadata": {},
   "outputs": [
    {
     "name": "stdout",
     "output_type": "stream",
     "text": [
      "75/75 [==============================] - 0s 1ms/step - loss: 2.9964e-05\n"
     ]
    },
    {
     "data": {
      "text/plain": [
       "2.9963854103698395e-05"
      ]
     },
     "execution_count": 583,
     "metadata": {},
     "output_type": "execute_result"
    }
   ],
   "source": [
    "#evaluate model loss metric on the Test set\n",
    "model.evaluate(X_test, y_test)"
   ]
  },
  {
   "cell_type": "code",
   "execution_count": 584,
   "id": "6c0a39f2-85a9-4588-a29c-88b1de3f7eba",
   "metadata": {},
   "outputs": [
    {
     "name": "stdout",
     "output_type": "stream",
     "text": [
      "RMSE: $10,642.72\n"
     ]
    }
   ],
   "source": [
    "#predict the Training data set based on SCALED values\n",
    "y_pred = model.predict(X_train)\n",
    "\n",
    "#scale predicted and actuals\n",
    "pred = yscaler.inverse_transform( y_pred )\n",
    "actual = yscaler.inverse_transform(y_train)\n",
    "\n",
    "#calculate the Root Mean Squared Error using the scaled values\n",
    "rmse = mean_squared_error(pred,actual,squared=False)\n",
    "print('RMSE: ${:,.2f}'.format( rmse ) )"
   ]
  },
  {
   "cell_type": "code",
   "execution_count": 585,
   "id": "d9d070f8-c01d-4b41-8ae5-d03f72ef5859",
   "metadata": {},
   "outputs": [
    {
     "name": "stdout",
     "output_type": "stream",
     "text": [
      "Prediction $    32,694  ---  Actual $    29,275\n",
      "Prediction $    72,618  ---  Actual $    70,100\n",
      "Prediction $    62,609  ---  Actual $    63,600\n",
      "Prediction $    31,966  ---  Actual $    36,500\n",
      "Prediction $    27,703  ---  Actual $    26,005\n"
     ]
    }
   ],
   "source": [
    "#print using format\n",
    "for x in range(0,5):\n",
    "    print( \"Prediction ${:10,.0f}  ---  Actual ${:10,.0f}\".format( float(pred[x:x+1]), float(actual[x:x+1]) ) )"
   ]
  },
  {
   "cell_type": "code",
   "execution_count": 586,
   "id": "07f04a80-0272-47ee-ab16-04134a236c69",
   "metadata": {},
   "outputs": [
    {
     "name": "stdout",
     "output_type": "stream",
     "text": [
      "RMSE: $11,297.64\n"
     ]
    }
   ],
   "source": [
    "#predict the test data set based on SCALED values\n",
    "y_pred = model.predict(X_test)\n",
    "\n",
    "#scale predicted and actuals\n",
    "pred = yscaler.inverse_transform( y_pred )\n",
    "actual = yscaler.inverse_transform(y_test)\n",
    "\n",
    "#calculate the Root Mean Squared Error using the scaled values\n",
    "rmse = mean_squared_error(pred,actual,squared=False)\n",
    "print('RMSE: ${:,.2f}'.format( rmse ) )"
   ]
  },
  {
   "cell_type": "code",
   "execution_count": 587,
   "id": "0c10e0f2-e2df-4905-8a04-997ed9931f20",
   "metadata": {},
   "outputs": [
    {
     "data": {
      "text/plain": [
       "array([[41775.3    ],\n",
       "       [  408.79105],\n",
       "       [ 1199.9208 ]], dtype=float32)"
      ]
     },
     "execution_count": 587,
     "metadata": {},
     "output_type": "execute_result"
    }
   ],
   "source": [
    "#carpred.drop(columns=[ \"MSRP\"], inplace = True)\n",
    "X_prepared = full_pipeline.transform(carpred)\n",
    "X_prepared = model.predict(X_prepared[0:3])\n",
    "X_actual = yscaler.inverse_transform(X_prepared)\n",
    "X_actual"
   ]
  }
 ],
 "metadata": {
  "kernelspec": {
   "display_name": "Python 3 (ipykernel)",
   "language": "python",
   "name": "python3"
  },
  "language_info": {
   "codemirror_mode": {
    "name": "ipython",
    "version": 3
   },
   "file_extension": ".py",
   "mimetype": "text/x-python",
   "name": "python",
   "nbconvert_exporter": "python",
   "pygments_lexer": "ipython3",
   "version": "3.9.7"
  }
 },
 "nbformat": 4,
 "nbformat_minor": 5
}
