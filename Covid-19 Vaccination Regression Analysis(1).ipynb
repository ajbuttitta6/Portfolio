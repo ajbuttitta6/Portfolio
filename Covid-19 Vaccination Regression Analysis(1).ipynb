{
 "cells": [
  {
   "cell_type": "markdown",
   "id": "14e0256b-20b4-4d38-923e-44b53de51b32",
   "metadata": {},
   "source": [
    "## COVID Vaccination Regression Analysis\n",
    "#### Anthony Buttitta"
   ]
  },
  {
   "cell_type": "code",
   "execution_count": 52,
   "id": "fcb5c208-ee5f-45c2-8890-72616021763f",
   "metadata": {},
   "outputs": [],
   "source": [
    "#general libraries needed\n",
    "import pandas as pd\n",
    "import numpy as np\n",
    "import matplotlib.pyplot as plt\n",
    "\n",
    "from scipy import stats\n",
    "from scipy.stats import randint\n",
    "\n",
    "#scikit learn imports\n",
    "from sklearn.linear_model import SGDRegressor, LinearRegression, Ridge, Lasso, ElasticNet\n",
    "from sklearn.metrics import mean_squared_error\n",
    "from sklearn.model_selection import train_test_split, GridSearchCV, RandomizedSearchCV, cross_val_score\n",
    "from sklearn.impute import SimpleImputer\n",
    "from sklearn.preprocessing import PolynomialFeatures, OneHotEncoder, StandardScaler\n",
    "from sklearn.compose import ColumnTransformer\n",
    "from sklearn.pipeline import Pipeline\n",
    "from sklearn.tree import DecisionTreeRegressor\n",
    "from sklearn.ensemble import RandomForestRegressor"
   ]
  },
  {
   "cell_type": "code",
   "execution_count": 53,
   "id": "524196b9-40c7-407f-9a29-8b01545f0d85",
   "metadata": {},
   "outputs": [],
   "source": [
    "#function to verify the existence of a file in the current working directory and download it if not\n",
    "import os,urllib, urllib.request, sys, tarfile\n",
    "def downloadDataResource(file,sourcePath,compressed=None):\n",
    "    if not os.path.isfile(file):\n",
    "        try:\n",
    "            urllib.request.urlretrieve(sourcePath+(compressed if compressed else file),(compressed if compressed else file))\n",
    "            print(\"Downloaded\", (compressed if compressed else file) )\n",
    "            if compressed:\n",
    "                ucomp = tarfile.open(compressed)\n",
    "                ucomp.extractall()\n",
    "                ucomp.close()\n",
    "                print(\"File uncompressed.\")\n",
    "        except:\n",
    "            print(\"ERROR: File\", (compressed if compressed else file), \"not found. Data source missing.\")\n",
    "    else:\n",
    "        print(\"Data resource\", file, \"already downloaded.\")"
   ]
  },
  {
   "cell_type": "code",
   "execution_count": 54,
   "id": "01adb720-df9c-4d35-a5db-fb015d7503b3",
   "metadata": {},
   "outputs": [],
   "source": [
    "#function that shows a learning curve for any model that has predict or fit methods\n",
    "from sklearn.model_selection import learning_curve\n",
    "\n",
    "def plot_learning_curve(estimator,X,y,ylim=None,cv=None,n_jobs=None,train_sizes=np.linspace(0.1, 1.0, 20),scoring = 'neg_root_mean_squared_error'):\n",
    "    \n",
    "    _, axes = plt.subplots(1, 1, figsize=(10, 5))    \n",
    "    axes.set_title('Learning Curve')\n",
    "    if ylim is not None:\n",
    "        axes.set_ylim(*ylim)\n",
    "    axes.set_xlabel(\"Training examples\")\n",
    "    axes.set_ylabel(scoring)\n",
    "\n",
    "    train_sizes, train_scores, test_scores= learning_curve(estimator,X,y,cv=cv,n_jobs=n_jobs,train_sizes=train_sizes,scoring = scoring)\n",
    "    train_scores_mean = np.mean(train_scores, axis=1)\n",
    "    train_scores_std = np.std(train_scores, axis=1)\n",
    "    test_scores_mean = np.mean(test_scores, axis=1)\n",
    "    test_scores_std = np.std(test_scores, axis=1)\n",
    "\n",
    "    # Plot learning curve\n",
    "    axes.grid()\n",
    "    axes.fill_between(train_sizes,train_scores_mean - train_scores_std,train_scores_mean + train_scores_std,alpha=0.1,color=\"r\")\n",
    "    axes.fill_between(train_sizes,test_scores_mean - test_scores_std,test_scores_mean + test_scores_std,alpha=0.1,color=\"g\")\n",
    "    axes.plot(train_sizes, train_scores_mean, \"o-\", color=\"r\", label=\"Training score\")\n",
    "    axes.plot(train_sizes, test_scores_mean, \"o-\", color=\"g\", label=\"Cross-validation score\")\n",
    "    axes.legend(loc=\"best\")\n",
    "    plt.show()\n",
    "    \n",
    "    return\n",
    "\n",
    "#code to prevent warnings that can occur as a result of this function\n",
    "from warnings import simplefilter\n",
    "from sklearn.exceptions import ConvergenceWarning"
   ]
  },
  {
   "cell_type": "code",
   "execution_count": 55,
   "id": "c068cb79-3fc3-43f4-88c1-055965cdbcee",
   "metadata": {},
   "outputs": [
    {
     "name": "stdout",
     "output_type": "stream",
     "text": [
      "Data resource COVID_31Dec2021.csv already downloaded.\n"
     ]
    }
   ],
   "source": [
    "path = \"https://raw.githubusercontent.com/SueMcMetzger/MachineLearning/main/chpt4/\"\n",
    "\n",
    "#compressedfile = \"housing.tgz\"\n",
    "filename = 'COVID_31Dec2021.csv'\n",
    "\n",
    "#download data files if not currently downloaded into the current working directory\n",
    "downloadDataResource(filename, path)\n",
    "\n",
    "#create the dataframe\n",
    "covid = pd.read_csv(filename)"
   ]
  },
  {
   "cell_type": "code",
   "execution_count": 56,
   "id": "fb81f47e-0c39-4eef-8103-e8543a378a8a",
   "metadata": {},
   "outputs": [
    {
     "name": "stdout",
     "output_type": "stream",
     "text": [
      "Data resource ElectionEconomicSocialDataByFIPS.csv already downloaded.\n"
     ]
    }
   ],
   "source": [
    "filename2 = \"ElectionEconomicSocialDataByFIPS.csv\"\n",
    "\n",
    "#download data files if not currently downloaded into the current working directory\n",
    "downloadDataResource(filename2, path)\n",
    "\n",
    "#create the dataframe\n",
    "fips = pd.read_csv(filename2)"
   ]
  },
  {
   "cell_type": "code",
   "execution_count": 57,
   "id": "49576ce0-ac66-4333-86ea-4bd288e7aa58",
   "metadata": {},
   "outputs": [],
   "source": [
    "data = pd.merge(covid, fips, left_on='fips', right_on='fips', how='inner')"
   ]
  },
  {
   "cell_type": "code",
   "execution_count": 58,
   "id": "e5708a0b-8ddd-47c4-a364-cb0fdad9b932",
   "metadata": {},
   "outputs": [
    {
     "name": "stdout",
     "output_type": "stream",
     "text": [
      "<class 'pandas.core.frame.DataFrame'>\n",
      "Int64Index: 3140 entries, 0 to 3139\n",
      "Data columns (total 19 columns):\n",
      " #   Column            Non-Null Count  Dtype  \n",
      "---  ------            --------------  -----  \n",
      " 0   fips              3140 non-null   int64  \n",
      " 1   state             3140 non-null   object \n",
      " 2   county            3140 non-null   object \n",
      " 3   population        3140 non-null   int64  \n",
      " 4   vaccinationRate   3007 non-null   float64\n",
      " 5   cases             3140 non-null   int64  \n",
      " 6   deaths            3140 non-null   int64  \n",
      " 7   Region            3140 non-null   object \n",
      " 8   MedianIncome      3140 non-null   int64  \n",
      " 9   PovertyEst        3140 non-null   int64  \n",
      " 10  LaborForce        3140 non-null   int64  \n",
      " 11  UnemploymentRate  3140 non-null   float64\n",
      " 12  Older             3004 non-null   float64\n",
      " 13  Urban             3004 non-null   float64\n",
      " 14  Trump2016         3004 non-null   float64\n",
      " 15  Trump2020         3004 non-null   float64\n",
      " 16  RepGov            3004 non-null   float64\n",
      " 17  Female            3004 non-null   float64\n",
      " 18  AdherentPercent   3111 non-null   float64\n",
      "dtypes: float64(9), int64(7), object(3)\n",
      "memory usage: 490.6+ KB\n"
     ]
    }
   ],
   "source": [
    "data.info()"
   ]
  },
  {
   "cell_type": "code",
   "execution_count": 59,
   "id": "f92880ef-beed-4ede-a546-f707b1139e55",
   "metadata": {},
   "outputs": [],
   "source": [
    "data.dropna( subset=['vaccinationRate'], inplace=True )"
   ]
  },
  {
   "cell_type": "code",
   "execution_count": 60,
   "id": "aa223ed9-7cce-4eee-8944-4170042dde1e",
   "metadata": {},
   "outputs": [
    {
     "name": "stdout",
     "output_type": "stream",
     "text": [
      "<class 'pandas.core.frame.DataFrame'>\n",
      "Int64Index: 3007 entries, 0 to 3139\n",
      "Data columns (total 19 columns):\n",
      " #   Column            Non-Null Count  Dtype  \n",
      "---  ------            --------------  -----  \n",
      " 0   fips              3007 non-null   int64  \n",
      " 1   state             3007 non-null   object \n",
      " 2   county            3007 non-null   object \n",
      " 3   population        3007 non-null   int64  \n",
      " 4   vaccinationRate   3007 non-null   float64\n",
      " 5   cases             3007 non-null   int64  \n",
      " 6   deaths            3007 non-null   int64  \n",
      " 7   Region            3007 non-null   object \n",
      " 8   MedianIncome      3007 non-null   int64  \n",
      " 9   PovertyEst        3007 non-null   int64  \n",
      " 10  LaborForce        3007 non-null   int64  \n",
      " 11  UnemploymentRate  3007 non-null   float64\n",
      " 12  Older             2873 non-null   float64\n",
      " 13  Urban             2873 non-null   float64\n",
      " 14  Trump2016         2873 non-null   float64\n",
      " 15  Trump2020         2873 non-null   float64\n",
      " 16  RepGov            2873 non-null   float64\n",
      " 17  Female            2873 non-null   float64\n",
      " 18  AdherentPercent   2979 non-null   float64\n",
      "dtypes: float64(9), int64(7), object(3)\n",
      "memory usage: 469.8+ KB\n"
     ]
    }
   ],
   "source": [
    "data.info()"
   ]
  },
  {
   "cell_type": "code",
   "execution_count": 61,
   "id": "3034e761-21c8-4bf3-b5df-0640e42bd58d",
   "metadata": {},
   "outputs": [
    {
     "data": {
      "text/html": [
       "<div>\n",
       "<style scoped>\n",
       "    .dataframe tbody tr th:only-of-type {\n",
       "        vertical-align: middle;\n",
       "    }\n",
       "\n",
       "    .dataframe tbody tr th {\n",
       "        vertical-align: top;\n",
       "    }\n",
       "\n",
       "    .dataframe thead th {\n",
       "        text-align: right;\n",
       "    }\n",
       "</style>\n",
       "<table border=\"1\" class=\"dataframe\">\n",
       "  <thead>\n",
       "    <tr style=\"text-align: right;\">\n",
       "      <th></th>\n",
       "      <th>fips</th>\n",
       "      <th>population</th>\n",
       "      <th>vaccinationRate</th>\n",
       "      <th>cases</th>\n",
       "      <th>deaths</th>\n",
       "      <th>MedianIncome</th>\n",
       "      <th>PovertyEst</th>\n",
       "      <th>LaborForce</th>\n",
       "      <th>UnemploymentRate</th>\n",
       "      <th>Older</th>\n",
       "      <th>Urban</th>\n",
       "      <th>Trump2016</th>\n",
       "      <th>Trump2020</th>\n",
       "      <th>RepGov</th>\n",
       "      <th>Female</th>\n",
       "      <th>AdherentPercent</th>\n",
       "    </tr>\n",
       "  </thead>\n",
       "  <tbody>\n",
       "    <tr>\n",
       "      <th>count</th>\n",
       "      <td>3007.000000</td>\n",
       "      <td>3.007000e+03</td>\n",
       "      <td>3007.000000</td>\n",
       "      <td>3007.000000</td>\n",
       "      <td>3007.000000</td>\n",
       "      <td>3007.000000</td>\n",
       "      <td>3007.000000</td>\n",
       "      <td>3.007000e+03</td>\n",
       "      <td>3007.000000</td>\n",
       "      <td>2873.000000</td>\n",
       "      <td>2873.000000</td>\n",
       "      <td>2873.000000</td>\n",
       "      <td>2873.000000</td>\n",
       "      <td>2873.000000</td>\n",
       "      <td>2873.000000</td>\n",
       "      <td>2979.000000</td>\n",
       "    </tr>\n",
       "    <tr>\n",
       "      <th>mean</th>\n",
       "      <td>30999.837712</td>\n",
       "      <td>9.387461e+04</td>\n",
       "      <td>0.483812</td>\n",
       "      <td>15781.871633</td>\n",
       "      <td>242.287662</td>\n",
       "      <td>57009.589957</td>\n",
       "      <td>11070.285002</td>\n",
       "      <td>4.602749e+04</td>\n",
       "      <td>6.708547</td>\n",
       "      <td>17.143862</td>\n",
       "      <td>40.924800</td>\n",
       "      <td>64.300695</td>\n",
       "      <td>65.613778</td>\n",
       "      <td>0.599025</td>\n",
       "      <td>0.172990</td>\n",
       "      <td>51.804811</td>\n",
       "    </tr>\n",
       "    <tr>\n",
       "      <th>std</th>\n",
       "      <td>14947.496624</td>\n",
       "      <td>2.596490e+05</td>\n",
       "      <td>0.115351</td>\n",
       "      <td>44799.188745</td>\n",
       "      <td>698.015484</td>\n",
       "      <td>14199.762603</td>\n",
       "      <td>33416.318042</td>\n",
       "      <td>1.309762e+05</td>\n",
       "      <td>2.249145</td>\n",
       "      <td>4.277575</td>\n",
       "      <td>31.205376</td>\n",
       "      <td>15.246334</td>\n",
       "      <td>15.690204</td>\n",
       "      <td>0.490181</td>\n",
       "      <td>0.378304</td>\n",
       "      <td>17.980302</td>\n",
       "    </tr>\n",
       "    <tr>\n",
       "      <th>min</th>\n",
       "      <td>1001.000000</td>\n",
       "      <td>1.690000e+02</td>\n",
       "      <td>0.030000</td>\n",
       "      <td>0.000000</td>\n",
       "      <td>0.000000</td>\n",
       "      <td>22901.000000</td>\n",
       "      <td>7.000000</td>\n",
       "      <td>1.840000e+02</td>\n",
       "      <td>1.700000</td>\n",
       "      <td>4.691211</td>\n",
       "      <td>0.000000</td>\n",
       "      <td>8.342566</td>\n",
       "      <td>8.730038</td>\n",
       "      <td>0.000000</td>\n",
       "      <td>0.000000</td>\n",
       "      <td>3.064889</td>\n",
       "    </tr>\n",
       "    <tr>\n",
       "      <th>25%</th>\n",
       "      <td>19136.000000</td>\n",
       "      <td>1.088200e+04</td>\n",
       "      <td>0.405000</td>\n",
       "      <td>1884.000000</td>\n",
       "      <td>34.000000</td>\n",
       "      <td>47552.000000</td>\n",
       "      <td>1445.500000</td>\n",
       "      <td>4.826500e+03</td>\n",
       "      <td>5.200000</td>\n",
       "      <td>14.498830</td>\n",
       "      <td>11.810000</td>\n",
       "      <td>55.908450</td>\n",
       "      <td>56.697390</td>\n",
       "      <td>0.000000</td>\n",
       "      <td>0.000000</td>\n",
       "      <td>39.051889</td>\n",
       "    </tr>\n",
       "    <tr>\n",
       "      <th>50%</th>\n",
       "      <td>30027.000000</td>\n",
       "      <td>2.547400e+04</td>\n",
       "      <td>0.474000</td>\n",
       "      <td>4497.000000</td>\n",
       "      <td>80.000000</td>\n",
       "      <td>54857.000000</td>\n",
       "      <td>3439.000000</td>\n",
       "      <td>1.130400e+04</td>\n",
       "      <td>6.500000</td>\n",
       "      <td>16.782250</td>\n",
       "      <td>39.930000</td>\n",
       "      <td>67.355440</td>\n",
       "      <td>68.866920</td>\n",
       "      <td>1.000000</td>\n",
       "      <td>0.000000</td>\n",
       "      <td>50.243000</td>\n",
       "    </tr>\n",
       "    <tr>\n",
       "      <th>75%</th>\n",
       "      <td>46030.000000</td>\n",
       "      <td>6.660750e+04</td>\n",
       "      <td>0.551000</td>\n",
       "      <td>11491.000000</td>\n",
       "      <td>189.000000</td>\n",
       "      <td>63647.500000</td>\n",
       "      <td>8217.000000</td>\n",
       "      <td>3.017950e+04</td>\n",
       "      <td>8.000000</td>\n",
       "      <td>19.268550</td>\n",
       "      <td>65.570000</td>\n",
       "      <td>75.467840</td>\n",
       "      <td>77.595630</td>\n",
       "      <td>1.000000</td>\n",
       "      <td>0.000000</td>\n",
       "      <td>62.599944</td>\n",
       "    </tr>\n",
       "    <tr>\n",
       "      <th>max</th>\n",
       "      <td>56045.000000</td>\n",
       "      <td>5.150233e+06</td>\n",
       "      <td>1.304000</td>\n",
       "      <td>870352.000000</td>\n",
       "      <td>13675.000000</td>\n",
       "      <td>160305.000000</td>\n",
       "      <td>747146.000000</td>\n",
       "      <td>2.539907e+06</td>\n",
       "      <td>21.500000</td>\n",
       "      <td>55.481680</td>\n",
       "      <td>100.000000</td>\n",
       "      <td>95.272730</td>\n",
       "      <td>96.181820</td>\n",
       "      <td>1.000000</td>\n",
       "      <td>1.000000</td>\n",
       "      <td>192.460889</td>\n",
       "    </tr>\n",
       "  </tbody>\n",
       "</table>\n",
       "</div>"
      ],
      "text/plain": [
       "               fips    population  vaccinationRate          cases  \\\n",
       "count   3007.000000  3.007000e+03      3007.000000    3007.000000   \n",
       "mean   30999.837712  9.387461e+04         0.483812   15781.871633   \n",
       "std    14947.496624  2.596490e+05         0.115351   44799.188745   \n",
       "min     1001.000000  1.690000e+02         0.030000       0.000000   \n",
       "25%    19136.000000  1.088200e+04         0.405000    1884.000000   \n",
       "50%    30027.000000  2.547400e+04         0.474000    4497.000000   \n",
       "75%    46030.000000  6.660750e+04         0.551000   11491.000000   \n",
       "max    56045.000000  5.150233e+06         1.304000  870352.000000   \n",
       "\n",
       "             deaths   MedianIncome     PovertyEst    LaborForce  \\\n",
       "count   3007.000000    3007.000000    3007.000000  3.007000e+03   \n",
       "mean     242.287662   57009.589957   11070.285002  4.602749e+04   \n",
       "std      698.015484   14199.762603   33416.318042  1.309762e+05   \n",
       "min        0.000000   22901.000000       7.000000  1.840000e+02   \n",
       "25%       34.000000   47552.000000    1445.500000  4.826500e+03   \n",
       "50%       80.000000   54857.000000    3439.000000  1.130400e+04   \n",
       "75%      189.000000   63647.500000    8217.000000  3.017950e+04   \n",
       "max    13675.000000  160305.000000  747146.000000  2.539907e+06   \n",
       "\n",
       "       UnemploymentRate        Older        Urban    Trump2016    Trump2020  \\\n",
       "count       3007.000000  2873.000000  2873.000000  2873.000000  2873.000000   \n",
       "mean           6.708547    17.143862    40.924800    64.300695    65.613778   \n",
       "std            2.249145     4.277575    31.205376    15.246334    15.690204   \n",
       "min            1.700000     4.691211     0.000000     8.342566     8.730038   \n",
       "25%            5.200000    14.498830    11.810000    55.908450    56.697390   \n",
       "50%            6.500000    16.782250    39.930000    67.355440    68.866920   \n",
       "75%            8.000000    19.268550    65.570000    75.467840    77.595630   \n",
       "max           21.500000    55.481680   100.000000    95.272730    96.181820   \n",
       "\n",
       "            RepGov       Female  AdherentPercent  \n",
       "count  2873.000000  2873.000000      2979.000000  \n",
       "mean      0.599025     0.172990        51.804811  \n",
       "std       0.490181     0.378304        17.980302  \n",
       "min       0.000000     0.000000         3.064889  \n",
       "25%       0.000000     0.000000        39.051889  \n",
       "50%       1.000000     0.000000        50.243000  \n",
       "75%       1.000000     0.000000        62.599944  \n",
       "max       1.000000     1.000000       192.460889  "
      ]
     },
     "execution_count": 61,
     "metadata": {},
     "output_type": "execute_result"
    }
   ],
   "source": [
    "data.describe()"
   ]
  },
  {
   "cell_type": "code",
   "execution_count": 62,
   "id": "d48d0d11-443f-41f3-809f-ac690252767b",
   "metadata": {},
   "outputs": [
    {
     "data": {
      "text/plain": [
       "<AxesSubplot:>"
      ]
     },
     "execution_count": 62,
     "metadata": {},
     "output_type": "execute_result"
    },
    {
     "data": {
      "image/png": "[encoded data removed]",
      "text/plain": [
       "<Figure size 432x288 with 1 Axes>"
      ]
     },
     "metadata": {
      "needs_background": "light"
     },
     "output_type": "display_data"
    }
   ],
   "source": [
    "data.vaccinationRate.hist()"
   ]
  },
  {
   "cell_type": "code",
   "execution_count": 63,
   "id": "5d42f5b1-5c39-4420-ba9a-428e9c68950a",
   "metadata": {},
   "outputs": [
    {
     "name": "stdout",
     "output_type": "stream",
     "text": [
      "<class 'pandas.core.frame.DataFrame'>\n",
      "Int64Index: 3007 entries, 0 to 3139\n",
      "Data columns (total 19 columns):\n",
      " #   Column            Non-Null Count  Dtype  \n",
      "---  ------            --------------  -----  \n",
      " 0   fips              3007 non-null   int64  \n",
      " 1   state             3007 non-null   object \n",
      " 2   county            3007 non-null   object \n",
      " 3   population        3007 non-null   int64  \n",
      " 4   vaccinationRate   3007 non-null   float64\n",
      " 5   cases             3007 non-null   int64  \n",
      " 6   deaths            3007 non-null   int64  \n",
      " 7   Region            3007 non-null   object \n",
      " 8   MedianIncome      3007 non-null   int64  \n",
      " 9   PovertyEst        3007 non-null   int64  \n",
      " 10  LaborForce        3007 non-null   int64  \n",
      " 11  UnemploymentRate  3007 non-null   float64\n",
      " 12  Older             2873 non-null   float64\n",
      " 13  Urban             2873 non-null   float64\n",
      " 14  Trump2016         2873 non-null   float64\n",
      " 15  Trump2020         2873 non-null   float64\n",
      " 16  RepGov            2873 non-null   float64\n",
      " 17  Female            2873 non-null   float64\n",
      " 18  AdherentPercent   2979 non-null   float64\n",
      "dtypes: float64(9), int64(7), object(3)\n",
      "memory usage: 469.8+ KB\n"
     ]
    }
   ],
   "source": [
    "data.info()"
   ]
  },
  {
   "cell_type": "code",
   "execution_count": 64,
   "id": "48ed3495-f2da-4e3f-a0fd-51c085443d67",
   "metadata": {},
   "outputs": [
    {
     "data": {
      "text/html": [
       "<div>\n",
       "<style scoped>\n",
       "    .dataframe tbody tr th:only-of-type {\n",
       "        vertical-align: middle;\n",
       "    }\n",
       "\n",
       "    .dataframe tbody tr th {\n",
       "        vertical-align: top;\n",
       "    }\n",
       "\n",
       "    .dataframe thead th {\n",
       "        text-align: right;\n",
       "    }\n",
       "</style>\n",
       "<table border=\"1\" class=\"dataframe\">\n",
       "  <thead>\n",
       "    <tr style=\"text-align: right;\">\n",
       "      <th></th>\n",
       "      <th>fips</th>\n",
       "      <th>population</th>\n",
       "      <th>vaccinationRate</th>\n",
       "      <th>cases</th>\n",
       "      <th>deaths</th>\n",
       "      <th>MedianIncome</th>\n",
       "      <th>PovertyEst</th>\n",
       "      <th>LaborForce</th>\n",
       "      <th>UnemploymentRate</th>\n",
       "      <th>Older</th>\n",
       "      <th>Urban</th>\n",
       "      <th>Trump2016</th>\n",
       "      <th>Trump2020</th>\n",
       "      <th>RepGov</th>\n",
       "      <th>Female</th>\n",
       "      <th>AdherentPercent</th>\n",
       "    </tr>\n",
       "  </thead>\n",
       "  <tbody>\n",
       "    <tr>\n",
       "      <th>count</th>\n",
       "      <td>3007.000000</td>\n",
       "      <td>3.007000e+03</td>\n",
       "      <td>3007.000000</td>\n",
       "      <td>3007.000000</td>\n",
       "      <td>3007.000000</td>\n",
       "      <td>3007.000000</td>\n",
       "      <td>3007.000000</td>\n",
       "      <td>3.007000e+03</td>\n",
       "      <td>3007.000000</td>\n",
       "      <td>2873.000000</td>\n",
       "      <td>2873.000000</td>\n",
       "      <td>2873.000000</td>\n",
       "      <td>2873.000000</td>\n",
       "      <td>2873.000000</td>\n",
       "      <td>2873.000000</td>\n",
       "      <td>2979.000000</td>\n",
       "    </tr>\n",
       "    <tr>\n",
       "      <th>mean</th>\n",
       "      <td>30999.837712</td>\n",
       "      <td>9.387461e+04</td>\n",
       "      <td>0.483812</td>\n",
       "      <td>15781.871633</td>\n",
       "      <td>242.287662</td>\n",
       "      <td>57009.589957</td>\n",
       "      <td>11070.285002</td>\n",
       "      <td>4.602749e+04</td>\n",
       "      <td>6.708547</td>\n",
       "      <td>17.143862</td>\n",
       "      <td>40.924800</td>\n",
       "      <td>64.300695</td>\n",
       "      <td>65.613778</td>\n",
       "      <td>0.599025</td>\n",
       "      <td>0.172990</td>\n",
       "      <td>51.804811</td>\n",
       "    </tr>\n",
       "    <tr>\n",
       "      <th>std</th>\n",
       "      <td>14947.496624</td>\n",
       "      <td>2.596490e+05</td>\n",
       "      <td>0.115351</td>\n",
       "      <td>44799.188745</td>\n",
       "      <td>698.015484</td>\n",
       "      <td>14199.762603</td>\n",
       "      <td>33416.318042</td>\n",
       "      <td>1.309762e+05</td>\n",
       "      <td>2.249145</td>\n",
       "      <td>4.277575</td>\n",
       "      <td>31.205376</td>\n",
       "      <td>15.246334</td>\n",
       "      <td>15.690204</td>\n",
       "      <td>0.490181</td>\n",
       "      <td>0.378304</td>\n",
       "      <td>17.980302</td>\n",
       "    </tr>\n",
       "    <tr>\n",
       "      <th>min</th>\n",
       "      <td>1001.000000</td>\n",
       "      <td>1.690000e+02</td>\n",
       "      <td>0.030000</td>\n",
       "      <td>0.000000</td>\n",
       "      <td>0.000000</td>\n",
       "      <td>22901.000000</td>\n",
       "      <td>7.000000</td>\n",
       "      <td>1.840000e+02</td>\n",
       "      <td>1.700000</td>\n",
       "      <td>4.691211</td>\n",
       "      <td>0.000000</td>\n",
       "      <td>8.342566</td>\n",
       "      <td>8.730038</td>\n",
       "      <td>0.000000</td>\n",
       "      <td>0.000000</td>\n",
       "      <td>3.064889</td>\n",
       "    </tr>\n",
       "    <tr>\n",
       "      <th>25%</th>\n",
       "      <td>19136.000000</td>\n",
       "      <td>1.088200e+04</td>\n",
       "      <td>0.405000</td>\n",
       "      <td>1884.000000</td>\n",
       "      <td>34.000000</td>\n",
       "      <td>47552.000000</td>\n",
       "      <td>1445.500000</td>\n",
       "      <td>4.826500e+03</td>\n",
       "      <td>5.200000</td>\n",
       "      <td>14.498830</td>\n",
       "      <td>11.810000</td>\n",
       "      <td>55.908450</td>\n",
       "      <td>56.697390</td>\n",
       "      <td>0.000000</td>\n",
       "      <td>0.000000</td>\n",
       "      <td>39.051889</td>\n",
       "    </tr>\n",
       "    <tr>\n",
       "      <th>50%</th>\n",
       "      <td>30027.000000</td>\n",
       "      <td>2.547400e+04</td>\n",
       "      <td>0.474000</td>\n",
       "      <td>4497.000000</td>\n",
       "      <td>80.000000</td>\n",
       "      <td>54857.000000</td>\n",
       "      <td>3439.000000</td>\n",
       "      <td>1.130400e+04</td>\n",
       "      <td>6.500000</td>\n",
       "      <td>16.782250</td>\n",
       "      <td>39.930000</td>\n",
       "      <td>67.355440</td>\n",
       "      <td>68.866920</td>\n",
       "      <td>1.000000</td>\n",
       "      <td>0.000000</td>\n",
       "      <td>50.243000</td>\n",
       "    </tr>\n",
       "    <tr>\n",
       "      <th>75%</th>\n",
       "      <td>46030.000000</td>\n",
       "      <td>6.660750e+04</td>\n",
       "      <td>0.551000</td>\n",
       "      <td>11491.000000</td>\n",
       "      <td>189.000000</td>\n",
       "      <td>63647.500000</td>\n",
       "      <td>8217.000000</td>\n",
       "      <td>3.017950e+04</td>\n",
       "      <td>8.000000</td>\n",
       "      <td>19.268550</td>\n",
       "      <td>65.570000</td>\n",
       "      <td>75.467840</td>\n",
       "      <td>77.595630</td>\n",
       "      <td>1.000000</td>\n",
       "      <td>0.000000</td>\n",
       "      <td>62.599944</td>\n",
       "    </tr>\n",
       "    <tr>\n",
       "      <th>max</th>\n",
       "      <td>56045.000000</td>\n",
       "      <td>5.150233e+06</td>\n",
       "      <td>1.304000</td>\n",
       "      <td>870352.000000</td>\n",
       "      <td>13675.000000</td>\n",
       "      <td>160305.000000</td>\n",
       "      <td>747146.000000</td>\n",
       "      <td>2.539907e+06</td>\n",
       "      <td>21.500000</td>\n",
       "      <td>55.481680</td>\n",
       "      <td>100.000000</td>\n",
       "      <td>95.272730</td>\n",
       "      <td>96.181820</td>\n",
       "      <td>1.000000</td>\n",
       "      <td>1.000000</td>\n",
       "      <td>192.460889</td>\n",
       "    </tr>\n",
       "  </tbody>\n",
       "</table>\n",
       "</div>"
      ],
      "text/plain": [
       "               fips    population  vaccinationRate          cases  \\\n",
       "count   3007.000000  3.007000e+03      3007.000000    3007.000000   \n",
       "mean   30999.837712  9.387461e+04         0.483812   15781.871633   \n",
       "std    14947.496624  2.596490e+05         0.115351   44799.188745   \n",
       "min     1001.000000  1.690000e+02         0.030000       0.000000   \n",
       "25%    19136.000000  1.088200e+04         0.405000    1884.000000   \n",
       "50%    30027.000000  2.547400e+04         0.474000    4497.000000   \n",
       "75%    46030.000000  6.660750e+04         0.551000   11491.000000   \n",
       "max    56045.000000  5.150233e+06         1.304000  870352.000000   \n",
       "\n",
       "             deaths   MedianIncome     PovertyEst    LaborForce  \\\n",
       "count   3007.000000    3007.000000    3007.000000  3.007000e+03   \n",
       "mean     242.287662   57009.589957   11070.285002  4.602749e+04   \n",
       "std      698.015484   14199.762603   33416.318042  1.309762e+05   \n",
       "min        0.000000   22901.000000       7.000000  1.840000e+02   \n",
       "25%       34.000000   47552.000000    1445.500000  4.826500e+03   \n",
       "50%       80.000000   54857.000000    3439.000000  1.130400e+04   \n",
       "75%      189.000000   63647.500000    8217.000000  3.017950e+04   \n",
       "max    13675.000000  160305.000000  747146.000000  2.539907e+06   \n",
       "\n",
       "       UnemploymentRate        Older        Urban    Trump2016    Trump2020  \\\n",
       "count       3007.000000  2873.000000  2873.000000  2873.000000  2873.000000   \n",
       "mean           6.708547    17.143862    40.924800    64.300695    65.613778   \n",
       "std            2.249145     4.277575    31.205376    15.246334    15.690204   \n",
       "min            1.700000     4.691211     0.000000     8.342566     8.730038   \n",
       "25%            5.200000    14.498830    11.810000    55.908450    56.697390   \n",
       "50%            6.500000    16.782250    39.930000    67.355440    68.866920   \n",
       "75%            8.000000    19.268550    65.570000    75.467840    77.595630   \n",
       "max           21.500000    55.481680   100.000000    95.272730    96.181820   \n",
       "\n",
       "            RepGov       Female  AdherentPercent  \n",
       "count  2873.000000  2873.000000      2979.000000  \n",
       "mean      0.599025     0.172990        51.804811  \n",
       "std       0.490181     0.378304        17.980302  \n",
       "min       0.000000     0.000000         3.064889  \n",
       "25%       0.000000     0.000000        39.051889  \n",
       "50%       1.000000     0.000000        50.243000  \n",
       "75%       1.000000     0.000000        62.599944  \n",
       "max       1.000000     1.000000       192.460889  "
      ]
     },
     "execution_count": 64,
     "metadata": {},
     "output_type": "execute_result"
    }
   ],
   "source": [
    "data.describe()"
   ]
  },
  {
   "cell_type": "code",
   "execution_count": 65,
   "id": "c2d15062-8c63-453a-9a5b-ee11c2820592",
   "metadata": {},
   "outputs": [
    {
     "data": {
      "text/html": [
       "<div>\n",
       "<style scoped>\n",
       "    .dataframe tbody tr th:only-of-type {\n",
       "        vertical-align: middle;\n",
       "    }\n",
       "\n",
       "    .dataframe tbody tr th {\n",
       "        vertical-align: top;\n",
       "    }\n",
       "\n",
       "    .dataframe thead th {\n",
       "        text-align: right;\n",
       "    }\n",
       "</style>\n",
       "<table border=\"1\" class=\"dataframe\">\n",
       "  <thead>\n",
       "    <tr style=\"text-align: right;\">\n",
       "      <th></th>\n",
       "      <th>fips</th>\n",
       "      <th>population</th>\n",
       "      <th>vaccinationRate</th>\n",
       "      <th>cases</th>\n",
       "      <th>deaths</th>\n",
       "      <th>MedianIncome</th>\n",
       "      <th>PovertyEst</th>\n",
       "      <th>LaborForce</th>\n",
       "      <th>UnemploymentRate</th>\n",
       "      <th>Older</th>\n",
       "      <th>Urban</th>\n",
       "      <th>Trump2016</th>\n",
       "      <th>Trump2020</th>\n",
       "      <th>RepGov</th>\n",
       "      <th>Female</th>\n",
       "      <th>AdherentPercent</th>\n",
       "    </tr>\n",
       "  </thead>\n",
       "  <tbody>\n",
       "    <tr>\n",
       "      <th>fips</th>\n",
       "      <td>1.000000</td>\n",
       "      <td>-0.007849</td>\n",
       "      <td>0.056759</td>\n",
       "      <td>-0.021254</td>\n",
       "      <td>-0.029380</td>\n",
       "      <td>0.076530</td>\n",
       "      <td>-0.012729</td>\n",
       "      <td>-0.005963</td>\n",
       "      <td>0.063757</td>\n",
       "      <td>0.032904</td>\n",
       "      <td>0.018379</td>\n",
       "      <td>0.024215</td>\n",
       "      <td>0.036793</td>\n",
       "      <td>-0.098324</td>\n",
       "      <td>-0.208806</td>\n",
       "      <td>0.040285</td>\n",
       "    </tr>\n",
       "    <tr>\n",
       "      <th>population</th>\n",
       "      <td>-0.007849</td>\n",
       "      <td>1.000000</td>\n",
       "      <td>0.306240</td>\n",
       "      <td>0.969726</td>\n",
       "      <td>0.941232</td>\n",
       "      <td>0.290824</td>\n",
       "      <td>0.953256</td>\n",
       "      <td>0.997465</td>\n",
       "      <td>0.182668</td>\n",
       "      <td>-0.249972</td>\n",
       "      <td>0.446356</td>\n",
       "      <td>-0.374972</td>\n",
       "      <td>-0.390326</td>\n",
       "      <td>-0.043686</td>\n",
       "      <td>-0.058617</td>\n",
       "      <td>-0.052203</td>\n",
       "    </tr>\n",
       "    <tr>\n",
       "      <th>vaccinationRate</th>\n",
       "      <td>0.056759</td>\n",
       "      <td>0.306240</td>\n",
       "      <td>1.000000</td>\n",
       "      <td>0.279379</td>\n",
       "      <td>0.249064</td>\n",
       "      <td>0.425795</td>\n",
       "      <td>0.240990</td>\n",
       "      <td>0.312665</td>\n",
       "      <td>0.232792</td>\n",
       "      <td>-0.090385</td>\n",
       "      <td>0.413451</td>\n",
       "      <td>-0.654104</td>\n",
       "      <td>-0.672125</td>\n",
       "      <td>-0.315744</td>\n",
       "      <td>0.070089</td>\n",
       "      <td>-0.073861</td>\n",
       "    </tr>\n",
       "    <tr>\n",
       "      <th>cases</th>\n",
       "      <td>-0.021254</td>\n",
       "      <td>0.969726</td>\n",
       "      <td>0.279379</td>\n",
       "      <td>1.000000</td>\n",
       "      <td>0.954770</td>\n",
       "      <td>0.253761</td>\n",
       "      <td>0.934283</td>\n",
       "      <td>0.963499</td>\n",
       "      <td>0.178942</td>\n",
       "      <td>-0.240088</td>\n",
       "      <td>0.429491</td>\n",
       "      <td>-0.341956</td>\n",
       "      <td>-0.352300</td>\n",
       "      <td>-0.028869</td>\n",
       "      <td>-0.059775</td>\n",
       "      <td>-0.038529</td>\n",
       "    </tr>\n",
       "    <tr>\n",
       "      <th>deaths</th>\n",
       "      <td>-0.029380</td>\n",
       "      <td>0.941232</td>\n",
       "      <td>0.249064</td>\n",
       "      <td>0.954770</td>\n",
       "      <td>1.000000</td>\n",
       "      <td>0.196630</td>\n",
       "      <td>0.939198</td>\n",
       "      <td>0.925228</td>\n",
       "      <td>0.217032</td>\n",
       "      <td>-0.196910</td>\n",
       "      <td>0.404757</td>\n",
       "      <td>-0.326846</td>\n",
       "      <td>-0.334261</td>\n",
       "      <td>-0.024062</td>\n",
       "      <td>-0.057963</td>\n",
       "      <td>-0.033065</td>\n",
       "    </tr>\n",
       "    <tr>\n",
       "      <th>MedianIncome</th>\n",
       "      <td>0.076530</td>\n",
       "      <td>0.290824</td>\n",
       "      <td>0.425795</td>\n",
       "      <td>0.253761</td>\n",
       "      <td>0.196630</td>\n",
       "      <td>1.000000</td>\n",
       "      <td>0.149157</td>\n",
       "      <td>0.309645</td>\n",
       "      <td>-0.158805</td>\n",
       "      <td>-0.302898</td>\n",
       "      <td>0.390442</td>\n",
       "      <td>-0.196238</td>\n",
       "      <td>-0.244330</td>\n",
       "      <td>-0.157680</td>\n",
       "      <td>-0.016614</td>\n",
       "      <td>-0.052703</td>\n",
       "    </tr>\n",
       "    <tr>\n",
       "      <th>PovertyEst</th>\n",
       "      <td>-0.012729</td>\n",
       "      <td>0.953256</td>\n",
       "      <td>0.240990</td>\n",
       "      <td>0.934283</td>\n",
       "      <td>0.939198</td>\n",
       "      <td>0.149157</td>\n",
       "      <td>1.000000</td>\n",
       "      <td>0.936574</td>\n",
       "      <td>0.208980</td>\n",
       "      <td>-0.226616</td>\n",
       "      <td>0.395688</td>\n",
       "      <td>-0.354810</td>\n",
       "      <td>-0.360266</td>\n",
       "      <td>-0.020691</td>\n",
       "      <td>-0.051738</td>\n",
       "      <td>-0.043659</td>\n",
       "    </tr>\n",
       "    <tr>\n",
       "      <th>LaborForce</th>\n",
       "      <td>-0.005963</td>\n",
       "      <td>0.997465</td>\n",
       "      <td>0.312665</td>\n",
       "      <td>0.963499</td>\n",
       "      <td>0.925228</td>\n",
       "      <td>0.309645</td>\n",
       "      <td>0.936574</td>\n",
       "      <td>1.000000</td>\n",
       "      <td>0.169170</td>\n",
       "      <td>-0.255909</td>\n",
       "      <td>0.445184</td>\n",
       "      <td>-0.377283</td>\n",
       "      <td>-0.393905</td>\n",
       "      <td>-0.046121</td>\n",
       "      <td>-0.056823</td>\n",
       "      <td>-0.049202</td>\n",
       "    </tr>\n",
       "    <tr>\n",
       "      <th>UnemploymentRate</th>\n",
       "      <td>0.063757</td>\n",
       "      <td>0.182668</td>\n",
       "      <td>0.232792</td>\n",
       "      <td>0.178942</td>\n",
       "      <td>0.217032</td>\n",
       "      <td>-0.158805</td>\n",
       "      <td>0.208980</td>\n",
       "      <td>0.169170</td>\n",
       "      <td>1.000000</td>\n",
       "      <td>-0.097823</td>\n",
       "      <td>0.232056</td>\n",
       "      <td>-0.396753</td>\n",
       "      <td>-0.383996</td>\n",
       "      <td>-0.209618</td>\n",
       "      <td>-0.131664</td>\n",
       "      <td>-0.266106</td>\n",
       "    </tr>\n",
       "    <tr>\n",
       "      <th>Older</th>\n",
       "      <td>0.032904</td>\n",
       "      <td>-0.249972</td>\n",
       "      <td>-0.090385</td>\n",
       "      <td>-0.240088</td>\n",
       "      <td>-0.196910</td>\n",
       "      <td>-0.302898</td>\n",
       "      <td>-0.226616</td>\n",
       "      <td>-0.255909</td>\n",
       "      <td>-0.097823</td>\n",
       "      <td>1.000000</td>\n",
       "      <td>-0.484846</td>\n",
       "      <td>0.299851</td>\n",
       "      <td>0.310180</td>\n",
       "      <td>-0.089784</td>\n",
       "      <td>0.100940</td>\n",
       "      <td>0.045670</td>\n",
       "    </tr>\n",
       "    <tr>\n",
       "      <th>Urban</th>\n",
       "      <td>0.018379</td>\n",
       "      <td>0.446356</td>\n",
       "      <td>0.413451</td>\n",
       "      <td>0.429491</td>\n",
       "      <td>0.404757</td>\n",
       "      <td>0.390442</td>\n",
       "      <td>0.395688</td>\n",
       "      <td>0.445184</td>\n",
       "      <td>0.232056</td>\n",
       "      <td>-0.484846</td>\n",
       "      <td>1.000000</td>\n",
       "      <td>-0.483526</td>\n",
       "      <td>-0.514540</td>\n",
       "      <td>-0.085859</td>\n",
       "      <td>-0.056331</td>\n",
       "      <td>-0.021074</td>\n",
       "    </tr>\n",
       "    <tr>\n",
       "      <th>Trump2016</th>\n",
       "      <td>0.024215</td>\n",
       "      <td>-0.374972</td>\n",
       "      <td>-0.654104</td>\n",
       "      <td>-0.341956</td>\n",
       "      <td>-0.326846</td>\n",
       "      <td>-0.196238</td>\n",
       "      <td>-0.354810</td>\n",
       "      <td>-0.377283</td>\n",
       "      <td>-0.396753</td>\n",
       "      <td>0.299851</td>\n",
       "      <td>-0.483526</td>\n",
       "      <td>1.000000</td>\n",
       "      <td>0.984370</td>\n",
       "      <td>0.221990</td>\n",
       "      <td>-0.045108</td>\n",
       "      <td>0.133561</td>\n",
       "    </tr>\n",
       "    <tr>\n",
       "      <th>Trump2020</th>\n",
       "      <td>0.036793</td>\n",
       "      <td>-0.390326</td>\n",
       "      <td>-0.672125</td>\n",
       "      <td>-0.352300</td>\n",
       "      <td>-0.334261</td>\n",
       "      <td>-0.244330</td>\n",
       "      <td>-0.360266</td>\n",
       "      <td>-0.393905</td>\n",
       "      <td>-0.383996</td>\n",
       "      <td>0.310180</td>\n",
       "      <td>-0.514540</td>\n",
       "      <td>0.984370</td>\n",
       "      <td>1.000000</td>\n",
       "      <td>0.240457</td>\n",
       "      <td>-0.038249</td>\n",
       "      <td>0.161617</td>\n",
       "    </tr>\n",
       "    <tr>\n",
       "      <th>RepGov</th>\n",
       "      <td>-0.098324</td>\n",
       "      <td>-0.043686</td>\n",
       "      <td>-0.315744</td>\n",
       "      <td>-0.028869</td>\n",
       "      <td>-0.024062</td>\n",
       "      <td>-0.157680</td>\n",
       "      <td>-0.020691</td>\n",
       "      <td>-0.046121</td>\n",
       "      <td>-0.209618</td>\n",
       "      <td>-0.089784</td>\n",
       "      <td>-0.085859</td>\n",
       "      <td>0.221990</td>\n",
       "      <td>0.240457</td>\n",
       "      <td>1.000000</td>\n",
       "      <td>-0.147801</td>\n",
       "      <td>0.186193</td>\n",
       "    </tr>\n",
       "    <tr>\n",
       "      <th>Female</th>\n",
       "      <td>-0.208806</td>\n",
       "      <td>-0.058617</td>\n",
       "      <td>0.070089</td>\n",
       "      <td>-0.059775</td>\n",
       "      <td>-0.057963</td>\n",
       "      <td>-0.016614</td>\n",
       "      <td>-0.051738</td>\n",
       "      <td>-0.056823</td>\n",
       "      <td>-0.131664</td>\n",
       "      <td>0.100940</td>\n",
       "      <td>-0.056331</td>\n",
       "      <td>-0.045108</td>\n",
       "      <td>-0.038249</td>\n",
       "      <td>-0.147801</td>\n",
       "      <td>1.000000</td>\n",
       "      <td>0.034229</td>\n",
       "    </tr>\n",
       "    <tr>\n",
       "      <th>AdherentPercent</th>\n",
       "      <td>0.040285</td>\n",
       "      <td>-0.052203</td>\n",
       "      <td>-0.073861</td>\n",
       "      <td>-0.038529</td>\n",
       "      <td>-0.033065</td>\n",
       "      <td>-0.052703</td>\n",
       "      <td>-0.043659</td>\n",
       "      <td>-0.049202</td>\n",
       "      <td>-0.266106</td>\n",
       "      <td>0.045670</td>\n",
       "      <td>-0.021074</td>\n",
       "      <td>0.133561</td>\n",
       "      <td>0.161617</td>\n",
       "      <td>0.186193</td>\n",
       "      <td>0.034229</td>\n",
       "      <td>1.000000</td>\n",
       "    </tr>\n",
       "  </tbody>\n",
       "</table>\n",
       "</div>"
      ],
      "text/plain": [
       "                      fips  population  vaccinationRate     cases    deaths  \\\n",
       "fips              1.000000   -0.007849         0.056759 -0.021254 -0.029380   \n",
       "population       -0.007849    1.000000         0.306240  0.969726  0.941232   \n",
       "vaccinationRate   0.056759    0.306240         1.000000  0.279379  0.249064   \n",
       "cases            -0.021254    0.969726         0.279379  1.000000  0.954770   \n",
       "deaths           -0.029380    0.941232         0.249064  0.954770  1.000000   \n",
       "MedianIncome      0.076530    0.290824         0.425795  0.253761  0.196630   \n",
       "PovertyEst       -0.012729    0.953256         0.240990  0.934283  0.939198   \n",
       "LaborForce       -0.005963    0.997465         0.312665  0.963499  0.925228   \n",
       "UnemploymentRate  0.063757    0.182668         0.232792  0.178942  0.217032   \n",
       "Older             0.032904   -0.249972        -0.090385 -0.240088 -0.196910   \n",
       "Urban             0.018379    0.446356         0.413451  0.429491  0.404757   \n",
       "Trump2016         0.024215   -0.374972        -0.654104 -0.341956 -0.326846   \n",
       "Trump2020         0.036793   -0.390326        -0.672125 -0.352300 -0.334261   \n",
       "RepGov           -0.098324   -0.043686        -0.315744 -0.028869 -0.024062   \n",
       "Female           -0.208806   -0.058617         0.070089 -0.059775 -0.057963   \n",
       "AdherentPercent   0.040285   -0.052203        -0.073861 -0.038529 -0.033065   \n",
       "\n",
       "                  MedianIncome  PovertyEst  LaborForce  UnemploymentRate  \\\n",
       "fips                  0.076530   -0.012729   -0.005963          0.063757   \n",
       "population            0.290824    0.953256    0.997465          0.182668   \n",
       "vaccinationRate       0.425795    0.240990    0.312665          0.232792   \n",
       "cases                 0.253761    0.934283    0.963499          0.178942   \n",
       "deaths                0.196630    0.939198    0.925228          0.217032   \n",
       "MedianIncome          1.000000    0.149157    0.309645         -0.158805   \n",
       "PovertyEst            0.149157    1.000000    0.936574          0.208980   \n",
       "LaborForce            0.309645    0.936574    1.000000          0.169170   \n",
       "UnemploymentRate     -0.158805    0.208980    0.169170          1.000000   \n",
       "Older                -0.302898   -0.226616   -0.255909         -0.097823   \n",
       "Urban                 0.390442    0.395688    0.445184          0.232056   \n",
       "Trump2016            -0.196238   -0.354810   -0.377283         -0.396753   \n",
       "Trump2020            -0.244330   -0.360266   -0.393905         -0.383996   \n",
       "RepGov               -0.157680   -0.020691   -0.046121         -0.209618   \n",
       "Female               -0.016614   -0.051738   -0.056823         -0.131664   \n",
       "AdherentPercent      -0.052703   -0.043659   -0.049202         -0.266106   \n",
       "\n",
       "                     Older     Urban  Trump2016  Trump2020    RepGov  \\\n",
       "fips              0.032904  0.018379   0.024215   0.036793 -0.098324   \n",
       "population       -0.249972  0.446356  -0.374972  -0.390326 -0.043686   \n",
       "vaccinationRate  -0.090385  0.413451  -0.654104  -0.672125 -0.315744   \n",
       "cases            -0.240088  0.429491  -0.341956  -0.352300 -0.028869   \n",
       "deaths           -0.196910  0.404757  -0.326846  -0.334261 -0.024062   \n",
       "MedianIncome     -0.302898  0.390442  -0.196238  -0.244330 -0.157680   \n",
       "PovertyEst       -0.226616  0.395688  -0.354810  -0.360266 -0.020691   \n",
       "LaborForce       -0.255909  0.445184  -0.377283  -0.393905 -0.046121   \n",
       "UnemploymentRate -0.097823  0.232056  -0.396753  -0.383996 -0.209618   \n",
       "Older             1.000000 -0.484846   0.299851   0.310180 -0.089784   \n",
       "Urban            -0.484846  1.000000  -0.483526  -0.514540 -0.085859   \n",
       "Trump2016         0.299851 -0.483526   1.000000   0.984370  0.221990   \n",
       "Trump2020         0.310180 -0.514540   0.984370   1.000000  0.240457   \n",
       "RepGov           -0.089784 -0.085859   0.221990   0.240457  1.000000   \n",
       "Female            0.100940 -0.056331  -0.045108  -0.038249 -0.147801   \n",
       "AdherentPercent   0.045670 -0.021074   0.133561   0.161617  0.186193   \n",
       "\n",
       "                    Female  AdherentPercent  \n",
       "fips             -0.208806         0.040285  \n",
       "population       -0.058617        -0.052203  \n",
       "vaccinationRate   0.070089        -0.073861  \n",
       "cases            -0.059775        -0.038529  \n",
       "deaths           -0.057963        -0.033065  \n",
       "MedianIncome     -0.016614        -0.052703  \n",
       "PovertyEst       -0.051738        -0.043659  \n",
       "LaborForce       -0.056823        -0.049202  \n",
       "UnemploymentRate -0.131664        -0.266106  \n",
       "Older             0.100940         0.045670  \n",
       "Urban            -0.056331        -0.021074  \n",
       "Trump2016        -0.045108         0.133561  \n",
       "Trump2020        -0.038249         0.161617  \n",
       "RepGov           -0.147801         0.186193  \n",
       "Female            1.000000         0.034229  \n",
       "AdherentPercent   0.034229         1.000000  "
      ]
     },
     "execution_count": 65,
     "metadata": {},
     "output_type": "execute_result"
    }
   ],
   "source": [
    "data.corr()"
   ]
  },
  {
   "cell_type": "code",
   "execution_count": 66,
   "id": "b144fc39-9ebd-41db-930d-881c5e855a79",
   "metadata": {},
   "outputs": [
    {
     "data": {
      "text/plain": [
       "Southeast         1059\n",
       "Plains             606\n",
       "Great Lakes        437\n",
       "Southwest          379\n",
       "Mideast            177\n",
       "Rocky Mountain     172\n",
       "Far west           123\n",
       "New England         54\n",
       "Name: Region, dtype: int64"
      ]
     },
     "execution_count": 66,
     "metadata": {},
     "output_type": "execute_result"
    }
   ],
   "source": [
    "data[\"Region\"].value_counts()"
   ]
  },
  {
   "cell_type": "code",
   "execution_count": 67,
   "id": "12888965-483b-4fb8-98b9-2948848155f2",
   "metadata": {},
   "outputs": [],
   "source": [
    "#copies Delaware County data to a new dataset for later predictions\n",
    "X_instance = data[ data.fips == 42045 ]\n",
    "X_instance = X_instance.drop(columns = ['vaccinationRate', 'county', 'fips'])"
   ]
  },
  {
   "cell_type": "code",
   "execution_count": 68,
   "id": "a390ac92-63e1-4ec3-9409-cf6625b415e8",
   "metadata": {},
   "outputs": [
    {
     "data": {
      "text/plain": [
       "(1, 16)"
      ]
     },
     "execution_count": 68,
     "metadata": {},
     "output_type": "execute_result"
    }
   ],
   "source": [
    "X_instance.shape"
   ]
  },
  {
   "cell_type": "code",
   "execution_count": 69,
   "id": "8b59fe42-d571-4cb6-ae57-0584bb608643",
   "metadata": {},
   "outputs": [],
   "source": [
    "data = data[ data.fips != 42045 ].copy() "
   ]
  },
  {
   "cell_type": "code",
   "execution_count": 70,
   "id": "add9362d-1d82-4854-8f08-d28c8d2b675d",
   "metadata": {},
   "outputs": [],
   "source": [
    "#by adding the stratify feature to the train_test_split, can ensure a more representative collection of data\n",
    "X_train, X_test, y_train, y_test = train_test_split(\n",
    "    data.drop(columns=['vaccinationRate', 'county', 'fips']),\n",
    "    data.vaccinationRate, \n",
    "    test_size=0.2, \n",
    "    random_state=33, \n",
    "    stratify=data.Region\n",
    ")"
   ]
  },
  {
   "cell_type": "code",
   "execution_count": 71,
   "id": "5c6bde19-89b8-4488-b376-7ed4fd51b319",
   "metadata": {},
   "outputs": [
    {
     "data": {
      "text/plain": [
       "((2404, 16), (2404,), (602, 16), (602,))"
      ]
     },
     "execution_count": 71,
     "metadata": {},
     "output_type": "execute_result"
    }
   ],
   "source": [
    "#show the size of the data sets\n",
    "X_train.shape, y_train.shape, X_test.shape, y_test.shape"
   ]
  },
  {
   "cell_type": "code",
   "execution_count": 72,
   "id": "141acd1d-b069-42c7-b723-f5ef57e1681e",
   "metadata": {},
   "outputs": [],
   "source": [
    "cat_attribs = [\"Region\",\"state\"]\n",
    "\n",
    "#set the numerical attributes\n",
    "num_attribs = list( X_train.drop(columns=cat_attribs) )\n",
    "\n",
    "#define pipeline for numeric attributes (this code is just a definition)\n",
    "#each numeric attribute will be imputated using the Median strategy\n",
    "#each numeric attribute will be scaled \n",
    "num_pipeline = Pipeline( [\n",
    "    ('imputer', SimpleImputer(strategy=\"median\")), \n",
    "    ('std_scaler', StandardScaler()),   \n",
    "] )\n",
    "\n",
    "#define the pipeline process for the data set\n",
    "full_pipeline = ColumnTransformer( [\n",
    "    ('num', num_pipeline, num_attribs),\n",
    "    ('cat', OneHotEncoder(sparse=False), cat_attribs)    \n",
    "])"
   ]
  },
  {
   "cell_type": "code",
   "execution_count": 73,
   "id": "6b42a7f0-b5df-4c73-81b5-b69dfad6d369",
   "metadata": {},
   "outputs": [],
   "source": [
    "#take the training data set and create an array of prepared data\n",
    "X_train = full_pipeline.fit_transform(X_train)"
   ]
  },
  {
   "cell_type": "code",
   "execution_count": 74,
   "id": "f7160b4c-1ed4-48d2-8a34-3ae5bb623b51",
   "metadata": {},
   "outputs": [],
   "source": [
    "X_test = full_pipeline.transform(X_test)"
   ]
  },
  {
   "cell_type": "code",
   "execution_count": 75,
   "id": "f083985b-fde7-4db3-b3ab-4ac2cea1c482",
   "metadata": {},
   "outputs": [
    {
     "data": {
      "text/plain": [
       "(602, 70)"
      ]
     },
     "execution_count": 75,
     "metadata": {},
     "output_type": "execute_result"
    }
   ],
   "source": [
    "X_test.shape"
   ]
  },
  {
   "cell_type": "code",
   "execution_count": 76,
   "id": "8ebd351f-8c44-4451-a27a-84b727484218",
   "metadata": {},
   "outputs": [
    {
     "data": {
      "text/plain": [
       "(2404, 70)"
      ]
     },
     "execution_count": 76,
     "metadata": {},
     "output_type": "execute_result"
    }
   ],
   "source": [
    "X_train.shape"
   ]
  },
  {
   "cell_type": "code",
   "execution_count": 77,
   "id": "c134c53a-623a-4954-97b9-f26feb24ec84",
   "metadata": {},
   "outputs": [
    {
     "data": {
      "text/plain": [
       "['population',\n",
       " 'cases',\n",
       " 'deaths',\n",
       " 'MedianIncome',\n",
       " 'PovertyEst',\n",
       " 'LaborForce',\n",
       " 'UnemploymentRate',\n",
       " 'Older',\n",
       " 'Urban',\n",
       " 'Trump2016',\n",
       " 'Trump2020',\n",
       " 'RepGov',\n",
       " 'Female',\n",
       " 'AdherentPercent',\n",
       " 'Far west',\n",
       " 'Great Lakes',\n",
       " 'Mideast',\n",
       " 'New England',\n",
       " 'Plains',\n",
       " 'Rocky Mountain',\n",
       " 'Southeast',\n",
       " 'Southwest',\n",
       " 'AK',\n",
       " 'AL',\n",
       " 'AR',\n",
       " 'AZ',\n",
       " 'CO',\n",
       " 'CT',\n",
       " 'DC',\n",
       " 'DE',\n",
       " 'FL',\n",
       " 'GA',\n",
       " 'HI',\n",
       " 'IA',\n",
       " 'IL',\n",
       " 'IN',\n",
       " 'KS',\n",
       " 'KY',\n",
       " 'LA',\n",
       " 'MA',\n",
       " 'MD',\n",
       " 'ME',\n",
       " 'MI',\n",
       " 'MN',\n",
       " 'MO',\n",
       " 'MS',\n",
       " 'MT',\n",
       " 'NC',\n",
       " 'ND',\n",
       " 'NE',\n",
       " 'NJ',\n",
       " 'NM',\n",
       " 'NV',\n",
       " 'NY',\n",
       " 'OH',\n",
       " 'OK',\n",
       " 'OR',\n",
       " 'PA',\n",
       " 'RI',\n",
       " 'SC',\n",
       " 'SD',\n",
       " 'TN',\n",
       " 'TX',\n",
       " 'UT',\n",
       " 'VA',\n",
       " 'VT',\n",
       " 'WA',\n",
       " 'WI',\n",
       " 'WV',\n",
       " 'WY']"
      ]
     },
     "execution_count": 77,
     "metadata": {},
     "output_type": "execute_result"
    }
   ],
   "source": [
    "#capture a list of all the features used in the model\n",
    "\n",
    "#gets the order of encoded categories (if any)\n",
    "cat_encoder = full_pipeline.named_transformers_[\"cat\"]\n",
    "cat_one_hot_attribs = []\n",
    "if hasattr(cat_encoder, 'categories_'):\n",
    "    for i in cat_encoder.categories_:\n",
    "        cat_one_hot_attribs += list(i)\n",
    "        \n",
    "#combines the numeric and encoded features\n",
    "attributes = list(num_attribs) + list(cat_one_hot_attribs)\n",
    "\n",
    "attributes"
   ]
  },
  {
   "cell_type": "code",
   "execution_count": 78,
   "id": "b77f4993-e050-4c60-8af7-9d8b18e5eb6a",
   "metadata": {},
   "outputs": [
    {
     "name": "stdout",
     "output_type": "stream",
     "text": [
      "Baseline guess is: 0.48378\n",
      "Baseline Performance (of this guess): RMSE 0.11533\n"
     ]
    }
   ],
   "source": [
    "#calculate the average game sales\n",
    "baseline_prediction = data['vaccinationRate'].mean()\n",
    "\n",
    "#populate an array with the baseline prediction value\n",
    "predictions = np.full(shape=data.shape[0], fill_value = baseline_prediction)\n",
    "\n",
    "#determine the Root Mean Squared Error based on the actual vs. the baseline prediction\n",
    "baseline_rmse = mean_squared_error(data['vaccinationRate'], predictions, squared=False)\n",
    "print(\"Baseline guess is: {:.5f}\".format(baseline_prediction))\n",
    "print(\"Baseline Performance (of this guess): RMSE {:.5f}\".format(baseline_rmse))"
   ]
  },
  {
   "cell_type": "code",
   "execution_count": 79,
   "id": "51cadd43-4805-432b-860f-032908f6a6d6",
   "metadata": {},
   "outputs": [
    {
     "name": "stdout",
     "output_type": "stream",
     "text": [
      "Predition Error (RMSE): 0.06889\n"
     ]
    }
   ],
   "source": [
    "#create a linear regression model\n",
    "lin_reg=LinearRegression()\n",
    "\n",
    "#fit the model to the training data set\n",
    "lin_reg.fit(X_train, y_train)\n",
    "\n",
    "#calculated the predicted values for the training data set\n",
    "predictions = lin_reg.predict(X_train)\n",
    "\n",
    "#compare the predicted to the actuals\n",
    "rmse = mean_squared_error(y_train,predictions, squared=False)\n",
    "print(\"Predition Error (RMSE): {:.5f}\".format(rmse))"
   ]
  },
  {
   "cell_type": "code",
   "execution_count": 80,
   "id": "ad1bcd62-f320-4f85-b8d2-5c77746fd5e3",
   "metadata": {},
   "outputs": [
    {
     "name": "stdout",
     "output_type": "stream",
     "text": [
      "RMSE: 0.07812\n"
     ]
    }
   ],
   "source": [
    "#run cross validation\n",
    "scores = cross_val_score(lin_reg, X_train, y_train,\n",
    "                         scoring=\"neg_root_mean_squared_error\",\n",
    "                         cv=10)\n",
    "#report the results\n",
    "print(\"RMSE: {:.5f}\".format( np.median(-scores) ))"
   ]
  },
  {
   "cell_type": "code",
   "execution_count": 81,
   "id": "72c8c2a4-0ec9-4f23-8c75-a839c4ba70b3",
   "metadata": {},
   "outputs": [
    {
     "name": "stdout",
     "output_type": "stream",
     "text": [
      "Predition Error (RMSE): 0.07625\n"
     ]
    }
   ],
   "source": [
    "#use the linear regression model and evaluate the test data set\n",
    "predictions = lin_reg.predict(X_test)\n",
    "\n",
    "#compare the predicted to the actuals\n",
    "rmse = mean_squared_error(y_test,predictions, squared=False)\n",
    "print(\"Predition Error (RMSE): {:.5f}\".format(rmse))"
   ]
  },
  {
   "cell_type": "code",
   "execution_count": 82,
   "id": "fe746b6e-4cac-45b1-a307-71d3587e0427",
   "metadata": {},
   "outputs": [
    {
     "data": {
      "image/png": "[encoded data removed]",
      "text/plain": [
       "<Figure size 720x360 with 1 Axes>"
      ]
     },
     "metadata": {
      "needs_background": "light"
     },
     "output_type": "display_data"
    }
   ],
   "source": [
    "plot_learning_curve(lin_reg, X_train, y_train)"
   ]
  },
  {
   "cell_type": "code",
   "execution_count": 83,
   "id": "13881530-dd92-433e-8ee0-fe51c3c026b6",
   "metadata": {},
   "outputs": [
    {
     "data": {
      "text/plain": [
       "[(149056008019.8045, 'AK'),\n",
       " (149056008019.79926, 'WA'),\n",
       " (149056008019.77786, 'HI'),\n",
       " (149056008019.7456, 'NV'),\n",
       " (149056008019.48602, 'OR'),\n",
       " (69655525099.3416, 'Plains'),\n",
       " (66753986449.46422, 'Southwest'),\n",
       " (35250648939.54739, 'Southeast'),\n",
       " (27058318526.253765, 'Great Lakes'),\n",
       " (19663636593.105362, 'New England'),\n",
       " (0.13106282904793345, 'Female'),\n",
       " (0.05140921679020707, 'population'),\n",
       " (0.03453886179837043, 'RepGov'),\n",
       " (0.03252598547417459, 'MedianIncome'),\n",
       " (0.023089416627706798, 'Older'),\n",
       " (0.011948126034611706, 'Urban'),\n",
       " (0.008642427287172356, 'AdherentPercent'),\n",
       " (0.007631175926274173, 'UnemploymentRate'),\n",
       " (0.0008165326852427046, 'cases'),\n",
       " (-0.011353767838900049, 'PovertyEst'),\n",
       " (-0.011390600573520093, 'deaths'),\n",
       " (-0.023732351282082433, 'Trump2020'),\n",
       " (-0.03131629745721723, 'LaborForce'),\n",
       " (-0.034764886467813, 'Trump2016'),\n",
       " (-835947501.1375002, 'Mideast'),\n",
       " (-1775765097.3216064, 'Rocky Mountain'),\n",
       " (-6074939544.957536, 'CO'),\n",
       " (-6074939544.982665, 'MT'),\n",
       " (-6074939545.029018, 'UT'),\n",
       " (-6074939545.099029, 'WY'),\n",
       " (-7014757141.0766945, 'NY'),\n",
       " (-7014757141.101819, 'DC'),\n",
       " (-7014757141.150988, 'NJ'),\n",
       " (-7014757141.156464, 'PA'),\n",
       " (-7014757141.180559, 'DE'),\n",
       " (-7014757141.189835, 'MD'),\n",
       " (-27514341235.293915, 'CT'),\n",
       " (-27514341235.328735, 'VT'),\n",
       " (-27514341235.49431, 'MA'),\n",
       " (-27514341235.60166, 'ME'),\n",
       " (-27514341235.682934, 'RI'),\n",
       " (-34909023168.54364, 'WI'),\n",
       " (-34909023168.54837, 'IL'),\n",
       " (-34909023168.62264, 'OH'),\n",
       " (-34909023168.62653, 'IN'),\n",
       " (-34909023168.88373, 'MI'),\n",
       " (-43101353581.79768, 'VA'),\n",
       " (-43101353581.82027, 'WV'),\n",
       " (-43101353581.834236, 'NC'),\n",
       " (-43101353581.86123, 'LA'),\n",
       " (-43101353581.86498, 'KY'),\n",
       " (-43101353581.90873, 'TN'),\n",
       " (-43101353581.90968, 'FL'),\n",
       " (-43101353581.92626, 'AR'),\n",
       " (-43101353581.93363, 'MS'),\n",
       " (-43101353581.95403, 'GA'),\n",
       " (-43101353581.95847, 'SC'),\n",
       " (-43101353582.31332, 'AL'),\n",
       " (-74604691091.76723, 'AZ'),\n",
       " (-74604691091.82008, 'OK'),\n",
       " (-74604691091.84103, 'TX'),\n",
       " (-74604691092.11227, 'NM'),\n",
       " (-77506229741.61545, 'MN'),\n",
       " (-77506229741.7382, 'ND'),\n",
       " (-77506229741.74274, 'NE'),\n",
       " (-77506229741.74278, 'MO'),\n",
       " (-77506229741.97054, 'KS'),\n",
       " (-77506229742.03593, 'IA'),\n",
       " (-77506229742.08032, 'SD'),\n",
       " (-156906712662.09442, 'Far west')]"
      ]
     },
     "execution_count": 83,
     "metadata": {},
     "output_type": "execute_result"
    }
   ],
   "source": [
    "# for linear regression models, the coeffient of each attribute signifies its importance\n",
    "# attributes was a variable created above; lin_reg.coef_ is a detail provided by the model\n",
    "\n",
    "sorted(zip(lin_reg.coef_, attributes), reverse=True)"
   ]
  },
  {
   "cell_type": "code",
   "execution_count": 84,
   "id": "162fc9cf-6c9e-45f8-82e3-f028fb7073c4",
   "metadata": {},
   "outputs": [
    {
     "name": "stdout",
     "output_type": "stream",
     "text": [
      "Predition Error (RMSE): 0.06918\n"
     ]
    }
   ],
   "source": [
    "#create a Ridge Regression model =\n",
    "ridge_reg=Ridge(alpha=1, solver='auto')\n",
    "\n",
    "#fit the model to the training data set\n",
    "ridge_reg.fit(X_train, y_train)\n",
    "\n",
    "#calculated the predicted values for the training data set\n",
    "predictions = ridge_reg.predict(X_train)\n",
    "\n",
    "#compare the predicted to the actuals\n",
    "rmse = mean_squared_error(y_train,predictions, squared=False)\n",
    "print(\"Predition Error (RMSE): {:.5f}\".format(rmse))"
   ]
  },
  {
   "cell_type": "code",
   "execution_count": 85,
   "id": "cb3141f8-48e1-41de-8722-2131c7b2a396",
   "metadata": {},
   "outputs": [
    {
     "name": "stdout",
     "output_type": "stream",
     "text": [
      "RMSE: 0.07104\n"
     ]
    }
   ],
   "source": [
    "#run cross validation\n",
    "scores = cross_val_score(ridge_reg, X_train, y_train, scoring=\"neg_root_mean_squared_error\", cv=10)\n",
    "\n",
    "#report the results\n",
    "print(\"RMSE: {:.5f}\".format( -scores.mean() ) )"
   ]
  },
  {
   "cell_type": "code",
   "execution_count": 86,
   "id": "9a1ab427-3d3b-4a3f-bc91-d260855acca3",
   "metadata": {},
   "outputs": [
    {
     "name": "stdout",
     "output_type": "stream",
     "text": [
      "Predition Error (RMSE): 0.07622\n"
     ]
    }
   ],
   "source": [
    "#use the linear regression model and evaluate the test data set\n",
    "predictions = ridge_reg.predict(X_test)\n",
    "\n",
    "#compare the predicted to the actuals\n",
    "rmse = mean_squared_error(y_test,predictions, squared=False)\n",
    "print(\"Predition Error (RMSE): {:.5f}\".format(rmse))"
   ]
  },
  {
   "cell_type": "code",
   "execution_count": 87,
   "id": "d91833bf-0540-4973-b46d-ffa812f8f983",
   "metadata": {},
   "outputs": [
    {
     "data": {
      "image/png": "[encoded data removed]",
      "text/plain": [
       "<Figure size 720x360 with 1 Axes>"
      ]
     },
     "metadata": {
      "needs_background": "light"
     },
     "output_type": "display_data"
    }
   ],
   "source": [
    "plot_learning_curve(ridge_reg, X_train, y_train)"
   ]
  },
  {
   "cell_type": "code",
   "execution_count": 88,
   "id": "e5fdb3c0-8c99-4a57-a36f-86ee49cd5752",
   "metadata": {},
   "outputs": [
    {
     "name": "stdout",
     "output_type": "stream",
     "text": [
      "Predition Error (RMSE): 0.09023\n"
     ]
    }
   ],
   "source": [
    "#create a Stocahstic Gradiant Descent Regressor object\n",
    "sgd_reg = SGDRegressor(max_iter=1000, tol=.01, penalty=\"l2\", eta0=.001)\n",
    "\n",
    "#fit the model to the training data\n",
    "sgd_reg.fit(X_train, y_train)\n",
    "\n",
    "#calcualte the predicted values\n",
    "predictions = sgd_reg.predict(X_train)\n",
    "\n",
    "#compare the predicted to the actuals to evaluate the model\n",
    "rmse = mean_squared_error(y_train,predictions,squared=False)\n",
    "print(\"Predition Error (RMSE): {:.5f}\".format(rmse))"
   ]
  },
  {
   "cell_type": "code",
   "execution_count": 89,
   "id": "4b0b4b4b-a2dd-4610-a051-5020d5c08df7",
   "metadata": {},
   "outputs": [
    {
     "name": "stdout",
     "output_type": "stream",
     "text": [
      "RMSE: 0.09434\n"
     ]
    }
   ],
   "source": [
    "#run cross validation\n",
    "scores = cross_val_score(sgd_reg, X_train, y_train, scoring=\"neg_root_mean_squared_error\", cv=10)\n",
    "\n",
    "#report the results\n",
    "print(\"RMSE: {:.5f}\".format( -scores.mean() ) )"
   ]
  },
  {
   "cell_type": "code",
   "execution_count": 90,
   "id": "61688e01-1940-4669-a9f6-3e7fb958c47a",
   "metadata": {},
   "outputs": [
    {
     "name": "stdout",
     "output_type": "stream",
     "text": [
      "Predition Error (RMSE): 0.09328\n"
     ]
    }
   ],
   "source": [
    "sgd_reg.fit(X_train, y_train)\n",
    "\n",
    "#calcualte the predicted values\n",
    "predictions = sgd_reg.predict(X_test)\n",
    "\n",
    "#compare the predicted (housing_predictions) to the actuals(housing_labels)\n",
    "rmse = mean_squared_error( y_test, predictions,squared=False)\n",
    "print(\"Predition Error (RMSE): {:.5f}\".format(rmse))"
   ]
  },
  {
   "cell_type": "code",
   "execution_count": 91,
   "id": "edaee607-e45b-4139-aa04-96b3fdc0ca9d",
   "metadata": {},
   "outputs": [
    {
     "data": {
      "image/png": "[encoded data removed]",
      "text/plain": [
       "<Figure size 720x360 with 1 Axes>"
      ]
     },
     "metadata": {
      "needs_background": "light"
     },
     "output_type": "display_data"
    }
   ],
   "source": [
    "plot_learning_curve(sgd_reg, X_train, y_train)"
   ]
  },
  {
   "cell_type": "code",
   "execution_count": 92,
   "id": "826eba43-fc52-4233-8aa3-f292f296a5ec",
   "metadata": {},
   "outputs": [
    {
     "data": {
      "text/plain": [
       "GridSearchCV(cv=10, estimator=SGDRegressor(),\n",
       "             param_grid=[{'eta0': [0.001, 0.01, 0.1], 'max_iter': [1000, 10000],\n",
       "                          'penalty': ['None', 'l2'],\n",
       "                          'tol': [0.001, 0.01, 0.1]}],\n",
       "             return_train_score=True, scoring='neg_root_mean_squared_error')"
      ]
     },
     "execution_count": 92,
     "metadata": {},
     "output_type": "execute_result"
    }
   ],
   "source": [
    "#create a parameter grid that determines the variable hyperparameters\n",
    "param_grid = [\n",
    "    {'max_iter': [1000, 10000], 'eta0': [ .001, .01, .1],\n",
    "     'tol': [.001, .01, .1],'penalty':['None', 'l2']},\n",
    "  ]\n",
    "\n",
    "# train across 10 folds, that's a total of (2*3*3*2)*10=360 rounds of training \n",
    "grid_search = GridSearchCV(SGDRegressor(), param_grid, cv=10,\n",
    "                           scoring='neg_root_mean_squared_error',\n",
    "                           return_train_score=True)\n",
    "\n",
    "#fit the data to the model\n",
    "grid_search.fit(X_train, y_train)"
   ]
  },
  {
   "cell_type": "code",
   "execution_count": 93,
   "id": "3ee5e62d-e1f5-4bc9-be07-b6c47919df61",
   "metadata": {},
   "outputs": [
    {
     "name": "stdout",
     "output_type": "stream",
     "text": [
      "RMSE: 0.08464 - {'eta0': 0.001, 'max_iter': 1000, 'penalty': 'None', 'tol': 0.001}\n",
      "RMSE: 0.09441 - {'eta0': 0.001, 'max_iter': 1000, 'penalty': 'None', 'tol': 0.01}\n",
      "RMSE: 0.10876 - {'eta0': 0.001, 'max_iter': 1000, 'penalty': 'None', 'tol': 0.1}\n",
      "RMSE: 0.08465 - {'eta0': 0.001, 'max_iter': 1000, 'penalty': 'l2', 'tol': 0.001}\n",
      "RMSE: 0.09443 - {'eta0': 0.001, 'max_iter': 1000, 'penalty': 'l2', 'tol': 0.01}\n",
      "RMSE: 0.10869 - {'eta0': 0.001, 'max_iter': 1000, 'penalty': 'l2', 'tol': 0.1}\n",
      "RMSE: 0.08468 - {'eta0': 0.001, 'max_iter': 10000, 'penalty': 'None', 'tol': 0.001}\n",
      "RMSE: 0.09435 - {'eta0': 0.001, 'max_iter': 10000, 'penalty': 'None', 'tol': 0.01}\n",
      "RMSE: 0.10874 - {'eta0': 0.001, 'max_iter': 10000, 'penalty': 'None', 'tol': 0.1}\n",
      "RMSE: 0.08465 - {'eta0': 0.001, 'max_iter': 10000, 'penalty': 'l2', 'tol': 0.001}\n",
      "RMSE: 0.09446 - {'eta0': 0.001, 'max_iter': 10000, 'penalty': 'l2', 'tol': 0.01}\n",
      "RMSE: 0.10872 - {'eta0': 0.001, 'max_iter': 10000, 'penalty': 'l2', 'tol': 0.1}\n",
      "RMSE: 0.07451 - {'eta0': 0.01, 'max_iter': 1000, 'penalty': 'None', 'tol': 0.001}\n",
      "RMSE: 0.07495 - {'eta0': 0.01, 'max_iter': 1000, 'penalty': 'None', 'tol': 0.01}\n",
      "RMSE: 0.07500 - {'eta0': 0.01, 'max_iter': 1000, 'penalty': 'None', 'tol': 0.1}\n",
      "RMSE: 0.07477 - {'eta0': 0.01, 'max_iter': 1000, 'penalty': 'l2', 'tol': 0.001}\n",
      "RMSE: 0.07492 - {'eta0': 0.01, 'max_iter': 1000, 'penalty': 'l2', 'tol': 0.01}\n",
      "RMSE: 0.07499 - {'eta0': 0.01, 'max_iter': 1000, 'penalty': 'l2', 'tol': 0.1}\n",
      "RMSE: 0.07454 - {'eta0': 0.01, 'max_iter': 10000, 'penalty': 'None', 'tol': 0.001}\n",
      "RMSE: 0.07482 - {'eta0': 0.01, 'max_iter': 10000, 'penalty': 'None', 'tol': 0.01}\n",
      "RMSE: 0.07493 - {'eta0': 0.01, 'max_iter': 10000, 'penalty': 'None', 'tol': 0.1}\n",
      "RMSE: 0.07454 - {'eta0': 0.01, 'max_iter': 10000, 'penalty': 'l2', 'tol': 0.001}\n",
      "RMSE: 0.07490 - {'eta0': 0.01, 'max_iter': 10000, 'penalty': 'l2', 'tol': 0.01}\n",
      "RMSE: 0.07488 - {'eta0': 0.01, 'max_iter': 10000, 'penalty': 'l2', 'tol': 0.1}\n",
      "RMSE: 1.05830 - {'eta0': 0.1, 'max_iter': 1000, 'penalty': 'None', 'tol': 0.001}\n",
      "RMSE: 1.31143 - {'eta0': 0.1, 'max_iter': 1000, 'penalty': 'None', 'tol': 0.01}\n",
      "RMSE: 782.54294 - {'eta0': 0.1, 'max_iter': 1000, 'penalty': 'None', 'tol': 0.1}\n",
      "RMSE: 6.04345 - {'eta0': 0.1, 'max_iter': 1000, 'penalty': 'l2', 'tol': 0.001}\n",
      "RMSE: 8.22928 - {'eta0': 0.1, 'max_iter': 1000, 'penalty': 'l2', 'tol': 0.01}\n",
      "RMSE: 0.29059 - {'eta0': 0.1, 'max_iter': 1000, 'penalty': 'l2', 'tol': 0.1}\n",
      "RMSE: 2.09835 - {'eta0': 0.1, 'max_iter': 10000, 'penalty': 'None', 'tol': 0.001}\n",
      "RMSE: 0.35255 - {'eta0': 0.1, 'max_iter': 10000, 'penalty': 'None', 'tol': 0.01}\n",
      "RMSE: 4.12180 - {'eta0': 0.1, 'max_iter': 10000, 'penalty': 'None', 'tol': 0.1}\n",
      "RMSE: 0.12464 - {'eta0': 0.1, 'max_iter': 10000, 'penalty': 'l2', 'tol': 0.001}\n",
      "RMSE: 0.63305 - {'eta0': 0.1, 'max_iter': 10000, 'penalty': 'l2', 'tol': 0.01}\n",
      "RMSE: 6.88278 - {'eta0': 0.1, 'max_iter': 10000, 'penalty': 'l2', 'tol': 0.1}\n"
     ]
    }
   ],
   "source": [
    "cvres = grid_search.cv_results_\n",
    "for mean_score, params in zip(cvres[\"mean_test_score\"], cvres[\"params\"]):\n",
    "    print(\"RMSE: {:.5f} - {}\".format( -mean_score, params) )"
   ]
  },
  {
   "cell_type": "code",
   "execution_count": 94,
   "id": "f466a47a-ac55-4630-9730-938df377a90a",
   "metadata": {},
   "outputs": [
    {
     "data": {
      "text/plain": [
       "{'eta0': 0.01, 'max_iter': 1000, 'penalty': 'None', 'tol': 0.001}"
      ]
     },
     "execution_count": 94,
     "metadata": {},
     "output_type": "execute_result"
    }
   ],
   "source": [
    "grid_search.best_params_"
   ]
  },
  {
   "cell_type": "code",
   "execution_count": 95,
   "id": "263ed4d3-af6a-4ec2-8b97-75865077ff49",
   "metadata": {},
   "outputs": [
    {
     "name": "stdout",
     "output_type": "stream",
     "text": [
      "Predition Error (RMSE): 0.07975\n"
     ]
    }
   ],
   "source": [
    "sgd_model = SGDRegressor(**grid_search.best_params_)\n",
    "sgd_model.fit(X_train, y_train)\n",
    "\n",
    "#calcualte the predicted values\n",
    "predictions = sgd_model.predict(X_test)\n",
    "\n",
    "#compare the predicted (housing_predictions) to the actuals(housing_labels)\n",
    "rmse = mean_squared_error( y_test, predictions,squared=False)\n",
    "print(\"Predition Error (RMSE): {:.5f}\".format(rmse))"
   ]
  },
  {
   "cell_type": "code",
   "execution_count": 96,
   "id": "82324abe-6663-4305-8272-f61b5ffd3ffe",
   "metadata": {},
   "outputs": [
    {
     "name": "stdout",
     "output_type": "stream",
     "text": [
      "Predition Error (RMSE): 0.06918\n"
     ]
    }
   ],
   "source": [
    "#create a Ridge Regression model (adds in regularization)\n",
    "ridge_reg=Ridge(alpha=1, solver='auto')\n",
    "\n",
    "#fit the model to the training data set\n",
    "ridge_reg.fit(X_train, y_train)\n",
    "#calculated the predicted values for the training data set\n",
    "predictions = ridge_reg.predict(X_train)\n",
    "\n",
    "#compare the predicted to the actuals\n",
    "rmse = mean_squared_error(y_train,predictions, squared=False)\n",
    "print(\"Predition Error (RMSE): {:.5f}\".format(rmse))"
   ]
  },
  {
   "cell_type": "code",
   "execution_count": 97,
   "id": "cefb2e57-247c-47fa-9b8e-9bd50869eb38",
   "metadata": {},
   "outputs": [],
   "source": [
    "X_example = full_pipeline.transform( X_instance )\n",
    "#predict the one instance"
   ]
  },
  {
   "cell_type": "code",
   "execution_count": 98,
   "id": "d7ad6208-241a-4991-a7c1-cf58bd0c1cb1",
   "metadata": {},
   "outputs": [
    {
     "data": {
      "text/plain": [
       "(1, 16)"
      ]
     },
     "execution_count": 98,
     "metadata": {},
     "output_type": "execute_result"
    }
   ],
   "source": [
    "X_instance.shape"
   ]
  },
  {
   "cell_type": "code",
   "execution_count": 99,
   "id": "39d3578d-5666-433b-8ee6-3463e3817ae9",
   "metadata": {},
   "outputs": [
    {
     "data": {
      "text/plain": [
       "array([0.65574074])"
      ]
     },
     "execution_count": 99,
     "metadata": {},
     "output_type": "execute_result"
    }
   ],
   "source": [
    "#predict the one instance\n",
    "lin_reg.predict(X_example)"
   ]
  },
  {
   "cell_type": "code",
   "execution_count": 100,
   "id": "4d353815-d906-44b4-9453-017a832c921a",
   "metadata": {},
   "outputs": [
    {
     "data": {
      "text/plain": [
       "array([0.68243706])"
      ]
     },
     "execution_count": 100,
     "metadata": {},
     "output_type": "execute_result"
    }
   ],
   "source": [
    "sgd_model.predict( X_example )"
   ]
  },
  {
   "cell_type": "code",
   "execution_count": 101,
   "id": "1930f24b-88c6-4fed-9593-e47fa45295b7",
   "metadata": {},
   "outputs": [
    {
     "data": {
      "text/plain": [
       "array([0.65662973])"
      ]
     },
     "execution_count": 101,
     "metadata": {},
     "output_type": "execute_result"
    }
   ],
   "source": [
    "ridge_reg.predict(X_example)"
   ]
  },
  {
   "cell_type": "code",
   "execution_count": 103,
   "id": "de796d48-519f-4caa-99f6-9472beafd83b",
   "metadata": {},
   "outputs": [
    {
     "data": {
      "text/plain": [
       "GridSearchCV(cv=10, estimator=Ridge(),\n",
       "             param_grid=[{'alpha': [1, 2, 5, 10],\n",
       "                          'solver': ['auto', 'svd', 'cholesky', 'lsqr',\n",
       "                                     'sparse_cg', 'saga']}],\n",
       "             return_train_score=True, scoring='neg_root_mean_squared_error')"
      ]
     },
     "execution_count": 103,
     "metadata": {},
     "output_type": "execute_result"
    }
   ],
   "source": [
    "#create a parameter grid that determines the variable hyperparameters\n",
    "param_grid = [\n",
    "    # try all solvers available to Ridge Regression and a few values for alpha\n",
    "    {'solver':['auto', 'svd', 'cholesky', 'lsqr', 'sparse_cg', 'saga'],\n",
    "     'alpha': [1, 2, 5, 10]}\n",
    "]\n",
    "\n",
    "# train across 10 folds, that's a total of (4*6)*10=240 rounds of training \n",
    "grid_search = GridSearchCV(Ridge(), param_grid, cv=10,\n",
    "                           scoring='neg_root_mean_squared_error',\n",
    "                           return_train_score=True)\n",
    "\n",
    "#fit the data to the model\n",
    "grid_search.fit(X_train, y_train)"
   ]
  },
  {
   "cell_type": "code",
   "execution_count": 104,
   "id": "92dfb41a-dc45-4266-8304-bdc0241656ba",
   "metadata": {},
   "outputs": [
    {
     "name": "stdout",
     "output_type": "stream",
     "text": [
      "RMSE: 0.07104 - {'alpha': 1, 'solver': 'auto'}\n",
      "RMSE: 0.07104 - {'alpha': 1, 'solver': 'svd'}\n",
      "RMSE: 0.07104 - {'alpha': 1, 'solver': 'cholesky'}\n",
      "RMSE: 0.07106 - {'alpha': 1, 'solver': 'lsqr'}\n",
      "RMSE: 0.07105 - {'alpha': 1, 'solver': 'sparse_cg'}\n",
      "RMSE: 0.07103 - {'alpha': 1, 'solver': 'saga'}\n",
      "RMSE: 0.07099 - {'alpha': 2, 'solver': 'auto'}\n",
      "RMSE: 0.07099 - {'alpha': 2, 'solver': 'svd'}\n",
      "RMSE: 0.07099 - {'alpha': 2, 'solver': 'cholesky'}\n",
      "RMSE: 0.07105 - {'alpha': 2, 'solver': 'lsqr'}\n",
      "RMSE: 0.07098 - {'alpha': 2, 'solver': 'sparse_cg'}\n",
      "RMSE: 0.07103 - {'alpha': 2, 'solver': 'saga'}\n",
      "RMSE: 0.07100 - {'alpha': 5, 'solver': 'auto'}\n",
      "RMSE: 0.07100 - {'alpha': 5, 'solver': 'svd'}\n",
      "RMSE: 0.07100 - {'alpha': 5, 'solver': 'cholesky'}\n",
      "RMSE: 0.07103 - {'alpha': 5, 'solver': 'lsqr'}\n",
      "RMSE: 0.07099 - {'alpha': 5, 'solver': 'sparse_cg'}\n",
      "RMSE: 0.07109 - {'alpha': 5, 'solver': 'saga'}\n",
      "RMSE: 0.07113 - {'alpha': 10, 'solver': 'auto'}\n",
      "RMSE: 0.07113 - {'alpha': 10, 'solver': 'svd'}\n",
      "RMSE: 0.07113 - {'alpha': 10, 'solver': 'cholesky'}\n",
      "RMSE: 0.07115 - {'alpha': 10, 'solver': 'lsqr'}\n",
      "RMSE: 0.07115 - {'alpha': 10, 'solver': 'sparse_cg'}\n",
      "RMSE: 0.07123 - {'alpha': 10, 'solver': 'saga'}\n"
     ]
    }
   ],
   "source": [
    "#print the RMSE results from the CV and the paramaters used during each run \n",
    "cvres = grid_search.cv_results_\n",
    "for mean_score, params in zip(cvres[\"mean_test_score\"], cvres[\"params\"]):\n",
    "    print(\"RMSE: {:.5f} - {}\".format( -mean_score, params) )"
   ]
  },
  {
   "cell_type": "code",
   "execution_count": 105,
   "id": "4ea554b9-8761-4b59-9a56-c9fd802d8756",
   "metadata": {},
   "outputs": [
    {
     "data": {
      "text/plain": [
       "{'alpha': 2, 'solver': 'sparse_cg'}"
      ]
     },
     "execution_count": 105,
     "metadata": {},
     "output_type": "execute_result"
    }
   ],
   "source": [
    "#display the best soluiton\n",
    "grid_search.best_params_"
   ]
  },
  {
   "cell_type": "code",
   "execution_count": 106,
   "id": "ecdd3753-8f5c-494c-ab4e-2337163bfcf8",
   "metadata": {},
   "outputs": [
    {
     "data": {
      "text/plain": [
       "Ridge(alpha=2, solver='sparse_cg')"
      ]
     },
     "execution_count": 106,
     "metadata": {},
     "output_type": "execute_result"
    }
   ],
   "source": [
    "#use the parameters found above to create the model\n",
    "model = Ridge(**grid_search.best_params_)\n",
    "\n",
    "#fit the model to the training data set\n",
    "model.fit(X_train, y_train)"
   ]
  },
  {
   "cell_type": "code",
   "execution_count": 107,
   "id": "51dcf5ce-95da-4e8a-9f0e-d18adf33102e",
   "metadata": {},
   "outputs": [
    {
     "name": "stdout",
     "output_type": "stream",
     "text": [
      "Predition Error (RMSE): 0.07624\n"
     ]
    }
   ],
   "source": [
    "#use the best ridge regression model and evaluate the test data set\n",
    "predictions = model.predict(X_test)\n",
    "\n",
    "#compare the predicted to the actuals\n",
    "rmse = mean_squared_error(y_test, predictions, squared=False)\n",
    "print(\"Predition Error (RMSE): {:.5f}\".format(rmse))"
   ]
  },
  {
   "cell_type": "code",
   "execution_count": 108,
   "id": "e8184773-3583-4d3a-afa9-c2ecea6d33a2",
   "metadata": {},
   "outputs": [
    {
     "name": "stdout",
     "output_type": "stream",
     "text": [
      "Predition Error (RMSE): 0.08384\n"
     ]
    }
   ],
   "source": [
    "#create a Stocahstic Gradiant Descent Regressor object\n",
    "sgd_reg = SGDRegressor(max_iter=50000, tol=.001, penalty=\"l2\", eta0=.001)\n",
    "\n",
    "#fit the model to the training data\n",
    "sgd_reg.fit(X_train, y_train)\n",
    "\n",
    "#calcualte the predicted values\n",
    "predictions = sgd_reg.predict(X_train)\n",
    "\n",
    "#compare the predicted to the actuals to evaluate the model\n",
    "rmse = mean_squared_error(y_train,predictions,squared=False)\n",
    "print(\"Predition Error (RMSE): {:.5f}\".format(rmse))"
   ]
  },
  {
   "cell_type": "code",
   "execution_count": 109,
   "id": "42afa308-2423-444d-80cc-cef22ff80a1e",
   "metadata": {},
   "outputs": [
    {
     "name": "stdout",
     "output_type": "stream",
     "text": [
      "RMSE: 0.08468\n"
     ]
    }
   ],
   "source": [
    "#run cross validation\n",
    "scores = cross_val_score(sgd_reg, X_train, y_train, scoring=\"neg_root_mean_squared_error\", cv=10)\n",
    "\n",
    "#report the results\n",
    "print(\"RMSE: {:.5f}\".format( -scores.mean() ) )"
   ]
  },
  {
   "cell_type": "code",
   "execution_count": 110,
   "id": "3d01144a-088a-4930-a061-5d817c257d80",
   "metadata": {},
   "outputs": [
    {
     "name": "stdout",
     "output_type": "stream",
     "text": [
      "Predition Error (RMSE): 0.08762\n"
     ]
    }
   ],
   "source": [
    "sgd_reg.fit(X_train, y_train)\n",
    "\n",
    "#calcualte the predicted values\n",
    "predictions = sgd_reg.predict(X_test)\n",
    "\n",
    "#compare the predicted (housing_predictions) to the actuals(housing_labels)\n",
    "rmse = mean_squared_error( y_test, predictions,squared=False)\n",
    "print(\"Predition Error (RMSE): {:.5f}\".format(rmse))"
   ]
  },
  {
   "cell_type": "code",
   "execution_count": 111,
   "id": "398ddca2-a201-4850-b116-964b3a132d28",
   "metadata": {},
   "outputs": [
    {
     "data": {
      "image/png": "[encoded data removed]",
      "text/plain": [
       "<Figure size 720x360 with 1 Axes>"
      ]
     },
     "metadata": {
      "needs_background": "light"
     },
     "output_type": "display_data"
    }
   ],
   "source": [
    "plot_learning_curve(sgd_reg, X_train, y_train)"
   ]
  },
  {
   "cell_type": "code",
   "execution_count": 112,
   "id": "beaf73f8-931f-4543-aeeb-9f16e93c12b0",
   "metadata": {},
   "outputs": [
    {
     "data": {
      "text/plain": [
       "GridSearchCV(cv=10, estimator=SGDRegressor(),\n",
       "             param_grid=[{'eta0': [0.001, 0.01, 0.1], 'max_iter': [1000, 10000],\n",
       "                          'penalty': ['None', 'l2'],\n",
       "                          'tol': [0.001, 0.01, 0.1]}],\n",
       "             return_train_score=True, scoring='neg_root_mean_squared_error')"
      ]
     },
     "execution_count": 112,
     "metadata": {},
     "output_type": "execute_result"
    }
   ],
   "source": [
    "#create a parameter grid that determines the variable hyperparameters\n",
    "param_grid = [\n",
    "    {'max_iter': [1000, 10000], 'eta0': [ .001, .01, .1],\n",
    "     'tol': [.001, .01, .1],'penalty':['None', 'l2']},\n",
    "  ]\n",
    "\n",
    "# train across 10 folds, that's a total of (2*3*3*2)*10=360 rounds of training \n",
    "grid_search = GridSearchCV(SGDRegressor(), param_grid, cv=10,\n",
    "                           scoring='neg_root_mean_squared_error',\n",
    "                           return_train_score=True)\n",
    "\n",
    "#fit the data to the model\n",
    "grid_search.fit(X_train, y_train)"
   ]
  },
  {
   "cell_type": "code",
   "execution_count": 113,
   "id": "993c8c6a-034f-45d8-85d7-c3042d663d6a",
   "metadata": {},
   "outputs": [
    {
     "name": "stdout",
     "output_type": "stream",
     "text": [
      "RMSE: 0.08470 - {'eta0': 0.001, 'max_iter': 1000, 'penalty': 'None', 'tol': 0.001}\n",
      "RMSE: 0.09444 - {'eta0': 0.001, 'max_iter': 1000, 'penalty': 'None', 'tol': 0.01}\n",
      "RMSE: 0.10869 - {'eta0': 0.001, 'max_iter': 1000, 'penalty': 'None', 'tol': 0.1}\n",
      "RMSE: 0.08470 - {'eta0': 0.001, 'max_iter': 1000, 'penalty': 'l2', 'tol': 0.001}\n",
      "RMSE: 0.09440 - {'eta0': 0.001, 'max_iter': 1000, 'penalty': 'l2', 'tol': 0.01}\n",
      "RMSE: 0.10874 - {'eta0': 0.001, 'max_iter': 1000, 'penalty': 'l2', 'tol': 0.1}\n",
      "RMSE: 0.08466 - {'eta0': 0.001, 'max_iter': 10000, 'penalty': 'None', 'tol': 0.001}\n",
      "RMSE: 0.09436 - {'eta0': 0.001, 'max_iter': 10000, 'penalty': 'None', 'tol': 0.01}\n",
      "RMSE: 0.10876 - {'eta0': 0.001, 'max_iter': 10000, 'penalty': 'None', 'tol': 0.1}\n",
      "RMSE: 0.08467 - {'eta0': 0.001, 'max_iter': 10000, 'penalty': 'l2', 'tol': 0.001}\n",
      "RMSE: 0.09433 - {'eta0': 0.001, 'max_iter': 10000, 'penalty': 'l2', 'tol': 0.01}\n",
      "RMSE: 0.10871 - {'eta0': 0.001, 'max_iter': 10000, 'penalty': 'l2', 'tol': 0.1}\n",
      "RMSE: 0.07463 - {'eta0': 0.01, 'max_iter': 1000, 'penalty': 'None', 'tol': 0.001}\n",
      "RMSE: 0.07509 - {'eta0': 0.01, 'max_iter': 1000, 'penalty': 'None', 'tol': 0.01}\n",
      "RMSE: 0.07494 - {'eta0': 0.01, 'max_iter': 1000, 'penalty': 'None', 'tol': 0.1}\n",
      "RMSE: 0.07446 - {'eta0': 0.01, 'max_iter': 1000, 'penalty': 'l2', 'tol': 0.001}\n",
      "RMSE: 0.07496 - {'eta0': 0.01, 'max_iter': 1000, 'penalty': 'l2', 'tol': 0.01}\n",
      "RMSE: 0.07471 - {'eta0': 0.01, 'max_iter': 1000, 'penalty': 'l2', 'tol': 0.1}\n",
      "RMSE: 0.07455 - {'eta0': 0.01, 'max_iter': 10000, 'penalty': 'None', 'tol': 0.001}\n",
      "RMSE: 0.07487 - {'eta0': 0.01, 'max_iter': 10000, 'penalty': 'None', 'tol': 0.01}\n",
      "RMSE: 0.07518 - {'eta0': 0.01, 'max_iter': 10000, 'penalty': 'None', 'tol': 0.1}\n",
      "RMSE: 0.07439 - {'eta0': 0.01, 'max_iter': 10000, 'penalty': 'l2', 'tol': 0.001}\n",
      "RMSE: 0.07496 - {'eta0': 0.01, 'max_iter': 10000, 'penalty': 'l2', 'tol': 0.01}\n",
      "RMSE: 0.07508 - {'eta0': 0.01, 'max_iter': 10000, 'penalty': 'l2', 'tol': 0.1}\n",
      "RMSE: 1.85717 - {'eta0': 0.1, 'max_iter': 1000, 'penalty': 'None', 'tol': 0.001}\n",
      "RMSE: 0.16076 - {'eta0': 0.1, 'max_iter': 1000, 'penalty': 'None', 'tol': 0.01}\n",
      "RMSE: 143.26978 - {'eta0': 0.1, 'max_iter': 1000, 'penalty': 'None', 'tol': 0.1}\n",
      "RMSE: 2.00784 - {'eta0': 0.1, 'max_iter': 1000, 'penalty': 'l2', 'tol': 0.001}\n",
      "RMSE: 0.52091 - {'eta0': 0.1, 'max_iter': 1000, 'penalty': 'l2', 'tol': 0.01}\n",
      "RMSE: 0.64212 - {'eta0': 0.1, 'max_iter': 1000, 'penalty': 'l2', 'tol': 0.1}\n",
      "RMSE: 0.08948 - {'eta0': 0.1, 'max_iter': 10000, 'penalty': 'None', 'tol': 0.001}\n",
      "RMSE: 0.25441 - {'eta0': 0.1, 'max_iter': 10000, 'penalty': 'None', 'tol': 0.01}\n",
      "RMSE: 0.52836 - {'eta0': 0.1, 'max_iter': 10000, 'penalty': 'None', 'tol': 0.1}\n",
      "RMSE: 0.28838 - {'eta0': 0.1, 'max_iter': 10000, 'penalty': 'l2', 'tol': 0.001}\n",
      "RMSE: 288.28804 - {'eta0': 0.1, 'max_iter': 10000, 'penalty': 'l2', 'tol': 0.01}\n",
      "RMSE: 85.21097 - {'eta0': 0.1, 'max_iter': 10000, 'penalty': 'l2', 'tol': 0.1}\n"
     ]
    }
   ],
   "source": [
    "cvres = grid_search.cv_results_\n",
    "for mean_score, params in zip(cvres[\"mean_test_score\"], cvres[\"params\"]):\n",
    "    print(\"RMSE: {:.5f} - {}\".format( -mean_score, params) )"
   ]
  },
  {
   "cell_type": "code",
   "execution_count": 114,
   "id": "92ed6fa6-faf9-4143-b324-516766225428",
   "metadata": {},
   "outputs": [
    {
     "data": {
      "text/plain": [
       "{'eta0': 0.01, 'max_iter': 10000, 'penalty': 'l2', 'tol': 0.001}"
      ]
     },
     "execution_count": 114,
     "metadata": {},
     "output_type": "execute_result"
    }
   ],
   "source": [
    "grid_search.best_params_"
   ]
  },
  {
   "cell_type": "code",
   "execution_count": 115,
   "id": "cc5c1973-c114-4b35-b421-848f2aa4df25",
   "metadata": {
    "tags": []
   },
   "outputs": [
    {
     "name": "stdout",
     "output_type": "stream",
     "text": [
      "Predition Error (RMSE): 0.07912\n"
     ]
    }
   ],
   "source": [
    "sgd_model = SGDRegressor(**grid_search.best_params_)\n",
    "sgd_model.fit(X_train, y_train)\n",
    "\n",
    "#calcualte the predicted values\n",
    "predictions = sgd_model.predict(X_test)\n",
    "\n",
    "#compare the predicted (housing_predictions) to the actuals(housing_labels)\n",
    "rmse = mean_squared_error( y_test, predictions,squared=False)\n",
    "print(\"Predition Error (RMSE): {:.5f}\".format(rmse))"
   ]
  },
  {
   "cell_type": "code",
   "execution_count": 116,
   "id": "58cd4aca-f7a9-40e6-9831-73c88dd71d57",
   "metadata": {
    "tags": []
   },
   "outputs": [
    {
     "data": {
      "text/plain": [
       "(2404, 70)"
      ]
     },
     "execution_count": 116,
     "metadata": {},
     "output_type": "execute_result"
    }
   ],
   "source": [
    "#review the current shape of our training set\n",
    "X_train.shape"
   ]
  },
  {
   "cell_type": "code",
   "execution_count": 117,
   "id": "c45084cb-6076-48d9-acf3-731b9d8701ea",
   "metadata": {},
   "outputs": [
    {
     "data": {
      "text/plain": [
       "GridSearchCV(cv=10, estimator=Ridge(),\n",
       "             param_grid=[{'alpha': [1, 2, 5, 10],\n",
       "                          'solver': ['auto', 'svd', 'cholesky', 'lsqr',\n",
       "                                     'sparse_cg', 'saga']}],\n",
       "             return_train_score=True, scoring='neg_root_mean_squared_error')"
      ]
     },
     "execution_count": 117,
     "metadata": {},
     "output_type": "execute_result"
    }
   ],
   "source": [
    "#create a parameter grid that determines the variable hyperparameters\n",
    "param_grid = [\n",
    "    # try all solvers available to Ridge Regression and a few values for alpha\n",
    "    {'solver':['auto', 'svd', 'cholesky', 'lsqr', 'sparse_cg', 'saga'],\n",
    "     'alpha': [1, 2, 5, 10]}\n",
    "]\n",
    "\n",
    "# train across 10 folds, that's a total of (4*6)*10=240 rounds of training \n",
    "grid_search = GridSearchCV(Ridge(), param_grid, cv=10,\n",
    "                           scoring='neg_root_mean_squared_error',\n",
    "                           return_train_score=True)\n",
    "\n",
    "#fit the data to the model\n",
    "grid_search.fit(X_train, y_train)"
   ]
  },
  {
   "cell_type": "code",
   "execution_count": 118,
   "id": "8dad1d3f-40d6-4dc9-8a89-6f1857cedbcd",
   "metadata": {},
   "outputs": [
    {
     "name": "stdout",
     "output_type": "stream",
     "text": [
      "RMSE: 0.07104 - {'alpha': 1, 'solver': 'auto'}\n",
      "RMSE: 0.07104 - {'alpha': 1, 'solver': 'svd'}\n",
      "RMSE: 0.07104 - {'alpha': 1, 'solver': 'cholesky'}\n",
      "RMSE: 0.07106 - {'alpha': 1, 'solver': 'lsqr'}\n",
      "RMSE: 0.07105 - {'alpha': 1, 'solver': 'sparse_cg'}\n",
      "RMSE: 0.07103 - {'alpha': 1, 'solver': 'saga'}\n",
      "RMSE: 0.07099 - {'alpha': 2, 'solver': 'auto'}\n",
      "RMSE: 0.07099 - {'alpha': 2, 'solver': 'svd'}\n",
      "RMSE: 0.07099 - {'alpha': 2, 'solver': 'cholesky'}\n",
      "RMSE: 0.07105 - {'alpha': 2, 'solver': 'lsqr'}\n",
      "RMSE: 0.07098 - {'alpha': 2, 'solver': 'sparse_cg'}\n",
      "RMSE: 0.07103 - {'alpha': 2, 'solver': 'saga'}\n",
      "RMSE: 0.07100 - {'alpha': 5, 'solver': 'auto'}\n",
      "RMSE: 0.07100 - {'alpha': 5, 'solver': 'svd'}\n",
      "RMSE: 0.07100 - {'alpha': 5, 'solver': 'cholesky'}\n",
      "RMSE: 0.07103 - {'alpha': 5, 'solver': 'lsqr'}\n",
      "RMSE: 0.07099 - {'alpha': 5, 'solver': 'sparse_cg'}\n",
      "RMSE: 0.07109 - {'alpha': 5, 'solver': 'saga'}\n",
      "RMSE: 0.07113 - {'alpha': 10, 'solver': 'auto'}\n",
      "RMSE: 0.07113 - {'alpha': 10, 'solver': 'svd'}\n",
      "RMSE: 0.07113 - {'alpha': 10, 'solver': 'cholesky'}\n",
      "RMSE: 0.07115 - {'alpha': 10, 'solver': 'lsqr'}\n",
      "RMSE: 0.07115 - {'alpha': 10, 'solver': 'sparse_cg'}\n",
      "RMSE: 0.07123 - {'alpha': 10, 'solver': 'saga'}\n"
     ]
    }
   ],
   "source": [
    "#print the RMSE results from the CV and the paramaters used during each run \n",
    "cvres = grid_search.cv_results_\n",
    "for mean_score, params in zip(cvres[\"mean_test_score\"], cvres[\"params\"]):\n",
    "    print(\"RMSE: {:.5f} - {}\".format( -mean_score, params) )"
   ]
  },
  {
   "cell_type": "code",
   "execution_count": 119,
   "id": "b22954e8-44f9-49ee-9b94-d82104a384ae",
   "metadata": {},
   "outputs": [
    {
     "data": {
      "text/plain": [
       "{'alpha': 2, 'solver': 'sparse_cg'}"
      ]
     },
     "execution_count": 119,
     "metadata": {},
     "output_type": "execute_result"
    }
   ],
   "source": [
    "#display the best soluiton\n",
    "grid_search.best_params_"
   ]
  },
  {
   "cell_type": "code",
   "execution_count": 120,
   "id": "61690bd7-0c70-4bce-b269-730ca19488ce",
   "metadata": {},
   "outputs": [
    {
     "data": {
      "text/plain": [
       "Ridge(alpha=2, solver='sparse_cg')"
      ]
     },
     "execution_count": 120,
     "metadata": {},
     "output_type": "execute_result"
    }
   ],
   "source": [
    "#use the parameters found above to create the model\n",
    "model = Ridge(**grid_search.best_params_)\n",
    "\n",
    "#fit the model to the training data set\n",
    "model.fit(X_train, y_train)"
   ]
  },
  {
   "cell_type": "code",
   "execution_count": 121,
   "id": "186a2714-3c00-44c8-a94d-6532cae1e22e",
   "metadata": {},
   "outputs": [
    {
     "name": "stdout",
     "output_type": "stream",
     "text": [
      "Predition Error (RMSE): 0.07624\n"
     ]
    }
   ],
   "source": [
    "#use the best ridge regression model and evaluate the test data set\n",
    "predictions = model.predict(X_test)\n",
    "\n",
    "#compare the predicted to the actuals\n",
    "rmse = mean_squared_error(y_test, predictions, squared=False)\n",
    "print(\"Predition Error (RMSE): {:.5f}\".format(rmse))"
   ]
  },
  {
   "cell_type": "code",
   "execution_count": 122,
   "id": "16376b87-159a-4d18-98ed-0defe58e5fa9",
   "metadata": {},
   "outputs": [
    {
     "name": "stdout",
     "output_type": "stream",
     "text": [
      "Predition Error (RMSE): 0.11375\n"
     ]
    }
   ],
   "source": [
    "#create a Lasso Regression model\n",
    "lasso_reg=Lasso(alpha=1)\n",
    "\n",
    "#fit the model to the training data set\n",
    "lasso_reg.fit(X_train, y_train)\n",
    "\n",
    "#calculated the predicted values for the training data set\n",
    "predictions = lasso_reg.predict(X_train)\n",
    "\n",
    "#compare the predicted to the actuals\n",
    "rmse = mean_squared_error(y_train,predictions, squared=False)\n",
    "print(\"Predition Error (RMSE): {:.5f}\".format(rmse))"
   ]
  },
  {
   "cell_type": "code",
   "execution_count": 123,
   "id": "3911505a-a0c4-46fc-9aaf-e9f1002047cb",
   "metadata": {},
   "outputs": [
    {
     "name": "stdout",
     "output_type": "stream",
     "text": [
      "RMSE: 0.11367\n"
     ]
    }
   ],
   "source": [
    "#run cross validation\n",
    "scores = cross_val_score(lasso_reg, X_train, y_train, scoring=\"neg_root_mean_squared_error\", cv=10)\n",
    "\n",
    "#report the results\n",
    "print(\"RMSE: {:.5f}\".format( -scores.mean() ) )"
   ]
  },
  {
   "cell_type": "code",
   "execution_count": 124,
   "id": "1805c8e2-56c9-4f1e-94c8-aabd637af662",
   "metadata": {},
   "outputs": [
    {
     "name": "stdout",
     "output_type": "stream",
     "text": [
      "Predition Error (RMSE): 0.12146\n"
     ]
    }
   ],
   "source": [
    "#use the best Lasso Regression model and evaluate the test data set\n",
    "predictions = lasso_reg.predict(X_test)\n",
    "\n",
    "#compare the predicted to the actuals\n",
    "rmse = mean_squared_error(y_test,predictions, squared=False)\n",
    "print(\"Predition Error (RMSE): {:.5f}\".format(rmse))"
   ]
  },
  {
   "cell_type": "code",
   "execution_count": 125,
   "id": "b7b1c172-f758-4079-b2a4-69a12b23dc19",
   "metadata": {},
   "outputs": [
    {
     "data": {
      "image/png": "[encoded data removed]",
      "text/plain": [
       "<Figure size 720x360 with 1 Axes>"
      ]
     },
     "metadata": {
      "needs_background": "light"
     },
     "output_type": "display_data"
    }
   ],
   "source": [
    "plot_learning_curve(lasso_reg, X_train, y_train)"
   ]
  },
  {
   "cell_type": "code",
   "execution_count": 126,
   "id": "3a3a7dc7-9128-41d3-90b2-1e1f1b905465",
   "metadata": {},
   "outputs": [
    {
     "data": {
      "text/plain": [
       "array([0.48454784])"
      ]
     },
     "execution_count": 126,
     "metadata": {},
     "output_type": "execute_result"
    }
   ],
   "source": [
    "lasso_reg.predict(X_example)"
   ]
  },
  {
   "cell_type": "code",
   "execution_count": 127,
   "id": "cf94c3fb-22c4-4fc8-8087-7814e28d6694",
   "metadata": {},
   "outputs": [
    {
     "data": {
      "text/plain": [
       "((2404, 2556), (602, 2556))"
      ]
     },
     "execution_count": 127,
     "metadata": {},
     "output_type": "execute_result"
    }
   ],
   "source": [
    "#try making a linear model fit data that is more likely non-linear\n",
    "DEGREE = 2\n",
    "\n",
    "#create a polynomial feature with degree based on variable DEGREE\n",
    "poly_features=PolynomialFeatures(degree=DEGREE)\n",
    "\n",
    "#transform our X by adding the square of each feature to the training set\n",
    "X_train_poly = poly_features.fit_transform(X_train)\n",
    "X_test_poly = poly_features.transform(X_test)\n",
    "\n",
    "X_train_poly.shape, X_test_poly.shape"
   ]
  },
  {
   "cell_type": "code",
   "execution_count": 128,
   "id": "5086918e-161a-47b3-8328-8fa55ac72366",
   "metadata": {},
   "outputs": [
    {
     "data": {
      "text/plain": [
       "Ridge(max_iter=1000, tol=0.1)"
      ]
     },
     "execution_count": 128,
     "metadata": {},
     "output_type": "execute_result"
    }
   ],
   "source": [
    "# use the new, complex data set to train a new model\n",
    "model_poly = Ridge(tol=.1, max_iter=1000)\n",
    "\n",
    "model_poly.fit(X_train_poly, y_train)"
   ]
  },
  {
   "cell_type": "code",
   "execution_count": 129,
   "id": "72da367d-56ff-4952-9669-92111d0f2f5a",
   "metadata": {},
   "outputs": [
    {
     "name": "stdout",
     "output_type": "stream",
     "text": [
      "Predition Error (RMSE): 0.05273\n"
     ]
    }
   ],
   "source": [
    "#calcualte the predicted values\n",
    "predictions = model_poly.predict(X_train_poly)\n",
    "\n",
    "#compare the predicted (housing_predictions) to the actuals(housing_labels)\n",
    "rmse = mean_squared_error( y_train, predictions, squared=False)\n",
    "print(\"Predition Error (RMSE): {:.5f}\".format(rmse))"
   ]
  },
  {
   "cell_type": "code",
   "execution_count": 130,
   "id": "6ce548cd-5337-431f-b44a-7b83ebefd11f",
   "metadata": {},
   "outputs": [
    {
     "name": "stdout",
     "output_type": "stream",
     "text": [
      "RMSE: 0.07104\n"
     ]
    }
   ],
   "source": [
    "#run cross validation\n",
    "scores = cross_val_score(model_poly, X_train, y_train, scoring=\"neg_root_mean_squared_error\", cv=10)\n",
    "\n",
    "#report the results\n",
    "print(\"RMSE: {:.5f}\".format( -scores.mean() ) )"
   ]
  },
  {
   "cell_type": "code",
   "execution_count": 131,
   "id": "a47dffaf-7dba-49cd-ad63-931b1456a3c3",
   "metadata": {},
   "outputs": [
    {
     "name": "stdout",
     "output_type": "stream",
     "text": [
      "Predition Error (RMSE): 0.07935\n"
     ]
    }
   ],
   "source": [
    "#calcualte the predicted values\n",
    "predictions = model_poly.predict(X_test_poly)\n",
    "\n",
    "#compare the predicted to the actuals\n",
    "rmse = mean_squared_error( y_test, predictions, squared=False)\n",
    "print(\"Predition Error (RMSE): {:.5f}\".format(rmse))"
   ]
  },
  {
   "cell_type": "code",
   "execution_count": 132,
   "id": "904d61ae-bf8b-40b3-adb2-d86337f195a0",
   "metadata": {},
   "outputs": [
    {
     "data": {
      "image/png": "[encoded data removed]",
      "text/plain": [
       "<Figure size 720x360 with 1 Axes>"
      ]
     },
     "metadata": {
      "needs_background": "light"
     },
     "output_type": "display_data"
    }
   ],
   "source": [
    "plot_learning_curve(model_poly,X_train_poly,y_train)"
   ]
  },
  {
   "cell_type": "code",
   "execution_count": 133,
   "id": "0a89faea-2534-44de-9c26-3ddb7e1830fb",
   "metadata": {},
   "outputs": [],
   "source": [
    "X_example_poly = poly_features.transform(X_example)"
   ]
  },
  {
   "cell_type": "code",
   "execution_count": 136,
   "id": "c12311be-5629-47d8-9074-b0f3bb9bfa20",
   "metadata": {},
   "outputs": [
    {
     "data": {
      "text/plain": [
       "array([0.62700005])"
      ]
     },
     "execution_count": 136,
     "metadata": {},
     "output_type": "execute_result"
    }
   ],
   "source": [
    "model_poly.predict(X_example_poly)"
   ]
  }
 ],
 "metadata": {
  "kernelspec": {
   "display_name": "Python 3 (ipykernel)",
   "language": "python",
   "name": "python3"
  },
  "language_info": {
   "codemirror_mode": {
    "name": "ipython",
    "version": 3
   },
   "file_extension": ".py",
   "mimetype": "text/x-python",
   "name": "python",
   "nbconvert_exporter": "python",
   "pygments_lexer": "ipython3",
   "version": "3.9.7"
  }
 },
 "nbformat": 4,
 "nbformat_minor": 5
}
