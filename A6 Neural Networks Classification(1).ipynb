{
 "cells": [
  {
   "cell_type": "markdown",
   "id": "b825ee58-2397-4dcb-beb9-4d7a79fe9ec0",
   "metadata": {},
   "source": [
    "## A6: Neural Networks"
   ]
  },
  {
   "cell_type": "markdown",
   "id": "2abffb93-6b84-4bfd-9415-e93812a15c7d",
   "metadata": {},
   "source": [
    "## <font color=blue>Import needed modules</font>"
   ]
  },
  {
   "cell_type": "code",
   "execution_count": 1,
   "id": "af174dfa-f9ce-4ca4-85a0-76dda35ff26e",
   "metadata": {},
   "outputs": [],
   "source": [
    "#see that Tensorflow is installed\n",
    "!pip install tensorflow -q"
   ]
  },
  {
   "cell_type": "code",
   "execution_count": 2,
   "id": "25eb6ad0-0eab-4230-be45-13115fd5b90e",
   "metadata": {},
   "outputs": [],
   "source": [
    "#general libraries needed\n",
    "import pandas as pd\n",
    "import matplotlib.pyplot as plt\n",
    "import numpy as np\n",
    "\n",
    "#TensorFlow requirements\n",
    "import tensorflow as tf\n",
    "from tensorflow import keras\n",
    "\n",
    "#scikit learn imports\n",
    "from sklearn.linear_model import SGDRegressor, LinearRegression\n",
    "from sklearn.ensemble import RandomForestRegressor, RandomForestClassifier\n",
    "from sklearn.impute import SimpleImputer\n",
    "from sklearn.preprocessing import OneHotEncoder, StandardScaler, MinMaxScaler,PowerTransformer, PolynomialFeatures, OrdinalEncoder\n",
    "from sklearn.compose import ColumnTransformer\n",
    "from sklearn.pipeline import Pipeline\n",
    "from sklearn.metrics import mean_squared_error, mean_absolute_error, accuracy_score\n",
    "from sklearn.model_selection import train_test_split\n",
    "from sklearn.model_selection import cross_val_score, GridSearchCV, train_test_split\n",
    "from sklearn.decomposition import PCA\n",
    "from sklearn.manifold import TSNE\n",
    "from sklearn import set_config"
   ]
  },
  {
   "cell_type": "markdown",
   "id": "bb7c0ded-7903-4e68-87e5-60c15e6f8f19",
   "metadata": {},
   "source": [
    "## <font color=blue>Function Definitions"
   ]
  },
  {
   "cell_type": "code",
   "execution_count": 3,
   "id": "76e43261-5eaf-488c-96a3-40c8d5717b5c",
   "metadata": {},
   "outputs": [],
   "source": [
    "#function that shows a learning curve for any model that has predict or fit methods\n",
    "from sklearn.model_selection import learning_curve\n",
    "\n",
    "def plot_learning_curve(estimator,X,y,ylim=None,cv=None,n_jobs=None,train_sizes=np.linspace(0.1, 1.0, 20),scoring = 'neg_root_mean_squared_error'):\n",
    "    \n",
    "    _, axes = plt.subplots(1, 1, figsize=(10, 5))    \n",
    "    axes.set_title('Learning Curve')\n",
    "    if ylim is not None:\n",
    "        axes.set_ylim(*ylim)\n",
    "    axes.set_xlabel(\"Training examples\")\n",
    "    axes.set_ylabel(scoring)\n",
    "\n",
    "    train_sizes, train_scores, test_scores= learning_curve(estimator,X,y,cv=cv,n_jobs=n_jobs,train_sizes=train_sizes,scoring = scoring)\n",
    "    train_scores_mean = np.mean(train_scores, axis=1)\n",
    "    train_scores_std = np.std(train_scores, axis=1)\n",
    "    test_scores_mean = np.mean(test_scores, axis=1)\n",
    "    test_scores_std = np.std(test_scores, axis=1)\n",
    "\n",
    "    # Plot learning curve\n",
    "    axes.grid()\n",
    "    axes.fill_between(train_sizes,train_scores_mean - train_scores_std,train_scores_mean + train_scores_std,alpha=0.1,color=\"r\")\n",
    "    axes.fill_between(train_sizes,test_scores_mean - test_scores_std,test_scores_mean + test_scores_std,alpha=0.1,color=\"g\")\n",
    "    axes.plot(train_sizes, train_scores_mean, \"o-\", color=\"r\", label=\"Training score\")\n",
    "    axes.plot(train_sizes, test_scores_mean, \"o-\", color=\"g\", label=\"Cross-validation score\")\n",
    "    axes.legend(loc=\"best\")\n",
    "    plt.show()\n",
    "    \n",
    "    return\n",
    "\n",
    "#code to prevent warnings that can occur as a result of this function\n",
    "from warnings import simplefilter\n",
    "from sklearn.exceptions import ConvergenceWarning\n",
    "simplefilter(\"ignore\", category=ConvergenceWarning)"
   ]
  },
  {
   "cell_type": "code",
   "execution_count": 4,
   "id": "a5f8a962-d5bb-4556-af54-4cc8716fd590",
   "metadata": {},
   "outputs": [],
   "source": [
    "#function to verify the existence of a file in the current working directory and download it if not\n",
    "import os,urllib, urllib.request, sys, tarfile\n",
    "def downloadDataResource(file, sourcePath, compressed=None):\n",
    "    if not os.path.isfile(file):\n",
    "        try:\n",
    "            urllib.request.urlretrieve(sourcePath+(compressed if compressed else file),(compressed if compressed else file))\n",
    "            print(\"Downloaded\", (compressed if compressed else file) )\n",
    "            if compressed:\n",
    "                ucomp = tarfile.open(compressed)\n",
    "                ucomp.extractall()\n",
    "                ucomp.close()\n",
    "                print(\"File uncompressed.\")\n",
    "        except:\n",
    "            print(\"ERROR: File\", (compressed if compressed else file), \"not found. Data source missing.\")\n",
    "    else:\n",
    "        print(\"Data resource\", file, \"already downloaded.\")"
   ]
  },
  {
   "cell_type": "code",
   "execution_count": 5,
   "id": "b5b55b20-d946-428b-b0da-de60cb2869c8",
   "metadata": {},
   "outputs": [],
   "source": [
    "#function provided that plots the learning curve for neural networks\n",
    "def nn_plot_learning_curve( history ):\n",
    "    pd.DataFrame(history.history).plot(figsize=(8, 5))\n",
    "    plt.grid(True)\n",
    "    ymin, ymax = [], []\n",
    "    for x in history.history.keys():\n",
    "        ymax.append( max(history.history[x]))\n",
    "        ymin.append( min(history.history[x]))\n",
    "    plt.gca().set_ylim(min(ymin)*.95, max(ymax)*1.05)\n",
    "    plt.xlabel(\"EPOCHS\")\n",
    "    plt.show()"
   ]
  },
  {
   "cell_type": "markdown",
   "id": "d48f843f-91a7-4c26-96f6-c8a56fa40186",
   "metadata": {},
   "source": [
    "## <font color=blue>Source Data"
   ]
  },
  {
   "cell_type": "code",
   "execution_count": 6,
   "id": "bdc5c241-714b-48b5-8240-9e8fbd717ef1",
   "metadata": {},
   "outputs": [
    {
     "name": "stdout",
     "output_type": "stream",
     "text": [
      "Data resource CarData.csv already downloaded.\n"
     ]
    }
   ],
   "source": [
    "#create a dataframe with the data from the CSV file\n",
    "path = \"https://raw.githubusercontent.com/SueMcMetzger/MachineLearning/main/chpt10/\"\n",
    "\n",
    "filename = \"CarData.csv\"\n",
    "downloadDataResource(filename, path)\n",
    "car = pd.read_csv(filename)"
   ]
  },
  {
   "cell_type": "code",
   "execution_count": 70,
   "id": "89a5edc2-425b-41b1-be74-c9fa294a44f8",
   "metadata": {},
   "outputs": [
    {
     "name": "stdout",
     "output_type": "stream",
     "text": [
      "Data resource CarPredictions.csv already downloaded.\n"
     ]
    }
   ],
   "source": [
    "#create a dataframe with the data from the CSV file\n",
    "path = \"https://raw.githubusercontent.com/SueMcMetzger/MachineLearning/main/chpt10/\"\n",
    "\n",
    "filename = \"CarPredictions.csv\"\n",
    "downloadDataResource(filename, path)\n",
    "carpred = pd.read_csv(filename)"
   ]
  },
  {
   "cell_type": "markdown",
   "id": "1b917288-6d46-4d66-8c4b-6a135dbd5c23",
   "metadata": {},
   "source": [
    "## <font color=blue>Explore the data set"
   ]
  },
  {
   "cell_type": "code",
   "execution_count": 68,
   "id": "650e47d0-112b-4cab-ab35-e57af3985b0e",
   "metadata": {},
   "outputs": [
    {
     "data": {
      "text/plain": [
       "(11891, 13)"
      ]
     },
     "execution_count": 68,
     "metadata": {},
     "output_type": "execute_result"
    }
   ],
   "source": [
    "car.shape"
   ]
  },
  {
   "cell_type": "code",
   "execution_count": 71,
   "id": "238faad7-45c2-4d80-a6d1-aee97f4fcd19",
   "metadata": {},
   "outputs": [
    {
     "data": {
      "text/plain": [
       "(3, 15)"
      ]
     },
     "execution_count": 71,
     "metadata": {},
     "output_type": "execute_result"
    }
   ],
   "source": [
    "carpred.shape"
   ]
  },
  {
   "cell_type": "code",
   "execution_count": 8,
   "id": "f74a83df-286e-41ec-b756-5e6f70870d80",
   "metadata": {},
   "outputs": [
    {
     "name": "stdout",
     "output_type": "stream",
     "text": [
      "<class 'pandas.core.frame.DataFrame'>\n",
      "RangeIndex: 11891 entries, 0 to 11890\n",
      "Data columns (total 16 columns):\n",
      " #   Column             Non-Null Count  Dtype  \n",
      "---  ------             --------------  -----  \n",
      " 0   Make               11891 non-null  object \n",
      " 1   Model              11891 non-null  object \n",
      " 2   Year               11891 non-null  int64  \n",
      " 3   Engine Fuel Type   11891 non-null  object \n",
      " 4   Engine HP          11822 non-null  float64\n",
      " 5   Engine Cylinders   11861 non-null  float64\n",
      " 6   Transmission Type  11891 non-null  object \n",
      " 7   Driven_Wheels      11891 non-null  object \n",
      " 8   Number of Doors    11885 non-null  float64\n",
      " 9   Market Category    8151 non-null   object \n",
      " 10  Vehicle Size       11891 non-null  object \n",
      " 11  Vehicle Style      11891 non-null  object \n",
      " 12  highway MPG        11891 non-null  int64  \n",
      " 13  city mpg           11891 non-null  int64  \n",
      " 14  Popularity         11891 non-null  int64  \n",
      " 15  MSRP               11891 non-null  int64  \n",
      "dtypes: float64(3), int64(5), object(8)\n",
      "memory usage: 1.5+ MB\n"
     ]
    }
   ],
   "source": [
    "car.info()"
   ]
  },
  {
   "cell_type": "code",
   "execution_count": 10,
   "id": "048e1659-97ae-43b6-86d5-0f4c3f7dd9cd",
   "metadata": {},
   "outputs": [
    {
     "data": {
      "text/plain": [
       "0    Compact\n",
       "1    Midsize\n",
       "2    Compact\n",
       "Name: Vehicle Size, dtype: object"
      ]
     },
     "execution_count": 10,
     "metadata": {},
     "output_type": "execute_result"
    }
   ],
   "source": [
    "carpred[\"Vehicle Size\"][0:5]"
   ]
  },
  {
   "cell_type": "code",
   "execution_count": 11,
   "id": "053245db-97de-47cd-8f22-4b6310361b1a",
   "metadata": {},
   "outputs": [
    {
     "name": "stdout",
     "output_type": "stream",
     "text": [
      "<class 'pandas.core.frame.DataFrame'>\n",
      "RangeIndex: 11891 entries, 0 to 11890\n",
      "Data columns (total 16 columns):\n",
      " #   Column             Non-Null Count  Dtype  \n",
      "---  ------             --------------  -----  \n",
      " 0   Make               11891 non-null  object \n",
      " 1   Model              11891 non-null  object \n",
      " 2   Year               11891 non-null  int64  \n",
      " 3   Engine Fuel Type   11891 non-null  object \n",
      " 4   Engine HP          11822 non-null  float64\n",
      " 5   Engine Cylinders   11861 non-null  float64\n",
      " 6   Transmission Type  11891 non-null  object \n",
      " 7   Driven_Wheels      11891 non-null  object \n",
      " 8   Number of Doors    11885 non-null  float64\n",
      " 9   Market Category    8151 non-null   object \n",
      " 10  Vehicle Size       11891 non-null  object \n",
      " 11  Vehicle Style      11891 non-null  object \n",
      " 12  highway MPG        11891 non-null  int64  \n",
      " 13  city mpg           11891 non-null  int64  \n",
      " 14  Popularity         11891 non-null  int64  \n",
      " 15  MSRP               11891 non-null  int64  \n",
      "dtypes: float64(3), int64(5), object(8)\n",
      "memory usage: 1.5+ MB\n"
     ]
    }
   ],
   "source": [
    "car.info()"
   ]
  },
  {
   "cell_type": "code",
   "execution_count": 12,
   "id": "1ef04eb8-5c45-4638-bab3-615e7d3e230a",
   "metadata": {},
   "outputs": [],
   "source": [
    "car[\"Engine HP\"] = car[\"Engine HP\"].fillna(car[\"Engine HP\"].median())"
   ]
  },
  {
   "cell_type": "code",
   "execution_count": 13,
   "id": "898d6e73-d5b9-4cb5-9f07-63dc4800eecf",
   "metadata": {},
   "outputs": [],
   "source": [
    "car[\"Engine Cylinders\"] = car[\"Engine Cylinders\"].fillna(car[\"Engine Cylinders\"].median())"
   ]
  },
  {
   "cell_type": "code",
   "execution_count": 14,
   "id": "2a95396c-41c3-469a-b3d2-64abda1baa2e",
   "metadata": {},
   "outputs": [],
   "source": [
    "car[\"Number of Doors\"] = car[\"Number of Doors\"].fillna(car[\"Number of Doors\"].mean())"
   ]
  },
  {
   "cell_type": "code",
   "execution_count": 15,
   "id": "26756227-72a3-404a-9264-ec811b89ec21",
   "metadata": {},
   "outputs": [],
   "source": [
    "car.drop(\"Model\",  inplace=True, axis=1)\n",
    "car.drop(\"Market Category\",  inplace=True, axis=1)\n",
    "car.drop(\"MSRP\",  inplace=True, axis=1)"
   ]
  },
  {
   "cell_type": "code",
   "execution_count": 16,
   "id": "9bad9406-0131-481f-92ae-a2e141b2e102",
   "metadata": {},
   "outputs": [],
   "source": [
    "carpred.drop(\"Model\",  inplace=True, axis=1)\n",
    "carpred.drop(\"Market Category\",  inplace=True, axis=1)"
   ]
  },
  {
   "cell_type": "code",
   "execution_count": 17,
   "id": "f5a11c9d-46bb-46e2-9c5e-3c51c0414e50",
   "metadata": {},
   "outputs": [
    {
     "name": "stdout",
     "output_type": "stream",
     "text": [
      "<class 'pandas.core.frame.DataFrame'>\n",
      "RangeIndex: 11891 entries, 0 to 11890\n",
      "Data columns (total 13 columns):\n",
      " #   Column             Non-Null Count  Dtype  \n",
      "---  ------             --------------  -----  \n",
      " 0   Make               11891 non-null  object \n",
      " 1   Year               11891 non-null  int64  \n",
      " 2   Engine Fuel Type   11891 non-null  object \n",
      " 3   Engine HP          11891 non-null  float64\n",
      " 4   Engine Cylinders   11891 non-null  float64\n",
      " 5   Transmission Type  11891 non-null  object \n",
      " 6   Driven_Wheels      11891 non-null  object \n",
      " 7   Number of Doors    11891 non-null  float64\n",
      " 8   Vehicle Size       11891 non-null  object \n",
      " 9   Vehicle Style      11891 non-null  object \n",
      " 10  highway MPG        11891 non-null  int64  \n",
      " 11  city mpg           11891 non-null  int64  \n",
      " 12  Popularity         11891 non-null  int64  \n",
      "dtypes: float64(3), int64(4), object(6)\n",
      "memory usage: 1.2+ MB\n"
     ]
    }
   ],
   "source": [
    "car.info()"
   ]
  },
  {
   "cell_type": "code",
   "execution_count": 18,
   "id": "6c90eb20-52a1-4ae6-8ed0-a90f33534f85",
   "metadata": {},
   "outputs": [
    {
     "name": "stdout",
     "output_type": "stream",
     "text": [
      "<class 'pandas.core.frame.DataFrame'>\n",
      "RangeIndex: 3 entries, 0 to 2\n",
      "Data columns (total 13 columns):\n",
      " #   Column             Non-Null Count  Dtype \n",
      "---  ------             --------------  ----- \n",
      " 0   Make               3 non-null      object\n",
      " 1   Year               3 non-null      int64 \n",
      " 2   Engine Fuel Type   3 non-null      object\n",
      " 3   Engine HP          3 non-null      int64 \n",
      " 4   Engine Cylinders   3 non-null      int64 \n",
      " 5   Transmission Type  3 non-null      object\n",
      " 6   Driven_Wheels      3 non-null      object\n",
      " 7   Number of Doors    3 non-null      int64 \n",
      " 8   Vehicle Size       3 non-null      object\n",
      " 9   Vehicle Style      3 non-null      object\n",
      " 10  highway MPG        3 non-null      int64 \n",
      " 11  city mpg           3 non-null      int64 \n",
      " 12  Popularity         3 non-null      int64 \n",
      "dtypes: int64(7), object(6)\n",
      "memory usage: 440.0+ bytes\n"
     ]
    }
   ],
   "source": [
    "carpred.info()"
   ]
  },
  {
   "cell_type": "code",
   "execution_count": 19,
   "id": "4742c2a6-3c4f-4773-9ea6-73a7f42bd3fc",
   "metadata": {},
   "outputs": [
    {
     "data": {
      "text/plain": [
       "<AxesSubplot:>"
      ]
     },
     "execution_count": 19,
     "metadata": {},
     "output_type": "execute_result"
    },
    {
     "data": {
      "image/png": "[encoded data removed]",
      "text/plain": [
       "<Figure size 432x288 with 1 Axes>"
      ]
     },
     "metadata": {
      "needs_background": "light"
     },
     "output_type": "display_data"
    }
   ],
   "source": [
    "#for regression analysis, we will use the total_earnings attribute\n",
    "car[\"Vehicle Size\"].hist()"
   ]
  },
  {
   "cell_type": "markdown",
   "id": "89d0a191-c64b-443c-9bd1-e2390758c0f6",
   "metadata": {},
   "source": [
    "### Build the Neural Network, Compile & Train"
   ]
  },
  {
   "cell_type": "code",
   "execution_count": 20,
   "id": "b506828c-c3ca-420c-a012-1ea4872140db",
   "metadata": {},
   "outputs": [],
   "source": [
    "early_stopping = keras.callbacks.EarlyStopping(monitor=\"val_loss\", patience = 2, mode=\"min\")"
   ]
  },
  {
   "cell_type": "code",
   "execution_count": 82,
   "id": "2a1ac182-9d35-4d38-848d-9b8b137508a4",
   "metadata": {},
   "outputs": [
    {
     "data": {
      "text/plain": [
       "0    Compact\n",
       "1    Midsize\n",
       "2    Compact\n",
       "Name: Vehicle Size, dtype: object"
      ]
     },
     "execution_count": 82,
     "metadata": {},
     "output_type": "execute_result"
    }
   ],
   "source": [
    "carpred[\"Vehicle Size\"].head()"
   ]
  },
  {
   "cell_type": "code",
   "execution_count": 81,
   "id": "7d6b0c16-920f-4c10-83d8-7d45ff4d236c",
   "metadata": {},
   "outputs": [],
   "source": [
    "ord_enc = OrdinalEncoder()\n",
    "car[\"Vehicle Size\"] = ord_enc.fit_transform(car[[\"Vehicle Size\"]])"
   ]
  },
  {
   "cell_type": "markdown",
   "id": "a41d7865-1f3c-441b-b852-32a331a3f9ba",
   "metadata": {
    "tags": []
   },
   "source": [
    "## <hr size=10><font color=Blue>Multiclass Classification Neural Network"
   ]
  },
  {
   "cell_type": "markdown",
   "id": "a433c933-f271-4395-8fe6-e656643a8eda",
   "metadata": {},
   "source": [
    "### Split data set"
   ]
  },
  {
   "cell_type": "markdown",
   "id": "bb2abf95-7074-4e98-9b57-371f07a42fa9",
   "metadata": {},
   "source": [
    "## Create Train and Test Set"
   ]
  },
  {
   "cell_type": "code",
   "execution_count": 23,
   "id": "05b9cd84-8c21-476a-b1ac-708899503553",
   "metadata": {},
   "outputs": [
    {
     "data": {
      "text/plain": [
       "((9512, 12), (9512,), (2379, 12), (2379,))"
      ]
     },
     "execution_count": 23,
     "metadata": {},
     "output_type": "execute_result"
    }
   ],
   "source": [
    "X_train, X_test, y_train, y_test = train_test_split(\n",
    "    car.drop(columns=[\"Vehicle Size\"]), \n",
    "    car[\"Vehicle Size\"], \n",
    "    test_size=.2, \n",
    "    random_state=32,\n",
    "    #stratify = car[\"Vehicle Size\"]\n",
    ")\n",
    "\n",
    "X_train.shape, y_train.shape, X_test.shape, y_test.shape"
   ]
  },
  {
   "cell_type": "code",
   "execution_count": 25,
   "id": "f2c9f61f-c30f-406e-b655-c72729ff5ebe",
   "metadata": {},
   "outputs": [
    {
     "name": "stdout",
     "output_type": "stream",
     "text": [
      "                Make  Year                Engine Fuel Type  Engine HP  \\\n",
      "6116        Infiniti  2015  premium unleaded (recommended)      328.0   \n",
      "1884       Chevrolet  2004                regular unleaded      140.0   \n",
      "7562   Mercedes-Benz  1993                regular unleaded      130.0   \n",
      "548             Audi  2017  premium unleaded (recommended)      200.0   \n",
      "10948     Volkswagen  2015  premium unleaded (recommended)      210.0   \n",
      "\n",
      "       Engine Cylinders Transmission Type      Driven_Wheels  Number of Doors  \\\n",
      "6116                6.0         AUTOMATIC    all wheel drive              4.0   \n",
      "1884                4.0            MANUAL  front wheel drive              2.0   \n",
      "7562                4.0            MANUAL   rear wheel drive              4.0   \n",
      "548                 4.0         AUTOMATIC    all wheel drive              4.0   \n",
      "10948               4.0            MANUAL  front wheel drive              2.0   \n",
      "\n",
      "      Vehicle Style  highway MPG  city mpg  Popularity  \n",
      "6116          Sedan           27        19         190  \n",
      "1884          Coupe           33        23        1385  \n",
      "7562          Sedan           26        18         617  \n",
      "548         4dr SUV           28        20        3105  \n",
      "10948   Convertible           31        23         873  \n",
      "6116     2.0\n",
      "1884     0.0\n",
      "7562     0.0\n",
      "548      0.0\n",
      "10948    0.0\n",
      "Name: Vehicle Size, dtype: float64\n"
     ]
    }
   ],
   "source": [
    "#look at the first 5 games in the Test data set (will predict later on)\n",
    "print(X_test[0:5])\n",
    "print(y_test[0:5])"
   ]
  },
  {
   "cell_type": "code",
   "execution_count": 26,
   "id": "7b89457a-7563-4e07-be57-da89f05eb7c5",
   "metadata": {},
   "outputs": [
    {
     "data": {
      "text/plain": [
       "<AxesSubplot:>"
      ]
     },
     "execution_count": 26,
     "metadata": {},
     "output_type": "execute_result"
    },
    {
     "data": {
      "image/png": "[encoded data removed]",
      "text/plain": [
       "<Figure size 432x288 with 1 Axes>"
      ]
     },
     "metadata": {
      "needs_background": "light"
     },
     "output_type": "display_data"
    }
   ],
   "source": [
    "#for regression analysis, we will use the total_earnings attribute\n",
    "car[\"Vehicle Size\"].hist()"
   ]
  },
  {
   "cell_type": "code",
   "execution_count": 27,
   "id": "ba29bd94-d941-45b3-90f3-73b67676355e",
   "metadata": {},
   "outputs": [],
   "source": [
    "#no categorical attributes for this data set (nice to have in case data changes)\n",
    "cat_attribs = [\"Make\", \"Year\", \"Engine Fuel Type\", \"Transmission Type\", \"Driven_Wheels\", \"Vehicle Style\"]\n",
    "\n",
    "#set the numerical attributes\n",
    "num_attribs = list( X_train.drop(columns=cat_attribs))\n",
    "\n",
    "#define pipeline for numeric attributes (this code is just a definition)\n",
    "#each numeric attribute will be imputated using the Median strategy\n",
    "#each numeric attribute will be scaled using MinMaxScaler (preferred for neural networks)\n",
    "num_pipeline = Pipeline( [\n",
    " ('imputer', SimpleImputer(strategy=\"median\")), \n",
    " ('std_scaler', MinMaxScaler()),   \n",
    "])\n",
    "\n",
    "#define the pipeline process for the data set\n",
    "full_pipeline = ColumnTransformer( [\n",
    "    ('num', num_pipeline, num_attribs),\n",
    "    ('cat', OneHotEncoder(sparse=False), cat_attribs)    \n",
    "])"
   ]
  },
  {
   "cell_type": "markdown",
   "id": "543e2dae-3962-4055-8438-0170130ebb3e",
   "metadata": {
    "tags": []
   },
   "source": [
    "### Prepare the data"
   ]
  },
  {
   "cell_type": "code",
   "execution_count": 28,
   "id": "2467d9a8-7b49-465a-9b5f-072930754b73",
   "metadata": {},
   "outputs": [
    {
     "data": {
      "text/plain": [
       "((9512, 115), (2379, 115))"
      ]
     },
     "execution_count": 28,
     "metadata": {},
     "output_type": "execute_result"
    }
   ],
   "source": [
    "#create an array of prepared data based on the training data set and the Pipeline process defined above\n",
    "X_train = full_pipeline.fit_transform(X_train)\n",
    "X_test = full_pipeline.transform(X_test )\n",
    "\n",
    "X_train.shape, X_test.shape"
   ]
  },
  {
   "cell_type": "code",
   "execution_count": 30,
   "id": "3410222c-2da3-4c4a-8e69-e8aa87c72635",
   "metadata": {},
   "outputs": [],
   "source": [
    "set_config(display='diagram')"
   ]
  },
  {
   "cell_type": "code",
   "execution_count": 31,
   "id": "025567cb-5cc2-4bbb-a954-b6fd65b2b86c",
   "metadata": {},
   "outputs": [
    {
     "data": {
      "text/html": [
       "<style>#sk-fdecb3a9-4d50-491b-a3df-4bab780fa138 {color: black;background-color: white;}#sk-fdecb3a9-4d50-491b-a3df-4bab780fa138 pre{padding: 0;}#sk-fdecb3a9-4d50-491b-a3df-4bab780fa138 div.sk-toggleable {background-color: white;}#sk-fdecb3a9-4d50-491b-a3df-4bab780fa138 label.sk-toggleable__label {cursor: pointer;display: block;width: 100%;margin-bottom: 0;padding: 0.2em 0.3em;box-sizing: border-box;text-align: center;}#sk-fdecb3a9-4d50-491b-a3df-4bab780fa138 div.sk-toggleable__content {max-height: 0;max-width: 0;overflow: hidden;text-align: left;background-color: #f0f8ff;}#sk-fdecb3a9-4d50-491b-a3df-4bab780fa138 div.sk-toggleable__content pre {margin: 0.2em;color: black;border-radius: 0.25em;background-color: #f0f8ff;}#sk-fdecb3a9-4d50-491b-a3df-4bab780fa138 input.sk-toggleable__control:checked~div.sk-toggleable__content {max-height: 200px;max-width: 100%;overflow: auto;}#sk-fdecb3a9-4d50-491b-a3df-4bab780fa138 div.sk-estimator input.sk-toggleable__control:checked~label.sk-toggleable__label {background-color: #d4ebff;}#sk-fdecb3a9-4d50-491b-a3df-4bab780fa138 div.sk-label input.sk-toggleable__control:checked~label.sk-toggleable__label {background-color: #d4ebff;}#sk-fdecb3a9-4d50-491b-a3df-4bab780fa138 input.sk-hidden--visually {border: 0;clip: rect(1px 1px 1px 1px);clip: rect(1px, 1px, 1px, 1px);height: 1px;margin: -1px;overflow: hidden;padding: 0;position: absolute;width: 1px;}#sk-fdecb3a9-4d50-491b-a3df-4bab780fa138 div.sk-estimator {font-family: monospace;background-color: #f0f8ff;margin: 0.25em 0.25em;border: 1px dotted black;border-radius: 0.25em;box-sizing: border-box;}#sk-fdecb3a9-4d50-491b-a3df-4bab780fa138 div.sk-estimator:hover {background-color: #d4ebff;}#sk-fdecb3a9-4d50-491b-a3df-4bab780fa138 div.sk-parallel-item::after {content: \"\";width: 100%;border-bottom: 1px solid gray;flex-grow: 1;}#sk-fdecb3a9-4d50-491b-a3df-4bab780fa138 div.sk-label:hover label.sk-toggleable__label {background-color: #d4ebff;}#sk-fdecb3a9-4d50-491b-a3df-4bab780fa138 div.sk-serial::before {content: \"\";position: absolute;border-left: 1px solid gray;box-sizing: border-box;top: 2em;bottom: 0;left: 50%;}#sk-fdecb3a9-4d50-491b-a3df-4bab780fa138 div.sk-serial {display: flex;flex-direction: column;align-items: center;background-color: white;}#sk-fdecb3a9-4d50-491b-a3df-4bab780fa138 div.sk-item {z-index: 1;}#sk-fdecb3a9-4d50-491b-a3df-4bab780fa138 div.sk-parallel {display: flex;align-items: stretch;justify-content: center;background-color: white;}#sk-fdecb3a9-4d50-491b-a3df-4bab780fa138 div.sk-parallel-item {display: flex;flex-direction: column;position: relative;background-color: white;}#sk-fdecb3a9-4d50-491b-a3df-4bab780fa138 div.sk-parallel-item:first-child::after {align-self: flex-end;width: 50%;}#sk-fdecb3a9-4d50-491b-a3df-4bab780fa138 div.sk-parallel-item:last-child::after {align-self: flex-start;width: 50%;}#sk-fdecb3a9-4d50-491b-a3df-4bab780fa138 div.sk-parallel-item:only-child::after {width: 0;}#sk-fdecb3a9-4d50-491b-a3df-4bab780fa138 div.sk-dashed-wrapped {border: 1px dashed gray;margin: 0.2em;box-sizing: border-box;padding-bottom: 0.1em;background-color: white;position: relative;}#sk-fdecb3a9-4d50-491b-a3df-4bab780fa138 div.sk-label label {font-family: monospace;font-weight: bold;background-color: white;display: inline-block;line-height: 1.2em;}#sk-fdecb3a9-4d50-491b-a3df-4bab780fa138 div.sk-label-container {position: relative;z-index: 2;text-align: center;}#sk-fdecb3a9-4d50-491b-a3df-4bab780fa138 div.sk-container {display: inline-block;position: relative;}</style><div id=\"sk-fdecb3a9-4d50-491b-a3df-4bab780fa138\" class\"sk-top-container\"><div class=\"sk-container\"><div class=\"sk-item sk-dashed-wrapped\"><div class=\"sk-label-container\"><div class=\"sk-label sk-toggleable\"><input class=\"sk-toggleable__control sk-hidden--visually\" id=\"70bf0843-258d-45fb-b52f-704f50764896\" type=\"checkbox\" ><label class=\"sk-toggleable__label\" for=\"70bf0843-258d-45fb-b52f-704f50764896\">ColumnTransformer</label><div class=\"sk-toggleable__content\"><pre>ColumnTransformer(transformers=[('num',\n",
       "                                 Pipeline(steps=[('imputer',\n",
       "                                                  SimpleImputer(strategy='median')),\n",
       "                                                 ('std_scaler',\n",
       "                                                  MinMaxScaler())]),\n",
       "                                 ['Engine HP', 'Engine Cylinders',\n",
       "                                  'Number of Doors', 'highway MPG', 'city mpg',\n",
       "                                  'Popularity']),\n",
       "                                ('cat', OneHotEncoder(sparse=False),\n",
       "                                 ['Make', 'Year', 'Engine Fuel Type',\n",
       "                                  'Transmission Type', 'Driven_Wheels',\n",
       "                                  'Vehicle Style'])])</pre></div></div></div><div class=\"sk-parallel\"><div class=\"sk-parallel-item\"><div class=\"sk-item\"><div class=\"sk-label-container\"><div class=\"sk-label sk-toggleable\"><input class=\"sk-toggleable__control sk-hidden--visually\" id=\"950f413c-223a-4c40-a67b-ea26e634a5cf\" type=\"checkbox\" ><label class=\"sk-toggleable__label\" for=\"950f413c-223a-4c40-a67b-ea26e634a5cf\">num</label><div class=\"sk-toggleable__content\"><pre>['Engine HP', 'Engine Cylinders', 'Number of Doors', 'highway MPG', 'city mpg', 'Popularity']</pre></div></div></div><div class=\"sk-serial\"><div class=\"sk-item\"><div class=\"sk-serial\"><div class=\"sk-item\"><div class=\"sk-estimator sk-toggleable\"><input class=\"sk-toggleable__control sk-hidden--visually\" id=\"607df53b-7b6d-4b9c-b894-b4a71aff18e1\" type=\"checkbox\" ><label class=\"sk-toggleable__label\" for=\"607df53b-7b6d-4b9c-b894-b4a71aff18e1\">SimpleImputer</label><div class=\"sk-toggleable__content\"><pre>SimpleImputer(strategy='median')</pre></div></div></div><div class=\"sk-item\"><div class=\"sk-estimator sk-toggleable\"><input class=\"sk-toggleable__control sk-hidden--visually\" id=\"5fa6c08c-f38d-477b-9330-d19c3869d37b\" type=\"checkbox\" ><label class=\"sk-toggleable__label\" for=\"5fa6c08c-f38d-477b-9330-d19c3869d37b\">MinMaxScaler</label><div class=\"sk-toggleable__content\"><pre>MinMaxScaler()</pre></div></div></div></div></div></div></div></div><div class=\"sk-parallel-item\"><div class=\"sk-item\"><div class=\"sk-label-container\"><div class=\"sk-label sk-toggleable\"><input class=\"sk-toggleable__control sk-hidden--visually\" id=\"24371cf3-40bc-4d16-8f5d-4b80b3990f9b\" type=\"checkbox\" ><label class=\"sk-toggleable__label\" for=\"24371cf3-40bc-4d16-8f5d-4b80b3990f9b\">cat</label><div class=\"sk-toggleable__content\"><pre>['Make', 'Year', 'Engine Fuel Type', 'Transmission Type', 'Driven_Wheels', 'Vehicle Style']</pre></div></div></div><div class=\"sk-serial\"><div class=\"sk-item\"><div class=\"sk-estimator sk-toggleable\"><input class=\"sk-toggleable__control sk-hidden--visually\" id=\"95e275e4-e77c-459d-94bb-74d441f7837d\" type=\"checkbox\" ><label class=\"sk-toggleable__label\" for=\"95e275e4-e77c-459d-94bb-74d441f7837d\">OneHotEncoder</label><div class=\"sk-toggleable__content\"><pre>OneHotEncoder(sparse=False)</pre></div></div></div></div></div></div></div></div></div></div>"
      ],
      "text/plain": [
       "ColumnTransformer(transformers=[('num',\n",
       "                                 Pipeline(steps=[('imputer',\n",
       "                                                  SimpleImputer(strategy='median')),\n",
       "                                                 ('std_scaler',\n",
       "                                                  MinMaxScaler())]),\n",
       "                                 ['Engine HP', 'Engine Cylinders',\n",
       "                                  'Number of Doors', 'highway MPG', 'city mpg',\n",
       "                                  'Popularity']),\n",
       "                                ('cat', OneHotEncoder(sparse=False),\n",
       "                                 ['Make', 'Year', 'Engine Fuel Type',\n",
       "                                  'Transmission Type', 'Driven_Wheels',\n",
       "                                  'Vehicle Style'])])"
      ]
     },
     "execution_count": 31,
     "metadata": {},
     "output_type": "execute_result"
    }
   ],
   "source": [
    "full_pipeline"
   ]
  },
  {
   "cell_type": "markdown",
   "id": "e538169d-7c94-4386-bdaa-d547bd1a7c48",
   "metadata": {
    "tags": []
   },
   "source": [
    "## <font color=blue>Try RandomForestClassifier</font>"
   ]
  },
  {
   "cell_type": "markdown",
   "id": "a997a6f6-05c1-4260-afbb-fe63025b1e7d",
   "metadata": {},
   "source": [
    "### Train and Evaluate Model using Training Data"
   ]
  },
  {
   "cell_type": "code",
   "execution_count": 32,
   "id": "1aacbf3d-d2b5-406a-b2d7-56aa852e80df",
   "metadata": {},
   "outputs": [
    {
     "name": "stdout",
     "output_type": "stream",
     "text": [
      "Accuracy: 98.88%\n"
     ]
    }
   ],
   "source": [
    "#create the classification model\n",
    "forest_clf = RandomForestClassifier(n_estimators=50, random_state=50)\n",
    "\n",
    "#fit the model using the training data set\n",
    "forest_clf.fit(X_train, y_train)\n",
    "\n",
    "#compare the predicted to the actuals\n",
    "acc = forest_clf.score(X_train, y_train)\n",
    "print('Accuracy: {:.2f}%'.format(acc*100))"
   ]
  },
  {
   "cell_type": "code",
   "execution_count": 33,
   "id": "48bc534a-558a-4749-8c28-1caf14f85f0f",
   "metadata": {},
   "outputs": [
    {
     "name": "stdout",
     "output_type": "stream",
     "text": [
      " Accuracy Score: 93.89%\n"
     ]
    }
   ],
   "source": [
    "#see how well the model peforms across a variety of cross sections\n",
    "score = cross_val_score(forest_clf, X_train, y_train, cv=3, scoring=\"accuracy\")\n",
    "print(\" Accuracy Score: {:.2f}%\".format(np.mean(score)*100))"
   ]
  },
  {
   "cell_type": "code",
   "execution_count": 34,
   "id": "417a01e2-62be-4b82-8d52-5524e31ca733",
   "metadata": {},
   "outputs": [
    {
     "data": {
      "image/png": "[encoded data removed]",
      "text/plain": [
       "<Figure size 720x360 with 1 Axes>"
      ]
     },
     "metadata": {
      "needs_background": "light"
     },
     "output_type": "display_data"
    }
   ],
   "source": [
    "plot_learning_curve(forest_clf, X_train, y_train, scoring='accuracy')"
   ]
  },
  {
   "cell_type": "code",
   "execution_count": 37,
   "id": "3f04ba03-8713-4724-8059-c5ac5d8f28b7",
   "metadata": {},
   "outputs": [
    {
     "data": {
      "text/plain": [
       "array([0., 2., 0.])"
      ]
     },
     "execution_count": 37,
     "metadata": {},
     "output_type": "execute_result"
    }
   ],
   "source": [
    "#carpred.drop(columns=[ \"Vehicle Size\"], inplace = True)\n",
    "X_prepared = full_pipeline.transform(carpred)\n",
    "forest_clf.predict(X_prepared[0:3])"
   ]
  },
  {
   "cell_type": "markdown",
   "id": "30b97300-a8bd-475b-91da-939398ac953d",
   "metadata": {},
   "source": [
    "### Evaluate Model on Test Set"
   ]
  },
  {
   "cell_type": "code",
   "execution_count": 41,
   "id": "7fa849db-2700-44b8-bbff-88bc654341e1",
   "metadata": {},
   "outputs": [
    {
     "name": "stdout",
     "output_type": "stream",
     "text": [
      " Accuracy Score: 95.84%\n"
     ]
    }
   ],
   "source": [
    "#see how well the model performs on the test data set\n",
    "y_pred = forest_clf.predict(X_test)\n",
    "\n",
    "print(\" Accuracy Score: {:.2f}%\".format( accuracy_score(y_test, y_pred )*100 ))"
   ]
  },
  {
   "cell_type": "markdown",
   "id": "9b8ed914-54ee-4c42-8504-d2897c4b0eb4",
   "metadata": {},
   "source": [
    "## <font color=blue>Tune RandomForestClassifier</font>"
   ]
  },
  {
   "cell_type": "code",
   "execution_count": 42,
   "id": "761d966b-4fc5-4b09-8131-2f6628457833",
   "metadata": {},
   "outputs": [
    {
     "data": {
      "text/html": [
       "<style>#sk-b72ec5e3-1267-44a1-9e64-647de7c3d4c1 {color: black;background-color: white;}#sk-b72ec5e3-1267-44a1-9e64-647de7c3d4c1 pre{padding: 0;}#sk-b72ec5e3-1267-44a1-9e64-647de7c3d4c1 div.sk-toggleable {background-color: white;}#sk-b72ec5e3-1267-44a1-9e64-647de7c3d4c1 label.sk-toggleable__label {cursor: pointer;display: block;width: 100%;margin-bottom: 0;padding: 0.2em 0.3em;box-sizing: border-box;text-align: center;}#sk-b72ec5e3-1267-44a1-9e64-647de7c3d4c1 div.sk-toggleable__content {max-height: 0;max-width: 0;overflow: hidden;text-align: left;background-color: #f0f8ff;}#sk-b72ec5e3-1267-44a1-9e64-647de7c3d4c1 div.sk-toggleable__content pre {margin: 0.2em;color: black;border-radius: 0.25em;background-color: #f0f8ff;}#sk-b72ec5e3-1267-44a1-9e64-647de7c3d4c1 input.sk-toggleable__control:checked~div.sk-toggleable__content {max-height: 200px;max-width: 100%;overflow: auto;}#sk-b72ec5e3-1267-44a1-9e64-647de7c3d4c1 div.sk-estimator input.sk-toggleable__control:checked~label.sk-toggleable__label {background-color: #d4ebff;}#sk-b72ec5e3-1267-44a1-9e64-647de7c3d4c1 div.sk-label input.sk-toggleable__control:checked~label.sk-toggleable__label {background-color: #d4ebff;}#sk-b72ec5e3-1267-44a1-9e64-647de7c3d4c1 input.sk-hidden--visually {border: 0;clip: rect(1px 1px 1px 1px);clip: rect(1px, 1px, 1px, 1px);height: 1px;margin: -1px;overflow: hidden;padding: 0;position: absolute;width: 1px;}#sk-b72ec5e3-1267-44a1-9e64-647de7c3d4c1 div.sk-estimator {font-family: monospace;background-color: #f0f8ff;margin: 0.25em 0.25em;border: 1px dotted black;border-radius: 0.25em;box-sizing: border-box;}#sk-b72ec5e3-1267-44a1-9e64-647de7c3d4c1 div.sk-estimator:hover {background-color: #d4ebff;}#sk-b72ec5e3-1267-44a1-9e64-647de7c3d4c1 div.sk-parallel-item::after {content: \"\";width: 100%;border-bottom: 1px solid gray;flex-grow: 1;}#sk-b72ec5e3-1267-44a1-9e64-647de7c3d4c1 div.sk-label:hover label.sk-toggleable__label {background-color: #d4ebff;}#sk-b72ec5e3-1267-44a1-9e64-647de7c3d4c1 div.sk-serial::before {content: \"\";position: absolute;border-left: 1px solid gray;box-sizing: border-box;top: 2em;bottom: 0;left: 50%;}#sk-b72ec5e3-1267-44a1-9e64-647de7c3d4c1 div.sk-serial {display: flex;flex-direction: column;align-items: center;background-color: white;}#sk-b72ec5e3-1267-44a1-9e64-647de7c3d4c1 div.sk-item {z-index: 1;}#sk-b72ec5e3-1267-44a1-9e64-647de7c3d4c1 div.sk-parallel {display: flex;align-items: stretch;justify-content: center;background-color: white;}#sk-b72ec5e3-1267-44a1-9e64-647de7c3d4c1 div.sk-parallel-item {display: flex;flex-direction: column;position: relative;background-color: white;}#sk-b72ec5e3-1267-44a1-9e64-647de7c3d4c1 div.sk-parallel-item:first-child::after {align-self: flex-end;width: 50%;}#sk-b72ec5e3-1267-44a1-9e64-647de7c3d4c1 div.sk-parallel-item:last-child::after {align-self: flex-start;width: 50%;}#sk-b72ec5e3-1267-44a1-9e64-647de7c3d4c1 div.sk-parallel-item:only-child::after {width: 0;}#sk-b72ec5e3-1267-44a1-9e64-647de7c3d4c1 div.sk-dashed-wrapped {border: 1px dashed gray;margin: 0.2em;box-sizing: border-box;padding-bottom: 0.1em;background-color: white;position: relative;}#sk-b72ec5e3-1267-44a1-9e64-647de7c3d4c1 div.sk-label label {font-family: monospace;font-weight: bold;background-color: white;display: inline-block;line-height: 1.2em;}#sk-b72ec5e3-1267-44a1-9e64-647de7c3d4c1 div.sk-label-container {position: relative;z-index: 2;text-align: center;}#sk-b72ec5e3-1267-44a1-9e64-647de7c3d4c1 div.sk-container {display: inline-block;position: relative;}</style><div id=\"sk-b72ec5e3-1267-44a1-9e64-647de7c3d4c1\" class\"sk-top-container\"><div class=\"sk-container\"><div class=\"sk-item sk-dashed-wrapped\"><div class=\"sk-label-container\"><div class=\"sk-label sk-toggleable\"><input class=\"sk-toggleable__control sk-hidden--visually\" id=\"1bd8c677-079a-470e-b9fc-c74aa96ca295\" type=\"checkbox\" ><label class=\"sk-toggleable__label\" for=\"1bd8c677-079a-470e-b9fc-c74aa96ca295\">GridSearchCV</label><div class=\"sk-toggleable__content\"><pre>GridSearchCV(cv=10, estimator=RandomForestClassifier(random_state=50),\n",
       "             param_grid=[{'criterion': ['gini', 'entropy'],\n",
       "                          'max_features': ['auto', 'sqrt', 'log2'],\n",
       "                          'n_estimators': [10, 100, 1000]}],\n",
       "             return_train_score=True, scoring='accuracy')</pre></div></div></div><div class=\"sk-parallel\"><div class=\"sk-parallel-item\"><div class=\"sk-item\"><div class=\"sk-serial\"><div class=\"sk-item\"><div class=\"sk-estimator sk-toggleable\"><input class=\"sk-toggleable__control sk-hidden--visually\" id=\"a078b4f9-2120-453a-93a0-ec6b346f702f\" type=\"checkbox\" ><label class=\"sk-toggleable__label\" for=\"a078b4f9-2120-453a-93a0-ec6b346f702f\">RandomForestClassifier</label><div class=\"sk-toggleable__content\"><pre>RandomForestClassifier(random_state=50)</pre></div></div></div></div></div></div></div></div></div></div>"
      ],
      "text/plain": [
       "GridSearchCV(cv=10, estimator=RandomForestClassifier(random_state=50),\n",
       "             param_grid=[{'criterion': ['gini', 'entropy'],\n",
       "                          'max_features': ['auto', 'sqrt', 'log2'],\n",
       "                          'n_estimators': [10, 100, 1000]}],\n",
       "             return_train_score=True, scoring='accuracy')"
      ]
     },
     "execution_count": 42,
     "metadata": {},
     "output_type": "execute_result"
    }
   ],
   "source": [
    "#create a parameter grid that determines the variable hyperparameters\n",
    "param_grid = [\n",
    "    {'criterion':['gini', 'entropy'],\n",
    "     'n_estimators': [10,100,1000],\n",
    "     'max_features': [\"auto\",\"sqrt\",\"log2\"]\n",
    "    }\n",
    "]\n",
    "\n",
    "# train across 10 folds, that's a total of (2*3*3)*10=180 rounds of training \n",
    "grid_search = GridSearchCV(RandomForestClassifier(random_state=50), param_grid, cv=10,\n",
    "                           scoring='accuracy',\n",
    "                           return_train_score=True)\n",
    "\n",
    "#fit the data to the model\n",
    "grid_search.fit(X_train, y_train)"
   ]
  },
  {
   "cell_type": "code",
   "execution_count": 43,
   "id": "51c05632-2373-4fd4-8a7a-b8e3ae758eb7",
   "metadata": {},
   "outputs": [
    {
     "name": "stdout",
     "output_type": "stream",
     "text": [
      "Accuracy: 94.55% - {'criterion': 'gini', 'max_features': 'auto', 'n_estimators': 10}\n",
      "Accuracy: 94.94% - {'criterion': 'gini', 'max_features': 'auto', 'n_estimators': 100}\n",
      "Accuracy: 95.01% - {'criterion': 'gini', 'max_features': 'auto', 'n_estimators': 1000}\n",
      "Accuracy: 94.55% - {'criterion': 'gini', 'max_features': 'sqrt', 'n_estimators': 10}\n",
      "Accuracy: 94.94% - {'criterion': 'gini', 'max_features': 'sqrt', 'n_estimators': 100}\n",
      "Accuracy: 95.01% - {'criterion': 'gini', 'max_features': 'sqrt', 'n_estimators': 1000}\n",
      "Accuracy: 94.17% - {'criterion': 'gini', 'max_features': 'log2', 'n_estimators': 10}\n",
      "Accuracy: 94.83% - {'criterion': 'gini', 'max_features': 'log2', 'n_estimators': 100}\n",
      "Accuracy: 94.81% - {'criterion': 'gini', 'max_features': 'log2', 'n_estimators': 1000}\n",
      "Accuracy: 94.30% - {'criterion': 'entropy', 'max_features': 'auto', 'n_estimators': 10}\n",
      "Accuracy: 94.90% - {'criterion': 'entropy', 'max_features': 'auto', 'n_estimators': 100}\n",
      "Accuracy: 95.03% - {'criterion': 'entropy', 'max_features': 'auto', 'n_estimators': 1000}\n",
      "Accuracy: 94.30% - {'criterion': 'entropy', 'max_features': 'sqrt', 'n_estimators': 10}\n",
      "Accuracy: 94.90% - {'criterion': 'entropy', 'max_features': 'sqrt', 'n_estimators': 100}\n",
      "Accuracy: 95.03% - {'criterion': 'entropy', 'max_features': 'sqrt', 'n_estimators': 1000}\n",
      "Accuracy: 94.20% - {'criterion': 'entropy', 'max_features': 'log2', 'n_estimators': 10}\n",
      "Accuracy: 94.82% - {'criterion': 'entropy', 'max_features': 'log2', 'n_estimators': 100}\n",
      "Accuracy: 94.88% - {'criterion': 'entropy', 'max_features': 'log2', 'n_estimators': 1000}\n"
     ]
    }
   ],
   "source": [
    "#print the RMSE results from the CV and the paramaters used during each run \n",
    "cvres = grid_search.cv_results_\n",
    "for mean_score, params in zip(cvres[\"mean_test_score\"], cvres[\"params\"]):\n",
    "    print(\"Accuracy: {:,.2f}% - {}\".format( mean_score*100, params) )"
   ]
  },
  {
   "cell_type": "code",
   "execution_count": 44,
   "id": "c09ef5f6-9915-4972-a679-ce2a0fbbd599",
   "metadata": {},
   "outputs": [
    {
     "data": {
      "text/plain": [
       "{'criterion': 'entropy', 'max_features': 'auto', 'n_estimators': 1000}"
      ]
     },
     "execution_count": 44,
     "metadata": {},
     "output_type": "execute_result"
    }
   ],
   "source": [
    "#display the best soluiton\n",
    "grid_search.best_params_"
   ]
  },
  {
   "cell_type": "markdown",
   "id": "fe0a57f1-abdb-46ab-932e-679aab4e5bdc",
   "metadata": {},
   "source": [
    "### Create the best RandomForestClassifier"
   ]
  },
  {
   "cell_type": "code",
   "execution_count": 45,
   "id": "a9e95add-e2b1-4ad1-90bf-7f5989f669c8",
   "metadata": {},
   "outputs": [
    {
     "name": "stdout",
     "output_type": "stream",
     "text": [
      "Accuracy: 98.88%\n"
     ]
    }
   ],
   "source": [
    "#use the parameters found above to create the model\n",
    "model = RandomForestClassifier(**grid_search.best_params_)\n",
    "\n",
    "#fit the model to the training data set\n",
    "model.fit(X_train, y_train)\n",
    "\n",
    "#compare the predicted to the actuals\n",
    "acc = model.score(X_train, y_train)\n",
    "print('Accuracy: {:.2f}%'.format(acc*100))"
   ]
  },
  {
   "cell_type": "code",
   "execution_count": 46,
   "id": "9dab5635-6bea-4c4c-8eae-e3f46ceb4da2",
   "metadata": {},
   "outputs": [
    {
     "data": {
      "image/png": "[encoded data removed]",
      "text/plain": [
       "<Figure size 720x360 with 1 Axes>"
      ]
     },
     "metadata": {
      "needs_background": "light"
     },
     "output_type": "display_data"
    }
   ],
   "source": [
    "plot_learning_curve(model, X_train, y_train,scoring=\"accuracy\")"
   ]
  },
  {
   "cell_type": "markdown",
   "id": "64e50f2c-b0d2-4f25-8423-24ecc16d9861",
   "metadata": {},
   "source": [
    "### Evaluate best RandomForestClassifier on Test Set"
   ]
  },
  {
   "cell_type": "code",
   "execution_count": 47,
   "id": "a5a11378-7702-4661-870c-f9448cc1ade2",
   "metadata": {},
   "outputs": [
    {
     "name": "stdout",
     "output_type": "stream",
     "text": [
      " Accuracy Score: 95.96%\n"
     ]
    }
   ],
   "source": [
    "#see how well the model performs on the test data set\n",
    "y_pred = model.predict(X_test)\n",
    "\n",
    "print(\" Accuracy Score: {:.2f}%\".format( accuracy_score(y_test, y_pred )*100 ))"
   ]
  },
  {
   "cell_type": "code",
   "execution_count": 48,
   "id": "20e701c8-90e5-4095-b7a6-71dd65ea5414",
   "metadata": {},
   "outputs": [
    {
     "data": {
      "text/plain": [
       "(2379, 115)"
      ]
     },
     "execution_count": 48,
     "metadata": {},
     "output_type": "execute_result"
    }
   ],
   "source": [
    "X_test.shape"
   ]
  },
  {
   "cell_type": "code",
   "execution_count": 50,
   "id": "ff855a99-ec50-405a-b89c-45974eb455a2",
   "metadata": {},
   "outputs": [
    {
     "data": {
      "text/plain": [
       "array([0., 2., 0.])"
      ]
     },
     "execution_count": 50,
     "metadata": {},
     "output_type": "execute_result"
    }
   ],
   "source": [
    "#carpred.drop(columns=[ \"Vehicle Size\"], inplace = True)\n",
    "X_prepared = full_pipeline.transform(carpred)\n",
    "model.predict(X_prepared[0:3])"
   ]
  },
  {
   "cell_type": "markdown",
   "id": "2c412fde-5956-448a-9040-2090749fc51e",
   "metadata": {},
   "source": [
    "### Build the Neural Network, Compile & Train"
   ]
  },
  {
   "cell_type": "code",
   "execution_count": 54,
   "id": "3b2f532a-15b7-4c87-a3a6-ece1ed5960a3",
   "metadata": {},
   "outputs": [],
   "source": [
    "early_stopping = keras.callbacks.EarlyStopping(\n",
    "patience = 2,\n",
    "mode='min',\n",
    "monitor='val_loss'\n",
    ")"
   ]
  },
  {
   "cell_type": "code",
   "execution_count": 55,
   "id": "1e42084c-4be7-44c3-96cb-d2456e38f6fc",
   "metadata": {},
   "outputs": [],
   "source": [
    "#starting by setting random seeds and restarting keras blackend session\n",
    "np.random.seed(42)\n",
    "tf.random.set_seed(42)\n",
    "\n",
    "#resets the Keras global state - helps avoid clutter from old models and layers, especially when memory is limited\n",
    "keras.backend.clear_session()"
   ]
  },
  {
   "cell_type": "code",
   "execution_count": 56,
   "id": "bc7166ac-787b-41bf-8777-9f7309d3ee5c",
   "metadata": {},
   "outputs": [
    {
     "data": {
      "text/plain": [
       "(2379, 115)"
      ]
     },
     "execution_count": 56,
     "metadata": {},
     "output_type": "execute_result"
    }
   ],
   "source": [
    "X_test.shape"
   ]
  },
  {
   "cell_type": "code",
   "execution_count": 57,
   "id": "2828429b-df9a-4962-9d36-a20fa4e3b58a",
   "metadata": {},
   "outputs": [],
   "source": [
    "#build a simple model keeping the last layer with activation softmax and 3 to predict games into 1 of 3 classes\n",
    "model = keras.models.Sequential([\n",
    "    keras.layers.Flatten(),   #NOTE: Ok to leave out input shape - it will determine when reading X\n",
    "    keras.layers.Dense(90, activation=\"relu\"),  #60  --> .1448\n",
    "    #keras.layers.Dense(25, activation=\"softmax\"), #25\n",
    "    #keras.layers.Dense(80, activation=\"relu\"),\n",
    "    keras.layers.Dense(3, activation=\"softmax\")\n",
    "])"
   ]
  },
  {
   "cell_type": "code",
   "execution_count": 58,
   "id": "bb24953b-a825-4940-b2ad-573449b76737",
   "metadata": {},
   "outputs": [],
   "source": [
    "#After model is created, it needs to be compiled - this requires setting\n",
    "#the loss function for multi-class (sparse_categorical_crossentropy when Y is all numbers) \n",
    "#metric to measure performance is accuracy\n",
    "\n",
    "model.compile(loss='sparse_categorical_crossentropy',\n",
    "              optimizer=keras.optimizers.Adam(learning_rate=.001),\n",
    "              metrics=['accuracy']\n",
    "             )"
   ]
  },
  {
   "cell_type": "code",
   "execution_count": 59,
   "id": "b3a661f4-16da-4498-a9ae-ce772ec95f6c",
   "metadata": {},
   "outputs": [
    {
     "name": "stdout",
     "output_type": "stream",
     "text": [
      "Epoch 1/500\n",
      "238/238 [==============================] - 1s 3ms/step - loss: 0.8081 - accuracy: 0.6282 - val_loss: 0.6400 - val_accuracy: 0.7199\n",
      "Epoch 2/500\n",
      "238/238 [==============================] - 0s 2ms/step - loss: 0.5833 - accuracy: 0.7395 - val_loss: 0.5520 - val_accuracy: 0.7562\n",
      "Epoch 3/500\n",
      "238/238 [==============================] - 0s 2ms/step - loss: 0.5082 - accuracy: 0.7814 - val_loss: 0.4954 - val_accuracy: 0.7830\n",
      "Epoch 4/500\n",
      "238/238 [==============================] - 0s 2ms/step - loss: 0.4540 - accuracy: 0.8077 - val_loss: 0.4589 - val_accuracy: 0.8061\n",
      "Epoch 5/500\n",
      "238/238 [==============================] - 0s 2ms/step - loss: 0.4107 - accuracy: 0.8307 - val_loss: 0.4332 - val_accuracy: 0.8203\n",
      "Epoch 6/500\n",
      "238/238 [==============================] - 0s 2ms/step - loss: 0.3755 - accuracy: 0.8553 - val_loss: 0.3974 - val_accuracy: 0.8445\n",
      "Epoch 7/500\n",
      "238/238 [==============================] - 0s 2ms/step - loss: 0.3444 - accuracy: 0.8711 - val_loss: 0.3689 - val_accuracy: 0.8628\n",
      "Epoch 8/500\n",
      "238/238 [==============================] - 0s 2ms/step - loss: 0.3184 - accuracy: 0.8801 - val_loss: 0.3551 - val_accuracy: 0.8634\n",
      "Epoch 9/500\n",
      "238/238 [==============================] - 0s 2ms/step - loss: 0.2972 - accuracy: 0.8875 - val_loss: 0.3359 - val_accuracy: 0.8770\n",
      "Epoch 10/500\n",
      "238/238 [==============================] - 1s 2ms/step - loss: 0.2786 - accuracy: 0.8972 - val_loss: 0.3225 - val_accuracy: 0.8765\n",
      "Epoch 11/500\n",
      "238/238 [==============================] - 0s 2ms/step - loss: 0.2633 - accuracy: 0.9068 - val_loss: 0.3189 - val_accuracy: 0.8776\n",
      "Epoch 12/500\n",
      "238/238 [==============================] - 1s 2ms/step - loss: 0.2473 - accuracy: 0.9084 - val_loss: 0.3073 - val_accuracy: 0.8833\n",
      "Epoch 13/500\n",
      "238/238 [==============================] - 1s 2ms/step - loss: 0.2377 - accuracy: 0.9126 - val_loss: 0.2979 - val_accuracy: 0.8891\n",
      "Epoch 14/500\n",
      "238/238 [==============================] - 1s 2ms/step - loss: 0.2288 - accuracy: 0.9156 - val_loss: 0.2915 - val_accuracy: 0.8902\n",
      "Epoch 15/500\n",
      "238/238 [==============================] - 1s 2ms/step - loss: 0.2170 - accuracy: 0.9194 - val_loss: 0.2830 - val_accuracy: 0.8860\n",
      "Epoch 16/500\n",
      "238/238 [==============================] - 0s 2ms/step - loss: 0.2099 - accuracy: 0.9227 - val_loss: 0.2794 - val_accuracy: 0.8912\n",
      "Epoch 17/500\n",
      "238/238 [==============================] - 0s 2ms/step - loss: 0.2018 - accuracy: 0.9218 - val_loss: 0.2713 - val_accuracy: 0.8896\n",
      "Epoch 18/500\n",
      "238/238 [==============================] - 0s 2ms/step - loss: 0.1952 - accuracy: 0.9251 - val_loss: 0.2743 - val_accuracy: 0.8896\n",
      "Epoch 19/500\n",
      "238/238 [==============================] - 0s 2ms/step - loss: 0.1893 - accuracy: 0.9277 - val_loss: 0.2617 - val_accuracy: 0.8939\n",
      "Epoch 20/500\n",
      "238/238 [==============================] - 0s 2ms/step - loss: 0.1828 - accuracy: 0.9285 - val_loss: 0.2598 - val_accuracy: 0.8949\n",
      "Epoch 21/500\n",
      "238/238 [==============================] - 0s 2ms/step - loss: 0.1774 - accuracy: 0.9300 - val_loss: 0.2630 - val_accuracy: 0.8912\n",
      "Epoch 22/500\n",
      "238/238 [==============================] - 0s 2ms/step - loss: 0.1744 - accuracy: 0.9298 - val_loss: 0.2516 - val_accuracy: 0.8960\n",
      "Epoch 23/500\n",
      "238/238 [==============================] - 0s 2ms/step - loss: 0.1686 - accuracy: 0.9330 - val_loss: 0.2506 - val_accuracy: 0.9002\n",
      "Epoch 24/500\n",
      "238/238 [==============================] - 0s 2ms/step - loss: 0.1649 - accuracy: 0.9321 - val_loss: 0.2486 - val_accuracy: 0.8996\n",
      "Epoch 25/500\n",
      "238/238 [==============================] - 0s 2ms/step - loss: 0.1607 - accuracy: 0.9368 - val_loss: 0.2465 - val_accuracy: 0.9028\n",
      "Epoch 26/500\n",
      "238/238 [==============================] - 0s 2ms/step - loss: 0.1572 - accuracy: 0.9370 - val_loss: 0.2548 - val_accuracy: 0.8928\n",
      "Epoch 27/500\n",
      "238/238 [==============================] - 0s 2ms/step - loss: 0.1548 - accuracy: 0.9355 - val_loss: 0.2429 - val_accuracy: 0.9033\n",
      "Epoch 28/500\n",
      "238/238 [==============================] - 0s 2ms/step - loss: 0.1512 - accuracy: 0.9373 - val_loss: 0.2443 - val_accuracy: 0.9059\n",
      "Epoch 29/500\n",
      "238/238 [==============================] - 1s 2ms/step - loss: 0.1480 - accuracy: 0.9401 - val_loss: 0.2440 - val_accuracy: 0.9033\n"
     ]
    }
   ],
   "source": [
    "#fit the model and capture the details of the fit to a variable called history\n",
    "#note that validation data will be dynamically allocated as 20% of the training data\n",
    "history = model.fit(X_train, \n",
    "                    y_train, \n",
    "                    epochs=500, \n",
    "                    validation_split=.2,\n",
    "                    callbacks = [early_stopping]\n",
    "                   )"
   ]
  },
  {
   "cell_type": "markdown",
   "id": "63a0508a-1f11-4d5a-bc49-6d9161dd3a76",
   "metadata": {},
   "source": [
    "### Evaluate Performance"
   ]
  },
  {
   "cell_type": "code",
   "execution_count": 60,
   "id": "a9666013-14f1-4ba4-9d2f-4c59f74f5faf",
   "metadata": {},
   "outputs": [
    {
     "data": {
      "image/png": "[encoded data removed]",
      "text/plain": [
       "<Figure size 576x360 with 1 Axes>"
      ]
     },
     "metadata": {
      "needs_background": "light"
     },
     "output_type": "display_data"
    }
   ],
   "source": [
    "#plot the loss learning curve\n",
    "nn_plot_learning_curve(history)"
   ]
  },
  {
   "cell_type": "code",
   "execution_count": 61,
   "id": "8d88721d-905d-45bb-9f60-7f1dff1a4572",
   "metadata": {},
   "outputs": [
    {
     "name": "stdout",
     "output_type": "stream",
     "text": [
      "298/298 [==============================] - 0s 1ms/step - loss: 0.1564 - accuracy: 0.9384\n",
      "Loss: 0.16  ---  Accuracy: 93.84%\n"
     ]
    }
   ],
   "source": [
    "#evaluate performance of Training set\n",
    "accuracy = model.evaluate(X_train, y_train)\n",
    "print('Loss: {:.2f}  ---  Accuracy: {:.2f}%'.format( accuracy[0], accuracy[1]*100 ) )"
   ]
  },
  {
   "cell_type": "code",
   "execution_count": 62,
   "id": "67803dfa-12ca-420f-a834-0dd4734f5c0d",
   "metadata": {},
   "outputs": [
    {
     "name": "stdout",
     "output_type": "stream",
     "text": [
      "75/75 [==============================] - 0s 1ms/step - loss: 0.2366 - accuracy: 0.9033\n",
      "Loss: 0.24  ---  Accuracy: 90.33%\n"
     ]
    }
   ],
   "source": [
    "#evaluate performance of Test set\n",
    "accuracy = model.evaluate(X_test, y_test)\n",
    "print('Loss: {:.2f}  ---  Accuracy: {:.2f}%'.format( accuracy[0], accuracy[1]*100 ) )"
   ]
  },
  {
   "cell_type": "code",
   "execution_count": 66,
   "id": "3a0a7a35-9a4a-42d8-bb1f-ec52ac013d75",
   "metadata": {},
   "outputs": [
    {
     "data": {
      "text/plain": [
       "array([[9.8664397e-01, 6.5093086e-10, 1.3356027e-02],\n",
       "       [3.4105324e-03, 8.4957668e-05, 9.9650455e-01],\n",
       "       [9.9772888e-01, 1.1940725e-06, 2.2699747e-03]], dtype=float32)"
      ]
     },
     "execution_count": 66,
     "metadata": {},
     "output_type": "execute_result"
    }
   ],
   "source": [
    "#carpred.drop(columns=[ \"Vehicle Size\"], inplace = True)\n",
    "X_prepared = full_pipeline.transform(carpred)\n",
    "model.predict(X_prepared[0:3])"
   ]
  },
  {
   "cell_type": "code",
   "execution_count": 67,
   "id": "b75346cd-ab33-4303-b9b6-fed4521d829e",
   "metadata": {},
   "outputs": [
    {
     "data": {
      "text/plain": [
       "array([0, 2, 0], dtype=int64)"
      ]
     },
     "execution_count": 67,
     "metadata": {},
     "output_type": "execute_result"
    }
   ],
   "source": [
    "#see the actual predicted values\n",
    "np.argmax( model.predict(X_prepared[0:3]) , axis=1)"
   ]
  }
 ],
 "metadata": {
  "kernelspec": {
   "display_name": "Python 3 (ipykernel)",
   "language": "python",
   "name": "python3"
  },
  "language_info": {
   "codemirror_mode": {
    "name": "ipython",
    "version": 3
   },
   "file_extension": ".py",
   "mimetype": "text/x-python",
   "name": "python",
   "nbconvert_exporter": "python",
   "pygments_lexer": "ipython3",
   "version": "3.9.7"
  }
 },
 "nbformat": 4,
 "nbformat_minor": 5
}
