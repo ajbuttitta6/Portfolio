{
 "cells": [
  {
   "cell_type": "markdown",
   "id": "b893bb84-742d-43bf-9a8e-4eb4704426d0",
   "metadata": {},
   "source": [
    "## A3: Classification and Feature Engineering"
   ]
  },
  {
   "cell_type": "markdown",
   "id": "4f8902b5-2e6e-400b-a750-70eaef6bee6e",
   "metadata": {},
   "source": [
    "### Anthony Buttitta         \n",
    "#### MIS 3080-01"
   ]
  },
  {
   "cell_type": "code",
   "execution_count": 28,
   "id": "5241536c-cb12-4f8b-9936-ea7755983e39",
   "metadata": {},
   "outputs": [],
   "source": [
    "# A column that indicates if the incubent won the county (>50%) or did not\n",
    "# Another column that indicates if the incumbent lost, won, or won by a landslide (>65%)\n",
    "\n",
    "# The training and test data set should include the categorical attributes State and Region.\n",
    "# Set the random state to 35. \n",
    "# Consider feature engineering opportunities to help support your model’s performance and \n",
    "# document choices you have made.\n"
   ]
  },
  {
   "cell_type": "code",
   "execution_count": 29,
   "id": "cda73991-9b40-4690-a2dc-8190041daff1",
   "metadata": {},
   "outputs": [],
   "source": [
    "#Create a classification model to best predict the incumbent’s win (or not) for a county. Evaluate the\n",
    "# model’s learning curve. Predict the results for Delaware County, PA.\n",
    "# 5. Create a classification model to predict the incumbent’s lose, win or landslide victory for a county.\n",
    "# Evaluate the model’s learning curve. Predict the results for Delaware County, PA.\n",
    "# 6. Make a feature change to your model and document the impact this adjustment had on your 2\n",
    "# classification models and their performance."
   ]
  },
  {
   "cell_type": "markdown",
   "id": "e7983acc-4087-4051-aaec-e90efff3ab6e",
   "metadata": {},
   "source": [
    "### Import Modules"
   ]
  },
  {
   "cell_type": "code",
   "execution_count": 30,
   "id": "1c119681-4054-40c5-87e4-8111c0f097a4",
   "metadata": {},
   "outputs": [],
   "source": [
    "#general libraries needed\n",
    "import pandas as pd\n",
    "import matplotlib.pyplot as plt\n",
    "import numpy as np\n",
    "\n",
    "#scikit learn imports\n",
    "from sklearn.linear_model import LogisticRegression, SGDClassifier\n",
    "from sklearn.metrics import mean_squared_error\n",
    "from sklearn.model_selection import train_test_split, cross_val_score, cross_val_predict, GridSearchCV\n",
    "from sklearn.ensemble import RandomForestClassifier\n",
    "from sklearn.impute import SimpleImputer\n",
    "from sklearn.preprocessing import PolynomialFeatures, OneHotEncoder, StandardScaler\n",
    "from sklearn.compose import ColumnTransformer\n",
    "from sklearn.pipeline import Pipeline\n",
    "from sklearn.calibration import CalibratedClassifierCV\n",
    "from sklearn.metrics import accuracy_score, confusion_matrix, precision_score, recall_score, precision_recall_curve, f1_score, roc_curve, roc_auc_score"
   ]
  },
  {
   "cell_type": "markdown",
   "id": "15911e06-2ab4-47b4-9638-eedccb55feda",
   "metadata": {},
   "source": [
    "### Function Defintions"
   ]
  },
  {
   "cell_type": "code",
   "execution_count": 31,
   "id": "8e248c72-5b8b-4fe8-a100-4a796f828b1e",
   "metadata": {},
   "outputs": [],
   "source": [
    "#function to verify the existence of a file in the current working directory and download it if not\n",
    "import os,urllib, urllib.request, sys, tarfile\n",
    "def downloadDataResource(file,sourcePath,compressed=None):\n",
    "    if not os.path.isfile(file):\n",
    "        try:\n",
    "            urllib.request.urlretrieve(sourcePath+(compressed if compressed else file),(compressed if compressed else file))\n",
    "            print(\"Downloaded\", (compressed if compressed else file) )\n",
    "            if compressed:\n",
    "                ucomp = tarfile.open(compressed)\n",
    "                ucomp.extractall()\n",
    "                ucomp.close()\n",
    "                print(\"File uncompressed.\")\n",
    "        except:\n",
    "            print(\"ERROR: File\", (compressed if compressed else file), \"not found. Data source missing.\")\n",
    "    else:\n",
    "        print(\"Data resource\", file, \"already downloaded.\")"
   ]
  },
  {
   "cell_type": "code",
   "execution_count": 32,
   "id": "5fbbaab5-e2c5-44c0-8bf5-f7be528728a3",
   "metadata": {},
   "outputs": [],
   "source": [
    "#function that shows a learning curve for any model that has predict or fit methods\n",
    "from sklearn.model_selection import learning_curve\n",
    "\n",
    "def plot_learning_curve(estimator,X,y,ylim=None,cv=None,n_jobs=None,train_sizes=np.linspace(0.1, 1.0, 20),scoring = 'neg_root_mean_squared_error'):\n",
    "    \n",
    "    _, axes = plt.subplots(1, 1, figsize=(10, 5))    \n",
    "    axes.set_title('Learning Curve')\n",
    "    if ylim is not None:\n",
    "        axes.set_ylim(*ylim)\n",
    "    axes.set_xlabel(\"Training examples\")\n",
    "    axes.set_ylabel(scoring)\n",
    "\n",
    "    train_sizes, train_scores, test_scores= learning_curve(estimator,X,y,cv=cv,n_jobs=n_jobs,train_sizes=train_sizes,scoring = scoring)\n",
    "    train_scores_mean = np.mean(train_scores, axis=1)\n",
    "    train_scores_std = np.std(train_scores, axis=1)\n",
    "    test_scores_mean = np.mean(test_scores, axis=1)\n",
    "    test_scores_std = np.std(test_scores, axis=1)\n",
    "\n",
    "    # Plot learning curve\n",
    "    axes.grid()\n",
    "    axes.fill_between(train_sizes,train_scores_mean - train_scores_std,train_scores_mean + train_scores_std,alpha=0.1,color=\"r\")\n",
    "    axes.fill_between(train_sizes,test_scores_mean - test_scores_std,test_scores_mean + test_scores_std,alpha=0.1,color=\"g\")\n",
    "    axes.plot(train_sizes, train_scores_mean, \"o-\", color=\"r\", label=\"Training score\")\n",
    "    axes.plot(train_sizes, test_scores_mean, \"o-\", color=\"g\", label=\"Cross-validation score\")\n",
    "    axes.legend(loc=\"best\")\n",
    "    plt.show()\n",
    "    \n",
    "    return\n",
    "\n",
    "#code to prevent warnings that can occur as a result of this function\n",
    "from warnings import simplefilter\n",
    "from sklearn.exceptions import ConvergenceWarning\n",
    "simplefilter(\"ignore\", category=ConvergenceWarning)"
   ]
  },
  {
   "cell_type": "code",
   "execution_count": 33,
   "id": "b91d98f2-1fa0-4624-9f84-de50761f595b",
   "metadata": {},
   "outputs": [],
   "source": [
    "def plot_confusion_matrix(matrix):\n",
    "    \"\"\"If you prefer color and a colorbar\"\"\"\n",
    "    fig = plt.figure(figsize=(8,8))\n",
    "    ax = fig.add_subplot(111)\n",
    "    cax = ax.matshow(matrix)\n",
    "    fig.colorbar(cax)"
   ]
  },
  {
   "cell_type": "markdown",
   "id": "50cba75a-7eab-4c12-bd39-6d240d8820f0",
   "metadata": {},
   "source": [
    "### Source Data"
   ]
  },
  {
   "cell_type": "code",
   "execution_count": 34,
   "id": "5d21445e-88db-45bf-a272-3fe138bc2042",
   "metadata": {},
   "outputs": [
    {
     "name": "stdout",
     "output_type": "stream",
     "text": [
      "Data resource COVID_31Dec2021.csv already downloaded.\n"
     ]
    }
   ],
   "source": [
    "path = \"https://raw.githubusercontent.com/SueMcMetzger/MachineLearning/main/chpt4/\"\n",
    "\n",
    "#compressedfile = \"housing.tgz\"\n",
    "filename = 'COVID_31Dec2021.csv'\n",
    "\n",
    "#download data files if not currently downloaded into the current working directory\n",
    "downloadDataResource(filename, path)\n",
    "\n",
    "#create the dataframe\n",
    "covid = pd.read_csv(filename)"
   ]
  },
  {
   "cell_type": "code",
   "execution_count": 35,
   "id": "f61a45f4-c10d-4e93-bf45-e60c9bc8fd37",
   "metadata": {},
   "outputs": [
    {
     "name": "stdout",
     "output_type": "stream",
     "text": [
      "Data resource ElectionEconomicSocialDataByFIPS.csv already downloaded.\n"
     ]
    }
   ],
   "source": [
    "filename2 = \"ElectionEconomicSocialDataByFIPS.csv\"\n",
    "\n",
    "#download data files if not currently downloaded into the current working directory\n",
    "downloadDataResource(filename2, path)\n",
    "\n",
    "#create the dataframe\n",
    "fips = pd.read_csv(filename2)"
   ]
  },
  {
   "cell_type": "code",
   "execution_count": 36,
   "id": "1fc8c549-4a7f-4092-a954-befaf546bfd1",
   "metadata": {},
   "outputs": [],
   "source": [
    "data = pd.merge(covid, fips, left_on='fips', right_on='fips', how='inner')"
   ]
  },
  {
   "cell_type": "markdown",
   "id": "c9ea1c3f-4935-4543-91bc-276b1ec3e1f8",
   "metadata": {},
   "source": [
    "### Explore Data"
   ]
  },
  {
   "cell_type": "code",
   "execution_count": 37,
   "id": "307209a2-ae73-442a-8fca-89f59a5e1c5c",
   "metadata": {},
   "outputs": [
    {
     "name": "stdout",
     "output_type": "stream",
     "text": [
      "<class 'pandas.core.frame.DataFrame'>\n",
      "Int64Index: 3140 entries, 0 to 3139\n",
      "Data columns (total 19 columns):\n",
      " #   Column            Non-Null Count  Dtype  \n",
      "---  ------            --------------  -----  \n",
      " 0   fips              3140 non-null   int64  \n",
      " 1   state             3140 non-null   object \n",
      " 2   county            3140 non-null   object \n",
      " 3   population        3140 non-null   int64  \n",
      " 4   vaccinationRate   3007 non-null   float64\n",
      " 5   cases             3140 non-null   int64  \n",
      " 6   deaths            3140 non-null   int64  \n",
      " 7   Region            3140 non-null   object \n",
      " 8   MedianIncome      3140 non-null   int64  \n",
      " 9   PovertyEst        3140 non-null   int64  \n",
      " 10  LaborForce        3140 non-null   int64  \n",
      " 11  UnemploymentRate  3140 non-null   float64\n",
      " 12  Older             3004 non-null   float64\n",
      " 13  Urban             3004 non-null   float64\n",
      " 14  Trump2016         3004 non-null   float64\n",
      " 15  Trump2020         3004 non-null   float64\n",
      " 16  RepGov            3004 non-null   float64\n",
      " 17  Female            3004 non-null   float64\n",
      " 18  AdherentPercent   3111 non-null   float64\n",
      "dtypes: float64(9), int64(7), object(3)\n",
      "memory usage: 490.6+ KB\n"
     ]
    }
   ],
   "source": [
    "data.info()"
   ]
  },
  {
   "cell_type": "code",
   "execution_count": 38,
   "id": "2032cdbb-a7c0-4956-9c5c-bcf74cd49a46",
   "metadata": {},
   "outputs": [],
   "source": [
    "data.dropna( subset=['Trump2020'], inplace=True )"
   ]
  },
  {
   "cell_type": "code",
   "execution_count": 39,
   "id": "4dd587c8-00bd-4bde-b3f6-6d1959c664d8",
   "metadata": {},
   "outputs": [
    {
     "name": "stdout",
     "output_type": "stream",
     "text": [
      "<class 'pandas.core.frame.DataFrame'>\n",
      "Int64Index: 3004 entries, 0 to 3047\n",
      "Data columns (total 19 columns):\n",
      " #   Column            Non-Null Count  Dtype  \n",
      "---  ------            --------------  -----  \n",
      " 0   fips              3004 non-null   int64  \n",
      " 1   state             3004 non-null   object \n",
      " 2   county            3004 non-null   object \n",
      " 3   population        3004 non-null   int64  \n",
      " 4   vaccinationRate   2873 non-null   float64\n",
      " 5   cases             3004 non-null   int64  \n",
      " 6   deaths            3004 non-null   int64  \n",
      " 7   Region            3004 non-null   object \n",
      " 8   MedianIncome      3004 non-null   int64  \n",
      " 9   PovertyEst        3004 non-null   int64  \n",
      " 10  LaborForce        3004 non-null   int64  \n",
      " 11  UnemploymentRate  3004 non-null   float64\n",
      " 12  Older             3004 non-null   float64\n",
      " 13  Urban             3004 non-null   float64\n",
      " 14  Trump2016         3004 non-null   float64\n",
      " 15  Trump2020         3004 non-null   float64\n",
      " 16  RepGov            3004 non-null   float64\n",
      " 17  Female            3004 non-null   float64\n",
      " 18  AdherentPercent   3004 non-null   float64\n",
      "dtypes: float64(9), int64(7), object(3)\n",
      "memory usage: 469.4+ KB\n"
     ]
    }
   ],
   "source": [
    "data.info()"
   ]
  },
  {
   "cell_type": "code",
   "execution_count": 40,
   "id": "73e6c90b-57d9-49ae-b81f-59dd23b44966",
   "metadata": {},
   "outputs": [
    {
     "data": {
      "text/html": [
       "<div>\n",
       "<style scoped>\n",
       "    .dataframe tbody tr th:only-of-type {\n",
       "        vertical-align: middle;\n",
       "    }\n",
       "\n",
       "    .dataframe tbody tr th {\n",
       "        vertical-align: top;\n",
       "    }\n",
       "\n",
       "    .dataframe thead th {\n",
       "        text-align: right;\n",
       "    }\n",
       "</style>\n",
       "<table border=\"1\" class=\"dataframe\">\n",
       "  <thead>\n",
       "    <tr style=\"text-align: right;\">\n",
       "      <th></th>\n",
       "      <th>fips</th>\n",
       "      <th>population</th>\n",
       "      <th>vaccinationRate</th>\n",
       "      <th>cases</th>\n",
       "      <th>deaths</th>\n",
       "      <th>MedianIncome</th>\n",
       "      <th>PovertyEst</th>\n",
       "      <th>LaborForce</th>\n",
       "      <th>UnemploymentRate</th>\n",
       "      <th>Older</th>\n",
       "      <th>Urban</th>\n",
       "      <th>Trump2016</th>\n",
       "      <th>Trump2020</th>\n",
       "      <th>RepGov</th>\n",
       "      <th>Female</th>\n",
       "      <th>AdherentPercent</th>\n",
       "    </tr>\n",
       "  </thead>\n",
       "  <tbody>\n",
       "    <tr>\n",
       "      <th>count</th>\n",
       "      <td>3004.000000</td>\n",
       "      <td>3.004000e+03</td>\n",
       "      <td>2873.000000</td>\n",
       "      <td>3.004000e+03</td>\n",
       "      <td>3004.000000</td>\n",
       "      <td>3004.000000</td>\n",
       "      <td>3.004000e+03</td>\n",
       "      <td>3.004000e+03</td>\n",
       "      <td>3004.000000</td>\n",
       "      <td>3004.000000</td>\n",
       "      <td>3004.000000</td>\n",
       "      <td>3004.000000</td>\n",
       "      <td>3004.000000</td>\n",
       "      <td>3004.000000</td>\n",
       "      <td>3004.000000</td>\n",
       "      <td>3004.000000</td>\n",
       "    </tr>\n",
       "    <tr>\n",
       "      <th>mean</th>\n",
       "      <td>29895.236019</td>\n",
       "      <td>1.062064e+05</td>\n",
       "      <td>0.481671</td>\n",
       "      <td>1.744259e+04</td>\n",
       "      <td>267.076232</td>\n",
       "      <td>57083.105526</td>\n",
       "      <td>1.246958e+04</td>\n",
       "      <td>5.188906e+04</td>\n",
       "      <td>6.725999</td>\n",
       "      <td>17.094656</td>\n",
       "      <td>41.544511</td>\n",
       "      <td>63.773145</td>\n",
       "      <td>65.120572</td>\n",
       "      <td>0.595539</td>\n",
       "      <td>0.169441</td>\n",
       "      <td>51.599157</td>\n",
       "    </tr>\n",
       "    <tr>\n",
       "      <th>std</th>\n",
       "      <td>14560.591119</td>\n",
       "      <td>3.395493e+05</td>\n",
       "      <td>0.113674</td>\n",
       "      <td>5.672387e+04</td>\n",
       "      <td>887.783519</td>\n",
       "      <td>14531.876769</td>\n",
       "      <td>4.269069e+04</td>\n",
       "      <td>1.687269e+05</td>\n",
       "      <td>2.232475</td>\n",
       "      <td>4.307711</td>\n",
       "      <td>31.448990</td>\n",
       "      <td>15.561126</td>\n",
       "      <td>16.054708</td>\n",
       "      <td>0.490869</td>\n",
       "      <td>0.375203</td>\n",
       "      <td>18.263000</td>\n",
       "    </tr>\n",
       "    <tr>\n",
       "      <th>min</th>\n",
       "      <td>1001.000000</td>\n",
       "      <td>4.630000e+02</td>\n",
       "      <td>0.030000</td>\n",
       "      <td>2.700000e+01</td>\n",
       "      <td>0.000000</td>\n",
       "      <td>22901.000000</td>\n",
       "      <td>4.900000e+01</td>\n",
       "      <td>2.310000e+02</td>\n",
       "      <td>1.700000</td>\n",
       "      <td>4.691211</td>\n",
       "      <td>0.000000</td>\n",
       "      <td>8.342566</td>\n",
       "      <td>8.730038</td>\n",
       "      <td>0.000000</td>\n",
       "      <td>0.000000</td>\n",
       "      <td>3.064889</td>\n",
       "    </tr>\n",
       "    <tr>\n",
       "      <th>25%</th>\n",
       "      <td>18182.500000</td>\n",
       "      <td>1.108025e+04</td>\n",
       "      <td>0.404000</td>\n",
       "      <td>1.884500e+03</td>\n",
       "      <td>34.750000</td>\n",
       "      <td>47505.750000</td>\n",
       "      <td>1.479750e+03</td>\n",
       "      <td>4.879250e+03</td>\n",
       "      <td>5.200000</td>\n",
       "      <td>14.434070</td>\n",
       "      <td>13.110000</td>\n",
       "      <td>55.064585</td>\n",
       "      <td>55.871205</td>\n",
       "      <td>0.000000</td>\n",
       "      <td>0.000000</td>\n",
       "      <td>38.589889</td>\n",
       "    </tr>\n",
       "    <tr>\n",
       "      <th>50%</th>\n",
       "      <td>29112.000000</td>\n",
       "      <td>2.602100e+04</td>\n",
       "      <td>0.470000</td>\n",
       "      <td>4.551500e+03</td>\n",
       "      <td>82.000000</td>\n",
       "      <td>54805.500000</td>\n",
       "      <td>3.527000e+03</td>\n",
       "      <td>1.155400e+04</td>\n",
       "      <td>6.500000</td>\n",
       "      <td>16.749255</td>\n",
       "      <td>40.555000</td>\n",
       "      <td>67.048675</td>\n",
       "      <td>68.561070</td>\n",
       "      <td>1.000000</td>\n",
       "      <td>0.000000</td>\n",
       "      <td>49.915000</td>\n",
       "    </tr>\n",
       "    <tr>\n",
       "      <th>75%</th>\n",
       "      <td>42095.500000</td>\n",
       "      <td>6.815100e+04</td>\n",
       "      <td>0.548000</td>\n",
       "      <td>1.183500e+04</td>\n",
       "      <td>195.000000</td>\n",
       "      <td>63480.750000</td>\n",
       "      <td>8.616500e+03</td>\n",
       "      <td>3.146025e+04</td>\n",
       "      <td>8.000000</td>\n",
       "      <td>19.269340</td>\n",
       "      <td>66.860000</td>\n",
       "      <td>75.201360</td>\n",
       "      <td>77.524547</td>\n",
       "      <td>1.000000</td>\n",
       "      <td>0.000000</td>\n",
       "      <td>62.560722</td>\n",
       "    </tr>\n",
       "    <tr>\n",
       "      <th>max</th>\n",
       "      <td>55005.000000</td>\n",
       "      <td>1.003911e+07</td>\n",
       "      <td>1.304000</td>\n",
       "      <td>1.697286e+06</td>\n",
       "      <td>27637.000000</td>\n",
       "      <td>160305.000000</td>\n",
       "      <td>1.289368e+06</td>\n",
       "      <td>4.921499e+06</td>\n",
       "      <td>22.500000</td>\n",
       "      <td>55.481680</td>\n",
       "      <td>100.000000</td>\n",
       "      <td>95.272730</td>\n",
       "      <td>96.181820</td>\n",
       "      <td>1.000000</td>\n",
       "      <td>1.000000</td>\n",
       "      <td>192.460889</td>\n",
       "    </tr>\n",
       "  </tbody>\n",
       "</table>\n",
       "</div>"
      ],
      "text/plain": [
       "               fips    population  vaccinationRate         cases  \\\n",
       "count   3004.000000  3.004000e+03      2873.000000  3.004000e+03   \n",
       "mean   29895.236019  1.062064e+05         0.481671  1.744259e+04   \n",
       "std    14560.591119  3.395493e+05         0.113674  5.672387e+04   \n",
       "min     1001.000000  4.630000e+02         0.030000  2.700000e+01   \n",
       "25%    18182.500000  1.108025e+04         0.404000  1.884500e+03   \n",
       "50%    29112.000000  2.602100e+04         0.470000  4.551500e+03   \n",
       "75%    42095.500000  6.815100e+04         0.548000  1.183500e+04   \n",
       "max    55005.000000  1.003911e+07         1.304000  1.697286e+06   \n",
       "\n",
       "             deaths   MedianIncome    PovertyEst    LaborForce  \\\n",
       "count   3004.000000    3004.000000  3.004000e+03  3.004000e+03   \n",
       "mean     267.076232   57083.105526  1.246958e+04  5.188906e+04   \n",
       "std      887.783519   14531.876769  4.269069e+04  1.687269e+05   \n",
       "min        0.000000   22901.000000  4.900000e+01  2.310000e+02   \n",
       "25%       34.750000   47505.750000  1.479750e+03  4.879250e+03   \n",
       "50%       82.000000   54805.500000  3.527000e+03  1.155400e+04   \n",
       "75%      195.000000   63480.750000  8.616500e+03  3.146025e+04   \n",
       "max    27637.000000  160305.000000  1.289368e+06  4.921499e+06   \n",
       "\n",
       "       UnemploymentRate        Older        Urban    Trump2016    Trump2020  \\\n",
       "count       3004.000000  3004.000000  3004.000000  3004.000000  3004.000000   \n",
       "mean           6.725999    17.094656    41.544511    63.773145    65.120572   \n",
       "std            2.232475     4.307711    31.448990    15.561126    16.054708   \n",
       "min            1.700000     4.691211     0.000000     8.342566     8.730038   \n",
       "25%            5.200000    14.434070    13.110000    55.064585    55.871205   \n",
       "50%            6.500000    16.749255    40.555000    67.048675    68.561070   \n",
       "75%            8.000000    19.269340    66.860000    75.201360    77.524547   \n",
       "max           22.500000    55.481680   100.000000    95.272730    96.181820   \n",
       "\n",
       "            RepGov       Female  AdherentPercent  \n",
       "count  3004.000000  3004.000000      3004.000000  \n",
       "mean      0.595539     0.169441        51.599157  \n",
       "std       0.490869     0.375203        18.263000  \n",
       "min       0.000000     0.000000         3.064889  \n",
       "25%       0.000000     0.000000        38.589889  \n",
       "50%       1.000000     0.000000        49.915000  \n",
       "75%       1.000000     0.000000        62.560722  \n",
       "max       1.000000     1.000000       192.460889  "
      ]
     },
     "execution_count": 40,
     "metadata": {},
     "output_type": "execute_result"
    }
   ],
   "source": [
    "data.describe()"
   ]
  },
  {
   "cell_type": "code",
   "execution_count": 41,
   "id": "563ef221-015b-42ec-84f3-9eda3aacd673",
   "metadata": {},
   "outputs": [
    {
     "data": {
      "text/plain": [
       "<AxesSubplot:>"
      ]
     },
     "execution_count": 41,
     "metadata": {},
     "output_type": "execute_result"
    },
    {
     "data": {
      "image/png": "[encoded data removed]",
      "text/plain": [
       "<Figure size 432x288 with 1 Axes>"
      ]
     },
     "metadata": {
      "needs_background": "light"
     },
     "output_type": "display_data"
    }
   ],
   "source": [
    "data.Trump2020.hist()"
   ]
  },
  {
   "cell_type": "code",
   "execution_count": 42,
   "id": "9dacc145-085a-47bd-8a2a-1044e333ae1c",
   "metadata": {},
   "outputs": [
    {
     "data": {
      "text/html": [
       "<div>\n",
       "<style scoped>\n",
       "    .dataframe tbody tr th:only-of-type {\n",
       "        vertical-align: middle;\n",
       "    }\n",
       "\n",
       "    .dataframe tbody tr th {\n",
       "        vertical-align: top;\n",
       "    }\n",
       "\n",
       "    .dataframe thead th {\n",
       "        text-align: right;\n",
       "    }\n",
       "</style>\n",
       "<table border=\"1\" class=\"dataframe\">\n",
       "  <thead>\n",
       "    <tr style=\"text-align: right;\">\n",
       "      <th></th>\n",
       "      <th>fips</th>\n",
       "      <th>state</th>\n",
       "      <th>county</th>\n",
       "      <th>population</th>\n",
       "      <th>vaccinationRate</th>\n",
       "      <th>cases</th>\n",
       "      <th>deaths</th>\n",
       "      <th>Region</th>\n",
       "      <th>MedianIncome</th>\n",
       "      <th>PovertyEst</th>\n",
       "      <th>LaborForce</th>\n",
       "      <th>UnemploymentRate</th>\n",
       "      <th>Older</th>\n",
       "      <th>Urban</th>\n",
       "      <th>Trump2016</th>\n",
       "      <th>Trump2020</th>\n",
       "      <th>RepGov</th>\n",
       "      <th>Female</th>\n",
       "      <th>AdherentPercent</th>\n",
       "    </tr>\n",
       "  </thead>\n",
       "  <tbody>\n",
       "    <tr>\n",
       "      <th>0</th>\n",
       "      <td>1001</td>\n",
       "      <td>AL</td>\n",
       "      <td>Autauga County</td>\n",
       "      <td>55869</td>\n",
       "      <td>0.384</td>\n",
       "      <td>11013</td>\n",
       "      <td>160</td>\n",
       "      <td>Southeast</td>\n",
       "      <td>67565</td>\n",
       "      <td>6242</td>\n",
       "      <td>25838</td>\n",
       "      <td>4.9</td>\n",
       "      <td>13.35160</td>\n",
       "      <td>58.00</td>\n",
       "      <td>73.43579</td>\n",
       "      <td>71.43681</td>\n",
       "      <td>1.0</td>\n",
       "      <td>1.0</td>\n",
       "      <td>67.687889</td>\n",
       "    </tr>\n",
       "    <tr>\n",
       "      <th>1</th>\n",
       "      <td>1003</td>\n",
       "      <td>AL</td>\n",
       "      <td>Baldwin County</td>\n",
       "      <td>223234</td>\n",
       "      <td>0.476</td>\n",
       "      <td>39818</td>\n",
       "      <td>593</td>\n",
       "      <td>Southeast</td>\n",
       "      <td>71135</td>\n",
       "      <td>20189</td>\n",
       "      <td>96763</td>\n",
       "      <td>5.6</td>\n",
       "      <td>18.08256</td>\n",
       "      <td>57.72</td>\n",
       "      <td>77.35147</td>\n",
       "      <td>76.17137</td>\n",
       "      <td>1.0</td>\n",
       "      <td>1.0</td>\n",
       "      <td>53.174000</td>\n",
       "    </tr>\n",
       "    <tr>\n",
       "      <th>2</th>\n",
       "      <td>1005</td>\n",
       "      <td>AL</td>\n",
       "      <td>Barbour County</td>\n",
       "      <td>24686</td>\n",
       "      <td>0.419</td>\n",
       "      <td>3850</td>\n",
       "      <td>81</td>\n",
       "      <td>Southeast</td>\n",
       "      <td>38866</td>\n",
       "      <td>5548</td>\n",
       "      <td>8587</td>\n",
       "      <td>7.0</td>\n",
       "      <td>17.12386</td>\n",
       "      <td>32.21</td>\n",
       "      <td>52.27142</td>\n",
       "      <td>53.45123</td>\n",
       "      <td>1.0</td>\n",
       "      <td>1.0</td>\n",
       "      <td>54.999000</td>\n",
       "    </tr>\n",
       "    <tr>\n",
       "      <th>3</th>\n",
       "      <td>1007</td>\n",
       "      <td>AL</td>\n",
       "      <td>Bibb County</td>\n",
       "      <td>22394</td>\n",
       "      <td>0.326</td>\n",
       "      <td>4524</td>\n",
       "      <td>95</td>\n",
       "      <td>Southeast</td>\n",
       "      <td>50907</td>\n",
       "      <td>3549</td>\n",
       "      <td>8640</td>\n",
       "      <td>6.6</td>\n",
       "      <td>15.13983</td>\n",
       "      <td>31.65</td>\n",
       "      <td>76.96616</td>\n",
       "      <td>78.42627</td>\n",
       "      <td>1.0</td>\n",
       "      <td>1.0</td>\n",
       "      <td>49.880000</td>\n",
       "    </tr>\n",
       "    <tr>\n",
       "      <th>4</th>\n",
       "      <td>1009</td>\n",
       "      <td>AL</td>\n",
       "      <td>Blount County</td>\n",
       "      <td>57826</td>\n",
       "      <td>0.296</td>\n",
       "      <td>11244</td>\n",
       "      <td>198</td>\n",
       "      <td>Southeast</td>\n",
       "      <td>55203</td>\n",
       "      <td>7525</td>\n",
       "      <td>24661</td>\n",
       "      <td>4.1</td>\n",
       "      <td>16.11238</td>\n",
       "      <td>10.05</td>\n",
       "      <td>89.85188</td>\n",
       "      <td>89.57156</td>\n",
       "      <td>1.0</td>\n",
       "      <td>1.0</td>\n",
       "      <td>65.162000</td>\n",
       "    </tr>\n",
       "  </tbody>\n",
       "</table>\n",
       "</div>"
      ],
      "text/plain": [
       "   fips state          county  population  vaccinationRate  cases  deaths  \\\n",
       "0  1001    AL  Autauga County       55869            0.384  11013     160   \n",
       "1  1003    AL  Baldwin County      223234            0.476  39818     593   \n",
       "2  1005    AL  Barbour County       24686            0.419   3850      81   \n",
       "3  1007    AL     Bibb County       22394            0.326   4524      95   \n",
       "4  1009    AL   Blount County       57826            0.296  11244     198   \n",
       "\n",
       "      Region  MedianIncome  PovertyEst  LaborForce  UnemploymentRate  \\\n",
       "0  Southeast         67565        6242       25838               4.9   \n",
       "1  Southeast         71135       20189       96763               5.6   \n",
       "2  Southeast         38866        5548        8587               7.0   \n",
       "3  Southeast         50907        3549        8640               6.6   \n",
       "4  Southeast         55203        7525       24661               4.1   \n",
       "\n",
       "      Older  Urban  Trump2016  Trump2020  RepGov  Female  AdherentPercent  \n",
       "0  13.35160  58.00   73.43579   71.43681     1.0     1.0        67.687889  \n",
       "1  18.08256  57.72   77.35147   76.17137     1.0     1.0        53.174000  \n",
       "2  17.12386  32.21   52.27142   53.45123     1.0     1.0        54.999000  \n",
       "3  15.13983  31.65   76.96616   78.42627     1.0     1.0        49.880000  \n",
       "4  16.11238  10.05   89.85188   89.57156     1.0     1.0        65.162000  "
      ]
     },
     "execution_count": 42,
     "metadata": {},
     "output_type": "execute_result"
    }
   ],
   "source": [
    "data.head()"
   ]
  },
  {
   "cell_type": "code",
   "execution_count": 43,
   "id": "b5f3d567-cd1b-4970-877a-01f7d7580de8",
   "metadata": {},
   "outputs": [
    {
     "data": {
      "text/html": [
       "<div>\n",
       "<style scoped>\n",
       "    .dataframe tbody tr th:only-of-type {\n",
       "        vertical-align: middle;\n",
       "    }\n",
       "\n",
       "    .dataframe tbody tr th {\n",
       "        vertical-align: top;\n",
       "    }\n",
       "\n",
       "    .dataframe thead th {\n",
       "        text-align: right;\n",
       "    }\n",
       "</style>\n",
       "<table border=\"1\" class=\"dataframe\">\n",
       "  <thead>\n",
       "    <tr style=\"text-align: right;\">\n",
       "      <th></th>\n",
       "      <th>fips</th>\n",
       "      <th>population</th>\n",
       "      <th>vaccinationRate</th>\n",
       "      <th>cases</th>\n",
       "      <th>deaths</th>\n",
       "      <th>MedianIncome</th>\n",
       "      <th>PovertyEst</th>\n",
       "      <th>LaborForce</th>\n",
       "      <th>UnemploymentRate</th>\n",
       "      <th>Older</th>\n",
       "      <th>Urban</th>\n",
       "      <th>Trump2016</th>\n",
       "      <th>Trump2020</th>\n",
       "      <th>RepGov</th>\n",
       "      <th>Female</th>\n",
       "      <th>AdherentPercent</th>\n",
       "    </tr>\n",
       "  </thead>\n",
       "  <tbody>\n",
       "    <tr>\n",
       "      <th>fips</th>\n",
       "      <td>1.000000</td>\n",
       "      <td>-0.055688</td>\n",
       "      <td>0.068399</td>\n",
       "      <td>-0.058731</td>\n",
       "      <td>-0.056899</td>\n",
       "      <td>0.035610</td>\n",
       "      <td>-0.052175</td>\n",
       "      <td>-0.052460</td>\n",
       "      <td>0.068278</td>\n",
       "      <td>0.039899</td>\n",
       "      <td>-0.013354</td>\n",
       "      <td>0.059207</td>\n",
       "      <td>0.066444</td>\n",
       "      <td>-0.062827</td>\n",
       "      <td>-0.168385</td>\n",
       "      <td>0.067075</td>\n",
       "    </tr>\n",
       "    <tr>\n",
       "      <th>population</th>\n",
       "      <td>-0.055688</td>\n",
       "      <td>1.000000</td>\n",
       "      <td>0.314816</td>\n",
       "      <td>0.975808</td>\n",
       "      <td>0.952103</td>\n",
       "      <td>0.290953</td>\n",
       "      <td>0.966026</td>\n",
       "      <td>0.997933</td>\n",
       "      <td>0.197135</td>\n",
       "      <td>-0.228361</td>\n",
       "      <td>0.397444</td>\n",
       "      <td>-0.350298</td>\n",
       "      <td>-0.358521</td>\n",
       "      <td>-0.078205</td>\n",
       "      <td>-0.061456</td>\n",
       "      <td>-0.051947</td>\n",
       "    </tr>\n",
       "    <tr>\n",
       "      <th>vaccinationRate</th>\n",
       "      <td>0.068399</td>\n",
       "      <td>0.314816</td>\n",
       "      <td>1.000000</td>\n",
       "      <td>0.287459</td>\n",
       "      <td>0.259683</td>\n",
       "      <td>0.438571</td>\n",
       "      <td>0.248964</td>\n",
       "      <td>0.320786</td>\n",
       "      <td>0.220009</td>\n",
       "      <td>-0.090385</td>\n",
       "      <td>0.413451</td>\n",
       "      <td>-0.654104</td>\n",
       "      <td>-0.672125</td>\n",
       "      <td>-0.315744</td>\n",
       "      <td>0.070089</td>\n",
       "      <td>-0.083412</td>\n",
       "    </tr>\n",
       "    <tr>\n",
       "      <th>cases</th>\n",
       "      <td>-0.058731</td>\n",
       "      <td>0.975808</td>\n",
       "      <td>0.287459</td>\n",
       "      <td>1.000000</td>\n",
       "      <td>0.969440</td>\n",
       "      <td>0.247530</td>\n",
       "      <td>0.958124</td>\n",
       "      <td>0.971270</td>\n",
       "      <td>0.196557</td>\n",
       "      <td>-0.221734</td>\n",
       "      <td>0.384487</td>\n",
       "      <td>-0.319030</td>\n",
       "      <td>-0.324327</td>\n",
       "      <td>-0.059956</td>\n",
       "      <td>-0.060751</td>\n",
       "      <td>-0.038798</td>\n",
       "    </tr>\n",
       "    <tr>\n",
       "      <th>deaths</th>\n",
       "      <td>-0.056899</td>\n",
       "      <td>0.952103</td>\n",
       "      <td>0.259683</td>\n",
       "      <td>0.969440</td>\n",
       "      <td>1.000000</td>\n",
       "      <td>0.195570</td>\n",
       "      <td>0.960205</td>\n",
       "      <td>0.942161</td>\n",
       "      <td>0.224242</td>\n",
       "      <td>-0.183264</td>\n",
       "      <td>0.358004</td>\n",
       "      <td>-0.299915</td>\n",
       "      <td>-0.302832</td>\n",
       "      <td>-0.051920</td>\n",
       "      <td>-0.057104</td>\n",
       "      <td>-0.031854</td>\n",
       "    </tr>\n",
       "    <tr>\n",
       "      <th>MedianIncome</th>\n",
       "      <td>0.035610</td>\n",
       "      <td>0.290953</td>\n",
       "      <td>0.438571</td>\n",
       "      <td>0.247530</td>\n",
       "      <td>0.195570</td>\n",
       "      <td>1.000000</td>\n",
       "      <td>0.169497</td>\n",
       "      <td>0.308884</td>\n",
       "      <td>-0.140587</td>\n",
       "      <td>-0.304593</td>\n",
       "      <td>0.406996</td>\n",
       "      <td>-0.245319</td>\n",
       "      <td>-0.287782</td>\n",
       "      <td>-0.173562</td>\n",
       "      <td>-0.033070</td>\n",
       "      <td>-0.057314</td>\n",
       "    </tr>\n",
       "    <tr>\n",
       "      <th>PovertyEst</th>\n",
       "      <td>-0.052175</td>\n",
       "      <td>0.966026</td>\n",
       "      <td>0.248964</td>\n",
       "      <td>0.958124</td>\n",
       "      <td>0.960205</td>\n",
       "      <td>0.169497</td>\n",
       "      <td>1.000000</td>\n",
       "      <td>0.954943</td>\n",
       "      <td>0.221280</td>\n",
       "      <td>-0.211202</td>\n",
       "      <td>0.358146</td>\n",
       "      <td>-0.330960</td>\n",
       "      <td>-0.332232</td>\n",
       "      <td>-0.057126</td>\n",
       "      <td>-0.054841</td>\n",
       "      <td>-0.043329</td>\n",
       "    </tr>\n",
       "    <tr>\n",
       "      <th>LaborForce</th>\n",
       "      <td>-0.052460</td>\n",
       "      <td>0.997933</td>\n",
       "      <td>0.320786</td>\n",
       "      <td>0.971270</td>\n",
       "      <td>0.942161</td>\n",
       "      <td>0.308884</td>\n",
       "      <td>0.954943</td>\n",
       "      <td>1.000000</td>\n",
       "      <td>0.185946</td>\n",
       "      <td>-0.234106</td>\n",
       "      <td>0.399792</td>\n",
       "      <td>-0.355551</td>\n",
       "      <td>-0.364773</td>\n",
       "      <td>-0.078665</td>\n",
       "      <td>-0.060235</td>\n",
       "      <td>-0.049850</td>\n",
       "    </tr>\n",
       "    <tr>\n",
       "      <th>UnemploymentRate</th>\n",
       "      <td>0.068278</td>\n",
       "      <td>0.197135</td>\n",
       "      <td>0.220009</td>\n",
       "      <td>0.196557</td>\n",
       "      <td>0.224242</td>\n",
       "      <td>-0.140587</td>\n",
       "      <td>0.221280</td>\n",
       "      <td>0.185946</td>\n",
       "      <td>1.000000</td>\n",
       "      <td>-0.098616</td>\n",
       "      <td>0.244635</td>\n",
       "      <td>-0.404858</td>\n",
       "      <td>-0.395626</td>\n",
       "      <td>-0.236569</td>\n",
       "      <td>-0.140786</td>\n",
       "      <td>-0.283208</td>\n",
       "    </tr>\n",
       "    <tr>\n",
       "      <th>Older</th>\n",
       "      <td>0.039899</td>\n",
       "      <td>-0.228361</td>\n",
       "      <td>-0.090385</td>\n",
       "      <td>-0.221734</td>\n",
       "      <td>-0.183264</td>\n",
       "      <td>-0.304593</td>\n",
       "      <td>-0.211202</td>\n",
       "      <td>-0.234106</td>\n",
       "      <td>-0.098616</td>\n",
       "      <td>1.000000</td>\n",
       "      <td>-0.488898</td>\n",
       "      <td>0.310162</td>\n",
       "      <td>0.316185</td>\n",
       "      <td>-0.074619</td>\n",
       "      <td>0.100036</td>\n",
       "      <td>0.034556</td>\n",
       "    </tr>\n",
       "    <tr>\n",
       "      <th>Urban</th>\n",
       "      <td>-0.013354</td>\n",
       "      <td>0.397444</td>\n",
       "      <td>0.413451</td>\n",
       "      <td>0.384487</td>\n",
       "      <td>0.358004</td>\n",
       "      <td>0.406996</td>\n",
       "      <td>0.358146</td>\n",
       "      <td>0.399792</td>\n",
       "      <td>0.244635</td>\n",
       "      <td>-0.488898</td>\n",
       "      <td>1.000000</td>\n",
       "      <td>-0.495481</td>\n",
       "      <td>-0.522655</td>\n",
       "      <td>-0.108755</td>\n",
       "      <td>-0.069734</td>\n",
       "      <td>-0.026229</td>\n",
       "    </tr>\n",
       "    <tr>\n",
       "      <th>Trump2016</th>\n",
       "      <td>0.059207</td>\n",
       "      <td>-0.350298</td>\n",
       "      <td>-0.654104</td>\n",
       "      <td>-0.319030</td>\n",
       "      <td>-0.299915</td>\n",
       "      <td>-0.245319</td>\n",
       "      <td>-0.330960</td>\n",
       "      <td>-0.355551</td>\n",
       "      <td>-0.404858</td>\n",
       "      <td>0.310162</td>\n",
       "      <td>-0.495481</td>\n",
       "      <td>1.000000</td>\n",
       "      <td>0.984203</td>\n",
       "      <td>0.240579</td>\n",
       "      <td>-0.028619</td>\n",
       "      <td>0.148837</td>\n",
       "    </tr>\n",
       "    <tr>\n",
       "      <th>Trump2020</th>\n",
       "      <td>0.066444</td>\n",
       "      <td>-0.358521</td>\n",
       "      <td>-0.672125</td>\n",
       "      <td>-0.324327</td>\n",
       "      <td>-0.302832</td>\n",
       "      <td>-0.287782</td>\n",
       "      <td>-0.332232</td>\n",
       "      <td>-0.364773</td>\n",
       "      <td>-0.395626</td>\n",
       "      <td>0.316185</td>\n",
       "      <td>-0.522655</td>\n",
       "      <td>0.984203</td>\n",
       "      <td>1.000000</td>\n",
       "      <td>0.260128</td>\n",
       "      <td>-0.024083</td>\n",
       "      <td>0.179064</td>\n",
       "    </tr>\n",
       "    <tr>\n",
       "      <th>RepGov</th>\n",
       "      <td>-0.062827</td>\n",
       "      <td>-0.078205</td>\n",
       "      <td>-0.315744</td>\n",
       "      <td>-0.059956</td>\n",
       "      <td>-0.051920</td>\n",
       "      <td>-0.173562</td>\n",
       "      <td>-0.057126</td>\n",
       "      <td>-0.078665</td>\n",
       "      <td>-0.236569</td>\n",
       "      <td>-0.074619</td>\n",
       "      <td>-0.108755</td>\n",
       "      <td>0.240579</td>\n",
       "      <td>0.260128</td>\n",
       "      <td>1.000000</td>\n",
       "      <td>-0.130414</td>\n",
       "      <td>0.191215</td>\n",
       "    </tr>\n",
       "    <tr>\n",
       "      <th>Female</th>\n",
       "      <td>-0.168385</td>\n",
       "      <td>-0.061456</td>\n",
       "      <td>0.070089</td>\n",
       "      <td>-0.060751</td>\n",
       "      <td>-0.057104</td>\n",
       "      <td>-0.033070</td>\n",
       "      <td>-0.054841</td>\n",
       "      <td>-0.060235</td>\n",
       "      <td>-0.140786</td>\n",
       "      <td>0.100036</td>\n",
       "      <td>-0.069734</td>\n",
       "      <td>-0.028619</td>\n",
       "      <td>-0.024083</td>\n",
       "      <td>-0.130414</td>\n",
       "      <td>1.000000</td>\n",
       "      <td>0.047076</td>\n",
       "    </tr>\n",
       "    <tr>\n",
       "      <th>AdherentPercent</th>\n",
       "      <td>0.067075</td>\n",
       "      <td>-0.051947</td>\n",
       "      <td>-0.083412</td>\n",
       "      <td>-0.038798</td>\n",
       "      <td>-0.031854</td>\n",
       "      <td>-0.057314</td>\n",
       "      <td>-0.043329</td>\n",
       "      <td>-0.049850</td>\n",
       "      <td>-0.283208</td>\n",
       "      <td>0.034556</td>\n",
       "      <td>-0.026229</td>\n",
       "      <td>0.148837</td>\n",
       "      <td>0.179064</td>\n",
       "      <td>0.191215</td>\n",
       "      <td>0.047076</td>\n",
       "      <td>1.000000</td>\n",
       "    </tr>\n",
       "  </tbody>\n",
       "</table>\n",
       "</div>"
      ],
      "text/plain": [
       "                      fips  population  vaccinationRate     cases    deaths  \\\n",
       "fips              1.000000   -0.055688         0.068399 -0.058731 -0.056899   \n",
       "population       -0.055688    1.000000         0.314816  0.975808  0.952103   \n",
       "vaccinationRate   0.068399    0.314816         1.000000  0.287459  0.259683   \n",
       "cases            -0.058731    0.975808         0.287459  1.000000  0.969440   \n",
       "deaths           -0.056899    0.952103         0.259683  0.969440  1.000000   \n",
       "MedianIncome      0.035610    0.290953         0.438571  0.247530  0.195570   \n",
       "PovertyEst       -0.052175    0.966026         0.248964  0.958124  0.960205   \n",
       "LaborForce       -0.052460    0.997933         0.320786  0.971270  0.942161   \n",
       "UnemploymentRate  0.068278    0.197135         0.220009  0.196557  0.224242   \n",
       "Older             0.039899   -0.228361        -0.090385 -0.221734 -0.183264   \n",
       "Urban            -0.013354    0.397444         0.413451  0.384487  0.358004   \n",
       "Trump2016         0.059207   -0.350298        -0.654104 -0.319030 -0.299915   \n",
       "Trump2020         0.066444   -0.358521        -0.672125 -0.324327 -0.302832   \n",
       "RepGov           -0.062827   -0.078205        -0.315744 -0.059956 -0.051920   \n",
       "Female           -0.168385   -0.061456         0.070089 -0.060751 -0.057104   \n",
       "AdherentPercent   0.067075   -0.051947        -0.083412 -0.038798 -0.031854   \n",
       "\n",
       "                  MedianIncome  PovertyEst  LaborForce  UnemploymentRate  \\\n",
       "fips                  0.035610   -0.052175   -0.052460          0.068278   \n",
       "population            0.290953    0.966026    0.997933          0.197135   \n",
       "vaccinationRate       0.438571    0.248964    0.320786          0.220009   \n",
       "cases                 0.247530    0.958124    0.971270          0.196557   \n",
       "deaths                0.195570    0.960205    0.942161          0.224242   \n",
       "MedianIncome          1.000000    0.169497    0.308884         -0.140587   \n",
       "PovertyEst            0.169497    1.000000    0.954943          0.221280   \n",
       "LaborForce            0.308884    0.954943    1.000000          0.185946   \n",
       "UnemploymentRate     -0.140587    0.221280    0.185946          1.000000   \n",
       "Older                -0.304593   -0.211202   -0.234106         -0.098616   \n",
       "Urban                 0.406996    0.358146    0.399792          0.244635   \n",
       "Trump2016            -0.245319   -0.330960   -0.355551         -0.404858   \n",
       "Trump2020            -0.287782   -0.332232   -0.364773         -0.395626   \n",
       "RepGov               -0.173562   -0.057126   -0.078665         -0.236569   \n",
       "Female               -0.033070   -0.054841   -0.060235         -0.140786   \n",
       "AdherentPercent      -0.057314   -0.043329   -0.049850         -0.283208   \n",
       "\n",
       "                     Older     Urban  Trump2016  Trump2020    RepGov  \\\n",
       "fips              0.039899 -0.013354   0.059207   0.066444 -0.062827   \n",
       "population       -0.228361  0.397444  -0.350298  -0.358521 -0.078205   \n",
       "vaccinationRate  -0.090385  0.413451  -0.654104  -0.672125 -0.315744   \n",
       "cases            -0.221734  0.384487  -0.319030  -0.324327 -0.059956   \n",
       "deaths           -0.183264  0.358004  -0.299915  -0.302832 -0.051920   \n",
       "MedianIncome     -0.304593  0.406996  -0.245319  -0.287782 -0.173562   \n",
       "PovertyEst       -0.211202  0.358146  -0.330960  -0.332232 -0.057126   \n",
       "LaborForce       -0.234106  0.399792  -0.355551  -0.364773 -0.078665   \n",
       "UnemploymentRate -0.098616  0.244635  -0.404858  -0.395626 -0.236569   \n",
       "Older             1.000000 -0.488898   0.310162   0.316185 -0.074619   \n",
       "Urban            -0.488898  1.000000  -0.495481  -0.522655 -0.108755   \n",
       "Trump2016         0.310162 -0.495481   1.000000   0.984203  0.240579   \n",
       "Trump2020         0.316185 -0.522655   0.984203   1.000000  0.260128   \n",
       "RepGov           -0.074619 -0.108755   0.240579   0.260128  1.000000   \n",
       "Female            0.100036 -0.069734  -0.028619  -0.024083 -0.130414   \n",
       "AdherentPercent   0.034556 -0.026229   0.148837   0.179064  0.191215   \n",
       "\n",
       "                    Female  AdherentPercent  \n",
       "fips             -0.168385         0.067075  \n",
       "population       -0.061456        -0.051947  \n",
       "vaccinationRate   0.070089        -0.083412  \n",
       "cases            -0.060751        -0.038798  \n",
       "deaths           -0.057104        -0.031854  \n",
       "MedianIncome     -0.033070        -0.057314  \n",
       "PovertyEst       -0.054841        -0.043329  \n",
       "LaborForce       -0.060235        -0.049850  \n",
       "UnemploymentRate -0.140786        -0.283208  \n",
       "Older             0.100036         0.034556  \n",
       "Urban            -0.069734        -0.026229  \n",
       "Trump2016        -0.028619         0.148837  \n",
       "Trump2020        -0.024083         0.179064  \n",
       "RepGov           -0.130414         0.191215  \n",
       "Female            1.000000         0.047076  \n",
       "AdherentPercent   0.047076         1.000000  "
      ]
     },
     "execution_count": 43,
     "metadata": {},
     "output_type": "execute_result"
    }
   ],
   "source": [
    "data.corr()"
   ]
  },
  {
   "cell_type": "code",
   "execution_count": 44,
   "id": "99a4a4a2-edfd-410c-abf0-f3d23d7e0098",
   "metadata": {},
   "outputs": [
    {
     "data": {
      "image/png": "[encoded data removed]",
      "text/plain": [
       "<Figure size 864x864 with 16 Axes>"
      ]
     },
     "metadata": {
      "needs_background": "light"
     },
     "output_type": "display_data"
    }
   ],
   "source": [
    "data.hist(figsize=(12,12))\n",
    "plt.show()"
   ]
  },
  {
   "cell_type": "code",
   "execution_count": 45,
   "id": "1b565198-a720-4509-a826-24bd1097f6a5",
   "metadata": {},
   "outputs": [
    {
     "data": {
      "text/plain": [
       "<AxesSubplot:>"
      ]
     },
     "execution_count": 45,
     "metadata": {},
     "output_type": "execute_result"
    },
    {
     "data": {
      "image/png": "[encoded data removed]",
      "text/plain": [
       "<Figure size 432x288 with 1 Axes>"
      ]
     },
     "metadata": {
      "needs_background": "light"
     },
     "output_type": "display_data"
    }
   ],
   "source": [
    "data.MedianIncome.hist()"
   ]
  },
  {
   "cell_type": "code",
   "execution_count": 46,
   "id": "5074a118-448c-4022-8e89-15a8650ff4a9",
   "metadata": {},
   "outputs": [
    {
     "data": {
      "text/plain": [
       "57083.10552596538"
      ]
     },
     "execution_count": 46,
     "metadata": {},
     "output_type": "execute_result"
    }
   ],
   "source": [
    "data.MedianIncome.mean()"
   ]
  },
  {
   "cell_type": "code",
   "execution_count": 47,
   "id": "9b17e381-14ae-40e6-aa84-60ea592f49fa",
   "metadata": {},
   "outputs": [
    {
     "data": {
      "text/plain": [
       "54805.5"
      ]
     },
     "execution_count": 47,
     "metadata": {},
     "output_type": "execute_result"
    }
   ],
   "source": [
    "data.MedianIncome.median()"
   ]
  },
  {
   "cell_type": "code",
   "execution_count": 48,
   "id": "18163cf8-6840-4aa7-a56e-45ab0071f630",
   "metadata": {},
   "outputs": [
    {
     "data": {
      "text/plain": [
       "65.12057191344881"
      ]
     },
     "execution_count": 48,
     "metadata": {},
     "output_type": "execute_result"
    }
   ],
   "source": [
    "data.Trump2020.mean()"
   ]
  },
  {
   "cell_type": "code",
   "execution_count": 49,
   "id": "3b470f4f-090c-48f6-9d0a-c972bf612276",
   "metadata": {},
   "outputs": [
    {
     "data": {
      "text/plain": [
       "68.56107"
      ]
     },
     "execution_count": 49,
     "metadata": {},
     "output_type": "execute_result"
    }
   ],
   "source": [
    "data.Trump2020.median()"
   ]
  },
  {
   "cell_type": "markdown",
   "id": "2af9ec4a-3b74-4cfc-8993-c0f6e7b5f471",
   "metadata": {},
   "source": [
    "### Transform the Data"
   ]
  },
  {
   "cell_type": "code",
   "execution_count": 50,
   "id": "ca769790-4323-4b5c-be22-2b8201da6f0b",
   "metadata": {},
   "outputs": [],
   "source": [
    "data['Win']=data['Trump2020'].apply(lambda x: 1 if x > 50. else 0)"
   ]
  },
  {
   "cell_type": "code",
   "execution_count": 51,
   "id": "18c36ac6-8ddd-4412-80dd-82f187c044fa",
   "metadata": {},
   "outputs": [],
   "source": [
    "data[\"cases_per_cap\"] = (data[\"cases\"] / data[\"population\"])*100000\n",
    "data[\"deaths_per_cap\"] = (data[\"deaths\"] / data[\"population\"])*100000"
   ]
  },
  {
   "cell_type": "code",
   "execution_count": 52,
   "id": "e28408e8-612f-4f9c-b225-0907980ae9bc",
   "metadata": {},
   "outputs": [],
   "source": [
    "data[\"Labor_rate\"] = data[\"LaborForce\"]/data[\"population\"]\n",
    "data[\"Poverty_rate\"] = data[\"PovertyEst\"]/data[\"population\"]\n",
    "data[\"Fatality_rate\"] = data[\"deaths\"]/data[\"cases\"]"
   ]
  },
  {
   "cell_type": "code",
   "execution_count": 53,
   "id": "206457cc-7a1e-4839-9ff4-c7cf4861379a",
   "metadata": {},
   "outputs": [
    {
     "data": {
      "text/html": [
       "<div>\n",
       "<style scoped>\n",
       "    .dataframe tbody tr th:only-of-type {\n",
       "        vertical-align: middle;\n",
       "    }\n",
       "\n",
       "    .dataframe tbody tr th {\n",
       "        vertical-align: top;\n",
       "    }\n",
       "\n",
       "    .dataframe thead th {\n",
       "        text-align: right;\n",
       "    }\n",
       "</style>\n",
       "<table border=\"1\" class=\"dataframe\">\n",
       "  <thead>\n",
       "    <tr style=\"text-align: right;\">\n",
       "      <th></th>\n",
       "      <th>fips</th>\n",
       "      <th>state</th>\n",
       "      <th>county</th>\n",
       "      <th>population</th>\n",
       "      <th>vaccinationRate</th>\n",
       "      <th>cases</th>\n",
       "      <th>deaths</th>\n",
       "      <th>Region</th>\n",
       "      <th>MedianIncome</th>\n",
       "      <th>PovertyEst</th>\n",
       "      <th>...</th>\n",
       "      <th>Trump2020</th>\n",
       "      <th>RepGov</th>\n",
       "      <th>Female</th>\n",
       "      <th>AdherentPercent</th>\n",
       "      <th>Win</th>\n",
       "      <th>cases_per_cap</th>\n",
       "      <th>deaths_per_cap</th>\n",
       "      <th>Labor_rate</th>\n",
       "      <th>Poverty_rate</th>\n",
       "      <th>Fatality_rate</th>\n",
       "    </tr>\n",
       "  </thead>\n",
       "  <tbody>\n",
       "    <tr>\n",
       "      <th>2926</th>\n",
       "      <td>51640</td>\n",
       "      <td>VA</td>\n",
       "      <td>Galax city</td>\n",
       "      <td>6347</td>\n",
       "      <td>0.538</td>\n",
       "      <td>1758</td>\n",
       "      <td>69</td>\n",
       "      <td>Southeast</td>\n",
       "      <td>40271</td>\n",
       "      <td>1125</td>\n",
       "      <td>...</td>\n",
       "      <td>69.67400</td>\n",
       "      <td>0.0</td>\n",
       "      <td>0.0</td>\n",
       "      <td>76.825000</td>\n",
       "      <td>1</td>\n",
       "      <td>27698.125098</td>\n",
       "      <td>1087.127777</td>\n",
       "      <td>0.453915</td>\n",
       "      <td>0.177249</td>\n",
       "      <td>0.039249</td>\n",
       "    </tr>\n",
       "    <tr>\n",
       "      <th>455</th>\n",
       "      <td>13141</td>\n",
       "      <td>GA</td>\n",
       "      <td>Hancock County</td>\n",
       "      <td>8457</td>\n",
       "      <td>0.486</td>\n",
       "      <td>1264</td>\n",
       "      <td>83</td>\n",
       "      <td>Southeast</td>\n",
       "      <td>36424</td>\n",
       "      <td>2202</td>\n",
       "      <td>...</td>\n",
       "      <td>27.78714</td>\n",
       "      <td>1.0</td>\n",
       "      <td>0.0</td>\n",
       "      <td>35.220889</td>\n",
       "      <td>0</td>\n",
       "      <td>14946.198416</td>\n",
       "      <td>981.435497</td>\n",
       "      <td>0.299397</td>\n",
       "      <td>0.260376</td>\n",
       "      <td>0.065665</td>\n",
       "    </tr>\n",
       "    <tr>\n",
       "      <th>2395</th>\n",
       "      <td>46073</td>\n",
       "      <td>SD</td>\n",
       "      <td>Jerauld County</td>\n",
       "      <td>2013</td>\n",
       "      <td>0.495</td>\n",
       "      <td>337</td>\n",
       "      <td>19</td>\n",
       "      <td>Plains</td>\n",
       "      <td>49086</td>\n",
       "      <td>276</td>\n",
       "      <td>...</td>\n",
       "      <td>71.66998</td>\n",
       "      <td>1.0</td>\n",
       "      <td>1.0</td>\n",
       "      <td>68.565889</td>\n",
       "      <td>1</td>\n",
       "      <td>16741.182315</td>\n",
       "      <td>943.864878</td>\n",
       "      <td>0.584203</td>\n",
       "      <td>0.137109</td>\n",
       "      <td>0.056380</td>\n",
       "    </tr>\n",
       "    <tr>\n",
       "      <th>917</th>\n",
       "      <td>20063</td>\n",
       "      <td>KS</td>\n",
       "      <td>Gove County</td>\n",
       "      <td>2636</td>\n",
       "      <td>0.460</td>\n",
       "      <td>625</td>\n",
       "      <td>23</td>\n",
       "      <td>Plains</td>\n",
       "      <td>57676</td>\n",
       "      <td>258</td>\n",
       "      <td>...</td>\n",
       "      <td>87.64829</td>\n",
       "      <td>0.0</td>\n",
       "      <td>1.0</td>\n",
       "      <td>57.105889</td>\n",
       "      <td>1</td>\n",
       "      <td>23710.166920</td>\n",
       "      <td>872.534143</td>\n",
       "      <td>0.555766</td>\n",
       "      <td>0.097876</td>\n",
       "      <td>0.036800</td>\n",
       "    </tr>\n",
       "    <tr>\n",
       "      <th>2598</th>\n",
       "      <td>48155</td>\n",
       "      <td>TX</td>\n",
       "      <td>Foard County</td>\n",
       "      <td>1155</td>\n",
       "      <td>0.416</td>\n",
       "      <td>189</td>\n",
       "      <td>10</td>\n",
       "      <td>Southwest</td>\n",
       "      <td>40955</td>\n",
       "      <td>184</td>\n",
       "      <td>...</td>\n",
       "      <td>80.76225</td>\n",
       "      <td>1.0</td>\n",
       "      <td>0.0</td>\n",
       "      <td>104.192000</td>\n",
       "      <td>1</td>\n",
       "      <td>16363.636364</td>\n",
       "      <td>865.800866</td>\n",
       "      <td>0.498701</td>\n",
       "      <td>0.159307</td>\n",
       "      <td>0.052910</td>\n",
       "    </tr>\n",
       "    <tr>\n",
       "      <th>2921</th>\n",
       "      <td>51595</td>\n",
       "      <td>VA</td>\n",
       "      <td>Emporia city</td>\n",
       "      <td>5346</td>\n",
       "      <td>0.461</td>\n",
       "      <td>887</td>\n",
       "      <td>46</td>\n",
       "      <td>Southeast</td>\n",
       "      <td>42895</td>\n",
       "      <td>959</td>\n",
       "      <td>...</td>\n",
       "      <td>31.66737</td>\n",
       "      <td>0.0</td>\n",
       "      <td>0.0</td>\n",
       "      <td>75.653889</td>\n",
       "      <td>0</td>\n",
       "      <td>16591.844370</td>\n",
       "      <td>860.456416</td>\n",
       "      <td>0.438459</td>\n",
       "      <td>0.179386</td>\n",
       "      <td>0.051860</td>\n",
       "    </tr>\n",
       "    <tr>\n",
       "      <th>1091</th>\n",
       "      <td>21201</td>\n",
       "      <td>KY</td>\n",
       "      <td>Robertson County</td>\n",
       "      <td>2108</td>\n",
       "      <td>0.368</td>\n",
       "      <td>449</td>\n",
       "      <td>18</td>\n",
       "      <td>Southeast</td>\n",
       "      <td>49529</td>\n",
       "      <td>371</td>\n",
       "      <td>...</td>\n",
       "      <td>77.13787</td>\n",
       "      <td>1.0</td>\n",
       "      <td>0.0</td>\n",
       "      <td>23.093889</td>\n",
       "      <td>1</td>\n",
       "      <td>21299.810247</td>\n",
       "      <td>853.889943</td>\n",
       "      <td>0.373814</td>\n",
       "      <td>0.175996</td>\n",
       "      <td>0.040089</td>\n",
       "    </tr>\n",
       "    <tr>\n",
       "      <th>406</th>\n",
       "      <td>13043</td>\n",
       "      <td>GA</td>\n",
       "      <td>Candler County</td>\n",
       "      <td>10803</td>\n",
       "      <td>0.422</td>\n",
       "      <td>1623</td>\n",
       "      <td>90</td>\n",
       "      <td>Southeast</td>\n",
       "      <td>42583</td>\n",
       "      <td>2143</td>\n",
       "      <td>...</td>\n",
       "      <td>70.70638</td>\n",
       "      <td>1.0</td>\n",
       "      <td>0.0</td>\n",
       "      <td>43.135000</td>\n",
       "      <td>1</td>\n",
       "      <td>15023.604554</td>\n",
       "      <td>833.101916</td>\n",
       "      <td>0.521429</td>\n",
       "      <td>0.198371</td>\n",
       "      <td>0.055453</td>\n",
       "    </tr>\n",
       "    <tr>\n",
       "      <th>1650</th>\n",
       "      <td>30109</td>\n",
       "      <td>MT</td>\n",
       "      <td>Wibaux County</td>\n",
       "      <td>969</td>\n",
       "      <td>0.270</td>\n",
       "      <td>179</td>\n",
       "      <td>8</td>\n",
       "      <td>Rocky Mountain</td>\n",
       "      <td>51368</td>\n",
       "      <td>107</td>\n",
       "      <td>...</td>\n",
       "      <td>86.28762</td>\n",
       "      <td>0.0</td>\n",
       "      <td>0.0</td>\n",
       "      <td>88.003889</td>\n",
       "      <td>1</td>\n",
       "      <td>18472.652219</td>\n",
       "      <td>825.593395</td>\n",
       "      <td>0.468524</td>\n",
       "      <td>0.110423</td>\n",
       "      <td>0.044693</td>\n",
       "    </tr>\n",
       "    <tr>\n",
       "      <th>2367</th>\n",
       "      <td>46017</td>\n",
       "      <td>SD</td>\n",
       "      <td>Buffalo County</td>\n",
       "      <td>1962</td>\n",
       "      <td>0.359</td>\n",
       "      <td>477</td>\n",
       "      <td>16</td>\n",
       "      <td>Plains</td>\n",
       "      <td>22901</td>\n",
       "      <td>638</td>\n",
       "      <td>...</td>\n",
       "      <td>33.33334</td>\n",
       "      <td>1.0</td>\n",
       "      <td>1.0</td>\n",
       "      <td>58.890889</td>\n",
       "      <td>0</td>\n",
       "      <td>24311.926606</td>\n",
       "      <td>815.494393</td>\n",
       "      <td>0.352192</td>\n",
       "      <td>0.325178</td>\n",
       "      <td>0.033543</td>\n",
       "    </tr>\n",
       "    <tr>\n",
       "      <th>525</th>\n",
       "      <td>13283</td>\n",
       "      <td>GA</td>\n",
       "      <td>Treutlen County</td>\n",
       "      <td>6901</td>\n",
       "      <td>0.345</td>\n",
       "      <td>1278</td>\n",
       "      <td>55</td>\n",
       "      <td>Southeast</td>\n",
       "      <td>40834</td>\n",
       "      <td>1501</td>\n",
       "      <td>...</td>\n",
       "      <td>68.28079</td>\n",
       "      <td>1.0</td>\n",
       "      <td>0.0</td>\n",
       "      <td>41.772000</td>\n",
       "      <td>1</td>\n",
       "      <td>18519.055209</td>\n",
       "      <td>796.985944</td>\n",
       "      <td>0.392697</td>\n",
       "      <td>0.217505</td>\n",
       "      <td>0.043036</td>\n",
       "    </tr>\n",
       "    <tr>\n",
       "      <th>2934</th>\n",
       "      <td>51690</td>\n",
       "      <td>VA</td>\n",
       "      <td>Martinsville city</td>\n",
       "      <td>12554</td>\n",
       "      <td>0.548</td>\n",
       "      <td>2391</td>\n",
       "      <td>100</td>\n",
       "      <td>Southeast</td>\n",
       "      <td>35715</td>\n",
       "      <td>2556</td>\n",
       "      <td>...</td>\n",
       "      <td>36.00532</td>\n",
       "      <td>0.0</td>\n",
       "      <td>0.0</td>\n",
       "      <td>79.473000</td>\n",
       "      <td>0</td>\n",
       "      <td>19045.722479</td>\n",
       "      <td>796.558866</td>\n",
       "      <td>0.451649</td>\n",
       "      <td>0.203600</td>\n",
       "      <td>0.041824</td>\n",
       "    </tr>\n",
       "    <tr>\n",
       "      <th>2385</th>\n",
       "      <td>46053</td>\n",
       "      <td>SD</td>\n",
       "      <td>Gregory County</td>\n",
       "      <td>4185</td>\n",
       "      <td>0.460</td>\n",
       "      <td>850</td>\n",
       "      <td>33</td>\n",
       "      <td>Plains</td>\n",
       "      <td>43060</td>\n",
       "      <td>630</td>\n",
       "      <td>...</td>\n",
       "      <td>78.43224</td>\n",
       "      <td>1.0</td>\n",
       "      <td>1.0</td>\n",
       "      <td>70.802889</td>\n",
       "      <td>1</td>\n",
       "      <td>20310.633214</td>\n",
       "      <td>788.530466</td>\n",
       "      <td>0.486977</td>\n",
       "      <td>0.150538</td>\n",
       "      <td>0.038824</td>\n",
       "    </tr>\n",
       "    <tr>\n",
       "      <th>1998</th>\n",
       "      <td>38021</td>\n",
       "      <td>ND</td>\n",
       "      <td>Dickey County</td>\n",
       "      <td>4872</td>\n",
       "      <td>0.510</td>\n",
       "      <td>1188</td>\n",
       "      <td>38</td>\n",
       "      <td>Plains</td>\n",
       "      <td>60682</td>\n",
       "      <td>460</td>\n",
       "      <td>...</td>\n",
       "      <td>71.86469</td>\n",
       "      <td>1.0</td>\n",
       "      <td>0.0</td>\n",
       "      <td>73.870000</td>\n",
       "      <td>1</td>\n",
       "      <td>24384.236453</td>\n",
       "      <td>779.967159</td>\n",
       "      <td>0.475780</td>\n",
       "      <td>0.094417</td>\n",
       "      <td>0.031987</td>\n",
       "    </tr>\n",
       "    <tr>\n",
       "      <th>2660</th>\n",
       "      <td>48279</td>\n",
       "      <td>TX</td>\n",
       "      <td>Lamb County</td>\n",
       "      <td>12893</td>\n",
       "      <td>0.398</td>\n",
       "      <td>3150</td>\n",
       "      <td>99</td>\n",
       "      <td>Southwest</td>\n",
       "      <td>48123</td>\n",
       "      <td>2200</td>\n",
       "      <td>...</td>\n",
       "      <td>79.87749</td>\n",
       "      <td>1.0</td>\n",
       "      <td>0.0</td>\n",
       "      <td>86.176889</td>\n",
       "      <td>1</td>\n",
       "      <td>24431.862251</td>\n",
       "      <td>767.858528</td>\n",
       "      <td>0.405957</td>\n",
       "      <td>0.170635</td>\n",
       "      <td>0.031429</td>\n",
       "    </tr>\n",
       "    <tr>\n",
       "      <th>902</th>\n",
       "      <td>20033</td>\n",
       "      <td>KS</td>\n",
       "      <td>Comanche County</td>\n",
       "      <td>1700</td>\n",
       "      <td>0.441</td>\n",
       "      <td>360</td>\n",
       "      <td>13</td>\n",
       "      <td>Plains</td>\n",
       "      <td>49314</td>\n",
       "      <td>180</td>\n",
       "      <td>...</td>\n",
       "      <td>82.41151</td>\n",
       "      <td>0.0</td>\n",
       "      <td>1.0</td>\n",
       "      <td>70.650000</td>\n",
       "      <td>1</td>\n",
       "      <td>21176.470588</td>\n",
       "      <td>764.705882</td>\n",
       "      <td>0.505882</td>\n",
       "      <td>0.105882</td>\n",
       "      <td>0.036111</td>\n",
       "    </tr>\n",
       "    <tr>\n",
       "      <th>528</th>\n",
       "      <td>13289</td>\n",
       "      <td>GA</td>\n",
       "      <td>Twiggs County</td>\n",
       "      <td>8120</td>\n",
       "      <td>0.550</td>\n",
       "      <td>1181</td>\n",
       "      <td>62</td>\n",
       "      <td>Southeast</td>\n",
       "      <td>46444</td>\n",
       "      <td>1593</td>\n",
       "      <td>...</td>\n",
       "      <td>53.33033</td>\n",
       "      <td>1.0</td>\n",
       "      <td>0.0</td>\n",
       "      <td>48.775000</td>\n",
       "      <td>1</td>\n",
       "      <td>14544.334975</td>\n",
       "      <td>763.546798</td>\n",
       "      <td>0.343596</td>\n",
       "      <td>0.196182</td>\n",
       "      <td>0.052498</td>\n",
       "    </tr>\n",
       "    <tr>\n",
       "      <th>1129</th>\n",
       "      <td>22037</td>\n",
       "      <td>LA</td>\n",
       "      <td>East Feliciana Parish</td>\n",
       "      <td>19135</td>\n",
       "      <td>0.383</td>\n",
       "      <td>4731</td>\n",
       "      <td>145</td>\n",
       "      <td>Southeast</td>\n",
       "      <td>52158</td>\n",
       "      <td>3268</td>\n",
       "      <td>...</td>\n",
       "      <td>57.70292</td>\n",
       "      <td>0.0</td>\n",
       "      <td>0.0</td>\n",
       "      <td>46.276889</td>\n",
       "      <td>1</td>\n",
       "      <td>24724.327149</td>\n",
       "      <td>757.773713</td>\n",
       "      <td>0.405644</td>\n",
       "      <td>0.170787</td>\n",
       "      <td>0.030649</td>\n",
       "    </tr>\n",
       "    <tr>\n",
       "      <th>1117</th>\n",
       "      <td>22013</td>\n",
       "      <td>LA</td>\n",
       "      <td>Bienville Parish</td>\n",
       "      <td>13241</td>\n",
       "      <td>0.455</td>\n",
       "      <td>2641</td>\n",
       "      <td>100</td>\n",
       "      <td>Southeast</td>\n",
       "      <td>39695</td>\n",
       "      <td>2882</td>\n",
       "      <td>...</td>\n",
       "      <td>55.19149</td>\n",
       "      <td>0.0</td>\n",
       "      <td>0.0</td>\n",
       "      <td>75.955889</td>\n",
       "      <td>1</td>\n",
       "      <td>19945.623442</td>\n",
       "      <td>755.229968</td>\n",
       "      <td>0.409108</td>\n",
       "      <td>0.217657</td>\n",
       "      <td>0.037864</td>\n",
       "    </tr>\n",
       "    <tr>\n",
       "      <th>95</th>\n",
       "      <td>4001</td>\n",
       "      <td>AZ</td>\n",
       "      <td>Apache County</td>\n",
       "      <td>71887</td>\n",
       "      <td>0.885</td>\n",
       "      <td>16250</td>\n",
       "      <td>542</td>\n",
       "      <td>Southwest</td>\n",
       "      <td>36319</td>\n",
       "      <td>22939</td>\n",
       "      <td>...</td>\n",
       "      <td>32.52139</td>\n",
       "      <td>1.0</td>\n",
       "      <td>0.0</td>\n",
       "      <td>48.835000</td>\n",
       "      <td>0</td>\n",
       "      <td>22604.921613</td>\n",
       "      <td>753.961078</td>\n",
       "      <td>0.280927</td>\n",
       "      <td>0.319098</td>\n",
       "      <td>0.033354</td>\n",
       "    </tr>\n",
       "  </tbody>\n",
       "</table>\n",
       "<p>20 rows × 25 columns</p>\n",
       "</div>"
      ],
      "text/plain": [
       "       fips state                 county  population  vaccinationRate  cases  \\\n",
       "2926  51640    VA             Galax city        6347            0.538   1758   \n",
       "455   13141    GA         Hancock County        8457            0.486   1264   \n",
       "2395  46073    SD         Jerauld County        2013            0.495    337   \n",
       "917   20063    KS            Gove County        2636            0.460    625   \n",
       "2598  48155    TX           Foard County        1155            0.416    189   \n",
       "2921  51595    VA           Emporia city        5346            0.461    887   \n",
       "1091  21201    KY       Robertson County        2108            0.368    449   \n",
       "406   13043    GA         Candler County       10803            0.422   1623   \n",
       "1650  30109    MT          Wibaux County         969            0.270    179   \n",
       "2367  46017    SD         Buffalo County        1962            0.359    477   \n",
       "525   13283    GA        Treutlen County        6901            0.345   1278   \n",
       "2934  51690    VA      Martinsville city       12554            0.548   2391   \n",
       "2385  46053    SD         Gregory County        4185            0.460    850   \n",
       "1998  38021    ND          Dickey County        4872            0.510   1188   \n",
       "2660  48279    TX            Lamb County       12893            0.398   3150   \n",
       "902   20033    KS        Comanche County        1700            0.441    360   \n",
       "528   13289    GA          Twiggs County        8120            0.550   1181   \n",
       "1129  22037    LA  East Feliciana Parish       19135            0.383   4731   \n",
       "1117  22013    LA       Bienville Parish       13241            0.455   2641   \n",
       "95     4001    AZ          Apache County       71887            0.885  16250   \n",
       "\n",
       "      deaths          Region  MedianIncome  PovertyEst  ...  Trump2020  \\\n",
       "2926      69       Southeast         40271        1125  ...   69.67400   \n",
       "455       83       Southeast         36424        2202  ...   27.78714   \n",
       "2395      19          Plains         49086         276  ...   71.66998   \n",
       "917       23          Plains         57676         258  ...   87.64829   \n",
       "2598      10       Southwest         40955         184  ...   80.76225   \n",
       "2921      46       Southeast         42895         959  ...   31.66737   \n",
       "1091      18       Southeast         49529         371  ...   77.13787   \n",
       "406       90       Southeast         42583        2143  ...   70.70638   \n",
       "1650       8  Rocky Mountain         51368         107  ...   86.28762   \n",
       "2367      16          Plains         22901         638  ...   33.33334   \n",
       "525       55       Southeast         40834        1501  ...   68.28079   \n",
       "2934     100       Southeast         35715        2556  ...   36.00532   \n",
       "2385      33          Plains         43060         630  ...   78.43224   \n",
       "1998      38          Plains         60682         460  ...   71.86469   \n",
       "2660      99       Southwest         48123        2200  ...   79.87749   \n",
       "902       13          Plains         49314         180  ...   82.41151   \n",
       "528       62       Southeast         46444        1593  ...   53.33033   \n",
       "1129     145       Southeast         52158        3268  ...   57.70292   \n",
       "1117     100       Southeast         39695        2882  ...   55.19149   \n",
       "95       542       Southwest         36319       22939  ...   32.52139   \n",
       "\n",
       "      RepGov  Female  AdherentPercent  Win  cases_per_cap  deaths_per_cap  \\\n",
       "2926     0.0     0.0        76.825000    1   27698.125098     1087.127777   \n",
       "455      1.0     0.0        35.220889    0   14946.198416      981.435497   \n",
       "2395     1.0     1.0        68.565889    1   16741.182315      943.864878   \n",
       "917      0.0     1.0        57.105889    1   23710.166920      872.534143   \n",
       "2598     1.0     0.0       104.192000    1   16363.636364      865.800866   \n",
       "2921     0.0     0.0        75.653889    0   16591.844370      860.456416   \n",
       "1091     1.0     0.0        23.093889    1   21299.810247      853.889943   \n",
       "406      1.0     0.0        43.135000    1   15023.604554      833.101916   \n",
       "1650     0.0     0.0        88.003889    1   18472.652219      825.593395   \n",
       "2367     1.0     1.0        58.890889    0   24311.926606      815.494393   \n",
       "525      1.0     0.0        41.772000    1   18519.055209      796.985944   \n",
       "2934     0.0     0.0        79.473000    0   19045.722479      796.558866   \n",
       "2385     1.0     1.0        70.802889    1   20310.633214      788.530466   \n",
       "1998     1.0     0.0        73.870000    1   24384.236453      779.967159   \n",
       "2660     1.0     0.0        86.176889    1   24431.862251      767.858528   \n",
       "902      0.0     1.0        70.650000    1   21176.470588      764.705882   \n",
       "528      1.0     0.0        48.775000    1   14544.334975      763.546798   \n",
       "1129     0.0     0.0        46.276889    1   24724.327149      757.773713   \n",
       "1117     0.0     0.0        75.955889    1   19945.623442      755.229968   \n",
       "95       1.0     0.0        48.835000    0   22604.921613      753.961078   \n",
       "\n",
       "      Labor_rate  Poverty_rate  Fatality_rate  \n",
       "2926    0.453915      0.177249       0.039249  \n",
       "455     0.299397      0.260376       0.065665  \n",
       "2395    0.584203      0.137109       0.056380  \n",
       "917     0.555766      0.097876       0.036800  \n",
       "2598    0.498701      0.159307       0.052910  \n",
       "2921    0.438459      0.179386       0.051860  \n",
       "1091    0.373814      0.175996       0.040089  \n",
       "406     0.521429      0.198371       0.055453  \n",
       "1650    0.468524      0.110423       0.044693  \n",
       "2367    0.352192      0.325178       0.033543  \n",
       "525     0.392697      0.217505       0.043036  \n",
       "2934    0.451649      0.203600       0.041824  \n",
       "2385    0.486977      0.150538       0.038824  \n",
       "1998    0.475780      0.094417       0.031987  \n",
       "2660    0.405957      0.170635       0.031429  \n",
       "902     0.505882      0.105882       0.036111  \n",
       "528     0.343596      0.196182       0.052498  \n",
       "1129    0.405644      0.170787       0.030649  \n",
       "1117    0.409108      0.217657       0.037864  \n",
       "95      0.280927      0.319098       0.033354  \n",
       "\n",
       "[20 rows x 25 columns]"
      ]
     },
     "execution_count": 53,
     "metadata": {},
     "output_type": "execute_result"
    }
   ],
   "source": [
    "data.sort_values([\"deaths_per_cap\"], ascending = False).head(20)"
   ]
  },
  {
   "cell_type": "code",
   "execution_count": 54,
   "id": "786306b0-d9eb-410e-8e37-f264e8dd1b41",
   "metadata": {},
   "outputs": [
    {
     "data": {
      "text/plain": [
       "<AxesSubplot:>"
      ]
     },
     "execution_count": 54,
     "metadata": {},
     "output_type": "execute_result"
    },
    {
     "data": {
      "image/png": "[encoded data removed]",
      "text/plain": [
       "<Figure size 432x288 with 1 Axes>"
      ]
     },
     "metadata": {
      "needs_background": "light"
     },
     "output_type": "display_data"
    }
   ],
   "source": [
    "data.Win.hist()"
   ]
  },
  {
   "cell_type": "code",
   "execution_count": 55,
   "id": "d05d78f2-b30e-4877-ae81-6cf60eeac511",
   "metadata": {},
   "outputs": [
    {
     "name": "stdout",
     "output_type": "stream",
     "text": [
      "<class 'pandas.core.frame.DataFrame'>\n",
      "Int64Index: 3004 entries, 0 to 3047\n",
      "Data columns (total 25 columns):\n",
      " #   Column            Non-Null Count  Dtype  \n",
      "---  ------            --------------  -----  \n",
      " 0   fips              3004 non-null   int64  \n",
      " 1   state             3004 non-null   object \n",
      " 2   county            3004 non-null   object \n",
      " 3   population        3004 non-null   int64  \n",
      " 4   vaccinationRate   2873 non-null   float64\n",
      " 5   cases             3004 non-null   int64  \n",
      " 6   deaths            3004 non-null   int64  \n",
      " 7   Region            3004 non-null   object \n",
      " 8   MedianIncome      3004 non-null   int64  \n",
      " 9   PovertyEst        3004 non-null   int64  \n",
      " 10  LaborForce        3004 non-null   int64  \n",
      " 11  UnemploymentRate  3004 non-null   float64\n",
      " 12  Older             3004 non-null   float64\n",
      " 13  Urban             3004 non-null   float64\n",
      " 14  Trump2016         3004 non-null   float64\n",
      " 15  Trump2020         3004 non-null   float64\n",
      " 16  RepGov            3004 non-null   float64\n",
      " 17  Female            3004 non-null   float64\n",
      " 18  AdherentPercent   3004 non-null   float64\n",
      " 19  Win               3004 non-null   int64  \n",
      " 20  cases_per_cap     3004 non-null   float64\n",
      " 21  deaths_per_cap    3004 non-null   float64\n",
      " 22  Labor_rate        3004 non-null   float64\n",
      " 23  Poverty_rate      3004 non-null   float64\n",
      " 24  Fatality_rate     3004 non-null   float64\n",
      "dtypes: float64(14), int64(8), object(3)\n",
      "memory usage: 610.2+ KB\n"
     ]
    }
   ],
   "source": [
    "data.info()"
   ]
  },
  {
   "cell_type": "code",
   "execution_count": 56,
   "id": "1b512478-c8d9-4104-b37b-8248b25f2ac0",
   "metadata": {},
   "outputs": [
    {
     "data": {
      "text/plain": [
       "count    3004.000000\n",
       "mean        0.481162\n",
       "std         0.111192\n",
       "min         0.030000\n",
       "25%         0.407000\n",
       "50%         0.470000\n",
       "75%         0.544000\n",
       "max         1.304000\n",
       "Name: vaccinationRate, dtype: float64"
      ]
     },
     "execution_count": 56,
     "metadata": {},
     "output_type": "execute_result"
    }
   ],
   "source": [
    "data.vaccinationRate = data.vaccinationRate.fillna(data.vaccinationRate.median())\n",
    "data.vaccinationRate.describe()"
   ]
  },
  {
   "cell_type": "code",
   "execution_count": 57,
   "id": "6bfcf08c-b554-4cc1-9e02-43f1afc822f7",
   "metadata": {},
   "outputs": [
    {
     "name": "stdout",
     "output_type": "stream",
     "text": [
      "<class 'pandas.core.frame.DataFrame'>\n",
      "Int64Index: 3004 entries, 0 to 3047\n",
      "Data columns (total 25 columns):\n",
      " #   Column            Non-Null Count  Dtype  \n",
      "---  ------            --------------  -----  \n",
      " 0   fips              3004 non-null   int64  \n",
      " 1   state             3004 non-null   object \n",
      " 2   county            3004 non-null   object \n",
      " 3   population        3004 non-null   int64  \n",
      " 4   vaccinationRate   3004 non-null   float64\n",
      " 5   cases             3004 non-null   int64  \n",
      " 6   deaths            3004 non-null   int64  \n",
      " 7   Region            3004 non-null   object \n",
      " 8   MedianIncome      3004 non-null   int64  \n",
      " 9   PovertyEst        3004 non-null   int64  \n",
      " 10  LaborForce        3004 non-null   int64  \n",
      " 11  UnemploymentRate  3004 non-null   float64\n",
      " 12  Older             3004 non-null   float64\n",
      " 13  Urban             3004 non-null   float64\n",
      " 14  Trump2016         3004 non-null   float64\n",
      " 15  Trump2020         3004 non-null   float64\n",
      " 16  RepGov            3004 non-null   float64\n",
      " 17  Female            3004 non-null   float64\n",
      " 18  AdherentPercent   3004 non-null   float64\n",
      " 19  Win               3004 non-null   int64  \n",
      " 20  cases_per_cap     3004 non-null   float64\n",
      " 21  deaths_per_cap    3004 non-null   float64\n",
      " 22  Labor_rate        3004 non-null   float64\n",
      " 23  Poverty_rate      3004 non-null   float64\n",
      " 24  Fatality_rate     3004 non-null   float64\n",
      "dtypes: float64(14), int64(8), object(3)\n",
      "memory usage: 610.2+ KB\n"
     ]
    }
   ],
   "source": [
    "data.info()"
   ]
  },
  {
   "cell_type": "code",
   "execution_count": 58,
   "id": "8e3472c8-5d80-4549-8f90-98aaa96ea639",
   "metadata": {},
   "outputs": [
    {
     "data": {
      "text/plain": [
       "fips                0\n",
       "state               0\n",
       "county              0\n",
       "population          0\n",
       "vaccinationRate     0\n",
       "cases               0\n",
       "deaths              0\n",
       "Region              0\n",
       "MedianIncome        0\n",
       "PovertyEst          0\n",
       "LaborForce          0\n",
       "UnemploymentRate    0\n",
       "Older               0\n",
       "Urban               0\n",
       "Trump2016           0\n",
       "Trump2020           0\n",
       "RepGov              0\n",
       "Female              0\n",
       "AdherentPercent     0\n",
       "Win                 0\n",
       "cases_per_cap       0\n",
       "deaths_per_cap      0\n",
       "Labor_rate          0\n",
       "Poverty_rate        0\n",
       "Fatality_rate       0\n",
       "dtype: int64"
      ]
     },
     "execution_count": 58,
     "metadata": {},
     "output_type": "execute_result"
    }
   ],
   "source": [
    "data.isnull().sum()"
   ]
  },
  {
   "cell_type": "code",
   "execution_count": 59,
   "id": "62ce6c7f-0a26-424c-a9d7-ea85f224d078",
   "metadata": {},
   "outputs": [],
   "source": [
    "#cut for landslide, win, or lose"
   ]
  },
  {
   "cell_type": "code",
   "execution_count": 60,
   "id": "b036238f-e204-4644-bed6-a674bedf176b",
   "metadata": {},
   "outputs": [
    {
     "data": {
      "text/plain": [
       "0    71.43681\n",
       "1    76.17137\n",
       "2    53.45123\n",
       "3    78.42627\n",
       "4    89.57156\n",
       "Name: Trump2020, dtype: float64"
      ]
     },
     "execution_count": 60,
     "metadata": {},
     "output_type": "execute_result"
    }
   ],
   "source": [
    "data.Trump2020.head()"
   ]
  },
  {
   "cell_type": "markdown",
   "id": "b1e9ad3d-eec3-4de2-af15-89db1cb2930f",
   "metadata": {},
   "source": [
    "## Transform Data"
   ]
  },
  {
   "cell_type": "code",
   "execution_count": 61,
   "id": "c70352ee-c74c-4df4-aa74-3ec85a517ecf",
   "metadata": {},
   "outputs": [
    {
     "data": {
      "image/png": "[encoded data removed]",
      "text/plain": [
       "<Figure size 432x288 with 1 Axes>"
      ]
     },
     "metadata": {
      "needs_background": "light"
     },
     "output_type": "display_data"
    }
   ],
   "source": [
    "#create another column that defines a game as either a Flop, Average or a Hit\n",
    "#using the quartile cut function, we can cut the column total_earnings into quartile/ranges \n",
    "#assign the tiles labels\n",
    "data['result_cat']= pd.cut(data['Trump2020'], \n",
    "                           bins = [0., 50., 65., np.inf], \n",
    "                           labels=[0,1,2],\n",
    "                          )\n",
    "\n",
    "# lets evaluate the distribution of success\n",
    "data[\"result_cat\"].hist(bins=3)\n",
    "plt.show()"
   ]
  },
  {
   "cell_type": "code",
   "execution_count": 62,
   "id": "6410273a-fa26-46d1-aab5-a0c3281a210f",
   "metadata": {},
   "outputs": [
    {
     "data": {
      "text/html": [
       "<div>\n",
       "<style scoped>\n",
       "    .dataframe tbody tr th:only-of-type {\n",
       "        vertical-align: middle;\n",
       "    }\n",
       "\n",
       "    .dataframe tbody tr th {\n",
       "        vertical-align: top;\n",
       "    }\n",
       "\n",
       "    .dataframe thead th {\n",
       "        text-align: right;\n",
       "    }\n",
       "</style>\n",
       "<table border=\"1\" class=\"dataframe\">\n",
       "  <thead>\n",
       "    <tr style=\"text-align: right;\">\n",
       "      <th></th>\n",
       "      <th>fips</th>\n",
       "      <th>state</th>\n",
       "      <th>county</th>\n",
       "      <th>population</th>\n",
       "      <th>vaccinationRate</th>\n",
       "      <th>cases</th>\n",
       "      <th>deaths</th>\n",
       "      <th>Region</th>\n",
       "      <th>MedianIncome</th>\n",
       "      <th>PovertyEst</th>\n",
       "      <th>...</th>\n",
       "      <th>RepGov</th>\n",
       "      <th>Female</th>\n",
       "      <th>AdherentPercent</th>\n",
       "      <th>Win</th>\n",
       "      <th>cases_per_cap</th>\n",
       "      <th>deaths_per_cap</th>\n",
       "      <th>Labor_rate</th>\n",
       "      <th>Poverty_rate</th>\n",
       "      <th>Fatality_rate</th>\n",
       "      <th>result_cat</th>\n",
       "    </tr>\n",
       "  </thead>\n",
       "  <tbody>\n",
       "    <tr>\n",
       "      <th>0</th>\n",
       "      <td>1001</td>\n",
       "      <td>AL</td>\n",
       "      <td>Autauga County</td>\n",
       "      <td>55869</td>\n",
       "      <td>0.384</td>\n",
       "      <td>11013</td>\n",
       "      <td>160</td>\n",
       "      <td>Southeast</td>\n",
       "      <td>67565</td>\n",
       "      <td>6242</td>\n",
       "      <td>...</td>\n",
       "      <td>1.0</td>\n",
       "      <td>1.0</td>\n",
       "      <td>67.687889</td>\n",
       "      <td>1</td>\n",
       "      <td>19712.183859</td>\n",
       "      <td>286.384220</td>\n",
       "      <td>0.462475</td>\n",
       "      <td>0.111726</td>\n",
       "      <td>0.014528</td>\n",
       "      <td>2</td>\n",
       "    </tr>\n",
       "    <tr>\n",
       "      <th>1</th>\n",
       "      <td>1003</td>\n",
       "      <td>AL</td>\n",
       "      <td>Baldwin County</td>\n",
       "      <td>223234</td>\n",
       "      <td>0.476</td>\n",
       "      <td>39818</td>\n",
       "      <td>593</td>\n",
       "      <td>Southeast</td>\n",
       "      <td>71135</td>\n",
       "      <td>20189</td>\n",
       "      <td>...</td>\n",
       "      <td>1.0</td>\n",
       "      <td>1.0</td>\n",
       "      <td>53.174000</td>\n",
       "      <td>1</td>\n",
       "      <td>17836.888646</td>\n",
       "      <td>265.640539</td>\n",
       "      <td>0.433460</td>\n",
       "      <td>0.090439</td>\n",
       "      <td>0.014893</td>\n",
       "      <td>2</td>\n",
       "    </tr>\n",
       "    <tr>\n",
       "      <th>2</th>\n",
       "      <td>1005</td>\n",
       "      <td>AL</td>\n",
       "      <td>Barbour County</td>\n",
       "      <td>24686</td>\n",
       "      <td>0.419</td>\n",
       "      <td>3850</td>\n",
       "      <td>81</td>\n",
       "      <td>Southeast</td>\n",
       "      <td>38866</td>\n",
       "      <td>5548</td>\n",
       "      <td>...</td>\n",
       "      <td>1.0</td>\n",
       "      <td>1.0</td>\n",
       "      <td>54.999000</td>\n",
       "      <td>1</td>\n",
       "      <td>15595.884307</td>\n",
       "      <td>328.121202</td>\n",
       "      <td>0.347849</td>\n",
       "      <td>0.224743</td>\n",
       "      <td>0.021039</td>\n",
       "      <td>1</td>\n",
       "    </tr>\n",
       "    <tr>\n",
       "      <th>3</th>\n",
       "      <td>1007</td>\n",
       "      <td>AL</td>\n",
       "      <td>Bibb County</td>\n",
       "      <td>22394</td>\n",
       "      <td>0.326</td>\n",
       "      <td>4524</td>\n",
       "      <td>95</td>\n",
       "      <td>Southeast</td>\n",
       "      <td>50907</td>\n",
       "      <td>3549</td>\n",
       "      <td>...</td>\n",
       "      <td>1.0</td>\n",
       "      <td>1.0</td>\n",
       "      <td>49.880000</td>\n",
       "      <td>1</td>\n",
       "      <td>20201.839779</td>\n",
       "      <td>424.220773</td>\n",
       "      <td>0.385818</td>\n",
       "      <td>0.158480</td>\n",
       "      <td>0.020999</td>\n",
       "      <td>2</td>\n",
       "    </tr>\n",
       "    <tr>\n",
       "      <th>4</th>\n",
       "      <td>1009</td>\n",
       "      <td>AL</td>\n",
       "      <td>Blount County</td>\n",
       "      <td>57826</td>\n",
       "      <td>0.296</td>\n",
       "      <td>11244</td>\n",
       "      <td>198</td>\n",
       "      <td>Southeast</td>\n",
       "      <td>55203</td>\n",
       "      <td>7525</td>\n",
       "      <td>...</td>\n",
       "      <td>1.0</td>\n",
       "      <td>1.0</td>\n",
       "      <td>65.162000</td>\n",
       "      <td>1</td>\n",
       "      <td>19444.540518</td>\n",
       "      <td>342.406530</td>\n",
       "      <td>0.426469</td>\n",
       "      <td>0.130132</td>\n",
       "      <td>0.017609</td>\n",
       "      <td>2</td>\n",
       "    </tr>\n",
       "  </tbody>\n",
       "</table>\n",
       "<p>5 rows × 26 columns</p>\n",
       "</div>"
      ],
      "text/plain": [
       "   fips state          county  population  vaccinationRate  cases  deaths  \\\n",
       "0  1001    AL  Autauga County       55869            0.384  11013     160   \n",
       "1  1003    AL  Baldwin County      223234            0.476  39818     593   \n",
       "2  1005    AL  Barbour County       24686            0.419   3850      81   \n",
       "3  1007    AL     Bibb County       22394            0.326   4524      95   \n",
       "4  1009    AL   Blount County       57826            0.296  11244     198   \n",
       "\n",
       "      Region  MedianIncome  PovertyEst  ...  RepGov  Female  AdherentPercent  \\\n",
       "0  Southeast         67565        6242  ...     1.0     1.0        67.687889   \n",
       "1  Southeast         71135       20189  ...     1.0     1.0        53.174000   \n",
       "2  Southeast         38866        5548  ...     1.0     1.0        54.999000   \n",
       "3  Southeast         50907        3549  ...     1.0     1.0        49.880000   \n",
       "4  Southeast         55203        7525  ...     1.0     1.0        65.162000   \n",
       "\n",
       "   Win  cases_per_cap  deaths_per_cap  Labor_rate  Poverty_rate  \\\n",
       "0    1   19712.183859      286.384220    0.462475      0.111726   \n",
       "1    1   17836.888646      265.640539    0.433460      0.090439   \n",
       "2    1   15595.884307      328.121202    0.347849      0.224743   \n",
       "3    1   20201.839779      424.220773    0.385818      0.158480   \n",
       "4    1   19444.540518      342.406530    0.426469      0.130132   \n",
       "\n",
       "   Fatality_rate  result_cat  \n",
       "0       0.014528           2  \n",
       "1       0.014893           2  \n",
       "2       0.021039           1  \n",
       "3       0.020999           2  \n",
       "4       0.017609           2  \n",
       "\n",
       "[5 rows x 26 columns]"
      ]
     },
     "execution_count": 62,
     "metadata": {},
     "output_type": "execute_result"
    }
   ],
   "source": [
    "data.head()"
   ]
  },
  {
   "cell_type": "markdown",
   "id": "873d0bc0-cf92-49c3-aff1-650408302f65",
   "metadata": {},
   "source": [
    "## Create Training and Test data sets"
   ]
  },
  {
   "cell_type": "code",
   "execution_count": 63,
   "id": "8d044d5f-1bc0-4571-8f6d-a41c474804e5",
   "metadata": {},
   "outputs": [
    {
     "data": {
      "text/plain": [
       "((2403, 17), (601, 17), (2403,), (601,))"
      ]
     },
     "execution_count": 63,
     "metadata": {},
     "output_type": "execute_result"
    }
   ],
   "source": [
    "#by adding the stratify feature to the train_test_split, can ensure a more representative collection of data\n",
    "X_train, X_test, y_train, y_test = train_test_split(\n",
    "    data.drop(columns=['result_cat','Trump2020', \"Win\", 'PovertyEst', \"LaborForce\" ,\"cases\", \"deaths\", 'county', 'fips']),\n",
    "    data.result_cat, \n",
    "    test_size=0.2, \n",
    "    random_state=35, \n",
    "    stratify=data.Region\n",
    ")\n",
    "\n",
    "   \n",
    "X_train.shape,X_test.shape,y_train.shape, y_test.shape "
   ]
  },
  {
   "cell_type": "code",
   "execution_count": 64,
   "id": "baa846a7-9b40-4277-94ab-176e9fd7db2c",
   "metadata": {},
   "outputs": [],
   "source": [
    "#now that we have the stratified test and training sets, no need for attribute income_cat in those sets\n",
    "#X_train.drop(columns=[\"Region\"], inplace=True)\n",
    "#X_test.drop(columns=[\"Region\"], inplace=True)"
   ]
  },
  {
   "cell_type": "markdown",
   "id": "5d1c1426-4a30-449f-a184-44a258fb869a",
   "metadata": {},
   "source": [
    "## Prepare Data"
   ]
  },
  {
   "cell_type": "code",
   "execution_count": 65,
   "id": "3a69cb5a-d70b-4df7-ad4d-4cefad3157c4",
   "metadata": {},
   "outputs": [],
   "source": [
    "#data = data[ data.fips != 42045 ].copy() "
   ]
  },
  {
   "cell_type": "markdown",
   "id": "5a7bf182-fc2b-4b18-a17b-6d023746c5b3",
   "metadata": {},
   "source": [
    "data['vaccinationRate'] = data.apply(lambda r: np.nan if r. vaccinationRate > 1 else r.vaccinationRate, axis =1)\n",
    "#data[data.vaccinationRate >= 1, \"vaccinationRate\"] = np.nan"
   ]
  },
  {
   "cell_type": "code",
   "execution_count": 66,
   "id": "adb89ec8-2eeb-4fdf-9e1c-980465518f91",
   "metadata": {},
   "outputs": [
    {
     "data": {
      "text/plain": [
       "((2403, 17), (2403,), (601, 17), (601,))"
      ]
     },
     "execution_count": 66,
     "metadata": {},
     "output_type": "execute_result"
    }
   ],
   "source": [
    "#show the size of the data sets\n",
    "X_train.shape, y_train.shape, X_test.shape, y_test.shape"
   ]
  },
  {
   "cell_type": "code",
   "execution_count": 67,
   "id": "af36aa0b-022c-402e-9bd9-8f3916696bb6",
   "metadata": {},
   "outputs": [],
   "source": [
    "cat_attribs = [\"Region\",\"state\"]\n",
    "\n",
    "#set the numerical attributes\n",
    "num_attribs = list( X_train.drop(columns=cat_attribs) )\n",
    "\n",
    "#define pipeline for numeric attributes (this code is just a definition)\n",
    "#each numeric attribute will be imputated using the Median strategy\n",
    "#each numeric attribute will be scaled \n",
    "num_pipeline = Pipeline( [\n",
    "    ('imputer', SimpleImputer(strategy=\"median\")), \n",
    "    ('std_scaler', StandardScaler()),   \n",
    "] )\n",
    "\n",
    "#define the pipeline process for the data set\n",
    "full_pipeline = ColumnTransformer( [\n",
    "    ('num', num_pipeline, num_attribs),\n",
    "    ('cat', OneHotEncoder(sparse=False), cat_attribs)    \n",
    "])"
   ]
  },
  {
   "cell_type": "code",
   "execution_count": 68,
   "id": "82c737a5-69c3-4f32-9508-1358dbbfad3d",
   "metadata": {},
   "outputs": [],
   "source": [
    "from sklearn import set_config\n",
    "set_config(display='diagram')\n",
    "#should put with imports"
   ]
  },
  {
   "cell_type": "code",
   "execution_count": 69,
   "id": "198ae129-4f2b-4bde-90d0-9317756361e0",
   "metadata": {},
   "outputs": [
    {
     "data": {
      "text/html": [
       "<style>#sk-7d5a53ac-5afb-4590-9bcb-f6609a9e9443 {color: black;background-color: white;}#sk-7d5a53ac-5afb-4590-9bcb-f6609a9e9443 pre{padding: 0;}#sk-7d5a53ac-5afb-4590-9bcb-f6609a9e9443 div.sk-toggleable {background-color: white;}#sk-7d5a53ac-5afb-4590-9bcb-f6609a9e9443 label.sk-toggleable__label {cursor: pointer;display: block;width: 100%;margin-bottom: 0;padding: 0.2em 0.3em;box-sizing: border-box;text-align: center;}#sk-7d5a53ac-5afb-4590-9bcb-f6609a9e9443 div.sk-toggleable__content {max-height: 0;max-width: 0;overflow: hidden;text-align: left;background-color: #f0f8ff;}#sk-7d5a53ac-5afb-4590-9bcb-f6609a9e9443 div.sk-toggleable__content pre {margin: 0.2em;color: black;border-radius: 0.25em;background-color: #f0f8ff;}#sk-7d5a53ac-5afb-4590-9bcb-f6609a9e9443 input.sk-toggleable__control:checked~div.sk-toggleable__content {max-height: 200px;max-width: 100%;overflow: auto;}#sk-7d5a53ac-5afb-4590-9bcb-f6609a9e9443 div.sk-estimator input.sk-toggleable__control:checked~label.sk-toggleable__label {background-color: #d4ebff;}#sk-7d5a53ac-5afb-4590-9bcb-f6609a9e9443 div.sk-label input.sk-toggleable__control:checked~label.sk-toggleable__label {background-color: #d4ebff;}#sk-7d5a53ac-5afb-4590-9bcb-f6609a9e9443 input.sk-hidden--visually {border: 0;clip: rect(1px 1px 1px 1px);clip: rect(1px, 1px, 1px, 1px);height: 1px;margin: -1px;overflow: hidden;padding: 0;position: absolute;width: 1px;}#sk-7d5a53ac-5afb-4590-9bcb-f6609a9e9443 div.sk-estimator {font-family: monospace;background-color: #f0f8ff;margin: 0.25em 0.25em;border: 1px dotted black;border-radius: 0.25em;box-sizing: border-box;}#sk-7d5a53ac-5afb-4590-9bcb-f6609a9e9443 div.sk-estimator:hover {background-color: #d4ebff;}#sk-7d5a53ac-5afb-4590-9bcb-f6609a9e9443 div.sk-parallel-item::after {content: \"\";width: 100%;border-bottom: 1px solid gray;flex-grow: 1;}#sk-7d5a53ac-5afb-4590-9bcb-f6609a9e9443 div.sk-label:hover label.sk-toggleable__label {background-color: #d4ebff;}#sk-7d5a53ac-5afb-4590-9bcb-f6609a9e9443 div.sk-serial::before {content: \"\";position: absolute;border-left: 1px solid gray;box-sizing: border-box;top: 2em;bottom: 0;left: 50%;}#sk-7d5a53ac-5afb-4590-9bcb-f6609a9e9443 div.sk-serial {display: flex;flex-direction: column;align-items: center;background-color: white;}#sk-7d5a53ac-5afb-4590-9bcb-f6609a9e9443 div.sk-item {z-index: 1;}#sk-7d5a53ac-5afb-4590-9bcb-f6609a9e9443 div.sk-parallel {display: flex;align-items: stretch;justify-content: center;background-color: white;}#sk-7d5a53ac-5afb-4590-9bcb-f6609a9e9443 div.sk-parallel-item {display: flex;flex-direction: column;position: relative;background-color: white;}#sk-7d5a53ac-5afb-4590-9bcb-f6609a9e9443 div.sk-parallel-item:first-child::after {align-self: flex-end;width: 50%;}#sk-7d5a53ac-5afb-4590-9bcb-f6609a9e9443 div.sk-parallel-item:last-child::after {align-self: flex-start;width: 50%;}#sk-7d5a53ac-5afb-4590-9bcb-f6609a9e9443 div.sk-parallel-item:only-child::after {width: 0;}#sk-7d5a53ac-5afb-4590-9bcb-f6609a9e9443 div.sk-dashed-wrapped {border: 1px dashed gray;margin: 0.2em;box-sizing: border-box;padding-bottom: 0.1em;background-color: white;position: relative;}#sk-7d5a53ac-5afb-4590-9bcb-f6609a9e9443 div.sk-label label {font-family: monospace;font-weight: bold;background-color: white;display: inline-block;line-height: 1.2em;}#sk-7d5a53ac-5afb-4590-9bcb-f6609a9e9443 div.sk-label-container {position: relative;z-index: 2;text-align: center;}#sk-7d5a53ac-5afb-4590-9bcb-f6609a9e9443 div.sk-container {display: inline-block;position: relative;}</style><div id=\"sk-7d5a53ac-5afb-4590-9bcb-f6609a9e9443\" class\"sk-top-container\"><div class=\"sk-container\"><div class=\"sk-item sk-dashed-wrapped\"><div class=\"sk-label-container\"><div class=\"sk-label sk-toggleable\"><input class=\"sk-toggleable__control sk-hidden--visually\" id=\"f3af48db-6370-400e-a518-e503b7952207\" type=\"checkbox\" ><label class=\"sk-toggleable__label\" for=\"f3af48db-6370-400e-a518-e503b7952207\">ColumnTransformer</label><div class=\"sk-toggleable__content\"><pre>ColumnTransformer(transformers=[('num',\n",
       "                                 Pipeline(steps=[('imputer',\n",
       "                                                  SimpleImputer(strategy='median')),\n",
       "                                                 ('std_scaler',\n",
       "                                                  StandardScaler())]),\n",
       "                                 ['population', 'vaccinationRate',\n",
       "                                  'MedianIncome', 'UnemploymentRate', 'Older',\n",
       "                                  'Urban', 'Trump2016', 'RepGov', 'Female',\n",
       "                                  'AdherentPercent', 'cases_per_cap',\n",
       "                                  'deaths_per_cap', 'Labor_rate',\n",
       "                                  'Poverty_rate', 'Fatality_rate']),\n",
       "                                ('cat', OneHotEncoder(sparse=False),\n",
       "                                 ['Region', 'state'])])</pre></div></div></div><div class=\"sk-parallel\"><div class=\"sk-parallel-item\"><div class=\"sk-item\"><div class=\"sk-label-container\"><div class=\"sk-label sk-toggleable\"><input class=\"sk-toggleable__control sk-hidden--visually\" id=\"57204dd2-d2f2-4b5f-8e08-17e49683e36a\" type=\"checkbox\" ><label class=\"sk-toggleable__label\" for=\"57204dd2-d2f2-4b5f-8e08-17e49683e36a\">num</label><div class=\"sk-toggleable__content\"><pre>['population', 'vaccinationRate', 'MedianIncome', 'UnemploymentRate', 'Older', 'Urban', 'Trump2016', 'RepGov', 'Female', 'AdherentPercent', 'cases_per_cap', 'deaths_per_cap', 'Labor_rate', 'Poverty_rate', 'Fatality_rate']</pre></div></div></div><div class=\"sk-serial\"><div class=\"sk-item\"><div class=\"sk-serial\"><div class=\"sk-item\"><div class=\"sk-estimator sk-toggleable\"><input class=\"sk-toggleable__control sk-hidden--visually\" id=\"2bb0a53a-a616-4ea1-bedc-a98971b5c025\" type=\"checkbox\" ><label class=\"sk-toggleable__label\" for=\"2bb0a53a-a616-4ea1-bedc-a98971b5c025\">SimpleImputer</label><div class=\"sk-toggleable__content\"><pre>SimpleImputer(strategy='median')</pre></div></div></div><div class=\"sk-item\"><div class=\"sk-estimator sk-toggleable\"><input class=\"sk-toggleable__control sk-hidden--visually\" id=\"544f0d7c-6bed-40d3-8348-c1b687c0d057\" type=\"checkbox\" ><label class=\"sk-toggleable__label\" for=\"544f0d7c-6bed-40d3-8348-c1b687c0d057\">StandardScaler</label><div class=\"sk-toggleable__content\"><pre>StandardScaler()</pre></div></div></div></div></div></div></div></div><div class=\"sk-parallel-item\"><div class=\"sk-item\"><div class=\"sk-label-container\"><div class=\"sk-label sk-toggleable\"><input class=\"sk-toggleable__control sk-hidden--visually\" id=\"4d5fe8f5-d8c2-42af-9170-9d05fb483133\" type=\"checkbox\" ><label class=\"sk-toggleable__label\" for=\"4d5fe8f5-d8c2-42af-9170-9d05fb483133\">cat</label><div class=\"sk-toggleable__content\"><pre>['Region', 'state']</pre></div></div></div><div class=\"sk-serial\"><div class=\"sk-item\"><div class=\"sk-estimator sk-toggleable\"><input class=\"sk-toggleable__control sk-hidden--visually\" id=\"cb54274c-22b9-41f7-8d12-04b5306f9f75\" type=\"checkbox\" ><label class=\"sk-toggleable__label\" for=\"cb54274c-22b9-41f7-8d12-04b5306f9f75\">OneHotEncoder</label><div class=\"sk-toggleable__content\"><pre>OneHotEncoder(sparse=False)</pre></div></div></div></div></div></div></div></div></div></div>"
      ],
      "text/plain": [
       "ColumnTransformer(transformers=[('num',\n",
       "                                 Pipeline(steps=[('imputer',\n",
       "                                                  SimpleImputer(strategy='median')),\n",
       "                                                 ('std_scaler',\n",
       "                                                  StandardScaler())]),\n",
       "                                 ['population', 'vaccinationRate',\n",
       "                                  'MedianIncome', 'UnemploymentRate', 'Older',\n",
       "                                  'Urban', 'Trump2016', 'RepGov', 'Female',\n",
       "                                  'AdherentPercent', 'cases_per_cap',\n",
       "                                  'deaths_per_cap', 'Labor_rate',\n",
       "                                  'Poverty_rate', 'Fatality_rate']),\n",
       "                                ('cat', OneHotEncoder(sparse=False),\n",
       "                                 ['Region', 'state'])])"
      ]
     },
     "execution_count": 69,
     "metadata": {},
     "output_type": "execute_result"
    }
   ],
   "source": [
    "full_pipeline"
   ]
  },
  {
   "cell_type": "code",
   "execution_count": 70,
   "id": "06e36254-d75d-4cc1-95cf-abae888c0c8a",
   "metadata": {},
   "outputs": [],
   "source": [
    "#take the training data set and create an array of prepared data\n",
    "X_train = full_pipeline.fit_transform(X_train)"
   ]
  },
  {
   "cell_type": "code",
   "execution_count": 71,
   "id": "72636f5b-13b1-4459-88e1-8718075bec06",
   "metadata": {},
   "outputs": [],
   "source": [
    "X_test = full_pipeline.transform(X_test)"
   ]
  },
  {
   "cell_type": "code",
   "execution_count": 72,
   "id": "f5d9d1a2-031f-4ab4-a535-af487c2eab53",
   "metadata": {},
   "outputs": [
    {
     "data": {
      "text/plain": [
       "(601, 70)"
      ]
     },
     "execution_count": 72,
     "metadata": {},
     "output_type": "execute_result"
    }
   ],
   "source": [
    "X_test.shape"
   ]
  },
  {
   "cell_type": "code",
   "execution_count": 73,
   "id": "9a2ff192-3cff-4f01-a42b-498503f53e5a",
   "metadata": {},
   "outputs": [
    {
     "data": {
      "text/plain": [
       "(2403, 70)"
      ]
     },
     "execution_count": 73,
     "metadata": {},
     "output_type": "execute_result"
    }
   ],
   "source": [
    "X_train.shape"
   ]
  },
  {
   "cell_type": "code",
   "execution_count": 74,
   "id": "7a135519-300c-4edc-b720-e0cca9b9ac89",
   "metadata": {},
   "outputs": [
    {
     "data": {
      "text/plain": [
       "['population',\n",
       " 'vaccinationRate',\n",
       " 'MedianIncome',\n",
       " 'UnemploymentRate',\n",
       " 'Older',\n",
       " 'Urban',\n",
       " 'Trump2016',\n",
       " 'RepGov',\n",
       " 'Female',\n",
       " 'AdherentPercent',\n",
       " 'cases_per_cap',\n",
       " 'deaths_per_cap',\n",
       " 'Labor_rate',\n",
       " 'Poverty_rate',\n",
       " 'Fatality_rate',\n",
       " 'Far west',\n",
       " 'Great Lakes',\n",
       " 'Mideast',\n",
       " 'New England',\n",
       " 'Plains',\n",
       " 'Rocky Mountain',\n",
       " 'Southeast',\n",
       " 'Southwest',\n",
       " 'AL',\n",
       " 'AR',\n",
       " 'AZ',\n",
       " 'CA',\n",
       " 'CO',\n",
       " 'CT',\n",
       " 'DE',\n",
       " 'FL',\n",
       " 'GA',\n",
       " 'IA',\n",
       " 'ID',\n",
       " 'IL',\n",
       " 'IN',\n",
       " 'KS',\n",
       " 'KY',\n",
       " 'LA',\n",
       " 'MA',\n",
       " 'MD',\n",
       " 'ME',\n",
       " 'MI',\n",
       " 'MN',\n",
       " 'MO',\n",
       " 'MS',\n",
       " 'MT',\n",
       " 'NC',\n",
       " 'ND',\n",
       " 'NE',\n",
       " 'NH',\n",
       " 'NJ',\n",
       " 'NM',\n",
       " 'NV',\n",
       " 'NY',\n",
       " 'OH',\n",
       " 'OK',\n",
       " 'OR',\n",
       " 'PA',\n",
       " 'RI',\n",
       " 'SC',\n",
       " 'SD',\n",
       " 'TN',\n",
       " 'TX',\n",
       " 'UT',\n",
       " 'VA',\n",
       " 'VT',\n",
       " 'WA',\n",
       " 'WI',\n",
       " 'WV']"
      ]
     },
     "execution_count": 74,
     "metadata": {},
     "output_type": "execute_result"
    }
   ],
   "source": [
    "#capture a list of all the features used in the model\n",
    "\n",
    "#gets the order of encoded categories (if any)\n",
    "cat_encoder = full_pipeline.named_transformers_[\"cat\"]\n",
    "cat_one_hot_attribs = []\n",
    "if hasattr(cat_encoder, 'categories_'):\n",
    "    for i in cat_encoder.categories_:\n",
    "        cat_one_hot_attribs += list(i)\n",
    "        \n",
    "#combines the numeric and encoded features\n",
    "attributes = list(num_attribs) + list(cat_one_hot_attribs)\n",
    "\n",
    "attributes"
   ]
  },
  {
   "cell_type": "markdown",
   "id": "d2244258-8bf8-4293-8d09-bb77d35134cc",
   "metadata": {},
   "source": [
    "## Make Predictions"
   ]
  },
  {
   "cell_type": "code",
   "execution_count": 81,
   "id": "fb3736f6-83eb-4117-8bce-ccd11e1113b0",
   "metadata": {},
   "outputs": [
    {
     "name": "stdout",
     "output_type": "stream",
     "text": [
      "(1, 26)\n"
     ]
    },
    {
     "data": {
      "text/plain": [
       "(1, 17)"
      ]
     },
     "execution_count": 81,
     "metadata": {},
     "output_type": "execute_result"
    }
   ],
   "source": [
    "#copies Delaware County data to a new dataset for later predictions\n",
    "X_instance = data[ data.fips == 42045 ]\n",
    "print(X_instance.shape)\n",
    "X_instance = X_instance.drop(columns = ['Trump2020','result_cat','Win','county',\"PovertyEst\",'cases',\"deaths\", \"LaborForce\" ,'fips'])\n",
    "X_instance.shape"
   ]
  },
  {
   "cell_type": "code",
   "execution_count": 82,
   "id": "19166038-d886-4b94-8986-a6a837a7f5a7",
   "metadata": {},
   "outputs": [],
   "source": [
    "#take the single instance and run it through the full_pipeline created above\n",
    "X_prepared = full_pipeline.transform( X_instance )"
   ]
  },
  {
   "cell_type": "code",
   "execution_count": 83,
   "id": "8bb74ecb-c0a8-4648-9838-faccf47637e3",
   "metadata": {},
   "outputs": [],
   "source": [
    "data = data[ data.fips != 42045 ].copy() "
   ]
  },
  {
   "cell_type": "markdown",
   "id": "40b84c5f-267f-4a81-bcd5-fdafb8fae098",
   "metadata": {
    "tags": []
   },
   "source": [
    "## Multiclass classification using RandomForest"
   ]
  },
  {
   "cell_type": "code",
   "execution_count": 84,
   "id": "0669e1f1-0974-4c51-a310-5c796618e968",
   "metadata": {},
   "outputs": [
    {
     "data": {
      "text/html": [
       "<style>#sk-6c950291-ff3f-44f3-9da8-83784ed89a25 {color: black;background-color: white;}#sk-6c950291-ff3f-44f3-9da8-83784ed89a25 pre{padding: 0;}#sk-6c950291-ff3f-44f3-9da8-83784ed89a25 div.sk-toggleable {background-color: white;}#sk-6c950291-ff3f-44f3-9da8-83784ed89a25 label.sk-toggleable__label {cursor: pointer;display: block;width: 100%;margin-bottom: 0;padding: 0.2em 0.3em;box-sizing: border-box;text-align: center;}#sk-6c950291-ff3f-44f3-9da8-83784ed89a25 div.sk-toggleable__content {max-height: 0;max-width: 0;overflow: hidden;text-align: left;background-color: #f0f8ff;}#sk-6c950291-ff3f-44f3-9da8-83784ed89a25 div.sk-toggleable__content pre {margin: 0.2em;color: black;border-radius: 0.25em;background-color: #f0f8ff;}#sk-6c950291-ff3f-44f3-9da8-83784ed89a25 input.sk-toggleable__control:checked~div.sk-toggleable__content {max-height: 200px;max-width: 100%;overflow: auto;}#sk-6c950291-ff3f-44f3-9da8-83784ed89a25 div.sk-estimator input.sk-toggleable__control:checked~label.sk-toggleable__label {background-color: #d4ebff;}#sk-6c950291-ff3f-44f3-9da8-83784ed89a25 div.sk-label input.sk-toggleable__control:checked~label.sk-toggleable__label {background-color: #d4ebff;}#sk-6c950291-ff3f-44f3-9da8-83784ed89a25 input.sk-hidden--visually {border: 0;clip: rect(1px 1px 1px 1px);clip: rect(1px, 1px, 1px, 1px);height: 1px;margin: -1px;overflow: hidden;padding: 0;position: absolute;width: 1px;}#sk-6c950291-ff3f-44f3-9da8-83784ed89a25 div.sk-estimator {font-family: monospace;background-color: #f0f8ff;margin: 0.25em 0.25em;border: 1px dotted black;border-radius: 0.25em;box-sizing: border-box;}#sk-6c950291-ff3f-44f3-9da8-83784ed89a25 div.sk-estimator:hover {background-color: #d4ebff;}#sk-6c950291-ff3f-44f3-9da8-83784ed89a25 div.sk-parallel-item::after {content: \"\";width: 100%;border-bottom: 1px solid gray;flex-grow: 1;}#sk-6c950291-ff3f-44f3-9da8-83784ed89a25 div.sk-label:hover label.sk-toggleable__label {background-color: #d4ebff;}#sk-6c950291-ff3f-44f3-9da8-83784ed89a25 div.sk-serial::before {content: \"\";position: absolute;border-left: 1px solid gray;box-sizing: border-box;top: 2em;bottom: 0;left: 50%;}#sk-6c950291-ff3f-44f3-9da8-83784ed89a25 div.sk-serial {display: flex;flex-direction: column;align-items: center;background-color: white;}#sk-6c950291-ff3f-44f3-9da8-83784ed89a25 div.sk-item {z-index: 1;}#sk-6c950291-ff3f-44f3-9da8-83784ed89a25 div.sk-parallel {display: flex;align-items: stretch;justify-content: center;background-color: white;}#sk-6c950291-ff3f-44f3-9da8-83784ed89a25 div.sk-parallel-item {display: flex;flex-direction: column;position: relative;background-color: white;}#sk-6c950291-ff3f-44f3-9da8-83784ed89a25 div.sk-parallel-item:first-child::after {align-self: flex-end;width: 50%;}#sk-6c950291-ff3f-44f3-9da8-83784ed89a25 div.sk-parallel-item:last-child::after {align-self: flex-start;width: 50%;}#sk-6c950291-ff3f-44f3-9da8-83784ed89a25 div.sk-parallel-item:only-child::after {width: 0;}#sk-6c950291-ff3f-44f3-9da8-83784ed89a25 div.sk-dashed-wrapped {border: 1px dashed gray;margin: 0.2em;box-sizing: border-box;padding-bottom: 0.1em;background-color: white;position: relative;}#sk-6c950291-ff3f-44f3-9da8-83784ed89a25 div.sk-label label {font-family: monospace;font-weight: bold;background-color: white;display: inline-block;line-height: 1.2em;}#sk-6c950291-ff3f-44f3-9da8-83784ed89a25 div.sk-label-container {position: relative;z-index: 2;text-align: center;}#sk-6c950291-ff3f-44f3-9da8-83784ed89a25 div.sk-container {display: inline-block;position: relative;}</style><div id=\"sk-6c950291-ff3f-44f3-9da8-83784ed89a25\" class\"sk-top-container\"><div class=\"sk-container\"><div class=\"sk-item\"><div class=\"sk-estimator sk-toggleable\"><input class=\"sk-toggleable__control sk-hidden--visually\" id=\"86141d62-3955-42fe-9ac2-2064fa7c3a98\" type=\"checkbox\" checked><label class=\"sk-toggleable__label\" for=\"86141d62-3955-42fe-9ac2-2064fa7c3a98\">RandomForestClassifier</label><div class=\"sk-toggleable__content\"><pre>RandomForestClassifier(random_state=35)</pre></div></div></div></div></div>"
      ],
      "text/plain": [
       "RandomForestClassifier(random_state=35)"
      ]
     },
     "execution_count": 84,
     "metadata": {},
     "output_type": "execute_result"
    }
   ],
   "source": [
    "#create the classification model\n",
    "forest_clf = RandomForestClassifier(n_estimators=100, random_state=35)\n",
    "\n",
    "#fit the model using the training data set\n",
    "forest_clf.fit(X_train, y_train)"
   ]
  },
  {
   "cell_type": "code",
   "execution_count": 85,
   "id": "55b9a524-f64b-4e95-b7ae-d10b592ba17f",
   "metadata": {},
   "outputs": [
    {
     "data": {
      "text/plain": [
       "array([0], dtype=int64)"
      ]
     },
     "execution_count": 85,
     "metadata": {},
     "output_type": "execute_result"
    }
   ],
   "source": [
    "forest_clf.predict(X_prepared)"
   ]
  },
  {
   "cell_type": "code",
   "execution_count": 86,
   "id": "2095977a-ac6e-4f66-b4d5-ac03cad82ffa",
   "metadata": {},
   "outputs": [
    {
     "data": {
      "text/plain": [
       "array([[0.94, 0.03, 0.03]])"
      ]
     },
     "execution_count": 86,
     "metadata": {},
     "output_type": "execute_result"
    }
   ],
   "source": [
    "forest_clf.predict_proba(X_prepared)"
   ]
  },
  {
   "cell_type": "code",
   "execution_count": 87,
   "id": "8623d016-b397-4f6f-8eb1-0f06e6459a57",
   "metadata": {},
   "outputs": [],
   "source": [
    "#Use Cross Validation to get a more reliable Accuracy Score"
   ]
  },
  {
   "cell_type": "code",
   "execution_count": 88,
   "id": "e3ed60cb-ae9c-4a89-8be9-785e4e02ef1b",
   "metadata": {},
   "outputs": [
    {
     "data": {
      "text/plain": [
       "0.9371618809821056"
      ]
     },
     "execution_count": 88,
     "metadata": {},
     "output_type": "execute_result"
    }
   ],
   "source": [
    "#see how well the model peforms across a variety of cross sections\n",
    "score = cross_val_score(forest_clf, X_train, y_train, cv=3, scoring=\"accuracy\")\n",
    "np.mean(score)"
   ]
  },
  {
   "cell_type": "markdown",
   "id": "ca9e57fd-f1ee-4e20-ba5a-a1467ae60640",
   "metadata": {},
   "source": [
    "## Multiclass Classification using SGDClassifier"
   ]
  },
  {
   "cell_type": "code",
   "execution_count": 89,
   "id": "240afef0-de9b-44d9-b5e0-1c2889f41676",
   "metadata": {},
   "outputs": [
    {
     "data": {
      "text/html": [
       "<style>#sk-28f3a15d-1629-4322-826b-2cca7b481eee {color: black;background-color: white;}#sk-28f3a15d-1629-4322-826b-2cca7b481eee pre{padding: 0;}#sk-28f3a15d-1629-4322-826b-2cca7b481eee div.sk-toggleable {background-color: white;}#sk-28f3a15d-1629-4322-826b-2cca7b481eee label.sk-toggleable__label {cursor: pointer;display: block;width: 100%;margin-bottom: 0;padding: 0.2em 0.3em;box-sizing: border-box;text-align: center;}#sk-28f3a15d-1629-4322-826b-2cca7b481eee div.sk-toggleable__content {max-height: 0;max-width: 0;overflow: hidden;text-align: left;background-color: #f0f8ff;}#sk-28f3a15d-1629-4322-826b-2cca7b481eee div.sk-toggleable__content pre {margin: 0.2em;color: black;border-radius: 0.25em;background-color: #f0f8ff;}#sk-28f3a15d-1629-4322-826b-2cca7b481eee input.sk-toggleable__control:checked~div.sk-toggleable__content {max-height: 200px;max-width: 100%;overflow: auto;}#sk-28f3a15d-1629-4322-826b-2cca7b481eee div.sk-estimator input.sk-toggleable__control:checked~label.sk-toggleable__label {background-color: #d4ebff;}#sk-28f3a15d-1629-4322-826b-2cca7b481eee div.sk-label input.sk-toggleable__control:checked~label.sk-toggleable__label {background-color: #d4ebff;}#sk-28f3a15d-1629-4322-826b-2cca7b481eee input.sk-hidden--visually {border: 0;clip: rect(1px 1px 1px 1px);clip: rect(1px, 1px, 1px, 1px);height: 1px;margin: -1px;overflow: hidden;padding: 0;position: absolute;width: 1px;}#sk-28f3a15d-1629-4322-826b-2cca7b481eee div.sk-estimator {font-family: monospace;background-color: #f0f8ff;margin: 0.25em 0.25em;border: 1px dotted black;border-radius: 0.25em;box-sizing: border-box;}#sk-28f3a15d-1629-4322-826b-2cca7b481eee div.sk-estimator:hover {background-color: #d4ebff;}#sk-28f3a15d-1629-4322-826b-2cca7b481eee div.sk-parallel-item::after {content: \"\";width: 100%;border-bottom: 1px solid gray;flex-grow: 1;}#sk-28f3a15d-1629-4322-826b-2cca7b481eee div.sk-label:hover label.sk-toggleable__label {background-color: #d4ebff;}#sk-28f3a15d-1629-4322-826b-2cca7b481eee div.sk-serial::before {content: \"\";position: absolute;border-left: 1px solid gray;box-sizing: border-box;top: 2em;bottom: 0;left: 50%;}#sk-28f3a15d-1629-4322-826b-2cca7b481eee div.sk-serial {display: flex;flex-direction: column;align-items: center;background-color: white;}#sk-28f3a15d-1629-4322-826b-2cca7b481eee div.sk-item {z-index: 1;}#sk-28f3a15d-1629-4322-826b-2cca7b481eee div.sk-parallel {display: flex;align-items: stretch;justify-content: center;background-color: white;}#sk-28f3a15d-1629-4322-826b-2cca7b481eee div.sk-parallel-item {display: flex;flex-direction: column;position: relative;background-color: white;}#sk-28f3a15d-1629-4322-826b-2cca7b481eee div.sk-parallel-item:first-child::after {align-self: flex-end;width: 50%;}#sk-28f3a15d-1629-4322-826b-2cca7b481eee div.sk-parallel-item:last-child::after {align-self: flex-start;width: 50%;}#sk-28f3a15d-1629-4322-826b-2cca7b481eee div.sk-parallel-item:only-child::after {width: 0;}#sk-28f3a15d-1629-4322-826b-2cca7b481eee div.sk-dashed-wrapped {border: 1px dashed gray;margin: 0.2em;box-sizing: border-box;padding-bottom: 0.1em;background-color: white;position: relative;}#sk-28f3a15d-1629-4322-826b-2cca7b481eee div.sk-label label {font-family: monospace;font-weight: bold;background-color: white;display: inline-block;line-height: 1.2em;}#sk-28f3a15d-1629-4322-826b-2cca7b481eee div.sk-label-container {position: relative;z-index: 2;text-align: center;}#sk-28f3a15d-1629-4322-826b-2cca7b481eee div.sk-container {display: inline-block;position: relative;}</style><div id=\"sk-28f3a15d-1629-4322-826b-2cca7b481eee\" class\"sk-top-container\"><div class=\"sk-container\"><div class=\"sk-item\"><div class=\"sk-estimator sk-toggleable\"><input class=\"sk-toggleable__control sk-hidden--visually\" id=\"4e5ca7a3-9a24-4628-9124-c6d54c87ac57\" type=\"checkbox\" checked><label class=\"sk-toggleable__label\" for=\"4e5ca7a3-9a24-4628-9124-c6d54c87ac57\">SGDClassifier</label><div class=\"sk-toggleable__content\"><pre>SGDClassifier(random_state=35)</pre></div></div></div></div></div>"
      ],
      "text/plain": [
       "SGDClassifier(random_state=35)"
      ]
     },
     "execution_count": 89,
     "metadata": {},
     "output_type": "execute_result"
    }
   ],
   "source": [
    "#create the classification model\n",
    "#SDGClassifier by default is just a binary classifier that will run one-vs-the rest for each class\n",
    "sgd_clf = SGDClassifier(max_iter=1000, tol=1e-3, random_state=35)\n",
    "\n",
    "#fit the model using the training data set\n",
    "sgd_clf.fit(X_train, y_train)\n"
   ]
  },
  {
   "cell_type": "code",
   "execution_count": 90,
   "id": "54d0c1f0-0956-4c30-8ebb-8253f23a5303",
   "metadata": {},
   "outputs": [
    {
     "data": {
      "text/plain": [
       "array([0], dtype=int64)"
      ]
     },
     "execution_count": 90,
     "metadata": {},
     "output_type": "execute_result"
    }
   ],
   "source": [
    "#see how well the model does on some sample data\n",
    "#predict some random digit displayed above\n",
    "sgd_clf.predict(X_prepared)"
   ]
  },
  {
   "cell_type": "code",
   "execution_count": 91,
   "id": "4143eaba-7c97-49f1-94d8-eaac9a42314c",
   "metadata": {},
   "outputs": [
    {
     "data": {
      "text/plain": [
       "0.9305035372451104"
      ]
     },
     "execution_count": 91,
     "metadata": {},
     "output_type": "execute_result"
    }
   ],
   "source": [
    "#see how well the model peforms across a variety of cross sections\n",
    "score = cross_val_score(sgd_clf, X_train, y_train, cv=3, scoring=\"accuracy\")\n",
    "np.mean(score)"
   ]
  },
  {
   "cell_type": "code",
   "execution_count": 92,
   "id": "e7163ab2-86f1-4822-886a-3fbb0a4a554a",
   "metadata": {},
   "outputs": [],
   "source": [
    "#get predictions aross 3 different folds using the default method (prediction scores)\n",
    "y_train_pred = cross_val_predict(sgd_clf, X_train, y_train, cv=3)"
   ]
  },
  {
   "cell_type": "code",
   "execution_count": 93,
   "id": "a70986ed-3142-41ca-acf6-81b593dc0673",
   "metadata": {},
   "outputs": [
    {
     "data": {
      "text/plain": [
       "array([[ 415,   23,    0],\n",
       "       [  40,  454,   73],\n",
       "       [   1,   30, 1367]], dtype=int64)"
      ]
     },
     "execution_count": 93,
     "metadata": {},
     "output_type": "execute_result"
    }
   ],
   "source": [
    "#display the confusion matrix\n",
    "conf_mx = confusion_matrix(y_train, y_train_pred)\n",
    "conf_mx"
   ]
  },
  {
   "cell_type": "code",
   "execution_count": 94,
   "id": "bbcd3075-6314-4d19-8770-8aa2a141a56b",
   "metadata": {},
   "outputs": [
    {
     "data": {
      "image/png": "[encoded data removed]",
      "text/plain": [
       "<Figure size 576x576 with 2 Axes>"
      ]
     },
     "metadata": {
      "needs_background": "light"
     },
     "output_type": "display_data"
    }
   ],
   "source": [
    "#plot the confusion matrix\n",
    "plot_confusion_matrix(conf_mx)"
   ]
  },
  {
   "cell_type": "code",
   "execution_count": 95,
   "id": "4bdb7856-a362-4b1c-acb2-53c58cb4ed2b",
   "metadata": {},
   "outputs": [
    {
     "data": {
      "image/png": "[encoded data removed]",
      "text/plain": [
       "<Figure size 576x576 with 2 Axes>"
      ]
     },
     "metadata": {
      "needs_background": "light"
     },
     "output_type": "display_data"
    }
   ],
   "source": [
    "#plot the errors\n",
    "#divide each value in the confusion matrix by the # of images in that corresponding class\n",
    "row_sums = conf_mx.sum(axis=1, keepdims=True)\n",
    "norm_conf_mx = conf_mx/row_sums\n",
    "\n",
    "#plot the matrix to see where there are problems \n",
    "np.fill_diagonal(norm_conf_mx,0)  #fill diagonal with zeros to see problems more clearly\n",
    "plot_confusion_matrix(norm_conf_mx)"
   ]
  },
  {
   "cell_type": "code",
   "execution_count": 96,
   "id": "989e1553-544b-40da-adcc-a59a85d5cb27",
   "metadata": {},
   "outputs": [
    {
     "data": {
      "text/plain": [
       "array([0.91008772, 0.89546351, 0.94930556])"
      ]
     },
     "execution_count": 96,
     "metadata": {},
     "output_type": "execute_result"
    }
   ],
   "source": [
    "scores = precision_score(y_train, y_train_pred, average=None)\n",
    "scores"
   ]
  },
  {
   "cell_type": "code",
   "execution_count": 97,
   "id": "1d73bf76-3486-4eb2-8171-999a0c024d2d",
   "metadata": {},
   "outputs": [
    {
     "name": "stdout",
     "output_type": "stream",
     "text": [
      "Precision Score: 0.9295\n"
     ]
    }
   ],
   "source": [
    "#calculate percision across entire data set\n",
    "print(\"Precision Score: {:.4f}\".format( precision_score(y_train, y_train_pred, average=\"weighted\") ) )"
   ]
  },
  {
   "cell_type": "code",
   "execution_count": 98,
   "id": "963f34c7-78c2-4969-a724-0b288b88fe0a",
   "metadata": {},
   "outputs": [
    {
     "name": "stdout",
     "output_type": "stream",
     "text": [
      "Precision Score: 0.9431\n"
     ]
    }
   ],
   "source": [
    "#see how well the model performs on the test data set\n",
    "y_pred = sgd_clf.predict(X_test)\n",
    "print(\"Precision Score: {:.4f}\".format(precision_score(y_pred, y_test, average=\"weighted\") ))"
   ]
  },
  {
   "cell_type": "code",
   "execution_count": 99,
   "id": "4527707b-ddb9-4575-93dd-0fcd4ec2f4c5",
   "metadata": {},
   "outputs": [
    {
     "data": {
      "image/png": "[encoded data removed]",
      "text/plain": [
       "<Figure size 720x360 with 1 Axes>"
      ]
     },
     "metadata": {
      "needs_background": "light"
     },
     "output_type": "display_data"
    }
   ],
   "source": [
    "#review the learning curve\n",
    "plot_learning_curve(sgd_clf, X_train, y_train, scoring=\"accuracy\")"
   ]
  },
  {
   "cell_type": "code",
   "execution_count": 100,
   "id": "40b17d17-7b08-4c43-94a7-c74dcaa11e75",
   "metadata": {},
   "outputs": [
    {
     "data": {
      "text/plain": [
       "((2403, 2556), (601, 2556))"
      ]
     },
     "execution_count": 100,
     "metadata": {},
     "output_type": "execute_result"
    }
   ],
   "source": [
    "#try making a linear model fit data that is more likely non-linear\n",
    "DEGREE = 2\n",
    "\n",
    "#create a polynomial feature with degree based on variable DEGREE\n",
    "poly_features=PolynomialFeatures(degree=DEGREE)\n",
    "\n",
    "#transform our X by adding the square of each feature to the training set\n",
    "X_train_poly = poly_features.fit_transform(X_train)\n",
    "X_test_poly = poly_features.transform(X_test)\n",
    "\n",
    "X_train_poly.shape, X_test_poly.shape"
   ]
  },
  {
   "cell_type": "code",
   "execution_count": 101,
   "id": "90eba2f2-2441-400d-a1d7-c545ea0ca090",
   "metadata": {},
   "outputs": [
    {
     "name": "stdout",
     "output_type": "stream",
     "text": [
      "Accuracy: 99.92%\n"
     ]
    }
   ],
   "source": [
    "# use the new, complex data set to train a new model\n",
    "model_poly = LogisticRegression()\n",
    "\n",
    "model_poly.fit(X_train_poly, y_train)\n",
    "\n",
    "#compare the predicted to the actuals\n",
    "acc = model_poly.score(X_train_poly, y_train)\n",
    "print('Accuracy: {:.2f}%'.format(acc*100))"
   ]
  },
  {
   "cell_type": "code",
   "execution_count": 102,
   "id": "68578ec6-56d2-4ef1-8bfb-f35b2f6415d1",
   "metadata": {},
   "outputs": [
    {
     "name": "stdout",
     "output_type": "stream",
     "text": [
      "Accuracy: 92.85%\n"
     ]
    }
   ],
   "source": [
    "#compare the predicted to the actuals\n",
    "acc = model_poly.score(X_test_poly, y_test)\n",
    "print('Accuracy: {:.2f}%'.format(acc*100))"
   ]
  },
  {
   "cell_type": "code",
   "execution_count": 103,
   "id": "7914f33e-f0c9-4a5f-bce5-bb9afaa7a91a",
   "metadata": {},
   "outputs": [
    {
     "data": {
      "image/png": "[encoded data removed]",
      "text/plain": [
       "<Figure size 720x360 with 1 Axes>"
      ]
     },
     "metadata": {
      "needs_background": "light"
     },
     "output_type": "display_data"
    }
   ],
   "source": [
    "plot_learning_curve(model_poly,X_train_poly,y_train, scoring=\"accuracy\")"
   ]
  },
  {
   "cell_type": "code",
   "execution_count": 104,
   "id": "190798ad-6054-4f9f-9f87-7fa10f611343",
   "metadata": {},
   "outputs": [
    {
     "name": "stdout",
     "output_type": "stream",
     "text": [
      " Accuracy Score: 92.85%\n"
     ]
    }
   ],
   "source": [
    "#calcualte the predicted values\n",
    "predictions = model_poly.predict(X_test_poly)\n",
    "\n",
    "#compare the predicted to the actuals\n",
    "print(\" Accuracy Score: {:.2f}%\".format( accuracy_score(y_test, predictions )*100 ))"
   ]
  },
  {
   "cell_type": "code",
   "execution_count": 105,
   "id": "e275c3cd-8a99-42e8-8b80-a637379302b6",
   "metadata": {},
   "outputs": [
    {
     "data": {
      "text/plain": [
       "(1, 2556)"
      ]
     },
     "execution_count": 105,
     "metadata": {},
     "output_type": "execute_result"
    }
   ],
   "source": [
    "#run this prepared data through the polynomial transformation\n",
    "X_example_poly = poly_features.transform(X_prepared)\n",
    "X_example_poly.shape"
   ]
  },
  {
   "cell_type": "code",
   "execution_count": 106,
   "id": "f9ae860a-4363-4d78-84ca-bed859cadb89",
   "metadata": {},
   "outputs": [
    {
     "data": {
      "text/plain": [
       "array([0], dtype=int64)"
      ]
     },
     "execution_count": 106,
     "metadata": {},
     "output_type": "execute_result"
    }
   ],
   "source": [
    "#predict this instance\n",
    "model_poly.predict(X_example_poly)"
   ]
  },
  {
   "cell_type": "code",
   "execution_count": 107,
   "id": "2dbed83f-f010-4231-b001-fcccf26e7305",
   "metadata": {},
   "outputs": [
    {
     "data": {
      "text/plain": [
       "array([[9.99999999e-01, 6.40761735e-10, 2.10802934e-14]])"
      ]
     },
     "execution_count": 107,
     "metadata": {},
     "output_type": "execute_result"
    }
   ],
   "source": [
    "#probability of being a flop (0), average (1) or a hit (2)\n",
    "model_poly.predict_proba( X_example_poly )"
   ]
  },
  {
   "cell_type": "markdown",
   "id": "2b246f78-bfbe-4301-b4fc-4ea43b046b52",
   "metadata": {},
   "source": [
    "## Logistic Regression"
   ]
  },
  {
   "cell_type": "markdown",
   "id": "c9a5b104-9cee-428a-a1a9-5cccb926d735",
   "metadata": {},
   "source": [
    "### Train and Evaluate Model using Training Data"
   ]
  },
  {
   "cell_type": "code",
   "execution_count": 174,
   "id": "7c1ce48a-f910-4789-b020-742a6d9e5203",
   "metadata": {},
   "outputs": [
    {
     "name": "stdout",
     "output_type": "stream",
     "text": [
      "Accuracy: 96.4211%\n"
     ]
    }
   ],
   "source": [
    "#create a linear regression model\n",
    "log_reg=LogisticRegression(C=.75)      #regularization is defined by 1/C so a lower C value, a higher level of regularization\n",
    "\n",
    "#fit the model to the training data set\n",
    "log_reg.fit( X_train, y_train)\n",
    "\n",
    "#calculated the accuracy (i.e. predicted vs. actual for the training data set)\n",
    "acc = log_reg.score(X_train, y_train)\n",
    "print('Accuracy: {:.4f}%'.format(acc*100))"
   ]
  },
  {
   "cell_type": "code",
   "execution_count": 175,
   "id": "595bc030-69b9-4e5a-9b13-7289501c130d",
   "metadata": {},
   "outputs": [
    {
     "name": "stdout",
     "output_type": "stream",
     "text": [
      "Accuracy: 94.7151%\n"
     ]
    }
   ],
   "source": [
    "#use cross valudation to process the data 10 different ways using the logsitic regression model generated above\n",
    "scores = cross_val_score(log_reg, X_train, y_train, cv=10)\n",
    "\n",
    "# look at average across all folds\n",
    "print('Accuracy: {:.4f}%'.format( scores.mean()*100 ) )"
   ]
  },
  {
   "cell_type": "code",
   "execution_count": 110,
   "id": "0016691e-75f9-48af-b03c-e1a294d83a19",
   "metadata": {},
   "outputs": [
    {
     "data": {
      "image/png": "[encoded data removed]",
      "text/plain": [
       "<Figure size 720x360 with 1 Axes>"
      ]
     },
     "metadata": {
      "needs_background": "light"
     },
     "output_type": "display_data"
    }
   ],
   "source": [
    "#review the learning curve\n",
    "plot_learning_curve(log_reg, X_train, y_train, scoring=\"accuracy\")"
   ]
  },
  {
   "cell_type": "markdown",
   "id": "1a1c475f-31a4-4289-a82d-2c32a6c32a5c",
   "metadata": {},
   "source": [
    "## Evaluate Model on Test Set"
   ]
  },
  {
   "cell_type": "code",
   "execution_count": 176,
   "id": "95cf09d2-963a-4307-a4b9-16ca9b9e422e",
   "metadata": {},
   "outputs": [
    {
     "name": "stdout",
     "output_type": "stream",
     "text": [
      "Accuracy: 94.6755%\n"
     ]
    }
   ],
   "source": [
    "#calculated the accuracy (i.e. predicted vs. actual for the test data set)\n",
    "acc = log_reg.score(X_test, y_test)\n",
    "print('Accuracy: {:.4f}%'.format(acc*100))"
   ]
  },
  {
   "cell_type": "code",
   "execution_count": 172,
   "id": "c4dce092-df25-40e3-9ae4-0a64579b406a",
   "metadata": {},
   "outputs": [
    {
     "data": {
      "text/plain": [
       "array([0], dtype=int64)"
      ]
     },
     "execution_count": 172,
     "metadata": {},
     "output_type": "execute_result"
    }
   ],
   "source": [
    "#predict the one instance\n",
    "log_reg.predict( X_prepared )"
   ]
  },
  {
   "cell_type": "code",
   "execution_count": 173,
   "id": "68eeac70-306d-46df-8cd0-af67a125d19a",
   "metadata": {},
   "outputs": [
    {
     "data": {
      "text/plain": [
       "array([[9.99462898e-01, 5.37102054e-04, 1.90371085e-11]])"
      ]
     },
     "execution_count": 173,
     "metadata": {},
     "output_type": "execute_result"
    }
   ],
   "source": [
    "#probability of being a flop (0), average (1) or a hit (2)\n",
    "log_reg.predict_proba( X_prepared )"
   ]
  },
  {
   "cell_type": "markdown",
   "id": "750db3c1-95d7-4fb0-980b-90f98e50adff",
   "metadata": {},
   "source": [
    "## Tune LogisticRegression"
   ]
  },
  {
   "cell_type": "code",
   "execution_count": 114,
   "id": "51771bff-4a70-4bbc-a4c5-632bb3ed0518",
   "metadata": {},
   "outputs": [
    {
     "data": {
      "text/html": [
       "<style>#sk-cc78523d-3757-4752-b96c-2047450fb31d {color: black;background-color: white;}#sk-cc78523d-3757-4752-b96c-2047450fb31d pre{padding: 0;}#sk-cc78523d-3757-4752-b96c-2047450fb31d div.sk-toggleable {background-color: white;}#sk-cc78523d-3757-4752-b96c-2047450fb31d label.sk-toggleable__label {cursor: pointer;display: block;width: 100%;margin-bottom: 0;padding: 0.2em 0.3em;box-sizing: border-box;text-align: center;}#sk-cc78523d-3757-4752-b96c-2047450fb31d div.sk-toggleable__content {max-height: 0;max-width: 0;overflow: hidden;text-align: left;background-color: #f0f8ff;}#sk-cc78523d-3757-4752-b96c-2047450fb31d div.sk-toggleable__content pre {margin: 0.2em;color: black;border-radius: 0.25em;background-color: #f0f8ff;}#sk-cc78523d-3757-4752-b96c-2047450fb31d input.sk-toggleable__control:checked~div.sk-toggleable__content {max-height: 200px;max-width: 100%;overflow: auto;}#sk-cc78523d-3757-4752-b96c-2047450fb31d div.sk-estimator input.sk-toggleable__control:checked~label.sk-toggleable__label {background-color: #d4ebff;}#sk-cc78523d-3757-4752-b96c-2047450fb31d div.sk-label input.sk-toggleable__control:checked~label.sk-toggleable__label {background-color: #d4ebff;}#sk-cc78523d-3757-4752-b96c-2047450fb31d input.sk-hidden--visually {border: 0;clip: rect(1px 1px 1px 1px);clip: rect(1px, 1px, 1px, 1px);height: 1px;margin: -1px;overflow: hidden;padding: 0;position: absolute;width: 1px;}#sk-cc78523d-3757-4752-b96c-2047450fb31d div.sk-estimator {font-family: monospace;background-color: #f0f8ff;margin: 0.25em 0.25em;border: 1px dotted black;border-radius: 0.25em;box-sizing: border-box;}#sk-cc78523d-3757-4752-b96c-2047450fb31d div.sk-estimator:hover {background-color: #d4ebff;}#sk-cc78523d-3757-4752-b96c-2047450fb31d div.sk-parallel-item::after {content: \"\";width: 100%;border-bottom: 1px solid gray;flex-grow: 1;}#sk-cc78523d-3757-4752-b96c-2047450fb31d div.sk-label:hover label.sk-toggleable__label {background-color: #d4ebff;}#sk-cc78523d-3757-4752-b96c-2047450fb31d div.sk-serial::before {content: \"\";position: absolute;border-left: 1px solid gray;box-sizing: border-box;top: 2em;bottom: 0;left: 50%;}#sk-cc78523d-3757-4752-b96c-2047450fb31d div.sk-serial {display: flex;flex-direction: column;align-items: center;background-color: white;}#sk-cc78523d-3757-4752-b96c-2047450fb31d div.sk-item {z-index: 1;}#sk-cc78523d-3757-4752-b96c-2047450fb31d div.sk-parallel {display: flex;align-items: stretch;justify-content: center;background-color: white;}#sk-cc78523d-3757-4752-b96c-2047450fb31d div.sk-parallel-item {display: flex;flex-direction: column;position: relative;background-color: white;}#sk-cc78523d-3757-4752-b96c-2047450fb31d div.sk-parallel-item:first-child::after {align-self: flex-end;width: 50%;}#sk-cc78523d-3757-4752-b96c-2047450fb31d div.sk-parallel-item:last-child::after {align-self: flex-start;width: 50%;}#sk-cc78523d-3757-4752-b96c-2047450fb31d div.sk-parallel-item:only-child::after {width: 0;}#sk-cc78523d-3757-4752-b96c-2047450fb31d div.sk-dashed-wrapped {border: 1px dashed gray;margin: 0.2em;box-sizing: border-box;padding-bottom: 0.1em;background-color: white;position: relative;}#sk-cc78523d-3757-4752-b96c-2047450fb31d div.sk-label label {font-family: monospace;font-weight: bold;background-color: white;display: inline-block;line-height: 1.2em;}#sk-cc78523d-3757-4752-b96c-2047450fb31d div.sk-label-container {position: relative;z-index: 2;text-align: center;}#sk-cc78523d-3757-4752-b96c-2047450fb31d div.sk-container {display: inline-block;position: relative;}</style><div id=\"sk-cc78523d-3757-4752-b96c-2047450fb31d\" class\"sk-top-container\"><div class=\"sk-container\"><div class=\"sk-item sk-dashed-wrapped\"><div class=\"sk-label-container\"><div class=\"sk-label sk-toggleable\"><input class=\"sk-toggleable__control sk-hidden--visually\" id=\"feb7c15e-7b26-49f7-844d-442ee3a74e2b\" type=\"checkbox\" ><label class=\"sk-toggleable__label\" for=\"feb7c15e-7b26-49f7-844d-442ee3a74e2b\">GridSearchCV</label><div class=\"sk-toggleable__content\"><pre>GridSearchCV(cv=10, estimator=LogisticRegression(),\n",
       "             param_grid=[{'C': [0.5, 0.75, 1, 2],\n",
       "                          'multi_class': ['ovr', 'multinomial'],\n",
       "                          'solver': ['saga', 'newton-cg', 'lbfgs', 'sag']}],\n",
       "             return_train_score=True, scoring='accuracy')</pre></div></div></div><div class=\"sk-parallel\"><div class=\"sk-parallel-item\"><div class=\"sk-item\"><div class=\"sk-serial\"><div class=\"sk-item\"><div class=\"sk-estimator sk-toggleable\"><input class=\"sk-toggleable__control sk-hidden--visually\" id=\"0c6c5015-4eb1-4e39-9794-3a955e0314e6\" type=\"checkbox\" ><label class=\"sk-toggleable__label\" for=\"0c6c5015-4eb1-4e39-9794-3a955e0314e6\">LogisticRegression</label><div class=\"sk-toggleable__content\"><pre>LogisticRegression()</pre></div></div></div></div></div></div></div></div></div></div>"
      ],
      "text/plain": [
       "GridSearchCV(cv=10, estimator=LogisticRegression(),\n",
       "             param_grid=[{'C': [0.5, 0.75, 1, 2],\n",
       "                          'multi_class': ['ovr', 'multinomial'],\n",
       "                          'solver': ['saga', 'newton-cg', 'lbfgs', 'sag']}],\n",
       "             return_train_score=True, scoring='accuracy')"
      ]
     },
     "execution_count": 114,
     "metadata": {},
     "output_type": "execute_result"
    }
   ],
   "source": [
    "#create a parameter grid that determines the variable hyperparameters\n",
    "param_grid = [\n",
    "    {'solver': ['saga', 'newton-cg', 'lbfgs', 'sag'],\n",
    "     'multi_class': ['ovr', 'multinomial'],\n",
    "     'C': [.5, .75, 1, 2]\n",
    "    }\n",
    "]\n",
    "\n",
    "# train across 10 folds, that's a total of (4*6)*10=240 rounds of training \n",
    "grid_search = GridSearchCV(LogisticRegression(), param_grid, cv=10,\n",
    "                           scoring='accuracy',\n",
    "                           return_train_score=True)\n",
    "\n",
    "#fit the data to the model\n",
    "grid_search.fit(X_train, y_train)"
   ]
  },
  {
   "cell_type": "code",
   "execution_count": 115,
   "id": "91b3db2e-03d3-4878-9cfc-195459b5eaa4",
   "metadata": {},
   "outputs": [
    {
     "name": "stdout",
     "output_type": "stream",
     "text": [
      "Accuracy: 92.26% - {'C': 0.5, 'multi_class': 'ovr', 'solver': 'saga'}\n",
      "Accuracy: 92.55% - {'C': 0.5, 'multi_class': 'ovr', 'solver': 'newton-cg'}\n",
      "Accuracy: 92.55% - {'C': 0.5, 'multi_class': 'ovr', 'solver': 'lbfgs'}\n",
      "Accuracy: 92.55% - {'C': 0.5, 'multi_class': 'ovr', 'solver': 'sag'}\n",
      "Accuracy: 94.55% - {'C': 0.5, 'multi_class': 'multinomial', 'solver': 'saga'}\n",
      "Accuracy: 94.67% - {'C': 0.5, 'multi_class': 'multinomial', 'solver': 'newton-cg'}\n",
      "Accuracy: 94.71% - {'C': 0.5, 'multi_class': 'multinomial', 'solver': 'lbfgs'}\n",
      "Accuracy: 94.67% - {'C': 0.5, 'multi_class': 'multinomial', 'solver': 'sag'}\n",
      "Accuracy: 92.68% - {'C': 0.75, 'multi_class': 'ovr', 'solver': 'saga'}\n",
      "Accuracy: 93.09% - {'C': 0.75, 'multi_class': 'ovr', 'solver': 'newton-cg'}\n",
      "Accuracy: 93.09% - {'C': 0.75, 'multi_class': 'ovr', 'solver': 'lbfgs'}\n",
      "Accuracy: 93.05% - {'C': 0.75, 'multi_class': 'ovr', 'solver': 'sag'}\n",
      "Accuracy: 94.67% - {'C': 0.75, 'multi_class': 'multinomial', 'solver': 'saga'}\n",
      "Accuracy: 94.72% - {'C': 0.75, 'multi_class': 'multinomial', 'solver': 'newton-cg'}\n",
      "Accuracy: 94.72% - {'C': 0.75, 'multi_class': 'multinomial', 'solver': 'lbfgs'}\n",
      "Accuracy: 94.72% - {'C': 0.75, 'multi_class': 'multinomial', 'solver': 'sag'}\n",
      "Accuracy: 92.97% - {'C': 1, 'multi_class': 'ovr', 'solver': 'saga'}\n",
      "Accuracy: 93.22% - {'C': 1, 'multi_class': 'ovr', 'solver': 'newton-cg'}\n",
      "Accuracy: 93.22% - {'C': 1, 'multi_class': 'ovr', 'solver': 'lbfgs'}\n",
      "Accuracy: 93.17% - {'C': 1, 'multi_class': 'ovr', 'solver': 'sag'}\n",
      "Accuracy: 94.88% - {'C': 1, 'multi_class': 'multinomial', 'solver': 'saga'}\n",
      "Accuracy: 94.80% - {'C': 1, 'multi_class': 'multinomial', 'solver': 'newton-cg'}\n",
      "Accuracy: 94.80% - {'C': 1, 'multi_class': 'multinomial', 'solver': 'lbfgs'}\n",
      "Accuracy: 94.76% - {'C': 1, 'multi_class': 'multinomial', 'solver': 'sag'}\n",
      "Accuracy: 93.09% - {'C': 2, 'multi_class': 'ovr', 'solver': 'saga'}\n",
      "Accuracy: 93.76% - {'C': 2, 'multi_class': 'ovr', 'solver': 'newton-cg'}\n",
      "Accuracy: 93.76% - {'C': 2, 'multi_class': 'ovr', 'solver': 'lbfgs'}\n",
      "Accuracy: 93.59% - {'C': 2, 'multi_class': 'ovr', 'solver': 'sag'}\n",
      "Accuracy: 94.71% - {'C': 2, 'multi_class': 'multinomial', 'solver': 'saga'}\n",
      "Accuracy: 94.92% - {'C': 2, 'multi_class': 'multinomial', 'solver': 'newton-cg'}\n",
      "Accuracy: 94.92% - {'C': 2, 'multi_class': 'multinomial', 'solver': 'lbfgs'}\n",
      "Accuracy: 94.92% - {'C': 2, 'multi_class': 'multinomial', 'solver': 'sag'}\n"
     ]
    }
   ],
   "source": [
    "#display the results of the GridSearchCV\n",
    "cvres = grid_search.cv_results_\n",
    "for mean_score, params in zip(cvres[\"mean_test_score\"], cvres[\"params\"]):\n",
    "    print(\"Accuracy: {:,.2f}% - {}\".format( mean_score*100, params) )"
   ]
  },
  {
   "cell_type": "code",
   "execution_count": 116,
   "id": "2a9b15a0-2d0b-44a2-8703-bc54b7c3ec80",
   "metadata": {},
   "outputs": [
    {
     "data": {
      "text/plain": [
       "{'C': 2, 'multi_class': 'multinomial', 'solver': 'sag'}"
      ]
     },
     "execution_count": 116,
     "metadata": {},
     "output_type": "execute_result"
    }
   ],
   "source": [
    "#display the best solution\n",
    "grid_search.best_params_"
   ]
  },
  {
   "cell_type": "markdown",
   "id": "0e4c26b0-fc66-4f0c-ade7-100074d55832",
   "metadata": {},
   "source": [
    "## Create the best LogisticRegression Model"
   ]
  },
  {
   "cell_type": "code",
   "execution_count": 117,
   "id": "1d9bafb0-e0b9-4ecd-a56b-fbec6eb28abd",
   "metadata": {},
   "outputs": [
    {
     "name": "stdout",
     "output_type": "stream",
     "text": [
      "Accuracy: 96.5460%\n"
     ]
    }
   ],
   "source": [
    "#use the parameters found above to create the model\n",
    "model = LogisticRegression(**grid_search.best_params_)\n",
    "\n",
    "#fit the model to the training data set\n",
    "model.fit(X_train, y_train)\n",
    "\n",
    "#calculated the accuracy (i.e. predicted vs. actual for the training data set)\n",
    "acc = model.score(X_train, y_train)\n",
    "print('Accuracy: {:.4f}%'.format(acc*100))"
   ]
  },
  {
   "cell_type": "code",
   "execution_count": 118,
   "id": "54606b4f-48db-4d96-906b-fdc91c091d0c",
   "metadata": {},
   "outputs": [
    {
     "name": "stdout",
     "output_type": "stream",
     "text": [
      "Accuracy: 95.1747%\n"
     ]
    }
   ],
   "source": [
    "#calculated the accuracy (i.e. predicted vs. actual for the test data set)\n",
    "acc = model.score(X_test, y_test)\n",
    "print('Accuracy: {:.4f}%'.format(acc*100))"
   ]
  },
  {
   "cell_type": "code",
   "execution_count": 119,
   "id": "786fcb07-0dce-4255-b4af-102f0d8e699e",
   "metadata": {},
   "outputs": [
    {
     "data": {
      "image/png": "[encoded data removed]",
      "text/plain": [
       "<Figure size 720x360 with 1 Axes>"
      ]
     },
     "metadata": {
      "needs_background": "light"
     },
     "output_type": "display_data"
    }
   ],
   "source": [
    "plot_learning_curve(model, X_train, y_train, scoring='accuracy')"
   ]
  },
  {
   "cell_type": "code",
   "execution_count": 120,
   "id": "80c804ac-94a4-4b5d-ab0d-5b6f387c3095",
   "metadata": {},
   "outputs": [
    {
     "name": "stdout",
     "output_type": "stream",
     "text": [
      " Accuracy Score: 94.3820%\n"
     ]
    }
   ],
   "source": [
    "#see how well the model peforms across a variety of cross sections\n",
    "score = cross_val_score(model, X_train, y_train, cv=3, scoring=\"accuracy\")\n",
    "print(\" Accuracy Score: {:.4f}%\".format(np.mean(score)*100))"
   ]
  },
  {
   "cell_type": "code",
   "execution_count": 121,
   "id": "56746356-5529-4583-9860-80a371b50e23",
   "metadata": {},
   "outputs": [
    {
     "data": {
      "text/plain": [
       "array([[9.99888904e-01, 1.11096400e-04, 5.52775077e-14]])"
      ]
     },
     "execution_count": 121,
     "metadata": {},
     "output_type": "execute_result"
    }
   ],
   "source": [
    "#probability of being a flop (0), average (1) or a hit (2)\n",
    "model.predict_proba( X_prepared )"
   ]
  },
  {
   "cell_type": "code",
   "execution_count": 122,
   "id": "b0fad8d6-dbf9-4959-ace8-3e574abd9d9e",
   "metadata": {},
   "outputs": [
    {
     "data": {
      "text/plain": [
       "array([[ 94,  13,   0],\n",
       "       [ 13, 116,  13],\n",
       "       [  0,   9, 343]], dtype=int64)"
      ]
     },
     "execution_count": 122,
     "metadata": {},
     "output_type": "execute_result"
    }
   ],
   "source": [
    "from sklearn.model_selection import cross_val_predict\n",
    "from sklearn.metrics import confusion_matrix\n",
    "\n",
    "#get predictions across 5 different folds using the default method (prediciton scores)\n",
    "y_test_pred = cross_val_predict(model, X_test, y_test, cv=5)\n",
    "\n",
    "conf_mat = confusion_matrix(y_test, y_test_pred)\n",
    "conf_mat"
   ]
  },
  {
   "cell_type": "markdown",
   "id": "34df8f15-f844-46d6-90b8-5c4ae2963237",
   "metadata": {},
   "source": [
    "## Try RandomForestClassifer"
   ]
  },
  {
   "cell_type": "markdown",
   "id": "03c20f1f-fe44-4a95-bd10-81b87a6d1f7f",
   "metadata": {},
   "source": [
    "### Train and Evaluate Model using Training Data"
   ]
  },
  {
   "cell_type": "code",
   "execution_count": 123,
   "id": "ee01b5a0-4622-4a55-93be-83298f61b464",
   "metadata": {},
   "outputs": [
    {
     "name": "stdout",
     "output_type": "stream",
     "text": [
      "Accuracy: 100.00%\n"
     ]
    }
   ],
   "source": [
    "#create the classification model\n",
    "forest_clf = RandomForestClassifier(n_estimators=70, random_state=35)\n",
    "\n",
    "#fit the model using the training data set\n",
    "forest_clf.fit(X_train, y_train)\n",
    "\n",
    "#compare the predicted to the actuals\n",
    "acc = forest_clf.score(X_train, y_train)\n",
    "print('Accuracy: {:.2f}%'.format(acc*100))"
   ]
  },
  {
   "cell_type": "code",
   "execution_count": 124,
   "id": "0d40586e-3753-4bd8-9a86-297f184e2104",
   "metadata": {},
   "outputs": [
    {
     "name": "stdout",
     "output_type": "stream",
     "text": [
      " Accuracy Score: 93.55%\n"
     ]
    }
   ],
   "source": [
    "#see how well the model peforms across a variety of cross sections\n",
    "score = cross_val_score(forest_clf, X_train, y_train, cv=3, scoring=\"accuracy\")\n",
    "print(\" Accuracy Score: {:.2f}%\".format(np.mean(score)*100))"
   ]
  },
  {
   "cell_type": "code",
   "execution_count": 125,
   "id": "023db36e-2fbd-4a08-8e6b-d10ae7379e85",
   "metadata": {},
   "outputs": [
    {
     "data": {
      "image/png": "[encoded data removed]",
      "text/plain": [
       "<Figure size 720x360 with 1 Axes>"
      ]
     },
     "metadata": {
      "needs_background": "light"
     },
     "output_type": "display_data"
    }
   ],
   "source": [
    "plot_learning_curve(forest_clf, X_train, y_train, scoring='accuracy')"
   ]
  },
  {
   "cell_type": "markdown",
   "id": "3f525d49-b798-4002-ba95-40ea2032d250",
   "metadata": {},
   "source": [
    "## Evaluate Model on Test Set"
   ]
  },
  {
   "cell_type": "code",
   "execution_count": 126,
   "id": "01fab911-55aa-4ae8-a4ce-3deddd30c4da",
   "metadata": {},
   "outputs": [
    {
     "name": "stdout",
     "output_type": "stream",
     "text": [
      " Accuracy Score: 94.01%\n"
     ]
    }
   ],
   "source": [
    "#see how well the model performs on the test data set\n",
    "y_pred = forest_clf.predict(X_test)\n",
    "\n",
    "print(\" Accuracy Score: {:.2f}%\".format( accuracy_score(y_test, y_pred )*100 ))"
   ]
  },
  {
   "cell_type": "markdown",
   "id": "f5bd60d9-4a40-455a-a79f-abada7a6658a",
   "metadata": {},
   "source": [
    "## Make a Prediction"
   ]
  },
  {
   "cell_type": "code",
   "execution_count": 127,
   "id": "03d192a7-e00c-4615-b60a-d41b39bbb880",
   "metadata": {},
   "outputs": [
    {
     "data": {
      "text/plain": [
       "array([0], dtype=int64)"
      ]
     },
     "execution_count": 127,
     "metadata": {},
     "output_type": "execute_result"
    }
   ],
   "source": [
    "forest_clf.predict(X_prepared)"
   ]
  },
  {
   "cell_type": "code",
   "execution_count": 128,
   "id": "369e8a30-c427-45ff-b999-aa2d46013f5f",
   "metadata": {},
   "outputs": [
    {
     "data": {
      "text/plain": [
       "array([[0.95714286, 0.01428571, 0.02857143]])"
      ]
     },
     "execution_count": 128,
     "metadata": {},
     "output_type": "execute_result"
    }
   ],
   "source": [
    "#probability of being a flop (0), average (1) or a hit (2)\n",
    "forest_clf.predict_proba( X_prepared )"
   ]
  },
  {
   "cell_type": "markdown",
   "id": "81078158-c5bf-4abb-8325-4fc61e09b8bf",
   "metadata": {},
   "source": [
    "## Tune RandomForestClassifer"
   ]
  },
  {
   "cell_type": "code",
   "execution_count": 129,
   "id": "fafef142-58d4-454f-aeea-d5be946a7937",
   "metadata": {},
   "outputs": [
    {
     "data": {
      "text/html": [
       "<style>#sk-c11a9ec0-181b-4e55-9d83-7ebd1d059672 {color: black;background-color: white;}#sk-c11a9ec0-181b-4e55-9d83-7ebd1d059672 pre{padding: 0;}#sk-c11a9ec0-181b-4e55-9d83-7ebd1d059672 div.sk-toggleable {background-color: white;}#sk-c11a9ec0-181b-4e55-9d83-7ebd1d059672 label.sk-toggleable__label {cursor: pointer;display: block;width: 100%;margin-bottom: 0;padding: 0.2em 0.3em;box-sizing: border-box;text-align: center;}#sk-c11a9ec0-181b-4e55-9d83-7ebd1d059672 div.sk-toggleable__content {max-height: 0;max-width: 0;overflow: hidden;text-align: left;background-color: #f0f8ff;}#sk-c11a9ec0-181b-4e55-9d83-7ebd1d059672 div.sk-toggleable__content pre {margin: 0.2em;color: black;border-radius: 0.25em;background-color: #f0f8ff;}#sk-c11a9ec0-181b-4e55-9d83-7ebd1d059672 input.sk-toggleable__control:checked~div.sk-toggleable__content {max-height: 200px;max-width: 100%;overflow: auto;}#sk-c11a9ec0-181b-4e55-9d83-7ebd1d059672 div.sk-estimator input.sk-toggleable__control:checked~label.sk-toggleable__label {background-color: #d4ebff;}#sk-c11a9ec0-181b-4e55-9d83-7ebd1d059672 div.sk-label input.sk-toggleable__control:checked~label.sk-toggleable__label {background-color: #d4ebff;}#sk-c11a9ec0-181b-4e55-9d83-7ebd1d059672 input.sk-hidden--visually {border: 0;clip: rect(1px 1px 1px 1px);clip: rect(1px, 1px, 1px, 1px);height: 1px;margin: -1px;overflow: hidden;padding: 0;position: absolute;width: 1px;}#sk-c11a9ec0-181b-4e55-9d83-7ebd1d059672 div.sk-estimator {font-family: monospace;background-color: #f0f8ff;margin: 0.25em 0.25em;border: 1px dotted black;border-radius: 0.25em;box-sizing: border-box;}#sk-c11a9ec0-181b-4e55-9d83-7ebd1d059672 div.sk-estimator:hover {background-color: #d4ebff;}#sk-c11a9ec0-181b-4e55-9d83-7ebd1d059672 div.sk-parallel-item::after {content: \"\";width: 100%;border-bottom: 1px solid gray;flex-grow: 1;}#sk-c11a9ec0-181b-4e55-9d83-7ebd1d059672 div.sk-label:hover label.sk-toggleable__label {background-color: #d4ebff;}#sk-c11a9ec0-181b-4e55-9d83-7ebd1d059672 div.sk-serial::before {content: \"\";position: absolute;border-left: 1px solid gray;box-sizing: border-box;top: 2em;bottom: 0;left: 50%;}#sk-c11a9ec0-181b-4e55-9d83-7ebd1d059672 div.sk-serial {display: flex;flex-direction: column;align-items: center;background-color: white;}#sk-c11a9ec0-181b-4e55-9d83-7ebd1d059672 div.sk-item {z-index: 1;}#sk-c11a9ec0-181b-4e55-9d83-7ebd1d059672 div.sk-parallel {display: flex;align-items: stretch;justify-content: center;background-color: white;}#sk-c11a9ec0-181b-4e55-9d83-7ebd1d059672 div.sk-parallel-item {display: flex;flex-direction: column;position: relative;background-color: white;}#sk-c11a9ec0-181b-4e55-9d83-7ebd1d059672 div.sk-parallel-item:first-child::after {align-self: flex-end;width: 50%;}#sk-c11a9ec0-181b-4e55-9d83-7ebd1d059672 div.sk-parallel-item:last-child::after {align-self: flex-start;width: 50%;}#sk-c11a9ec0-181b-4e55-9d83-7ebd1d059672 div.sk-parallel-item:only-child::after {width: 0;}#sk-c11a9ec0-181b-4e55-9d83-7ebd1d059672 div.sk-dashed-wrapped {border: 1px dashed gray;margin: 0.2em;box-sizing: border-box;padding-bottom: 0.1em;background-color: white;position: relative;}#sk-c11a9ec0-181b-4e55-9d83-7ebd1d059672 div.sk-label label {font-family: monospace;font-weight: bold;background-color: white;display: inline-block;line-height: 1.2em;}#sk-c11a9ec0-181b-4e55-9d83-7ebd1d059672 div.sk-label-container {position: relative;z-index: 2;text-align: center;}#sk-c11a9ec0-181b-4e55-9d83-7ebd1d059672 div.sk-container {display: inline-block;position: relative;}</style><div id=\"sk-c11a9ec0-181b-4e55-9d83-7ebd1d059672\" class\"sk-top-container\"><div class=\"sk-container\"><div class=\"sk-item sk-dashed-wrapped\"><div class=\"sk-label-container\"><div class=\"sk-label sk-toggleable\"><input class=\"sk-toggleable__control sk-hidden--visually\" id=\"df8733d8-5315-4764-a8ff-d80e3701abd7\" type=\"checkbox\" ><label class=\"sk-toggleable__label\" for=\"df8733d8-5315-4764-a8ff-d80e3701abd7\">GridSearchCV</label><div class=\"sk-toggleable__content\"><pre>GridSearchCV(cv=10, estimator=RandomForestClassifier(random_state=35),\n",
       "             param_grid=[{'criterion': ['gini', 'entropy'],\n",
       "                          'max_features': ['auto', 'sqrt', 'log2'],\n",
       "                          'n_estimators': [10, 100, 1000]}],\n",
       "             return_train_score=True, scoring='accuracy')</pre></div></div></div><div class=\"sk-parallel\"><div class=\"sk-parallel-item\"><div class=\"sk-item\"><div class=\"sk-serial\"><div class=\"sk-item\"><div class=\"sk-estimator sk-toggleable\"><input class=\"sk-toggleable__control sk-hidden--visually\" id=\"1f3e7d1a-d483-4f4e-ae12-c9da8c7d41d8\" type=\"checkbox\" ><label class=\"sk-toggleable__label\" for=\"1f3e7d1a-d483-4f4e-ae12-c9da8c7d41d8\">RandomForestClassifier</label><div class=\"sk-toggleable__content\"><pre>RandomForestClassifier(random_state=35)</pre></div></div></div></div></div></div></div></div></div></div>"
      ],
      "text/plain": [
       "GridSearchCV(cv=10, estimator=RandomForestClassifier(random_state=35),\n",
       "             param_grid=[{'criterion': ['gini', 'entropy'],\n",
       "                          'max_features': ['auto', 'sqrt', 'log2'],\n",
       "                          'n_estimators': [10, 100, 1000]}],\n",
       "             return_train_score=True, scoring='accuracy')"
      ]
     },
     "execution_count": 129,
     "metadata": {},
     "output_type": "execute_result"
    }
   ],
   "source": [
    "#create a parameter grid that determines the variable hyperparameters\n",
    "param_grid = [\n",
    "    {'criterion':['gini', 'entropy'],\n",
    "     'n_estimators': [10,100,1000],\n",
    "     'max_features': [\"auto\",\"sqrt\",\"log2\"]\n",
    "    }\n",
    "]\n",
    "\n",
    "# train across 10 folds, that's a total of (2*3*3)*10=180 rounds of training \n",
    "grid_search = GridSearchCV(RandomForestClassifier(random_state=35), param_grid, cv=10,\n",
    "                           scoring='accuracy',\n",
    "                           return_train_score=True)\n",
    "\n",
    "#fit the data to the model\n",
    "grid_search.fit(X_train, y_train)"
   ]
  },
  {
   "cell_type": "code",
   "execution_count": 130,
   "id": "f3d590fa-b4e8-44ef-aabf-70b1047f89e9",
   "metadata": {},
   "outputs": [
    {
     "name": "stdout",
     "output_type": "stream",
     "text": [
      "Accuracy: 92.43% - {'criterion': 'gini', 'max_features': 'auto', 'n_estimators': 10}\n",
      "Accuracy: 94.30% - {'criterion': 'gini', 'max_features': 'auto', 'n_estimators': 100}\n",
      "Accuracy: 94.63% - {'criterion': 'gini', 'max_features': 'auto', 'n_estimators': 1000}\n",
      "Accuracy: 92.43% - {'criterion': 'gini', 'max_features': 'sqrt', 'n_estimators': 10}\n",
      "Accuracy: 94.30% - {'criterion': 'gini', 'max_features': 'sqrt', 'n_estimators': 100}\n",
      "Accuracy: 94.63% - {'criterion': 'gini', 'max_features': 'sqrt', 'n_estimators': 1000}\n",
      "Accuracy: 90.97% - {'criterion': 'gini', 'max_features': 'log2', 'n_estimators': 10}\n",
      "Accuracy: 93.88% - {'criterion': 'gini', 'max_features': 'log2', 'n_estimators': 100}\n",
      "Accuracy: 93.92% - {'criterion': 'gini', 'max_features': 'log2', 'n_estimators': 1000}\n",
      "Accuracy: 92.80% - {'criterion': 'entropy', 'max_features': 'auto', 'n_estimators': 10}\n",
      "Accuracy: 94.01% - {'criterion': 'entropy', 'max_features': 'auto', 'n_estimators': 100}\n",
      "Accuracy: 94.51% - {'criterion': 'entropy', 'max_features': 'auto', 'n_estimators': 1000}\n",
      "Accuracy: 92.80% - {'criterion': 'entropy', 'max_features': 'sqrt', 'n_estimators': 10}\n",
      "Accuracy: 94.01% - {'criterion': 'entropy', 'max_features': 'sqrt', 'n_estimators': 100}\n",
      "Accuracy: 94.51% - {'criterion': 'entropy', 'max_features': 'sqrt', 'n_estimators': 1000}\n",
      "Accuracy: 91.76% - {'criterion': 'entropy', 'max_features': 'log2', 'n_estimators': 10}\n",
      "Accuracy: 93.26% - {'criterion': 'entropy', 'max_features': 'log2', 'n_estimators': 100}\n",
      "Accuracy: 93.92% - {'criterion': 'entropy', 'max_features': 'log2', 'n_estimators': 1000}\n"
     ]
    }
   ],
   "source": [
    "#print the RMSE results from the CV and the paramaters used during each run \n",
    "cvres = grid_search.cv_results_\n",
    "for mean_score, params in zip(cvres[\"mean_test_score\"], cvres[\"params\"]):\n",
    "    print(\"Accuracy: {:,.2f}% - {}\".format( mean_score*100, params) )"
   ]
  },
  {
   "cell_type": "code",
   "execution_count": 131,
   "id": "6cf7d9e6-2817-4aba-a526-ddddf4ec8df0",
   "metadata": {},
   "outputs": [
    {
     "data": {
      "text/plain": [
       "{'criterion': 'gini', 'max_features': 'auto', 'n_estimators': 1000}"
      ]
     },
     "execution_count": 131,
     "metadata": {},
     "output_type": "execute_result"
    }
   ],
   "source": [
    "#display the best soluiton\n",
    "grid_search.best_params_"
   ]
  },
  {
   "cell_type": "markdown",
   "id": "ec04f56a-52bb-4a12-9387-96ef3051fe5c",
   "metadata": {},
   "source": [
    "## Create the best RandomForestClassifer"
   ]
  },
  {
   "cell_type": "code",
   "execution_count": 132,
   "id": "c9438ac4-e58c-42a8-ac3d-87adb24cf194",
   "metadata": {},
   "outputs": [
    {
     "name": "stdout",
     "output_type": "stream",
     "text": [
      "Accuracy: 100.00%\n"
     ]
    }
   ],
   "source": [
    "#use the parameters found above to create the model\n",
    "model = RandomForestClassifier(**grid_search.best_params_)\n",
    "\n",
    "#fit the model to the training data set\n",
    "model.fit(X_train, y_train)\n",
    "\n",
    "#compare the predicted to the actuals\n",
    "acc = model.score(X_train, y_train)\n",
    "print('Accuracy: {:.2f}%'.format(acc*100))"
   ]
  },
  {
   "cell_type": "code",
   "execution_count": 133,
   "id": "bba1d5c6-ed61-4f23-bf40-3320107599fa",
   "metadata": {},
   "outputs": [
    {
     "data": {
      "image/png": "[encoded data removed]",
      "text/plain": [
       "<Figure size 720x360 with 1 Axes>"
      ]
     },
     "metadata": {
      "needs_background": "light"
     },
     "output_type": "display_data"
    }
   ],
   "source": [
    "plot_learning_curve(model, X_train, y_train,scoring=\"accuracy\")"
   ]
  },
  {
   "cell_type": "markdown",
   "id": "a00e822a-ade5-4828-9c5d-02f9e5c6319f",
   "metadata": {},
   "source": [
    "## Evaluate best RandomForestClassifer on Test Set"
   ]
  },
  {
   "cell_type": "code",
   "execution_count": 134,
   "id": "96507e6a-26e5-42d5-99c0-2343880b3d65",
   "metadata": {},
   "outputs": [
    {
     "name": "stdout",
     "output_type": "stream",
     "text": [
      " Accuracy Score: 95.17%\n"
     ]
    }
   ],
   "source": [
    "#see how well the model performs on the test data set\n",
    "y_pred = model.predict(X_test)\n",
    "\n",
    "print(\" Accuracy Score: {:.2f}%\".format( accuracy_score(y_test, y_pred )*100 ))"
   ]
  },
  {
   "cell_type": "markdown",
   "id": "07250102-845a-4885-87e2-cb9d96eea299",
   "metadata": {},
   "source": [
    "## Add Complexity using PolynomialFeatures"
   ]
  },
  {
   "cell_type": "code",
   "execution_count": 135,
   "id": "f7d26366-9ad8-4cdc-b5f4-d505a8254d0c",
   "metadata": {},
   "outputs": [
    {
     "data": {
      "text/plain": [
       "((2403, 71), (601, 71))"
      ]
     },
     "execution_count": 135,
     "metadata": {},
     "output_type": "execute_result"
    }
   ],
   "source": [
    "#try making a linear model fit data that is more likely non-linear\n",
    "DEGREE = 1\n",
    "\n",
    "#create a polynomial feature with degree based on variable DEGREE\n",
    "poly_features=PolynomialFeatures(degree=DEGREE)\n",
    "\n",
    "#transform our X by adding the square of each feature to the training set\n",
    "X_train_poly = poly_features.fit_transform(X_train)\n",
    "X_test_poly = poly_features.transform(X_test)\n",
    "\n",
    "X_train_poly.shape, X_test_poly.shape"
   ]
  },
  {
   "cell_type": "code",
   "execution_count": 136,
   "id": "31e17459-a5eb-431d-b761-94c0571481fe",
   "metadata": {},
   "outputs": [
    {
     "name": "stdout",
     "output_type": "stream",
     "text": [
      "Accuracy: 96.55%\n"
     ]
    }
   ],
   "source": [
    "# use the new, complex data set to train a new model\n",
    "model_poly = LogisticRegression()\n",
    "\n",
    "model_poly.fit(X_train_poly, y_train)\n",
    "\n",
    "#compare the predicted to the actuals\n",
    "acc = model_poly.score(X_train_poly, y_train)\n",
    "print('Accuracy: {:.2f}%'.format(acc*100))"
   ]
  },
  {
   "cell_type": "code",
   "execution_count": 137,
   "id": "1fa2da4e-2728-4fe8-9365-923ccc227f16",
   "metadata": {},
   "outputs": [
    {
     "data": {
      "image/png": "[encoded data removed]",
      "text/plain": [
       "<Figure size 720x360 with 1 Axes>"
      ]
     },
     "metadata": {
      "needs_background": "light"
     },
     "output_type": "display_data"
    }
   ],
   "source": [
    "plot_learning_curve(model_poly,X_train_poly,y_train, scoring=\"accuracy\")"
   ]
  },
  {
   "cell_type": "code",
   "execution_count": 138,
   "id": "666b386b-e38c-420f-b890-24e4129d41d9",
   "metadata": {},
   "outputs": [
    {
     "name": "stdout",
     "output_type": "stream",
     "text": [
      " Accuracy Score: 95.17%\n"
     ]
    }
   ],
   "source": [
    "#calcualte the predicted values\n",
    "predictions = model_poly.predict(X_test_poly)\n",
    "\n",
    "#compare the predicted to the actuals\n",
    "print(\" Accuracy Score: {:.2f}%\".format( accuracy_score(y_test, predictions )*100 ))"
   ]
  },
  {
   "cell_type": "markdown",
   "id": "72324865-1599-4ea9-9016-26b84247998f",
   "metadata": {},
   "source": [
    "## Make a Prediction"
   ]
  },
  {
   "cell_type": "code",
   "execution_count": 139,
   "id": "f0fdd390-4993-4480-a23b-975e47c50feb",
   "metadata": {},
   "outputs": [
    {
     "data": {
      "text/plain": [
       "array([[ 1.54055944,  0.99192221,  1.25376478,  1.06662712, -0.55253898,\n",
       "         1.84934992, -1.70774285, -1.19161218, -0.45556305,  0.68180089,\n",
       "        -0.87289708, -0.22267696,  0.80998379, -0.88922567,  0.24834471,\n",
       "         0.        ,  0.        ,  1.        ,  0.        ,  0.        ,\n",
       "         0.        ,  0.        ,  0.        ,  0.        ,  0.        ,\n",
       "         0.        ,  0.        ,  0.        ,  0.        ,  0.        ,\n",
       "         0.        ,  0.        ,  0.        ,  0.        ,  0.        ,\n",
       "         0.        ,  0.        ,  0.        ,  0.        ,  0.        ,\n",
       "         0.        ,  0.        ,  0.        ,  0.        ,  0.        ,\n",
       "         0.        ,  0.        ,  0.        ,  0.        ,  0.        ,\n",
       "         0.        ,  0.        ,  0.        ,  0.        ,  0.        ,\n",
       "         0.        ,  0.        ,  0.        ,  1.        ,  0.        ,\n",
       "         0.        ,  0.        ,  0.        ,  0.        ,  0.        ,\n",
       "         0.        ,  0.        ,  0.        ,  0.        ,  0.        ]])"
      ]
     },
     "execution_count": 139,
     "metadata": {},
     "output_type": "execute_result"
    }
   ],
   "source": [
    "X_prepared"
   ]
  },
  {
   "cell_type": "code",
   "execution_count": 140,
   "id": "054c92c6-c9ed-45e0-ac23-1d612fb9e2c2",
   "metadata": {},
   "outputs": [
    {
     "data": {
      "text/plain": [
       "(1, 71)"
      ]
     },
     "execution_count": 140,
     "metadata": {},
     "output_type": "execute_result"
    }
   ],
   "source": [
    "#run this prepared data through the polynomial transformation\n",
    "X_example_poly = poly_features.transform(X_prepared)\n",
    "X_example_poly.shape"
   ]
  },
  {
   "cell_type": "code",
   "execution_count": 141,
   "id": "992e797c-2f9c-4c76-99bf-dc4229f19d81",
   "metadata": {},
   "outputs": [
    {
     "data": {
      "text/plain": [
       "array([0], dtype=int64)"
      ]
     },
     "execution_count": 141,
     "metadata": {},
     "output_type": "execute_result"
    }
   ],
   "source": [
    "#predict this instance\n",
    "model_poly.predict(X_example_poly)"
   ]
  },
  {
   "cell_type": "code",
   "execution_count": 142,
   "id": "cf6fce6d-9ce8-40da-836d-08fbd67a6d23",
   "metadata": {},
   "outputs": [
    {
     "data": {
      "text/plain": [
       "array([[9.99706811e-01, 2.93189134e-04, 2.58940151e-12]])"
      ]
     },
     "execution_count": 142,
     "metadata": {},
     "output_type": "execute_result"
    }
   ],
   "source": [
    "#probability of being a flop (0), average (1) or a hit (2)\n",
    "model_poly.predict_proba( X_example_poly )"
   ]
  },
  {
   "cell_type": "markdown",
   "id": "cb023f0d-a3c7-4501-815d-5f3111f2b640",
   "metadata": {},
   "source": [
    "## Binary Classification"
   ]
  },
  {
   "cell_type": "code",
   "execution_count": 156,
   "id": "2224c95a-f21d-4234-b666-7b1a5240eeed",
   "metadata": {},
   "outputs": [
    {
     "data": {
      "text/plain": [
       "((2402, 17), (601, 17), (2402,), (601,))"
      ]
     },
     "execution_count": 156,
     "metadata": {},
     "output_type": "execute_result"
    }
   ],
   "source": [
    "#by adding the stratify feature to the train_test_split, can ensure a more representative collection of data\n",
    "X_trainBin, X_testBin, y_trainBin, y_testBin = train_test_split(\n",
    "    data.drop(columns=['result_cat','Win','Trump2020', 'county',\"PovertyEst\",\"LaborForce\",\"deaths\",\"cases\", 'fips']),\n",
    "    data.Win, \n",
    "    test_size=0.2, \n",
    "    random_state=35, \n",
    "    stratify=data.Region\n",
    ")\n",
    "\n",
    "   \n",
    "X_trainBin.shape,X_testBin.shape,y_trainBin.shape, y_testBin.shape "
   ]
  },
  {
   "cell_type": "code",
   "execution_count": 157,
   "id": "4b51d769-cd1b-4d7c-9e15-207d34aa1171",
   "metadata": {},
   "outputs": [],
   "source": [
    "cat_attribs = [\"Region\",\"state\"]\n",
    "\n",
    "#set the numerical attributes\n",
    "num_attribs = list( X_trainBin.drop(columns=cat_attribs) )\n",
    "\n",
    "\n",
    "#define pipeline for numeric attributes (this code is just a definition)\n",
    "#each numeric attribute will be imputated using the Median strategy\n",
    "#each numeric attribute will be scaled \n",
    "num_pipeline = Pipeline( [\n",
    "    ('imputer', SimpleImputer(strategy=\"mean\")), \n",
    "    ('std_scaler', StandardScaler()),   \n",
    "] )\n",
    "\n",
    "#define the pipeline process for the data set\n",
    "full_pipeline = ColumnTransformer( [\n",
    "    ('num', num_pipeline, num_attribs),\n",
    "    ('cat', OneHotEncoder(sparse=False), cat_attribs)    \n",
    "])"
   ]
  },
  {
   "cell_type": "code",
   "execution_count": 158,
   "id": "59fa2fa1-94ce-4fe1-a7e2-415465994eca",
   "metadata": {},
   "outputs": [],
   "source": [
    "#take the training data set and create an array of prepared data\n",
    "X_trainBin = full_pipeline.fit_transform(X_trainBin)"
   ]
  },
  {
   "cell_type": "code",
   "execution_count": 159,
   "id": "2ecdaa61-90d9-447d-ae6a-21dea53ac98f",
   "metadata": {},
   "outputs": [],
   "source": [
    "X_testBin = full_pipeline.transform(X_testBin)"
   ]
  },
  {
   "cell_type": "code",
   "execution_count": 160,
   "id": "7998e994-eb31-4b2b-9550-a48f04c06e63",
   "metadata": {},
   "outputs": [
    {
     "data": {
      "text/plain": [
       "(601, 70)"
      ]
     },
     "execution_count": 160,
     "metadata": {},
     "output_type": "execute_result"
    }
   ],
   "source": [
    "X_testBin.shape"
   ]
  },
  {
   "cell_type": "code",
   "execution_count": 161,
   "id": "eea3725c-082e-43b9-abcd-6fad7bffadf7",
   "metadata": {},
   "outputs": [
    {
     "data": {
      "text/html": [
       "<style>#sk-293ea912-0b57-478c-ad8d-2026dff64bdc {color: black;background-color: white;}#sk-293ea912-0b57-478c-ad8d-2026dff64bdc pre{padding: 0;}#sk-293ea912-0b57-478c-ad8d-2026dff64bdc div.sk-toggleable {background-color: white;}#sk-293ea912-0b57-478c-ad8d-2026dff64bdc label.sk-toggleable__label {cursor: pointer;display: block;width: 100%;margin-bottom: 0;padding: 0.2em 0.3em;box-sizing: border-box;text-align: center;}#sk-293ea912-0b57-478c-ad8d-2026dff64bdc div.sk-toggleable__content {max-height: 0;max-width: 0;overflow: hidden;text-align: left;background-color: #f0f8ff;}#sk-293ea912-0b57-478c-ad8d-2026dff64bdc div.sk-toggleable__content pre {margin: 0.2em;color: black;border-radius: 0.25em;background-color: #f0f8ff;}#sk-293ea912-0b57-478c-ad8d-2026dff64bdc input.sk-toggleable__control:checked~div.sk-toggleable__content {max-height: 200px;max-width: 100%;overflow: auto;}#sk-293ea912-0b57-478c-ad8d-2026dff64bdc div.sk-estimator input.sk-toggleable__control:checked~label.sk-toggleable__label {background-color: #d4ebff;}#sk-293ea912-0b57-478c-ad8d-2026dff64bdc div.sk-label input.sk-toggleable__control:checked~label.sk-toggleable__label {background-color: #d4ebff;}#sk-293ea912-0b57-478c-ad8d-2026dff64bdc input.sk-hidden--visually {border: 0;clip: rect(1px 1px 1px 1px);clip: rect(1px, 1px, 1px, 1px);height: 1px;margin: -1px;overflow: hidden;padding: 0;position: absolute;width: 1px;}#sk-293ea912-0b57-478c-ad8d-2026dff64bdc div.sk-estimator {font-family: monospace;background-color: #f0f8ff;margin: 0.25em 0.25em;border: 1px dotted black;border-radius: 0.25em;box-sizing: border-box;}#sk-293ea912-0b57-478c-ad8d-2026dff64bdc div.sk-estimator:hover {background-color: #d4ebff;}#sk-293ea912-0b57-478c-ad8d-2026dff64bdc div.sk-parallel-item::after {content: \"\";width: 100%;border-bottom: 1px solid gray;flex-grow: 1;}#sk-293ea912-0b57-478c-ad8d-2026dff64bdc div.sk-label:hover label.sk-toggleable__label {background-color: #d4ebff;}#sk-293ea912-0b57-478c-ad8d-2026dff64bdc div.sk-serial::before {content: \"\";position: absolute;border-left: 1px solid gray;box-sizing: border-box;top: 2em;bottom: 0;left: 50%;}#sk-293ea912-0b57-478c-ad8d-2026dff64bdc div.sk-serial {display: flex;flex-direction: column;align-items: center;background-color: white;}#sk-293ea912-0b57-478c-ad8d-2026dff64bdc div.sk-item {z-index: 1;}#sk-293ea912-0b57-478c-ad8d-2026dff64bdc div.sk-parallel {display: flex;align-items: stretch;justify-content: center;background-color: white;}#sk-293ea912-0b57-478c-ad8d-2026dff64bdc div.sk-parallel-item {display: flex;flex-direction: column;position: relative;background-color: white;}#sk-293ea912-0b57-478c-ad8d-2026dff64bdc div.sk-parallel-item:first-child::after {align-self: flex-end;width: 50%;}#sk-293ea912-0b57-478c-ad8d-2026dff64bdc div.sk-parallel-item:last-child::after {align-self: flex-start;width: 50%;}#sk-293ea912-0b57-478c-ad8d-2026dff64bdc div.sk-parallel-item:only-child::after {width: 0;}#sk-293ea912-0b57-478c-ad8d-2026dff64bdc div.sk-dashed-wrapped {border: 1px dashed gray;margin: 0.2em;box-sizing: border-box;padding-bottom: 0.1em;background-color: white;position: relative;}#sk-293ea912-0b57-478c-ad8d-2026dff64bdc div.sk-label label {font-family: monospace;font-weight: bold;background-color: white;display: inline-block;line-height: 1.2em;}#sk-293ea912-0b57-478c-ad8d-2026dff64bdc div.sk-label-container {position: relative;z-index: 2;text-align: center;}#sk-293ea912-0b57-478c-ad8d-2026dff64bdc div.sk-container {display: inline-block;position: relative;}</style><div id=\"sk-293ea912-0b57-478c-ad8d-2026dff64bdc\" class\"sk-top-container\"><div class=\"sk-container\"><div class=\"sk-item\"><div class=\"sk-estimator sk-toggleable\"><input class=\"sk-toggleable__control sk-hidden--visually\" id=\"12f590ad-5c8a-43f2-b798-774dcd29bd90\" type=\"checkbox\" checked><label class=\"sk-toggleable__label\" for=\"12f590ad-5c8a-43f2-b798-774dcd29bd90\">SGDClassifier</label><div class=\"sk-toggleable__content\"><pre>SGDClassifier(random_state=35)</pre></div></div></div></div></div>"
      ],
      "text/plain": [
       "SGDClassifier(random_state=35)"
      ]
     },
     "execution_count": 161,
     "metadata": {},
     "output_type": "execute_result"
    }
   ],
   "source": [
    "#create the classification model\n",
    "sgd_clf = SGDClassifier( random_state=35)\n",
    "\n",
    "#fit the model using the training data set\n",
    "sgd_clf.fit(X_trainBin, y_trainBin)"
   ]
  },
  {
   "cell_type": "code",
   "execution_count": 162,
   "id": "d00cee98-cbd9-4878-9968-65fe1e05b40e",
   "metadata": {},
   "outputs": [
    {
     "name": "stdout",
     "output_type": "stream",
     "text": [
      "Accuracy: 98.54288%\n"
     ]
    }
   ],
   "source": [
    "#calculated the accuracy (i.e. predicted vs. actual for the training data set)\n",
    "acc = sgd_clf.score(X_trainBin, y_trainBin)\n",
    "print('Accuracy: {:.5f}%'.format(acc*100))"
   ]
  },
  {
   "cell_type": "code",
   "execution_count": 163,
   "id": "cd285b1d-393b-4540-a4bf-18efd7396a9a",
   "metadata": {},
   "outputs": [
    {
     "name": "stdout",
     "output_type": "stream",
     "text": [
      "Accuracy: 97.17138%\n"
     ]
    }
   ],
   "source": [
    "#calculated the accuracy (i.e. predicted vs. actual for the training data set)\n",
    "acc = sgd_clf.score(X_testBin, y_testBin)\n",
    "print('Accuracy: {:.5f}%'.format(acc*100))"
   ]
  },
  {
   "cell_type": "code",
   "execution_count": 164,
   "id": "73ceaac4-b204-4cbe-989b-d020c974e81d",
   "metadata": {},
   "outputs": [
    {
     "data": {
      "text/plain": [
       "0.9737734082397004"
      ]
     },
     "execution_count": 164,
     "metadata": {},
     "output_type": "execute_result"
    }
   ],
   "source": [
    "#see how well the model peforms across a variety of cross sections\n",
    "score = cross_val_score(sgd_clf, X_trainBin, y_trainBin, cv=3, scoring=\"accuracy\")\n",
    "np.mean(score)"
   ]
  },
  {
   "cell_type": "code",
   "execution_count": 152,
   "id": "e1299d73-02c2-4f05-9f98-a4045c8fa19f",
   "metadata": {},
   "outputs": [
    {
     "data": {
      "image/png": "[encoded data removed]",
      "text/plain": [
       "<Figure size 720x360 with 1 Axes>"
      ]
     },
     "metadata": {
      "needs_background": "light"
     },
     "output_type": "display_data"
    }
   ],
   "source": [
    "plot_learning_curve(sgd_clf,X_trainBin,y_trainBin, scoring=\"accuracy\")"
   ]
  },
  {
   "cell_type": "code",
   "execution_count": 165,
   "id": "e9dd68c3-3e1b-43c8-ab2d-84c99f73d8de",
   "metadata": {},
   "outputs": [],
   "source": [
    "#get predictions aross 3 different folds using the default method (prediction scores)\n",
    "y_train_pred = cross_val_predict(sgd_clf, X_trainBin, y_trainBin, cv=3)"
   ]
  },
  {
   "cell_type": "code",
   "execution_count": 166,
   "id": "3e777fcf-5dbb-477e-9f19-4d8884bbadf7",
   "metadata": {},
   "outputs": [
    {
     "data": {
      "text/plain": [
       "array([[ 437,    0],\n",
       "       [   0, 1965]], dtype=int64)"
      ]
     },
     "execution_count": 166,
     "metadata": {},
     "output_type": "execute_result"
    }
   ],
   "source": [
    "#display the confusion matrix\n",
    "confusion_matrix(y_trainBin, y_trainBin)"
   ]
  },
  {
   "cell_type": "code",
   "execution_count": 167,
   "id": "c9c94930-6966-4dfc-ba4e-1cb89902dd51",
   "metadata": {},
   "outputs": [
    {
     "data": {
      "text/plain": [
       "array([0], dtype=int64)"
      ]
     },
     "execution_count": 167,
     "metadata": {},
     "output_type": "execute_result"
    }
   ],
   "source": [
    "#see how well the model does on some sample data\n",
    "#predict some random digit displayed above\n",
    "sgd_clf.predict(X_prepared)"
   ]
  },
  {
   "cell_type": "code",
   "execution_count": 168,
   "id": "e26917c5-2f86-4ed9-9438-be29e045c86e",
   "metadata": {},
   "outputs": [
    {
     "name": "stdout",
     "output_type": "stream",
     "text": [
      "Precision Score: 0.98\n",
      "   Recall Score: 0.99\n",
      "       F1 Score: 0.98\n"
     ]
    }
   ],
   "source": [
    "#calculate measures\n",
    "print(\"Precision Score: {:.2f}\".format( precision_score(y_trainBin, y_train_pred) ) )\n",
    "print(\"   Recall Score: {:.2f}\".format( recall_score(y_trainBin, y_train_pred) ) )\n",
    "print(\"       F1 Score: {:.2f}\".format( f1_score(y_trainBin, y_train_pred) ) )"
   ]
  },
  {
   "cell_type": "code",
   "execution_count": 169,
   "id": "d8ab6274-3840-4235-b4b1-4329210adb46",
   "metadata": {},
   "outputs": [],
   "source": [
    "calibrator = CalibratedClassifierCV(sgd_clf, cv='prefit')\n",
    "sgd_clf=calibrator.fit(X_trainBin, y_trainBin)"
   ]
  },
  {
   "cell_type": "code",
   "execution_count": 170,
   "id": "0ebfc068-0cf9-4ffb-82f7-335e89806a21",
   "metadata": {},
   "outputs": [
    {
     "data": {
      "text/plain": [
       "array([[9.99983947e-01, 1.60533958e-05]])"
      ]
     },
     "execution_count": 170,
     "metadata": {},
     "output_type": "execute_result"
    }
   ],
   "source": [
    "sgd_clf.predict_proba(X_prepared)"
   ]
  }
 ],
 "metadata": {
  "kernelspec": {
   "display_name": "Python 3 (ipykernel)",
   "language": "python",
   "name": "python3"
  },
  "language_info": {
   "codemirror_mode": {
    "name": "ipython",
    "version": 3
   },
   "file_extension": ".py",
   "mimetype": "text/x-python",
   "name": "python",
   "nbconvert_exporter": "python",
   "pygments_lexer": "ipython3",
   "version": "3.9.7"
  }
 },
 "nbformat": 4,
 "nbformat_minor": 5
}
